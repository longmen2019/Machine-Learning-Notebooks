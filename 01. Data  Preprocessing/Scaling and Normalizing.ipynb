{
 "cells": [
  {
   "cell_type": "markdown",
   "id": "c5263312-7892-4b77-9494-bbd1ed2b0b19",
   "metadata": {},
   "source": [
    "\r\n",
    "### Feature Scaling\r\n",
    "\r\n",
    "In machine learning models, features are mapped into n-dimensional space. For example, if there are two variables (x, y) mapped in a 2D coordinate system, and one variable (y) is very large while the other (x) is very small, the Euclidean distance will be dominated by the larger variable, causing the smaller one to be ignored. This results in the loss of valuable information. Feature scaling is used to solve this problem.\r\n",
    "\r\n",
    "Additional reasons for transformation:\r\n",
    "1. To more closely approximate a theoretical distribution with nice statistical properties.\r\n",
    "2. To spread out data more evenly.\r\n",
    "3. To make data distribution more symmetric.\r\n",
    "4. To make relationships between variables more linear.\r\n",
    "5. To make data more constant in variance (homoscedasticity).\r\n",
    "\r\n",
    "#### There are three most used ways to scale features:\r\n",
    "\r\n",
    "1. **Min-Max Scaling**: \r\n",
    "   Will scale the input to have a minimum of 0 and a maximum of 1. This scales the data in the range of [0, 1]. This is useful when the parameters need to be on the same positive scale. However, outliers can be lost.\r\n",
    "   $$X_{norm} = \\frac{X - X_{min}}{X_{max} - X_{min}}$$\r\n",
    "\r\n",
    "2. **Standardization**: \r\n",
    "   Will scale the input to have a mean of 0 and a variance of 1.\r\n",
    "   $$X_{stand} = \\frac{X - \\mu}{\\sigma}$$\r\n",
    "\r\n",
    "3. **Normalizing**: \r\n",
    "   Will scale the input to make the norm of 1. For instance, for 3D data, the three independent variables will lie on a unit sphere.\r\n",
    "\r\n",
    "4. **Log Transformation**: \r\n",
    "   Taking the log of data after any of the above transformations.\r\n",
    "\r\n",
    "Scaling inputs to unit norms is a common operation for text classification or clustering. For instance, the dot product of two L2-normalized TF-IDF vectors is the cosine similarity of the vectors and is the base similarity metric for the Vector Space Model commonly used by the Information Retrieval community. \r\n",
    "\r\n",
    "For most applications, standardization is recommended. Min-Max Scaling is recommended for neural networks, and normalizing is recommended when clustering, e.g., k-means..\n",
    "    "
   ]
  },
  {
   "cell_type": "code",
   "execution_count": 4,
   "id": "b7943a5c-63b6-458c-aca3-62159cb1fb90",
   "metadata": {},
   "outputs": [
    {
     "name": "stdout",
     "output_type": "stream",
     "text": [
      "   Country   Age   Salary Purchased\n",
      "0   France  44.0  72000.0        No\n",
      "1    Spain  27.0  48000.0       Yes\n",
      "2  Germany  30.0  54000.0        No\n",
      "3    Spain  38.0  61000.0        No\n",
      "5   France  35.0  58000.0       Yes\n",
      "7   France  48.0  79000.0       Yes\n",
      "8  Germany  50.0  83000.0        No\n",
      "9   France  37.0  67000.0       Yes\n"
     ]
    }
   ],
   "source": [
    "import pandas as pd\n",
    "import numpy as np\n",
    "from sklearn.preprocessing import StandardScaler, Normalizer, MinMaxScaler\n"
   ]
  },
  {
   "cell_type": "code",
   "execution_count": 6,
   "id": "39169d7a-b207-4af3-aec6-1c9679a3e99f",
   "metadata": {},
   "outputs": [
    {
     "name": "stdout",
     "output_type": "stream",
     "text": [
      "   Country   Age   Salary Purchased\n",
      "0   France  44.0  72000.0        No\n",
      "1    Spain  27.0  48000.0       Yes\n",
      "2  Germany  30.0  54000.0        No\n",
      "3    Spain  38.0  61000.0        No\n",
      "5   France  35.0  58000.0       Yes\n",
      "7   France  48.0  79000.0       Yes\n",
      "8  Germany  50.0  83000.0        No\n",
      "9   France  37.0  67000.0       Yes\n"
     ]
    }
   ],
   "source": [
    "# Read the CSV file 'Data.csv' into a DataFrame and drop any rows with missing values\n",
    "df = pd.read_csv('Data.csv').dropna()\n",
    "print(df)\n",
    "# Extract the 'Age' and 'Salary' columns, convert them to a NumPy array of type float64\n",
    "x = df[[\"Age\", \"Salary\"]].values.astype(np.float64)"
   ]
  },
  {
   "cell_type": "code",
   "execution_count": 9,
   "id": "37b7b414-ec48-43bc-aa05-bb8828557b78",
   "metadata": {},
   "outputs": [
    {
     "name": "stdout",
     "output_type": "stream",
     "text": [
      "Standardization:\n",
      " [[ 0.69985807  0.58989097]\n",
      " [-1.51364653 -1.50749915]\n",
      " [-1.12302807 -0.98315162]\n",
      " [-0.08137885 -0.37141284]\n",
      " [-0.47199731 -0.6335866 ]\n",
      " [ 1.22068269  1.20162976]\n",
      " [ 1.48109499  1.55119478]\n",
      " [-0.211585    0.1529347 ]]\n",
      "Normalizing: \n",
      " [[6.11110997e-04 9.99999813e-01]\n",
      " [5.62499911e-04 9.99999842e-01]\n",
      " [5.55555470e-04 9.99999846e-01]\n",
      " [6.22950699e-04 9.99999806e-01]\n",
      " [6.03448166e-04 9.99999818e-01]\n",
      " [6.07594825e-04 9.99999815e-01]\n",
      " [6.02409529e-04 9.99999819e-01]\n",
      " [5.52238722e-04 9.99999848e-01]]\n",
      "MinMax Scaling: \n",
      " [[0.73913043 0.68571429]\n",
      " [0.         0.        ]\n",
      " [0.13043478 0.17142857]\n",
      " [0.47826087 0.37142857]\n",
      " [0.34782609 0.28571429]\n",
      " [0.91304348 0.88571429]\n",
      " [1.         1.        ]\n",
      " [0.43478261 0.54285714]]\n"
     ]
    }
   ],
   "source": [
    "standard_scaler = StandardScaler()\n",
    "normalizer = Normalizer()\n",
    "min_max_scaler = MinMaxScaler()\n",
    "\n",
    "print(f\"Standardization:\\n {standard_scaler.fit_transform(x)}\")\n",
    "print(f\"Normalizing: \\n {normalizer.fit_transform(x)}\")\n",
    "print(f\"MinMax Scaling: \\n {min_max_scaler.fit_transform(x)}\")"
   ]
  },
  {
   "cell_type": "code",
   "execution_count": null,
   "id": "b93c6ff7-aceb-45b8-9525-88e7d5d731e9",
   "metadata": {},
   "outputs": [],
   "source": []
  }
 ],
 "metadata": {
  "kernelspec": {
   "display_name": "Python 3 (ipykernel)",
   "language": "python",
   "name": "python3"
  },
  "language_info": {
   "codemirror_mode": {
    "name": "ipython",
    "version": 3
   },
   "file_extension": ".py",
   "mimetype": "text/x-python",
   "name": "python",
   "nbconvert_exporter": "python",
   "pygments_lexer": "ipython3",
   "version": "3.12.4"
  }
 },
 "nbformat": 4,
 "nbformat_minor": 5
}
