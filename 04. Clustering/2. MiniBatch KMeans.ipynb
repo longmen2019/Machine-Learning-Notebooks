{
 "cells": [
  {
   "cell_type": "markdown",
   "metadata": {},
   "source": [
    "## Problem in KMeans\n",
    "\n",
    "While KMeans is a good algorithm, its time complexity is very poor. KMeans works in $$O(n \\cdot K \\cdot I \\cdot f)$$, where:\n",
    "- \\( n \\) is the number of records,\n",
    "- \\( K \\) is the number of clusters,\n",
    "- \\( I \\) is the number of iterations,\n",
    "- \\( f \\) is the number of features in a particular record.\n",
    "\n",
    "Clearly, the algorithm will take forever to complete on a dataset of more than 100,000 data points.\n",
    "\n",
    "## Minibatch KMeans\n",
    "\n",
    "### Main Features of Minibatch KMeans\n",
    "\n",
    "- Instead of using the entire dataset at once, it operates in batches.\n",
    "- Uses Gradient Descent update, which is much faster than what KMeans does.\n",
    "\n",
    "### How It Works\n",
    "\n",
    "Minibatch KMeans takes batches of datasets and finds the centroids for the smaller dataset (minibatch). Then, for the next batch, it uses the centroid found in the previous batch and updates it using Gradient Descent. This simple method makes it faster by a magnitude of the input size.\n",
    "\n",
    "## Gotchas of Using Minibatch KMeans\n",
    "\n",
    "- While the performance is good, the result might or might not be good—it totally depends on the initial conditions.\n",
    "- The result might be somewhat different than what is obtained from KMeans."
   ]
  },
  {
   "cell_type": "code",
   "execution_count": 5,
   "metadata": {},
   "outputs": [
    {
     "ename": "ModuleNotFoundError",
     "evalue": "No module named 'matplotlib'",
     "output_type": "error",
     "traceback": [
      "\u001b[1;31m---------------------------------------------------------------------------\u001b[0m",
      "\u001b[1;31mModuleNotFoundError\u001b[0m                       Traceback (most recent call last)",
      "Cell \u001b[1;32mIn[5], line 3\u001b[0m\n\u001b[0;32m      1\u001b[0m \u001b[38;5;66;03m# Import necessary libraries\u001b[39;00m\n\u001b[0;32m      2\u001b[0m \u001b[38;5;28;01mimport\u001b[39;00m \u001b[38;5;21;01mnumpy\u001b[39;00m \u001b[38;5;28;01mas\u001b[39;00m \u001b[38;5;21;01mnp\u001b[39;00m\n\u001b[1;32m----> 3\u001b[0m \u001b[38;5;28;01mimport\u001b[39;00m \u001b[38;5;21;01mmatplotlib\u001b[39;00m\u001b[38;5;21;01m.\u001b[39;00m\u001b[38;5;21;01mpyplot\u001b[39;00m \u001b[38;5;28;01mas\u001b[39;00m \u001b[38;5;21;01mplt\u001b[39;00m\n\u001b[0;32m      4\u001b[0m \u001b[38;5;28;01mimport\u001b[39;00m \u001b[38;5;21;01mpandas\u001b[39;00m \u001b[38;5;28;01mas\u001b[39;00m \u001b[38;5;21;01mpd\u001b[39;00m\n\u001b[0;32m      6\u001b[0m \u001b[38;5;66;03m# Load the dataset\u001b[39;00m\n",
      "\u001b[1;31mModuleNotFoundError\u001b[0m: No module named 'matplotlib'"
     ]
    }
   ],
   "source": [
    "# Import necessary libraries\n",
    "import numpy as np\n",
    "import matplotlib.pyplot as plt\n",
    "import pandas as pd\n",
    "\n",
    "# Load the dataset\n",
    "df = pd.read_csv('Mall_Customers.csv')\n",
    "\n",
    "# Extract the relevant features (Annual Income and Spending Score)\n",
    "# Assuming the 4th and 5th columns are 'Annual Income (k$)' and 'Spending Score (1-100)'\n",
    "X = df.iloc[:, [3, 4]].values\n",
    "\n",
    "# Display the first few rows of the dataframe to understand its structure\n",
    "df.head()\n"
   ]
  },
  {
   "cell_type": "code",
   "execution_count": 4,
   "metadata": {},
   "outputs": [
    {
     "ename": "ModuleNotFoundError",
     "evalue": "No module named 'sklearn'",
     "output_type": "error",
     "traceback": [
      "\u001b[1;31m---------------------------------------------------------------------------\u001b[0m",
      "\u001b[1;31mModuleNotFoundError\u001b[0m                       Traceback (most recent call last)",
      "Cell \u001b[1;32mIn[4], line 2\u001b[0m\n\u001b[0;32m      1\u001b[0m \u001b[38;5;66;03m# Import the MiniBatchKMeans class from the sklearn.cluster module\u001b[39;00m\n\u001b[1;32m----> 2\u001b[0m \u001b[38;5;28;01mfrom\u001b[39;00m \u001b[38;5;21;01msklearn\u001b[39;00m\u001b[38;5;21;01m.\u001b[39;00m\u001b[38;5;21;01mcluster\u001b[39;00m \u001b[38;5;28;01mimport\u001b[39;00m MiniBatchKMeans\n\u001b[0;32m      4\u001b[0m \u001b[38;5;66;03m# Initialize the MiniBatchKMeans object with the desired parameters\u001b[39;00m\n\u001b[0;32m      5\u001b[0m \u001b[38;5;66;03m# n_clusters: The number of clusters to form\u001b[39;00m\n\u001b[0;32m      6\u001b[0m \u001b[38;5;66;03m# init: Method for initialization, 'k-means++' helps to speed up convergence\u001b[39;00m\n\u001b[0;32m      7\u001b[0m \u001b[38;5;66;03m# max_iter: Maximum number of iterations over the complete dataset\u001b[39;00m\n\u001b[0;32m      8\u001b[0m \u001b[38;5;66;03m# n_init: Number of times the algorithm will be run with different centroid seeds\u001b[39;00m\n\u001b[0;32m      9\u001b[0m \u001b[38;5;66;03m# random_state: Ensures reproducibility of the results\u001b[39;00m\n\u001b[0;32m     10\u001b[0m clf \u001b[38;5;241m=\u001b[39m MiniBatchKMeans(n_clusters\u001b[38;5;241m=\u001b[39m\u001b[38;5;241m5\u001b[39m, init\u001b[38;5;241m=\u001b[39m\u001b[38;5;124m'\u001b[39m\u001b[38;5;124mk-means++\u001b[39m\u001b[38;5;124m'\u001b[39m, max_iter\u001b[38;5;241m=\u001b[39m\u001b[38;5;241m300\u001b[39m, n_init\u001b[38;5;241m=\u001b[39m\u001b[38;5;241m10\u001b[39m, random_state\u001b[38;5;241m=\u001b[39m\u001b[38;5;241m0\u001b[39m)\n",
      "\u001b[1;31mModuleNotFoundError\u001b[0m: No module named 'sklearn'"
     ]
    }
   ],
   "source": [
    "# Import the MiniBatchKMeans class from the sklearn.cluster module\n",
    "from sklearn.cluster import MiniBatchKMeans\n",
    "\n",
    "# Initialize the MiniBatchKMeans object with the desired parameters\n",
    "# n_clusters: The number of clusters to form\n",
    "# init: Method for initialization, 'k-means++' helps to speed up convergence\n",
    "# max_iter: Maximum number of iterations over the complete dataset\n",
    "# n_init: Number of times the algorithm will be run with different centroid seeds\n",
    "# random_state: Ensures reproducibility of the results\n",
    "clf = MiniBatchKMeans(n_clusters=5, init='k-means++', max_iter=300, n_init=10, random_state=0)\n",
    "\n",
    "# Fit the MiniBatchKMeans model to the data and predict the cluster for each data point\n",
    "# X: The input data (features) to cluster\n",
    "y_minikmeans = clf.fit_predict(X)\n"
   ]
  },
  {
   "cell_type": "code",
   "execution_count": 6,
   "metadata": {},
   "outputs": [
    {
     "ename": "ModuleNotFoundError",
     "evalue": "No module named 'matplotlib'",
     "output_type": "error",
     "traceback": [
      "\u001b[1;31m---------------------------------------------------------------------------\u001b[0m",
      "\u001b[1;31mModuleNotFoundError\u001b[0m                       Traceback (most recent call last)",
      "Cell \u001b[1;32mIn[6], line 2\u001b[0m\n\u001b[0;32m      1\u001b[0m \u001b[38;5;66;03m# Import necessary libraries\u001b[39;00m\n\u001b[1;32m----> 2\u001b[0m \u001b[38;5;28;01mimport\u001b[39;00m \u001b[38;5;21;01mmatplotlib\u001b[39;00m\u001b[38;5;21;01m.\u001b[39;00m\u001b[38;5;21;01mpyplot\u001b[39;00m \u001b[38;5;28;01mas\u001b[39;00m \u001b[38;5;21;01mplt\u001b[39;00m\n\u001b[0;32m      4\u001b[0m \u001b[38;5;66;03m# Create a figure with a specified size\u001b[39;00m\n\u001b[0;32m      5\u001b[0m fig \u001b[38;5;241m=\u001b[39m plt\u001b[38;5;241m.\u001b[39mfigure(figsize\u001b[38;5;241m=\u001b[39m(\u001b[38;5;241m10\u001b[39m, \u001b[38;5;241m8\u001b[39m))\n",
      "\u001b[1;31mModuleNotFoundError\u001b[0m: No module named 'matplotlib'"
     ]
    }
   ],
   "source": [
    "# Import necessary libraries\n",
    "import matplotlib.pyplot as plt\n",
    "\n",
    "# Create a figure with a specified size\n",
    "fig = plt.figure(figsize=(10, 8))\n",
    "\n",
    "# Plot the data points for each cluster with different colors and labels\n",
    "# Cluster 1\n",
    "plt.scatter(X[y_minikmeans == 0, 0], X[y_minikmeans == 0, 1], \n",
    "            color='red', s=60, label='Cluster 1', edgecolors='black')\n",
    "\n",
    "# Cluster 2\n",
    "plt.scatter(X[y_minikmeans == 1, 0], X[y_minikmeans == 1, 1], \n",
    "            color='green', s=60, label='Cluster 2', edgecolors='black')\n",
    "\n",
    "# Cluster 3\n",
    "plt.scatter(X[y_minikmeans == 2, 0], X[y_minikmeans == 2, 1], \n",
    "            color='blue', s=60, label='Cluster 3', edgecolors='black')\n",
    "\n",
    "# Cluster 4\n",
    "plt.scatter(X[y_minikmeans == 3, 0], X[y_minikmeans == 3, 1], \n",
    "            color='yellow', s=60, label='Cluster 4', edgecolors='black')\n",
    "\n",
    "# Cluster 5\n",
    "plt.scatter(X[y_minikmeans == 4, 0], X[y_minikmeans == 4, 1], \n",
    "            color='cyan', s=60, label='Cluster 5', edgecolors='black')\n",
    "\n",
    "# Plot the centroids of the clusters\n",
    "plt.scatter(clf.cluster_centers_[:, 0], clf.cluster_centers_[:, 1], \n",
    "            color='magenta', s=100, label='Centroid', edgecolors='black')\n",
    "\n",
    "# Add a legend to the plot\n",
    "plt.legend()\n",
    "\n",
    "# Add a title to the plot\n",
    "plt.title('Clusters using Minibatch KMeans')\n",
    "\n",
    "# Label the y-axis\n",
    "plt.ylabel('Annual Income (k$)')\n",
    "\n",
    "# Label the x-axis\n",
    "plt.xlabel('Spending Score (1-100)')\n",
    "\n",
    "# Display the plot\n",
    "plt.show()\n"
   ]
  },
  {
   "cell_type": "markdown",
   "metadata": {},
   "source": [
    "As we can see, the output is nearly the same as what was observed in the last post on KMeans."
   ]
  },
  {
   "cell_type": "markdown",
   "metadata": {},
   "source": []
  }
 ],
 "metadata": {
  "kernelspec": {
   "display_name": "venv",
   "language": "python",
   "name": "python3"
  },
  "language_info": {
   "codemirror_mode": {
    "name": "ipython",
    "version": 3
   },
   "file_extension": ".py",
   "mimetype": "text/x-python",
   "name": "python",
   "nbconvert_exporter": "python",
   "pygments_lexer": "ipython3",
   "version": "3.9.5"
  }
 },
 "nbformat": 4,
 "nbformat_minor": 2
}
