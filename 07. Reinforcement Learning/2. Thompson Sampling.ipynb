{
 "cells": [
  {
   "cell_type": "code",
   "execution_count": 2,
   "id": "1ecb2ab0-d4e2-4c5e-ab55-0082dd86b319",
   "metadata": {},
   "outputs": [
    {
     "data": {
      "text/html": [
       "<div>\n",
       "<style scoped>\n",
       "    .dataframe tbody tr th:only-of-type {\n",
       "        vertical-align: middle;\n",
       "    }\n",
       "\n",
       "    .dataframe tbody tr th {\n",
       "        vertical-align: top;\n",
       "    }\n",
       "\n",
       "    .dataframe thead th {\n",
       "        text-align: right;\n",
       "    }\n",
       "</style>\n",
       "<table border=\"1\" class=\"dataframe\">\n",
       "  <thead>\n",
       "    <tr style=\"text-align: right;\">\n",
       "      <th></th>\n",
       "      <th>Ad 1</th>\n",
       "      <th>Ad 2</th>\n",
       "      <th>Ad 3</th>\n",
       "      <th>Ad 4</th>\n",
       "      <th>Ad 5</th>\n",
       "      <th>Ad 6</th>\n",
       "      <th>Ad 7</th>\n",
       "      <th>Ad 8</th>\n",
       "      <th>Ad 9</th>\n",
       "      <th>Ad 10</th>\n",
       "    </tr>\n",
       "  </thead>\n",
       "  <tbody>\n",
       "    <tr>\n",
       "      <th>0</th>\n",
       "      <td>1</td>\n",
       "      <td>0</td>\n",
       "      <td>0</td>\n",
       "      <td>0</td>\n",
       "      <td>1</td>\n",
       "      <td>0</td>\n",
       "      <td>0</td>\n",
       "      <td>0</td>\n",
       "      <td>1</td>\n",
       "      <td>0</td>\n",
       "    </tr>\n",
       "    <tr>\n",
       "      <th>1</th>\n",
       "      <td>0</td>\n",
       "      <td>0</td>\n",
       "      <td>0</td>\n",
       "      <td>0</td>\n",
       "      <td>0</td>\n",
       "      <td>0</td>\n",
       "      <td>0</td>\n",
       "      <td>0</td>\n",
       "      <td>1</td>\n",
       "      <td>0</td>\n",
       "    </tr>\n",
       "    <tr>\n",
       "      <th>2</th>\n",
       "      <td>0</td>\n",
       "      <td>0</td>\n",
       "      <td>0</td>\n",
       "      <td>0</td>\n",
       "      <td>0</td>\n",
       "      <td>0</td>\n",
       "      <td>0</td>\n",
       "      <td>0</td>\n",
       "      <td>0</td>\n",
       "      <td>0</td>\n",
       "    </tr>\n",
       "    <tr>\n",
       "      <th>3</th>\n",
       "      <td>0</td>\n",
       "      <td>1</td>\n",
       "      <td>0</td>\n",
       "      <td>0</td>\n",
       "      <td>0</td>\n",
       "      <td>0</td>\n",
       "      <td>0</td>\n",
       "      <td>1</td>\n",
       "      <td>0</td>\n",
       "      <td>0</td>\n",
       "    </tr>\n",
       "    <tr>\n",
       "      <th>4</th>\n",
       "      <td>0</td>\n",
       "      <td>0</td>\n",
       "      <td>0</td>\n",
       "      <td>0</td>\n",
       "      <td>0</td>\n",
       "      <td>0</td>\n",
       "      <td>0</td>\n",
       "      <td>0</td>\n",
       "      <td>0</td>\n",
       "      <td>0</td>\n",
       "    </tr>\n",
       "  </tbody>\n",
       "</table>\n",
       "</div>"
      ],
      "text/plain": [
       "   Ad 1  Ad 2  Ad 3  Ad 4  Ad 5  Ad 6  Ad 7  Ad 8  Ad 9  Ad 10\n",
       "0     1     0     0     0     1     0     0     0     1      0\n",
       "1     0     0     0     0     0     0     0     0     1      0\n",
       "2     0     0     0     0     0     0     0     0     0      0\n",
       "3     0     1     0     0     0     0     0     1     0      0\n",
       "4     0     0     0     0     0     0     0     0     0      0"
      ]
     },
     "execution_count": 2,
     "metadata": {},
     "output_type": "execute_result"
    }
   ],
   "source": [
    "# Import necessary libraries\n",
    "import numpy as np  # For numerical operations\n",
    "import pandas as pd  # For data manipulation and analysis\n",
    "import matplotlib.pyplot as plt  # For plotting and visualizations\n",
    "import random  # For generating random numbers\n",
    "\n",
    "# Load the dataset\n",
    "# The dataset 'Ads_CTR_Optimisation.csv' should be in the same directory as this script\n",
    "ds = pd.read_csv('Ads_CTR_Optimisation.csv')\n",
    "\n",
    "# Display the first 5 rows of the dataset to get an overview of the data\n",
    "ds.head()\n"
   ]
  },
  {
   "cell_type": "code",
   "execution_count": 4,
   "id": "9e7f546a-d375-4592-aeec-19254baa6ebf",
   "metadata": {},
   "outputs": [
    {
     "name": "stdout",
     "output_type": "stream",
     "text": [
      "2598\n"
     ]
    }
   ],
   "source": [
    "# Import necessary libraries\n",
    "import numpy as np  # For numerical operations\n",
    "import pandas as pd  # For data manipulation and analysis\n",
    "import matplotlib.pyplot as plt  # For plotting and visualizations\n",
    "import random  # For generating random numbers\n",
    "\n",
    "# Load the dataset\n",
    "# The dataset 'Ads_CTR_Optimisation.csv' should be in the same directory as this script\n",
    "ds = pd.read_csv('Ads_CTR_Optimisation.csv')\n",
    "\n",
    "# Define variables\n",
    "d = 10  # Total number of ads\n",
    "number_of_rewards_1 = [0] * d  # Number of times each ad received a reward of 1\n",
    "number_of_rewards_0 = [0] * d  # Number of times each ad received a reward of 0\n",
    "N = 10000  # Total number of rounds (iterations)\n",
    "ads_selected = []  # List to keep track of all selected ads\n",
    "total_reward = 0  # Total reward accumulated over all rounds\n",
    "numbers_of_selection = [0] * d  # Number of times each ad was selected\n",
    "\n",
    "# Implement the Thompson Sampling algorithm\n",
    "for n in range(0, N):\n",
    "    max_random = 0  # Initialize the maximum random draw to 0 for each round\n",
    "    ad = 0  # Initialize the ad index for selection\n",
    "    \n",
    "    for i in range(0, d):\n",
    "        # Draw a random number from the beta distribution for ad i\n",
    "        random_beta = random.betavariate(number_of_rewards_1[i] + 1, number_of_rewards_0[i] + 1)\n",
    "        \n",
    "        # Select the ad with the highest random draw\n",
    "        if random_beta > max_random:\n",
    "            max_random = random_beta\n",
    "            ad = i\n",
    "    \n",
    "    # Append the selected ad to the list of selected ads\n",
    "    ads_selected.append(ad)\n",
    "    \n",
    "    # Get the reward for the selected ad from the dataset\n",
    "    reward = ds.values[n, ad]\n",
    "    \n",
    "    # Update the total reward\n",
    "    total_reward += reward\n",
    "    \n",
    "    # Update the count of rewards for the selected ad\n",
    "    if reward == 1:\n",
    "        number_of_rewards_1[ad] += 1\n",
    "    else:\n",
    "        number_of_rewards_0[ad] += 1\n",
    "    \n",
    "    # Increment the selection count for the selected ad\n",
    "    numbers_of_selection[ad] += 1\n",
    "print(total_reward)\n"
   ]
  },
  {
   "cell_type": "code",
   "execution_count": 6,
   "id": "b8acfb3e-b552-4c8a-aafb-4773e062689f",
   "metadata": {},
   "outputs": [
    {
     "data": {
      "image/png": "[encoded data removed]",
      "text/plain": [
       "<Figure size 640x480 with 1 Axes>"
      ]
     },
     "metadata": {},
     "output_type": "display_data"
    }
   ],
   "source": [
    "# Import necessary libraries\n",
    "import matplotlib.pyplot as plt  # For data visualization\n",
    "\n",
    "# Create a bar chart\n",
    "# range(1, 11) generates x-ticks from 1 to 10, representing each ad\n",
    "# numbers_of_selection contains the number of times each ad was selected\n",
    "plt.bar(range(1, 11), numbers_of_selection, align=\"center\")\n",
    "\n",
    "# Set the x-ticks to correspond to the ad numbers (1 through 10)\n",
    "plt.xticks(range(1, 11))\n",
    "\n",
    "# Display the bar chart\n",
    "plt.show()\n"
   ]
  },
  {
   "cell_type": "code",
   "execution_count": 7,
   "id": "02bfd48d-56c4-4449-8038-cbd2d9498be9",
   "metadata": {},
   "outputs": [
    {
     "data": {
      "text/plain": [
       "[106, 82, 85, 93, 9327, 26, 39, 131, 79, 32]"
      ]
     },
     "execution_count": 7,
     "metadata": {},
     "output_type": "execute_result"
    }
   ],
   "source": [
    "numbers_of_selection"
   ]
  },
  {
   "cell_type": "code",
   "execution_count": null,
   "id": "bd1b7e71-ff1e-407e-a4dc-2063a3c9b361",
   "metadata": {},
   "outputs": [],
   "source": []
  }
 ],
 "metadata": {
  "kernelspec": {
   "display_name": "Python 3 (ipykernel)",
   "language": "python",
   "name": "python3"
  },
  "language_info": {
   "codemirror_mode": {
    "name": "ipython",
    "version": 3
   },
   "file_extension": ".py",
   "mimetype": "text/x-python",
   "name": "python",
   "nbconvert_exporter": "python",
   "pygments_lexer": "ipython3",
   "version": "3.12.4"
  }
 },
 "nbformat": 4,
 "nbformat_minor": 5
}
