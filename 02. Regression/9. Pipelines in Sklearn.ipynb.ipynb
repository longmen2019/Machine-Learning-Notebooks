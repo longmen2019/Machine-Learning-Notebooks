{
 "cells": [
  {
   "cell_type": "markdown",
   "id": "6a241c27-e9e9-4d20-852a-6567a14446f5",
   "metadata": {},
   "source": [
    "## Pipelines\n",
    "\n",
    "Pipelines in scikit-learn offer a convenient way to build models. Typically, building a model involves several steps: imputing missing values using an imputer, applying PCA for dimensionality reduction, building the model, and then making predictions. Instead of performing these steps separately, they can be combined into a single pipeline."
   ]
  },
  {
   "cell_type": "code",
   "execution_count": 3,
   "id": "92858129-6351-4d9c-a715-eefa599bad91",
   "metadata": {
    "scrolled": true
   },
   "outputs": [
    {
     "name": "stdout",
     "output_type": "stream",
     "text": [
      "x[59][8] = np.nan\n",
      "x[6][6] = np.nan\n",
      "x[50][4] = np.nan\n",
      "x[41][9] = np.nan\n",
      "x[91][5] = np.nan\n",
      "x[31][8] = np.nan\n",
      "x[25][6] = np.nan\n",
      "x[86][5] = np.nan\n",
      "x[64][6] = np.nan\n",
      "x[9][3] = np.nan\n",
      "x[30][5] = np.nan\n",
      "x[70][7] = np.nan\n",
      "x[0][5] = np.nan\n",
      "x[70][8] = np.nan\n",
      "x[72][5] = np.nan\n",
      "x[6][2] = np.nan\n",
      "x[80][9] = np.nan\n",
      "x[83][0] = np.nan\n",
      "x[18][6] = np.nan\n",
      "x[49][4] = np.nan\n"
     ]
    }
   ],
   "source": [
    "import numpy as np\n",
    "from sklearn.pipeline import Pipeline\n",
    "from sklearn.datasets import make_regression\n",
    "from sklearn.decomposition import PCA\n",
    "from sklearn.impute import SimpleImputer\n",
    "from sklearn.preprocessing import StandardScaler\n",
    "from sklearn.svm import SVR\n",
    "\n",
    "# Number of features\n",
    "n_features = 10\n",
    "\n",
    "# Generate synthetic regression data\n",
    "x, y = make_regression(n_informative=5, n_features=n_features)\n",
    "\n",
    "# Introduce NaN values randomly in the dataset\n",
    "for _ in range(20):\n",
    "    rand_row = np.random.randint(100)\n",
    "    rand_col = np.random.randint(n_features)\n",
    "    x[rand_row, rand_col] = np.nan\n",
    "    print(f\"x[{rand_row}][{rand_col}] = np.nan\")\n",
    "\n",
    "# Define the pipeline\n",
    "pipeline = Pipeline([\n",
    "    ('imputer', SimpleImputer(strategy='mean')),  # Impute missing values\n",
    "    ('scaler', StandardScaler()),                # Standardize features\n",
    "    ('pca', PCA(n_components=5)),                # Reduce dimensionality\n",
    "    ('svr', SVR())                               # Support Vector Regression\n",
    "])\n",
    "\n",
    "# Fit the pipeline to the data\n",
    "pipeline.fit(x, y)\n",
    "\n",
    "# Example usage: Predict using the pipeline\n",
    "y_pred = pipeline.predict(x)\n"
   ]
  },
  {
   "cell_type": "code",
   "execution_count": 5,
   "id": "3dc696ce-a7ad-4f04-834f-d28e7488e96d",
   "metadata": {},
   "outputs": [
    {
     "data": {
      "text/plain": [
       "[('imputer', SimpleImputer()),\n",
       " ('scaler', StandardScaler()),\n",
       " ('pca', PCA(n_components=6)),\n",
       " ('svr', SVR())]"
      ]
     },
     "execution_count": 5,
     "metadata": {},
     "output_type": "execute_result"
    }
   ],
   "source": [
    "from sklearn.pipeline import Pipeline\n",
    "from sklearn.decomposition import PCA\n",
    "from sklearn.impute import SimpleImputer\n",
    "from sklearn.preprocessing import StandardScaler\n",
    "from sklearn.svm import SVR\n",
    "\n",
    "# Define the pipeline\n",
    "pipeline = Pipeline([\n",
    "    ('imputer', SimpleImputer(strategy='mean')),  # Impute missing values\n",
    "    ('scaler', StandardScaler()),                # Standardize features\n",
    "    ('pca', PCA(n_components=6)),                # Reduce dimensionality\n",
    "    ('svr', SVR())                               # Support Vector Regression\n",
    "])\n",
    "\n",
    "# Display the steps in the pipeline\n",
    "pipeline.steps\n"
   ]
  },
  {
   "cell_type": "code",
   "execution_count": null,
   "id": "1e111bcc-0d99-4d3a-b70e-bee3a5d99b07",
   "metadata": {},
   "outputs": [],
   "source": []
  }
 ],
 "metadata": {
  "kernelspec": {
   "display_name": "Python 3 (ipykernel)",
   "language": "python",
   "name": "python3"
  },
  "language_info": {
   "codemirror_mode": {
    "name": "ipython",
    "version": 3
   },
   "file_extension": ".py",
   "mimetype": "text/x-python",
   "name": "python",
   "nbconvert_exporter": "python",
   "pygments_lexer": "ipython3",
   "version": "3.12.4"
  }
 },
 "nbformat": 4,
 "nbformat_minor": 5
}
