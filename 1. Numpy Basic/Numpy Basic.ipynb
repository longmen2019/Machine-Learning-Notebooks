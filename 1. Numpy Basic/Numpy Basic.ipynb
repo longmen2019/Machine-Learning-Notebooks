{
 "cells": [
  {
   "cell_type": "markdown",
   "id": "2a887f8a-36b0-450e-8ee6-4782afab9ece",
   "metadata": {},
   "source": [
    "\n",
    "#### Numpy enables fast computation in Python, the underlying implementation is in C hence it's blazing fast. They key feature of Numpy is the ndarray object. The data type should be homogenous, that is the array should contain elements of single data type\n"
   ]
  },
  {
   "cell_type": "code",
   "execution_count": 10,
   "id": "5f033cc6-b5f9-450c-85a2-a6a6756d8d3b",
   "metadata": {},
   "outputs": [],
   "source": [
    "import numpy as np"
   ]
  },
  {
   "cell_type": "code",
   "execution_count": 5,
   "id": "9996c64f-53fd-4b6f-8de9-c7962f53f6aa",
   "metadata": {},
   "outputs": [
    {
     "name": "stdout",
     "output_type": "stream",
     "text": [
      "vector: [1 2 3 4]\n",
      "Shape: (4,)\n",
      "Dim: 1\n",
      "Data type: int32\n"
     ]
    }
   ],
   "source": [
    "vector = np.array([1,2,3,4])\n",
    "print(\"vector: {}\".format(vector))\n",
    "# Every array will have a shape. That is, its dimensions\n",
    "print(\"Shape: {}\".format(vector.shape))\n",
    "# Print number of dimensions\n",
    "print(\"Dim: {}\".format(vector.ndim))\n",
    "print(\"Data type: {}\".format(vector.dtype))\n"
   ]
  },
  {
   "cell_type": "markdown",
   "id": "d91ad6cf-2cd9-4b95-a46a-3d5d9a626f20",
   "metadata": {},
   "source": [
    "## Creating Arrays\n",
    "\n",
    "### Zeros and Ones\n",
    "\n",
    "* **`zeros(dim)`:** Returns a NumPy array of dimension `dim` initialized with zeros. \n",
    "    * **Example:** `zeros((3, 4))` creates a 3x4 array of zeros.\n",
    "* **`ones(dim)`:** Similar to `zeros`, but initializes with ones.\n",
    "\n",
    "### Empty Arrays\n",
    "* **`empty(dim)`:** Creates an uninitialized NumPy array of dimension `dim`. \n",
    "    * **Note:** Values in an empty array are arbitrary and may contain garbage data.\n",
    "\n"
   ]
  },
  {
   "cell_type": "code",
   "execution_count": 7,
   "id": "1c446964-d884-4e38-9535-29db91ce5175",
   "metadata": {},
   "outputs": [
    {
     "name": "stdout",
     "output_type": "stream",
     "text": [
      "[[[ 1  2]\n",
      "  [ 3  4]\n",
      "  [ 5  6]]\n",
      "\n",
      " [[ 7  8]\n",
      "  [ 9 10]\n",
      "  [11 12]]]\n"
     ]
    }
   ],
   "source": [
    "v = np.array([1,2,3,4,5,6,7,8,9,10,11,12])\n",
    "v.shape = (2,3,2)\n",
    "print(v)\n"
   ]
  },
  {
   "cell_type": "code",
   "execution_count": 9,
   "id": "06bc35ba-3ea9-47ff-8931-865d367ce878",
   "metadata": {},
   "outputs": [
    {
     "name": "stdout",
     "output_type": "stream",
     "text": [
      "[[[0. 0. 0.]\n",
      "  [0. 0. 0.]\n",
      "  [0. 0. 0.]]\n",
      "\n",
      " [[0. 0. 0.]\n",
      "  [0. 0. 0.]\n",
      "  [0. 0. 0.]]]\n"
     ]
    }
   ],
   "source": [
    "v = np.zeros((2,3,3))\n",
    "print(v)\n"
   ]
  },
  {
   "cell_type": "markdown",
   "id": "9aea5d83-5849-460a-b907-9513a45f2c49",
   "metadata": {},
   "source": [
    "### arange\n",
    "\n",
    "#### The arrange function is similar to Python's range function. The data type, if not specified, in many cases will be np.float64"
   ]
  },
  {
   "cell_type": "code",
   "execution_count": 11,
   "id": "d97d75b1-eada-4908-8e65-88c153a9a7dd",
   "metadata": {},
   "outputs": [
    {
     "name": "stdout",
     "output_type": "stream",
     "text": [
      "[ 0  1  2  3  4  5  6  7  8  9 10 11 12 13 14]\n"
     ]
    }
   ],
   "source": [
    "a = np.arange(15)\n",
    "print(a)"
   ]
  },
  {
   "cell_type": "markdown",
   "id": "c082fd94-c03c-4df4-b291-ec8a69ae3c8f",
   "metadata": {},
   "source": [
    "\r\n",
    "### `zeros` and `zeros_like`\r\n",
    "\r\n",
    "#### `zeros(dim)`\r\n",
    "Returns a `np.array` of dimension `dim` initialized with 0. Note that `dim` should be a tuple.\r\n",
    "\r\n",
    "### `ones` and `ones_like`\r\n",
    "Provides the same functionality as `zeros` and `zeros_like`, except the initialization is done with ones.\r\n",
    "\r\n",
    "### `empty` and `empty_like`\r\n",
    "Creates NumPy arrays but doesn't initialize them with any values (hence, faster). By default, all the values in the array will have garbagto let me know!"
   ]
  },
  {
   "cell_type": "code",
   "execution_count": null,
   "id": "00790059-7fde-4a2a-bc6e-f23c0825fea8",
   "metadata": {},
   "outputs": [],
   "source": []
  }
 ],
 "metadata": {
  "kernelspec": {
   "display_name": "Python 3 (ipykernel)",
   "language": "python",
   "name": "python3"
  },
  "language_info": {
   "codemirror_mode": {
    "name": "ipython",
    "version": 3
   },
   "file_extension": ".py",
   "mimetype": "text/x-python",
   "name": "python",
   "nbconvert_exporter": "python",
   "pygments_lexer": "ipython3",
   "version": "3.12.4"
  }
 },
 "nbformat": 4,
 "nbformat_minor": 5
}
