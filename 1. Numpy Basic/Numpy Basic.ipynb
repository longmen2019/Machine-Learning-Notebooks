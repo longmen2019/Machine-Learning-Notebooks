{
 "cells": [
  {
   "cell_type": "markdown",
   "id": "2a887f8a-36b0-450e-8ee6-4782afab9ece",
   "metadata": {},
   "source": [
    "\n",
    "#### Numpy enables fast computation in Python, the underlying implementation is in C hence it's blazing fast. They key feature of Numpy is the ndarray object. The data type should be homogenous, that is the array should contain elements of single data type\n"
   ]
  },
  {
   "cell_type": "code",
   "execution_count": 2,
   "id": "5f033cc6-b5f9-450c-85a2-a6a6756d8d3b",
   "metadata": {},
   "outputs": [],
   "source": [
    "import numpy as np"
   ]
  },
  {
   "cell_type": "code",
   "execution_count": 3,
   "id": "9996c64f-53fd-4b6f-8de9-c7962f53f6aa",
   "metadata": {},
   "outputs": [
    {
     "name": "stdout",
     "output_type": "stream",
     "text": [
      "vector: [1 2 3 4]\n",
      "Shape: (4,)\n",
      "Dim: 1\n",
      "Data type: int32\n"
     ]
    }
   ],
   "source": [
    "vector = np.array([1,2,3,4])\n",
    "print(\"vector: {}\".format(vector))\n",
    "# Every array will have a shape. That is, its dimensions\n",
    "print(\"Shape: {}\".format(vector.shape))\n",
    "# Print number of dimensions\n",
    "print(\"Dim: {}\".format(vector.ndim))\n",
    "print(\"Data type: {}\".format(vector.dtype))\n"
   ]
  },
  {
   "cell_type": "markdown",
   "id": "d91ad6cf-2cd9-4b95-a46a-3d5d9a626f20",
   "metadata": {},
   "source": [
    "## Creating Arrays\n",
    "\n",
    "### Zeros and Ones\n",
    "\n",
    "* **`zeros(dim)`:** Returns a NumPy array of dimension `dim` initialized with zeros. \n",
    "    * **Example:** `zeros((3, 4))` creates a 3x4 array of zeros.\n",
    "* **`ones(dim)`:** Similar to `zeros`, but initializes with ones.\n",
    "\n",
    "### Empty Arrays\n",
    "* **`empty(dim)`:** Creates an uninitialized NumPy array of dimension `dim`. \n",
    "    * **Note:** Values in an empty array are arbitrary and may contain garbage data.\n",
    "\n"
   ]
  },
  {
   "cell_type": "code",
   "execution_count": 4,
   "id": "1c446964-d884-4e38-9535-29db91ce5175",
   "metadata": {},
   "outputs": [
    {
     "name": "stdout",
     "output_type": "stream",
     "text": [
      "[[[ 1  2]\n",
      "  [ 3  4]\n",
      "  [ 5  6]]\n",
      "\n",
      " [[ 7  8]\n",
      "  [ 9 10]\n",
      "  [11 12]]]\n"
     ]
    }
   ],
   "source": [
    "v = np.array([1,2,3,4,5,6,7,8,9,10,11,12])\n",
    "v.shape = (2,3,2)\n",
    "print(v)\n"
   ]
  },
  {
   "cell_type": "code",
   "execution_count": 5,
   "id": "06bc35ba-3ea9-47ff-8931-865d367ce878",
   "metadata": {},
   "outputs": [
    {
     "name": "stdout",
     "output_type": "stream",
     "text": [
      "[[[0. 0. 0.]\n",
      "  [0. 0. 0.]\n",
      "  [0. 0. 0.]]\n",
      "\n",
      " [[0. 0. 0.]\n",
      "  [0. 0. 0.]\n",
      "  [0. 0. 0.]]]\n"
     ]
    }
   ],
   "source": [
    "v = np.zeros((2,3,3))\n",
    "print(v)\n"
   ]
  },
  {
   "cell_type": "markdown",
   "id": "9aea5d83-5849-460a-b907-9513a45f2c49",
   "metadata": {},
   "source": [
    "### arange\n",
    "\n",
    "#### The arrange function is similar to Python's range function. The data type, if not specified, in many cases will be np.float64"
   ]
  },
  {
   "cell_type": "code",
   "execution_count": 6,
   "id": "d97d75b1-eada-4908-8e65-88c153a9a7dd",
   "metadata": {},
   "outputs": [
    {
     "name": "stdout",
     "output_type": "stream",
     "text": [
      "[ 0  1  2  3  4  5  6  7  8  9 10 11 12 13 14]\n"
     ]
    }
   ],
   "source": [
    "a = np.arange(15)\n",
    "print(a)"
   ]
  },
  {
   "cell_type": "markdown",
   "id": "c082fd94-c03c-4df4-b291-ec8a69ae3c8f",
   "metadata": {},
   "source": [
    "\r\n",
    "### `zeros` and `zeros_like`\r\n",
    "\r\n",
    "#### `zeros(dim)`\r\n",
    "Returns a `np.array` of dimension `dim` initialized with 0. Note that `dim` should be a tuple.\r\n",
    "\r\n",
    "### `ones` and `ones_like`\r\n",
    "Provides the same functionality as `zeros` and `zeros_like`, except the initialization is done with ones.\r\n",
    "\r\n",
    "### `empty` and `empty_like`\r\n",
    "Creates NumPy arrays but doesn't initialize them with any values (hence, faster). By default, all the values in the array will have garbagto let me know!"
   ]
  },
  {
   "cell_type": "code",
   "execution_count": 7,
   "id": "00790059-7fde-4a2a-bc6e-f23c0825fea8",
   "metadata": {},
   "outputs": [
    {
     "name": "stdout",
     "output_type": "stream",
     "text": [
      "Zeros\n",
      "A: [[0. 0. 0.]\n",
      " [0. 0. 0.]\n",
      " [0. 0. 0.]]\n",
      "B: [[0. 0. 0.]\n",
      " [0. 0. 0.]\n",
      " [0. 0. 0.]]\n",
      "\n",
      "Ones\n",
      "A: [[1. 1. 1.]\n",
      " [1. 1. 1.]\n",
      " [1. 1. 1.]]\n",
      "B: [[1. 1. 1.]\n",
      " [1. 1. 1.]\n",
      " [1. 1. 1.]]\n",
      "\n",
      "Empty\n",
      "A: [[1. 1. 1.]\n",
      " [1. 1. 1.]\n",
      " [1. 1. 1.]]\n"
     ]
    },
    {
     "data": {
      "text/plain": [
       "\"As you can see, the zeros and ones arrays are initialized with their respective values, \\nwhile the empty array's initial values are arbitrary and depend on the memory state\""
      ]
     },
     "execution_count": 7,
     "metadata": {},
     "output_type": "execute_result"
    }
   ],
   "source": [
    "print(\"Zeros\")\n",
    "# Creates a 3x3 array filled with zeros.\n",
    "a = np.zeros((3,3))\n",
    "print(\"A: {}\".format(a))\n",
    "# Creates a new array with the same shape and data type as the existing array a\n",
    "b = np.zeros_like(a)\n",
    "print(\"B: {}\".format(b))\n",
    "print(\"\\nOnes\")\n",
    "# Creates a 3x3 array filled with ones\n",
    "a = np.ones((3,3))\n",
    "print(\"A: {}\".format(a))\n",
    "# Creates a new array with the same shape and data type as the existing array a\n",
    "b= np.ones_like(a)\n",
    "print(\"B: {}\".format(b))\n",
    "print(\"\\nEmpty\")\n",
    "# Creates a 3x3 array with uninitialized values. The values will be whatever happens to be in memory at that location\n",
    "a = np.empty((3,3))\n",
    "print(\"A: {}\".format(a))\n",
    "'''As you can see, the zeros and ones arrays are initialized with their respective values, \n",
    "while the empty array's initial values are arbitrary and depend on the memory state'''\n"
   ]
  },
  {
   "cell_type": "markdown",
   "id": "ea3071f2-9e04-4839-b1ab-d92e8fcfd940",
   "metadata": {},
   "source": [
    "## `astype`\r\n",
    "\r\n",
    "**`astype`** is used to convert the data type of a NumPy array. It creates a new copy of the array, even if the data type remains the same.\r\n",
    "\r\n",
    "**Note:** Converting from a higher-precision data type to a lower-precision data type can result in loss of information. For example, converting a float to an integer will truncate the decimal part.\r\n",
    "\r\n"
   ]
  },
  {
   "cell_type": "code",
   "execution_count": 8,
   "id": "839690bd-d40a-4d53-9006-1024a72e4c74",
   "metadata": {},
   "outputs": [
    {
     "name": "stdout",
     "output_type": "stream",
     "text": [
      "A: [1.  2.  3.  4.5 6.7], dtype: float64\n",
      "B: [1 2 3 4 6], dtype: int32\n"
     ]
    }
   ],
   "source": [
    "a = np.array([1, 2, 3, 4.5, 6.7]) ## Create a NumPy array with mixed integer and float values\n",
    "print(\"A: {}, dtype: {}\".format(a, a.dtype))\n",
    "b = a.astype(int)  # Convert the array 'a' to integer data type, truncating decimal parts\n",
    "print(\"B: {}, dtype: {}\".format(b, b.dtype))"
   ]
  },
  {
   "cell_type": "markdown",
   "id": "2d0e2ba2-6d7f-4903-a8cd-238f8589f5a2",
   "metadata": {},
   "source": [
    "## Vectorization and Vector-Scalar Operations\n",
    "\n",
    "Using for loops in code is not only prone to error but also inefficient. We can use NumPy operations to circumvent such for loops. This process is called vectorization."
   ]
  },
  {
   "cell_type": "markdown",
   "id": "79583ffb-fa0f-4f5b-be06-0b1027baddde",
   "metadata": {},
   "source": [
    "### Using operation on same sized arrays produce element wise operations."
   ]
  },
  {
   "cell_type": "code",
   "execution_count": 11,
   "id": "f8816588-89aa-4850-b521-1e180a666abf",
   "metadata": {},
   "outputs": [
    {
     "name": "stdout",
     "output_type": "stream",
     "text": [
      "[[5 7 9]\n",
      " [5 7 9]]\n",
      "[[ 4 10 18]\n",
      " [ 4 10 18]]\n",
      "[[-3 -3 -3]\n",
      " [ 3  3  3]]\n"
     ]
    }
   ],
   "source": [
    "# Creates a 2x3 NumPy array named a with the given values\n",
    "a = np.array([[1,2,3], [4,5,6]])\n",
    "# Creates another 2x3 NumPy array named b with the given values\n",
    "b = np.array([[4,5,6], [1,2,3]])\n",
    "\n",
    "# Performs element-wise addition of a and b, storing the result in c\n",
    "c = a + b\n",
    "print(c)\n",
    "\n",
    "# Performs element-wise multiplication of a and b, storing the result in c\n",
    "c = a * b \n",
    "print(c)\n",
    "\n",
    "# Performs element-wise subtraction of b from a, storing the result in c\n",
    "c = a-b \n",
    "print(c)"
   ]
  },
  {
   "cell_type": "markdown",
   "id": "a95efb61-8222-47c1-9554-ac4b0cbceb69",
   "metadata": {},
   "source": [
    "#### Using scalars with vectors will produce element wise operations"
   ]
  },
  {
   "cell_type": "code",
   "execution_count": 14,
   "id": "b5d6c1f2-2de9-4f78-9e9c-22594d12ccad",
   "metadata": {},
   "outputs": [
    {
     "name": "stdout",
     "output_type": "stream",
     "text": [
      "[[4 5 6]\n",
      " [7 8 9]]\n",
      "[[ 3  6  9]\n",
      " [12 15 18]]\n",
      "[[1.         0.5        0.33333333]\n",
      " [0.25       0.2        0.16666667]]\n"
     ]
    }
   ],
   "source": [
    "# Creates a scalar variable a and assigns it the value 3\n",
    "a = 3 \n",
    "# Creates a 2x3 NumPy array named b with the given values\n",
    "b = np.array([[1,2,3], [4,5,6]])\n",
    "\n",
    "# Attempts to add the scalar a to each element of the array b. \n",
    "# NumPy automatically broadcasts the scalar a to match the shape of b, resulting in element-wise addition.\n",
    "c = a + b \n",
    "print(c)\n",
    "\n",
    "# Attempts to multiply the scalar a with each element of the array b.\n",
    "# NumPy automatically broadcasts the scalar a to match the shape of b, resulting in element-wise multiplication\n",
    "c = a * b \n",
    "print(c)\n",
    "\n",
    "# Performs element-wise division of 1.0 by each element of the array b. \n",
    "# This results in a new array c where each element is the reciprocal of the corresponding element in b\n",
    "c = 1.0/b\n",
    "print(c)"
   ]
  },
  {
   "cell_type": "markdown",
   "id": "0bf991b1-926d-4a0d-b970-13fa23726337",
   "metadata": {},
   "source": [
    "### Slicing \n",
    "You can slice by following syntax:\n",
    ">array[start_index:end_index]\n",
    "\n",
    "For n_dimension array:\n",
    "\n",
    ">array[start_index:index_index, start_index:end_index]\n",
    "\n",
    "Slicing Numpy arrays is similar to that of Python lists. One main distinction in Python list and Numpy array **is not the copy, but the original array. Hence, if any operations on the slice will be reflected in the original array.**"
   ]
  },
  {
   "cell_type": "code",
   "execution_count": 15,
   "id": "b773b356-65c2-4a0c-899f-ca49453f11f0",
   "metadata": {},
   "outputs": [
    {
     "name": "stdout",
     "output_type": "stream",
     "text": [
      "[ 0  1  2  3  4  5  6  7  8  9 10 11 12 13 14 15 16 17 18 19]\n",
      "[ 0  1  2  3  4  5  6  7  8  9  5  5  5  5  5 15 16 17 18 19]\n"
     ]
    }
   ],
   "source": [
    "a = np.arange(20)\n",
    "print(a)\n",
    "a[10:15] = 5 #Modifies elements 10 to 14 (inclusive) of the array a to the value 5\n",
    "print(a)"
   ]
  },
  {
   "cell_type": "markdown",
   "id": "7dbdc47b-0b6d-42e2-8097-b669dfbeb018",
   "metadata": {},
   "source": [
    "If you want to avoid the above scenario, you can use `copy()`"
   ]
  },
  {
   "cell_type": "code",
   "execution_count": 18,
   "id": "72af638a-1642-4096-be54-a45c47e74155",
   "metadata": {},
   "outputs": [
    {
     "name": "stdout",
     "output_type": "stream",
     "text": [
      "[ 0  1  2  3  4  5  6  7  8  9 10 11 12 13 14 15 16 17 18 19]\n",
      "[ 0  1  2  3  4  5  6  7  8  9 10 11 12 13 14 15 16 17 18 19]\n"
     ]
    }
   ],
   "source": [
    "a = np.arange(20)\n",
    "print(a)\n",
    "# Creates a copy of elements 10 to 14 (inclusive) of the array a and stores it in the variable b. \n",
    "# This means that b is a separate object in memory, independent of a\n",
    "b  = a[10:15].copy()\n",
    "# Assigns the value 5 to all elements of the array b. Since b is a copy, this change does not affect the original array a\n",
    "b = 5 \n",
    "print(a)"
   ]
  },
  {
   "cell_type": "markdown",
   "id": "4bf0ba28-de02-4e82-a349-cab5a090265f",
   "metadata": {},
   "source": [
    "\n",
    "Slicing by `:` will take the entire axis. So:\n",
    ">1. `arr2d[:, 0]` will return an array of shape (3, )\n",
    ">2. `arr2d[:, :1]` will return an array of shape (3, 1)"
   ]
  },
  {
   "cell_type": "code",
   "execution_count": null,
   "id": "3b8c7736-adb5-4b67-8444-71ef7491a720",
   "metadata": {},
   "outputs": [],
   "source": []
  }
 ],
 "metadata": {
  "kernelspec": {
   "display_name": "Python 3 (ipykernel)",
   "language": "python",
   "name": "python3"
  },
  "language_info": {
   "codemirror_mode": {
    "name": "ipython",
    "version": 3
   },
   "file_extension": ".py",
   "mimetype": "text/x-python",
   "name": "python",
   "nbconvert_exporter": "python",
   "pygments_lexer": "ipython3",
   "version": "3.12.4"
  }
 },
 "nbformat": 4,
 "nbformat_minor": 5
}
