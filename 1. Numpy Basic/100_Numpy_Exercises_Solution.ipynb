{
 "cells": [
  {
   "cell_type": "markdown",
   "id": "16466428-8fe8-47ff-95b4-2fcff99b0839",
   "metadata": {},
   "source": [
    "# 100 NumPy Exercises\r\n",
    "Here is the reference to the original problem:https://github.com/maykulkarni/Machine-Learning-Notebooks/blob/master/00.%20NumPy%20Basics/100_Numpy_exercises_no_solution.ipynbs."
   ]
  },
  {
   "cell_type": "markdown",
   "id": "422b29b3-8657-4666-8aac-66ce97e2e1f8",
   "metadata": {},
   "source": [
    "### 1. Import the numpy package under the name np"
   ]
  },
  {
   "cell_type": "code",
   "execution_count": 2,
   "id": "de0f3a05-336c-4420-b8f1-0fef90e13935",
   "metadata": {},
   "outputs": [],
   "source": [
    "import numpy as np"
   ]
  },
  {
   "cell_type": "markdown",
   "id": "8178c06e-d719-4fe2-95b6-881fab3d6e84",
   "metadata": {},
   "source": [
    "### 2. Print the numpy version and the configuration"
   ]
  },
  {
   "cell_type": "code",
   "execution_count": 3,
   "id": "d6e0be57-c66d-4af7-9a10-3e3e2d68a566",
   "metadata": {},
   "outputs": [
    {
     "name": "stdout",
     "output_type": "stream",
     "text": [
      "Numpy version: 1.26.4\n",
      "Build Dependencies:\n",
      "  blas:\n",
      "    detection method: pkgconfig\n",
      "    found: true\n",
      "    include directory: C:/Users/men_l/anaconda3/Library/include\n",
      "    lib directory: C:/Users/men_l/anaconda3/Library/lib\n",
      "    name: mkl-sdl\n",
      "    openblas configuration: unknown\n",
      "    pc file directory: C:\\b\\abs_c1ywpu18ar\\croot\\numpy_and_numpy_base_1708638681471\\_h_env\\Library\\lib\\pkgconfig\n",
      "    version: '2023.1'\n",
      "  lapack:\n",
      "    detection method: internal\n",
      "    found: true\n",
      "    include directory: unknown\n",
      "    lib directory: unknown\n",
      "    name: dep1583119523984\n",
      "    openblas configuration: unknown\n",
      "    pc file directory: unknown\n",
      "    version: 1.26.4\n",
      "Compilers:\n",
      "  c:\n",
      "    commands: cl.exe\n",
      "    linker: link\n",
      "    name: msvc\n",
      "    version: 19.29.30154\n",
      "  c++:\n",
      "    commands: cl.exe\n",
      "    linker: link\n",
      "    name: msvc\n",
      "    version: 19.29.30154\n",
      "  cython:\n",
      "    commands: cython\n",
      "    linker: cython\n",
      "    name: cython\n",
      "    version: 3.0.8\n",
      "Machine Information:\n",
      "  build:\n",
      "    cpu: x86_64\n",
      "    endian: little\n",
      "    family: x86_64\n",
      "    system: windows\n",
      "  host:\n",
      "    cpu: x86_64\n",
      "    endian: little\n",
      "    family: x86_64\n",
      "    system: windows\n",
      "Python Information:\n",
      "  path: C:\\b\\abs_c1ywpu18ar\\croot\\numpy_and_numpy_base_1708638681471\\_h_env\\python.exe\n",
      "  version: '3.12'\n",
      "SIMD Extensions:\n",
      "  baseline:\n",
      "  - SSE\n",
      "  - SSE2\n",
      "  - SSE3\n",
      "  found:\n",
      "  - SSSE3\n",
      "  - SSE41\n",
      "  - POPCNT\n",
      "  - SSE42\n",
      "  - AVX\n",
      "  - F16C\n",
      "  - FMA3\n",
      "  - AVX2\n",
      "  not found:\n",
      "  - AVX512F\n",
      "  - AVX512CD\n",
      "  - AVX512_SKX\n",
      "  - AVX512_CLX\n",
      "  - AVX512_CNL\n",
      "  - AVX512_ICL\n",
      "\n"
     ]
    }
   ],
   "source": [
    "print(\"Numpy version: {}\".format(np.__version__))\n",
    "np.show_config()"
   ]
  },
  {
   "cell_type": "markdown",
   "id": "acb0c12f-7a6e-45a0-8b0f-46ca52446cdd",
   "metadata": {},
   "source": [
    "### 3. Create a null vector of size 10"
   ]
  },
  {
   "cell_type": "code",
   "execution_count": 4,
   "id": "e190f422-cf10-4f9f-b01f-93cb48fe9c6b",
   "metadata": {},
   "outputs": [
    {
     "data": {
      "text/plain": [
       "array([0., 0., 0., 0., 0., 0., 0., 0., 0., 0.])"
      ]
     },
     "execution_count": 4,
     "metadata": {},
     "output_type": "execute_result"
    }
   ],
   "source": [
    "np.zeros(10)"
   ]
  },
  {
   "cell_type": "markdown",
   "id": "7f241b5b-ad7a-4e49-99e1-ef309fa15822",
   "metadata": {},
   "source": [
    "### 4. How to find the memory size of any array"
   ]
  },
  {
   "cell_type": "code",
   "execution_count": 5,
   "id": "6d89f26e-dd01-45a7-b96c-10e881a0e176",
   "metadata": {},
   "outputs": [
    {
     "name": "stdout",
     "output_type": "stream",
     "text": [
      "Size of one element: 8\n",
      "Size of the entire array: 80\n"
     ]
    }
   ],
   "source": [
    "a = np.zeros(10)\n",
    "print(\"Size of one element: {}\".format(a.itemsize))\n",
    "print(\"Size of the entire array: {}\". format(a.nbytes))"
   ]
  },
  {
   "cell_type": "markdown",
   "id": "730769df-7698-4e99-a54f-82c46b2f7f5e",
   "metadata": {},
   "source": [
    "### 5. How to get the documentation of the numpy add function from the command line?"
   ]
  },
  {
   "cell_type": "code",
   "execution_count": 6,
   "id": "107e816e-1083-4276-8f09-534b3634ca67",
   "metadata": {},
   "outputs": [
    {
     "name": "stdout",
     "output_type": "stream",
     "text": [
      "zeros(shape, dtype=float, order='C', *, like=None)\n",
      "\n",
      "Return a new array of given shape and type, filled with zeros.\n",
      "\n",
      "Parameters\n",
      "----------\n",
      "shape : int or tuple of ints\n",
      "    Shape of the new array, e.g., ``(2, 3)`` or ``2``.\n",
      "dtype : data-type, optional\n",
      "    The desired data-type for the array, e.g., `numpy.int8`.  Default is\n",
      "    `numpy.float64`.\n",
      "order : {'C', 'F'}, optional, default: 'C'\n",
      "    Whether to store multi-dimensional data in row-major\n",
      "    (C-style) or column-major (Fortran-style) order in\n",
      "    memory.\n",
      "like : array_like, optional\n",
      "    Reference object to allow the creation of arrays which are not\n",
      "    NumPy arrays. If an array-like passed in as ``like`` supports\n",
      "    the ``__array_function__`` protocol, the result will be defined\n",
      "    by it. In this case, it ensures the creation of an array object\n",
      "    compatible with that passed in via this argument.\n",
      "\n",
      "    .. versionadded:: 1.20.0\n",
      "\n",
      "Returns\n",
      "-------\n",
      "out : ndarray\n",
      "    Array of zeros with the given shape, dtype, and order.\n",
      "\n",
      "See Also\n",
      "--------\n",
      "zeros_like : Return an array of zeros with shape and type of input.\n",
      "empty : Return a new uninitialized array.\n",
      "ones : Return a new array setting values to one.\n",
      "full : Return a new array of given shape filled with value.\n",
      "\n",
      "Examples\n",
      "--------\n",
      ">>> np.zeros(5)\n",
      "array([ 0.,  0.,  0.,  0.,  0.])\n",
      "\n",
      ">>> np.zeros((5,), dtype=int)\n",
      "array([0, 0, 0, 0, 0])\n",
      "\n",
      ">>> np.zeros((2, 1))\n",
      "array([[ 0.],\n",
      "       [ 0.]])\n",
      "\n",
      ">>> s = (2,2)\n",
      ">>> np.zeros(s)\n",
      "array([[ 0.,  0.],\n",
      "       [ 0.,  0.]])\n",
      "\n",
      ">>> np.zeros((2,), dtype=[('x', 'i4'), ('y', 'i4')]) # custom dtype\n",
      "array([(0, 0), (0, 0)],\n",
      "      dtype=[('x', '<i4'), ('y', '<i4')])\n"
     ]
    }
   ],
   "source": [
    "np.info(np.zeros)"
   ]
  },
  {
   "cell_type": "markdown",
   "id": "6cc08d9d-27a8-457e-bd4e-dfa007f57628",
   "metadata": {},
   "source": [
    "### 6. Create a null vector of size 10 but the fifth value which is 1"
   ]
  },
  {
   "cell_type": "code",
   "execution_count": 7,
   "id": "8bbedb33-4c41-4d53-ae5e-694d23661e5e",
   "metadata": {},
   "outputs": [
    {
     "name": "stdout",
     "output_type": "stream",
     "text": [
      "[0. 0. 0. 0. 1. 0. 0. 0. 0. 0.]\n"
     ]
    }
   ],
   "source": [
    "a = np.zeros(10)\n",
    "a[4] = 1\n",
    "print(a)"
   ]
  },
  {
   "cell_type": "markdown",
   "id": "cd5a51a2-c0d4-423f-8c70-8edcf89864a1",
   "metadata": {},
   "source": [
    "### 7. Create a vector with values ranging from 10 to 49"
   ]
  },
  {
   "cell_type": "code",
   "execution_count": 8,
   "id": "5c6b85fe-f866-41ef-bef2-4d0177579d5a",
   "metadata": {},
   "outputs": [
    {
     "data": {
      "text/plain": [
       "array([10, 11, 12, 13, 14, 15, 16, 17, 18, 19, 20, 21, 22, 23, 24, 25, 26,\n",
       "       27, 28, 29, 30, 31, 32, 33, 34, 35, 36, 37, 38, 39, 40, 41, 42, 43,\n",
       "       44, 45, 46, 47, 48, 49])"
      ]
     },
     "execution_count": 8,
     "metadata": {},
     "output_type": "execute_result"
    }
   ],
   "source": [
    "np.arange(10,50)"
   ]
  },
  {
   "cell_type": "markdown",
   "id": "06a25a45-c802-40d7-a05d-f298104b03d1",
   "metadata": {},
   "source": [
    "### 8. Reverse a vector (first element becomes last)"
   ]
  },
  {
   "cell_type": "code",
   "execution_count": 9,
   "id": "36b961c0-82a3-4433-b8f1-4a4b3f2dee23",
   "metadata": {},
   "outputs": [
    {
     "data": {
      "text/plain": [
       "array([9, 8, 7, 6, 5, 4, 3, 2, 1, 0])"
      ]
     },
     "execution_count": 9,
     "metadata": {},
     "output_type": "execute_result"
    }
   ],
   "source": [
    "a = np.arange(10)\n",
    "a[::-1]"
   ]
  },
  {
   "cell_type": "markdown",
   "id": "e3e11e52-40c3-4e05-962c-688239c2971c",
   "metadata": {},
   "source": [
    "### 9. Create a 3x3 matrix with values ranging from 0 to 8"
   ]
  },
  {
   "cell_type": "code",
   "execution_count": 10,
   "id": "fd2e8cc6-5775-4ad2-a990-607944f13048",
   "metadata": {},
   "outputs": [
    {
     "data": {
      "text/plain": [
       "array([[0, 1, 2],\n",
       "       [3, 4, 5],\n",
       "       [6, 7, 8]])"
      ]
     },
     "execution_count": 10,
     "metadata": {},
     "output_type": "execute_result"
    }
   ],
   "source": [
    "np.arange(9).reshape(3,3)"
   ]
  },
  {
   "cell_type": "markdown",
   "id": "fbfb35dd-557c-4d19-82f4-e8a2fb9a8d37",
   "metadata": {},
   "source": [
    "### 10. Find indices of non-zero elements from [1,2,0,0,4,0]"
   ]
  },
  {
   "cell_type": "code",
   "execution_count": 11,
   "id": "6ef18ee5-f644-4c91-99fb-e129a282174f",
   "metadata": {},
   "outputs": [
    {
     "data": {
      "text/plain": [
       "(array([0, 1, 4], dtype=int64),)"
      ]
     },
     "execution_count": 11,
     "metadata": {},
     "output_type": "execute_result"
    }
   ],
   "source": [
    "arr = np.array([1,2,0,0,4,0])\n",
    "np.nonzero(arr)"
   ]
  },
  {
   "cell_type": "markdown",
   "id": "029391ae-1510-4e55-9272-b72437ef2325",
   "metadata": {},
   "source": [
    "### 11. Create a 3x3 identity matrix"
   ]
  },
  {
   "cell_type": "code",
   "execution_count": 12,
   "id": "aa1f8605-5983-41cb-9124-8e3c8ff0f9cd",
   "metadata": {},
   "outputs": [
    {
     "data": {
      "text/plain": [
       "array([[1., 0., 0.],\n",
       "       [0., 1., 0.],\n",
       "       [0., 0., 1.]])"
      ]
     },
     "execution_count": 12,
     "metadata": {},
     "output_type": "execute_result"
    }
   ],
   "source": [
    "np.eye(3,3)"
   ]
  },
  {
   "cell_type": "markdown",
   "id": "45b11ff1-e0ef-4346-b555-45326e84e789",
   "metadata": {},
   "source": [
    "### 12. Create a 3x3x3 array with random values"
   ]
  },
  {
   "cell_type": "code",
   "execution_count": 13,
   "id": "c4000656-1b2c-48bb-8f55-64195b602b24",
   "metadata": {},
   "outputs": [
    {
     "data": {
      "text/plain": [
       "array([[[66, 33, 45],\n",
       "        [18, 20, 73],\n",
       "        [ 8, 48, 27]],\n",
       "\n",
       "       [[90, 42, 77],\n",
       "        [31, 40, 28],\n",
       "        [23, 40,  2]],\n",
       "\n",
       "       [[ 3, 36,  7],\n",
       "        [65, 38, 80],\n",
       "        [11, 83, 33]]])"
      ]
     },
     "execution_count": 13,
     "metadata": {},
     "output_type": "execute_result"
    }
   ],
   "source": [
    "np.random.randint(0,100,(3,3,3))"
   ]
  },
  {
   "cell_type": "markdown",
   "id": "0c03b207-4d7f-4487-becf-9984fd7961a1",
   "metadata": {},
   "source": [
    "### 13. Create a 10x10 array with random values and find the minimum and maximum values \n"
   ]
  },
  {
   "cell_type": "code",
   "execution_count": 14,
   "id": "d9ab3c43-5ec2-4013-b2de-6a2aed941bb4",
   "metadata": {},
   "outputs": [
    {
     "name": "stdout",
     "output_type": "stream",
     "text": [
      "Arr: [[55 52 22 39 74 70 33 68 95 28]\n",
      " [16 86 22 59 76 21 28 44 24 56]\n",
      " [61 95 78 29 70 79 85 69 85 89]\n",
      " [ 7 68 49 78 14 79 21 46 65 77]\n",
      " [ 7 90 29 37 64 46 11  1 97  5]\n",
      " [33 53 71 53 15 72 23 17 79 60]\n",
      " [44 86  7 67 45 28 64 21 66  4]\n",
      " [66 31 11 38 71 49 44  8 22 45]\n",
      " [33 28  0 95  9 16 45 78 39  5]\n",
      " [55 88 57 61 40 91  1 94  6 50]]\n",
      "Min: 0\n",
      "Max: 97\n"
     ]
    }
   ],
   "source": [
    "rand_array = np.random.randint(0,100,(10,10))\n",
    "print(\"Arr: {}\".format(rand_array))\n",
    "print(\"Min: {}\".format(np.min(rand_array)))\n",
    "print(\"Max: {}\".format(np.max(rand_array)))"
   ]
  },
  {
   "cell_type": "markdown",
   "id": "19f485ef-0318-4756-8a19-3535b27dba4d",
   "metadata": {},
   "source": [
    "### 14. Create a random vector of size 30 and find the mean value"
   ]
  },
  {
   "cell_type": "code",
   "execution_count": 15,
   "id": "b2e2e829-7d58-4169-888f-497d90ca10b8",
   "metadata": {},
   "outputs": [
    {
     "name": "stdout",
     "output_type": "stream",
     "text": [
      "Arr: [ 5 17 23  4 25 14  4  5 29 26  1 13 17 18  8  1 24 18 18 16 27 17 23  7\n",
      "  6  1  2 25 22 13]\n",
      "Mean: 14.3\n"
     ]
    }
   ],
   "source": [
    "rand_array = np.random.randint(1,30, (30))\n",
    "print(\"Arr: {}\".format(rand_array))\n",
    "print(\"Mean: {}\".format(rand_array.mean()))"
   ]
  },
  {
   "cell_type": "markdown",
   "id": "1119741a-2715-43be-bdaf-7fa9597bc96a",
   "metadata": {},
   "source": [
    "### 15. Create a 2d array with 1 on the border and 0 inside "
   ]
  },
  {
   "cell_type": "code",
   "execution_count": 16,
   "id": "33e6d54f-732a-4cf4-a0dd-cbf175f3e7e6",
   "metadata": {},
   "outputs": [
    {
     "name": "stdout",
     "output_type": "stream",
     "text": [
      "Before: \n",
      "[[1. 1. 1. 1. 1. 1. 1. 1. 1. 1.]\n",
      " [1. 1. 1. 1. 1. 1. 1. 1. 1. 1.]\n",
      " [1. 1. 1. 1. 1. 1. 1. 1. 1. 1.]\n",
      " [1. 1. 1. 1. 1. 1. 1. 1. 1. 1.]\n",
      " [1. 1. 1. 1. 1. 1. 1. 1. 1. 1.]\n",
      " [1. 1. 1. 1. 1. 1. 1. 1. 1. 1.]\n",
      " [1. 1. 1. 1. 1. 1. 1. 1. 1. 1.]\n",
      " [1. 1. 1. 1. 1. 1. 1. 1. 1. 1.]\n",
      " [1. 1. 1. 1. 1. 1. 1. 1. 1. 1.]\n",
      " [1. 1. 1. 1. 1. 1. 1. 1. 1. 1.]]\n",
      "\n",
      "After: \n",
      "[[1. 1. 1. 1. 1. 1. 1. 1. 1. 1.]\n",
      " [1. 0. 0. 0. 0. 0. 0. 0. 0. 1.]\n",
      " [1. 0. 0. 0. 0. 0. 0. 0. 0. 1.]\n",
      " [1. 0. 0. 0. 0. 0. 0. 0. 0. 1.]\n",
      " [1. 0. 0. 0. 0. 0. 0. 0. 0. 1.]\n",
      " [1. 0. 0. 0. 0. 0. 0. 0. 0. 1.]\n",
      " [1. 0. 0. 0. 0. 0. 0. 0. 0. 1.]\n",
      " [1. 0. 0. 0. 0. 0. 0. 0. 0. 1.]\n",
      " [1. 0. 0. 0. 0. 0. 0. 0. 0. 1.]\n",
      " [1. 1. 1. 1. 1. 1. 1. 1. 1. 1.]]\n"
     ]
    }
   ],
   "source": [
    "# creates a 10x10 NumPy array filled with ones\n",
    "arr = np.ones((10,10))\n",
    "print(\"Before: \")\n",
    "print(arr)\n",
    "# arr[1:-1]: This selects rows from the second row (index 1) up to but not including the last row (index -1).\n",
    "# arr[1:-1, 1:-1]: This further selects columns from the second column (index 1) up to but not including the last column (index -1).\n",
    "# = 0: This assigns the value 0 to all elements within the selected range, effectively setting the inner portion of the array to zero\n",
    "arr[1:-1, 1:-1] = 0 \n",
    "print(\"\\nAfter: \")\n",
    "print(arr)"
   ]
  },
  {
   "cell_type": "markdown",
   "id": "1234609e-f1c9-436e-8b89-cfdf6f8348c2",
   "metadata": {},
   "source": [
    "### 16. How to add a border (filled with 0's) around an existing array?"
   ]
  },
  {
   "cell_type": "code",
   "execution_count": 17,
   "id": "6e9f0e78-6c4b-4273-8898-dd8e8879b2cb",
   "metadata": {},
   "outputs": [
    {
     "name": "stdout",
     "output_type": "stream",
     "text": [
      "Original array: \n",
      "[[1. 1. 1.]\n",
      " [1. 1. 1.]\n",
      " [1. 1. 1.]]\n",
      "\n",
      "Array with border: \n",
      "[[0. 0. 0. 0. 0.]\n",
      " [0. 1. 1. 1. 0.]\n",
      " [0. 1. 1. 1. 0.]\n",
      " [0. 1. 1. 1. 0.]\n",
      " [0. 0. 0. 0. 0.]]\n"
     ]
    }
   ],
   "source": [
    "array = np.ones((3,3))\n",
    "bordered_array  = np.pad(array, pad_width=1, mode='constant', constant_values=0)\n",
    "print(\"Original array: \")\n",
    "print(array)\n",
    "print(\"\\nArray with border: \")\n",
    "print(bordered_array)"
   ]
  },
  {
   "cell_type": "markdown",
   "id": "5de8290c-43a9-4f93-8ba3-b0404628e499",
   "metadata": {},
   "source": [
    "### 17. What is the result of the following expression? (★☆☆)\n",
    "> 0 * np.nan\n",
    "\n",
    "> np.nan == np.nan\n",
    "\n",
    "> np.inf > np.nan\n",
    "\n",
    "> np.nan - np.nan\n",
    "\n",
    "> 0.3 == 3 * 0.1"
   ]
  },
  {
   "cell_type": "code",
   "execution_count": 18,
   "id": "12c1c0b6-97bd-4d34-bae4-9bc5f76c200a",
   "metadata": {},
   "outputs": [
    {
     "name": "stdout",
     "output_type": "stream",
     "text": [
      "nan\n",
      " \n",
      "False\n",
      " \n",
      "False\n",
      " \n",
      "nan\n",
      " \n",
      "False\n"
     ]
    }
   ],
   "source": [
    "print(0*np.nan)\n",
    "print(\" \")\n",
    "print(np.nan==np.nan)\n",
    "print(\" \")\n",
    "print(np.inf>np.nan)\n",
    "print(\" \")\n",
    "print(np.nan - np.nan)\n",
    "print(\" \")\n",
    "print(0.3 == 3*0.1)\n"
   ]
  },
  {
   "cell_type": "markdown",
   "id": "b7f85616-ff31-44b3-a351-0845bf3ac687",
   "metadata": {},
   "source": [
    "### 18. Create a 5x5 matrix with values 1,2,3,4 just below the diagonal"
   ]
  },
  {
   "cell_type": "code",
   "execution_count": 19,
   "id": "117656ba-6415-4265-81ca-5526e0009081",
   "metadata": {},
   "outputs": [
    {
     "name": "stdout",
     "output_type": "stream",
     "text": [
      "[[0 0 0 0 0]\n",
      " [0 0 0 0 0]\n",
      " [0 0 0 0 0]\n",
      " [0 0 0 0 0]\n",
      " [0 0 0 0 0]]\n",
      " \n",
      "[[0 0 0 0 0]\n",
      " [1 0 0 0 0]\n",
      " [0 2 0 0 0]\n",
      " [0 0 3 0 0]\n",
      " [0 0 0 4 0]]\n"
     ]
    }
   ],
   "source": [
    "# Create a 5x5 matrix of zeros\n",
    "matrix = np.zeros((5,5), dtype=int)\n",
    "print(matrix)\n",
    "print(\" \")\n",
    "\n",
    "# Assign values 1,2,3,4 just below the diagonal\n",
    "for i in range(1,5):\n",
    "    # matrix[i, i-1]: This part accesses the element in the matrix at the row index i and column index i-1. \n",
    "    # In a 5x5 matrix, i ranges from 0 to 4. However, in the loop, i starts from 1 to 4, so i-1 ranges from 0 to 3.\n",
    "    # = i: This assigns the value of i to the element at the specified position in the matrix.\n",
    "    matrix[i , i-1] = i\n",
    "print(matrix)"
   ]
  },
  {
   "cell_type": "markdown",
   "id": "699e29b5-795f-44ce-add8-54007984e9b5",
   "metadata": {},
   "source": [
    "### 19. Create a 8x8 matrix  and fill it with a checkboard pattern"
   ]
  },
  {
   "cell_type": "code",
   "execution_count": 20,
   "id": "697a6c12-6617-4e3c-ae50-74102a66bbfc",
   "metadata": {},
   "outputs": [
    {
     "name": "stdout",
     "output_type": "stream",
     "text": [
      "[[0 0 0 0 0 0 0 0]\n",
      " [0 0 0 0 0 0 0 0]\n",
      " [0 0 0 0 0 0 0 0]\n",
      " [0 0 0 0 0 0 0 0]\n",
      " [0 0 0 0 0 0 0 0]\n",
      " [0 0 0 0 0 0 0 0]\n",
      " [0 0 0 0 0 0 0 0]\n",
      " [0 0 0 0 0 0 0 0]]\n",
      " \n",
      "[[0 0 0 0 0 0 0 0]\n",
      " [1 0 1 0 1 0 1 0]\n",
      " [0 0 0 0 0 0 0 0]\n",
      " [1 0 1 0 1 0 1 0]\n",
      " [0 0 0 0 0 0 0 0]\n",
      " [1 0 1 0 1 0 1 0]\n",
      " [0 0 0 0 0 0 0 0]\n",
      " [1 0 1 0 1 0 1 0]]\n",
      " \n",
      "This results in a checkerboard pattern where 1s and 0s alternate: \n",
      "[[0 1 0 1 0 1 0 1]\n",
      " [1 0 1 0 1 0 1 0]\n",
      " [0 1 0 1 0 1 0 1]\n",
      " [1 0 1 0 1 0 1 0]\n",
      " [0 1 0 1 0 1 0 1]\n",
      " [1 0 1 0 1 0 1 0]\n",
      " [0 1 0 1 0 1 0 1]\n",
      " [1 0 1 0 1 0 1 0]]\n"
     ]
    }
   ],
   "source": [
    "# Create a 8x8 matrix of zero \n",
    "matrix = np.zeros((8,8), dtype = int)\n",
    "print(matrix)\n",
    "print(\" \")\n",
    "# Fill the matrix with a checkboard pattern\n",
    "# This sets every other element in every other row, starting from the second row (index 1), to 1\n",
    "matrix[1::2, ::2]= 1\n",
    "print(matrix)\n",
    "print(\" \")\n",
    "\n",
    "# This sets every other element in every other column, starting from the second column (index 1), to 1\n",
    "matrix[::2, 1::2] = 1\n",
    "print(\"This results in a checkerboard pattern where 1s and 0s alternate: \")\n",
    "print(matrix)"
   ]
  },
  {
   "cell_type": "markdown",
   "id": "a63b82f1-b926-4e0f-b9a1-e2a747e6408b",
   "metadata": {},
   "source": [
    "### 20. Consider a (6,7,8) shape array, what is the index (x,y,z) of the 100th element?"
   ]
  },
  {
   "cell_type": "code",
   "execution_count": 21,
   "id": "4419b575-ef84-4b4f-96f1-724e576a9b72",
   "metadata": {},
   "outputs": [
    {
     "name": "stdout",
     "output_type": "stream",
     "text": [
      "(6, 7, 8)\n",
      " \n",
      "So, the index ((x, y, z)) of the 100th element in a ((6, 7, 8)) shaped array is ((1, 5, 3))\n",
      "(1, 5, 3)\n"
     ]
    }
   ],
   "source": [
    "# Define the shape of the array\n",
    "shape = (6,7,8)\n",
    "print(shape)\n",
    "print(\" \")\n",
    "\n",
    "# Find the index of the 100th element (remember to subtract 1 because indexing starts at 0)\n",
    "# This function takes the flat index (99, since indexing starts at 0) and the shape of the array, and returns the corresponding multi-dimensional index\n",
    "index = np.unravel_index(99, shape)\n",
    "print(\"So, the index ((x, y, z)) of the 100th element in a ((6, 7, 8)) shaped array is ((1, 5, 3))\")\n",
    "print(index)"
   ]
  },
  {
   "cell_type": "markdown",
   "id": "eb554148-a5b6-4fc3-adfd-72d454c9fa0b",
   "metadata": {},
   "source": [
    "### 21. Create a checkboard 8x8 matrix using the tile function"
   ]
  },
  {
   "cell_type": "code",
   "execution_count": 22,
   "id": "6dbe88b6-c368-40c3-869e-54c0c73bd34c",
   "metadata": {},
   "outputs": [
    {
     "name": "stdout",
     "output_type": "stream",
     "text": [
      "[[0 1]\n",
      " [1 0]]\n",
      " \n",
      "[[0 1 0 1 0 1 0 1]\n",
      " [1 0 1 0 1 0 1 0]\n",
      " [0 1 0 1 0 1 0 1]\n",
      " [1 0 1 0 1 0 1 0]\n",
      " [0 1 0 1 0 1 0 1]\n",
      " [1 0 1 0 1 0 1 0]\n",
      " [0 1 0 1 0 1 0 1]\n",
      " [1 0 1 0 1 0 1 0]]\n"
     ]
    }
   ],
   "source": [
    "# This creates a 2x2 matrix with a checkerboard pattern\n",
    "pattern = np.array([[0,1], [1,0]])\n",
    "print(pattern)\n",
    "print(\" \")\n",
    "# Tile the pattern to create an 8x8 matrix\n",
    "checkerboard = np.tile(pattern, (4,4)) #This tiles the 2x2 pattern to create an 8x8 matrix by repeating the pattern 4 times along both dimensions\n",
    "print(checkerboard)"
   ]
  },
  {
   "cell_type": "markdown",
   "id": "99575e4d-a3a0-4373-ae1c-525851fbf7df",
   "metadata": {},
   "source": [
    "### 22. Normalize a 5x5 random matrix "
   ]
  },
  {
   "cell_type": "code",
   "execution_count": 23,
   "id": "ec00560c-bd8c-426e-a3a2-b0245c4ff087",
   "metadata": {},
   "outputs": [
    {
     "name": "stdout",
     "output_type": "stream",
     "text": [
      "Original Matrix:\n",
      "  [[0.99232971 0.77697877 0.94788123 0.57162074 0.42000966]\n",
      " [0.29999786 0.44468917 0.66858167 0.06136147 0.46680827]\n",
      " [0.81428679 0.18692073 0.61422991 0.13446488 0.59733585]\n",
      " [0.23782352 0.5474167  0.67266842 0.95618296 0.15586452]\n",
      " [0.75443547 0.05918704 0.16338114 0.38891654 0.3574058 ]]\n",
      " \n",
      "Normalized Matirx:\n",
      "  [[1.         0.7692197  0.9523669  0.54914829 0.38667465]\n",
      " [0.25806431 0.4131224  0.65305623 0.00233023 0.43682627]\n",
      " [0.80920075 0.13688548 0.5948103  0.08067131 0.57670582]\n",
      " [0.19143533 0.52321009 0.65743578 0.96126342 0.10360418]\n",
      " [0.74506124 0.         0.11165934 0.35335379 0.31958539]]\n"
     ]
    }
   ],
   "source": [
    "# Create a 5x5 matrix with random values \n",
    "matrix = np.random.rand(5,5)\n",
    "# Normalize the matrix\n",
    "# Subtracting the minimum value from each element and then dividing by the range (max - min) normalizes the values\n",
    "# This formula scales the values in the matrix to be between 0 and 1\n",
    "normalized_matrix = (matrix - np.min(matrix)) / (np.max(matrix)-np.min(matrix))\n",
    "print(\"Original Matrix:\\n \", matrix)\n",
    "print(\" \")\n",
    "print(\"Normalized Matirx:\\n \", normalized_matrix)"
   ]
  },
  {
   "cell_type": "markdown",
   "id": "00752bbc-8ae6-46db-b4c9-30ab61365d84",
   "metadata": {},
   "source": [
    "### 23. Create a custom dtype that describes a color as four unsigned bytes (RGBA)"
   ]
  },
  {
   "cell_type": "code",
   "execution_count": 24,
   "id": "409be041-b0c4-4193-a3f6-880e6b9bbf71",
   "metadata": {},
   "outputs": [
    {
     "name": "stdout",
     "output_type": "stream",
     "text": [
      " This code output an array of colors with the specified RGBA: \n",
      " [(255,   0,   0, 255) (  0, 255,   0, 255) (  0,   0, 255, 255)]\n"
     ]
    }
   ],
   "source": [
    "# Define the custom dtype\n",
    "color_dtype = np.dtype([\n",
    "    #This defines a custom data type with four fields: ‘r’, ‘g’, ‘b’, and ‘a’, each of which is an unsigned byte (np.ubyte)\n",
    "    ('r', np.ubyte), # Red channel \n",
    "    ('g', np.ubyte), # Green channel\n",
    "    ('b', np.ubyte), # Blue channel\n",
    "    ('a', np.ubyte)  # alpha channel\n",
    "    \n",
    "])\n",
    "# Example of creating an array with this dtype\n",
    "# This creates an array of colors using the custom dtype. Each color is represented as a tuple of four unsigned bytes\n",
    "colors = np.array([(255,0,0,255), (0,255,0,255), (0,0,255,255)], dtype=color_dtype)\n",
    "print(\" This code output an array of colors with the specified RGBA: \\n\", colors)"
   ]
  },
  {
   "cell_type": "markdown",
   "id": "a5fb24ca-dc13-4107-8b43-5353f3d7e2fd",
   "metadata": {},
   "source": [
    "### 24. Multiply a 5x3 matrix by a 3x2 matrix (real matrix product)"
   ]
  },
  {
   "cell_type": "code",
   "execution_count": 25,
   "id": "298efa53-2915-4174-8536-46f46e2d93d6",
   "metadata": {},
   "outputs": [
    {
     "name": "stdout",
     "output_type": "stream",
     "text": [
      "First Matrix (5x3):\n",
      " [[0.0565401  0.6672929  0.15865474]\n",
      " [0.93351248 0.40450534 0.05128673]\n",
      " [0.96235381 0.19756179 0.51362803]\n",
      " [0.13720292 0.99656968 0.21491855]\n",
      " [0.96571981 0.01664741 0.89716498]]\n",
      " \n",
      "Second Matrix (3x2):\n",
      " [[0.17828541 0.10853543]\n",
      " [0.7839109  0.7882623 ]\n",
      " [0.82059129 0.78924767]]\n",
      " \n",
      "It will output the original matrices and their product. The resulting matrix will have the shape (5, 2):\n",
      " [[0.66336915 0.65735632]\n",
      " [0.52561325 0.46065342]\n",
      " [0.74792317 0.66555971]\n",
      " [0.9820434  0.97007364]\n",
      " [0.92142961 0.82602271]]\n"
     ]
    }
   ],
   "source": [
    "# Generates a 5x3 matrix with random values between 0 and 1\n",
    "matrix1 = np.random.rand(5,3)\n",
    "# Generates a 3x2 matrix with random values between 0 and 1\n",
    "matrix2 = np.random.rand(3,2)\n",
    "# Computes the dot product of the two matrices, resulting in a 5x2 matrix\n",
    "result = np.dot(matrix1, matrix2)\n",
    "print(\"First Matrix (5x3):\\n\", matrix1)\n",
    "print(\" \")\n",
    "print(\"Second Matrix (3x2):\\n\", matrix2)\n",
    "print(\" \")\n",
    "print(\"It will output the original matrices and their product. The resulting matrix will have the shape (5, 2):\\n\", result)"
   ]
  },
  {
   "cell_type": "markdown",
   "id": "d39b3b38-8ba1-4bdd-89b7-2e77170078d9",
   "metadata": {},
   "source": [
    "### 25. Given a 1D array, negate all elements which are between 3 and 8, in place."
   ]
  },
  {
   "cell_type": "code",
   "execution_count": 26,
   "id": "0e69b897-1bfa-4d20-81a3-fe888d234b3c",
   "metadata": {},
   "outputs": [
    {
     "name": "stdout",
     "output_type": "stream",
     "text": [
      "[ 1 -4 -6  9 -3 -8  2]\n"
     ]
    }
   ],
   "source": [
    "def negate_elements_in_range(arr):\n",
    "    # Converts the input list arr into a NumPy array. NumPy arrays are more efficient for numerical operations compared to Python lists\n",
    "    arr = np.array(arr)\n",
    "    \n",
    "    # Create a boolean mask. \n",
    "    # The expression (arr >= 3) creates a boolean array where elements are True if they are greater than or equal to 3\n",
    "    # (arr <= 8) creates a boolean array where elements are True if they are less than or equal to 8\n",
    "    # The & operator performs an element-wise logical AND operation, combining these two conditions\n",
    "    mask = (arr>=3) & (arr<= 8)\n",
    "   \n",
    "    # This line uses the boolean mask to select elements of arr that meet the condition (i.e., elements between 3 and 8)\n",
    "    # It then negates these selected elements in place. The -arr[mask] part negates the values, \n",
    "    # and arr[mask] = ... assigns the negated values back to their original positions in the array\n",
    "    arr[mask] = -arr[mask]\n",
    "    return arr \n",
    "# Example Usage\n",
    "arr = [1, 4, 6, 9, 3, 8, 2]\n",
    "negated_arr = negate_elements_in_range(arr)\n",
    "print(negated_arr)"
   ]
  },
  {
   "cell_type": "markdown",
   "id": "35d6fd2f-f82c-4697-8a8b-273bb921eb62",
   "metadata": {},
   "source": [
    "### 26. What is the output of the following script? \n",
    "> print(sum(range(5),-1))\n",
    "\n",
    "> from numpy import *\n",
    "\n",
    "> print(sum(range(5),-1))"
   ]
  },
  {
   "cell_type": "code",
   "execution_count": 27,
   "id": "8726b5e8-a416-407a-bf16-062071e4ae67",
   "metadata": {},
   "outputs": [
    {
     "name": "stdout",
     "output_type": "stream",
     "text": [
      "9\n",
      "10\n"
     ]
    }
   ],
   "source": [
    "# range(5): This generates a sequence of numbers from 0 to 4 (inclusive). So, range(5) produces [0, 1, 2, 3, 4]\n",
    "# The sum function calculates the sum of the elements in the sequence generated by range(5), \n",
    "# but it also takes an optional second argument, which is the starting value for the sum. In this case, the starting value is -1\n",
    "# So, the calculation proceeds as follows:\n",
    "# Start with -1.\n",
    "# Add the elements of the sequence [0, 1, 2, 3, 4] to -1\n",
    "print(sum(range(5), -1))\n",
    "\n",
    "from numpy import * #imports all functions and classes from the NumPy library into the current namespace\n",
    "# Because of the from numpy import * statement, the sum function from NumPy is used instead of the built-in Python sum function\n",
    "# range(5): This generates a sequence of numbers from 0 to 4 (inclusive). So, range(5) produces [0, 1, 2, 3, 4]\n",
    "# The NumPy sum function does not use the second argument as a starting value for the sum. \n",
    "# Instead, it interprets the second argument as the axis parameter, which specifies the axis along which to sum the elements\n",
    "# Since -1 is not a valid axis for a 1D array, NumPy ignores it and simply sums the elements of the array [0, 1, 2, 3, 4]\n",
    "# Therefore, print(sum(range(5), -1)) outputs 10 because the second argument is ignored by NumPy’s sum function in this context\n",
    "print(sum(range(5),-1))"
   ]
  },
  {
   "cell_type": "markdown",
   "id": "978f3926-9fe2-4f72-952d-d2fba6bf6067",
   "metadata": {},
   "source": [
    "### 27. Consider an integer vector Z, which of these expressions are legal?\n",
    "> Z**Z\n",
    "\n",
    "> 2 << Z >> 2\n",
    "\n",
    "> Z <- Z\n",
    "\n",
    ">1 j * Z\n",
    "\n",
    ">Z/1/1\n",
    "\n",
    "> Z < Z > Z  "
   ]
  },
  {
   "cell_type": "markdown",
   "id": "8244c9f9-73db-406d-b4cc-60cb8145af83",
   "metadata": {},
   "source": [
    "1. `Z**Z`:\n",
    "   \n",
    "   &bull; This expression attempts to raise each element of `Z` to the power of the corresponding element in `Z`. This is legal in Numpy.\n",
    "\n",
    "   &bull; `Legal` \n",
    "2. `2 << Z >> 2`:\n",
    "\n",
    "    &bull; This expression involves bitwise left and right shifts. `2 << Z` shifts the number 2 to the left by each element in `Z`, and then `>> 2` shifts the result to the right by 2. This is legal in Numpy.\n",
    "\n",
    "   &bull; `Legal`\n",
    "\n",
    "3. `Z <- Z`:\n",
    "\n",
    "   &bull; This expression is not valid in Python. The `<-` operator is not defined in Python.\n",
    "\n",
    "   &bull; `Illegal`\n",
    "\n",
    "4. `1j*Z`:\n",
    "\n",
    "   &bull; This expression multiplies each element of `Z` by the imaginary until `1j`. This is legal in Numpy and results in a complex array.\n",
    "\n",
    "   &bull; `Legal`\n",
    "\n",
    "5. `Z/1/1`:\n",
    "\n",
    "   &bull; This expression divides each element of `Z` by 1 twice. This is legal in Numpy.\n",
    "\n",
    "   &bull; `Legal`\n",
    "\n",
    "6. `Z<Z>Z`:\n",
    "\n",
    "   &bull; This expression is not valid in Python. Chained comparisons like this are not supported.\n",
    "\n",
    "   &bull; `Illegal`.\n",
    "   \n",
    "   \n",
    "   \n"
   ]
  },
  {
   "cell_type": "markdown",
   "id": "403dc480-b924-4565-aa6f-e7b52d16a216",
   "metadata": {},
   "source": [
    "### 28. What are the result of the following expressions?\n",
    "> np.array(0) / np.array(0)\n",
    "\n",
    "> np.array(0) // np.array(0)\n",
    "\n",
    "> np.array([np.nan]).astype(int).astype(float) "
   ]
  },
  {
   "cell_type": "code",
   "execution_count": 28,
   "id": "074551db-7fbc-44e4-8d66-08cf1ba74395",
   "metadata": {},
   "outputs": [
    {
     "name": "stderr",
     "output_type": "stream",
     "text": [
      "C:\\Users\\men_l\\AppData\\Local\\Temp\\ipykernel_22508\\164202812.py:3: RuntimeWarning: invalid value encountered in divide\n",
      "  np.array(0) / np.array(0)\n"
     ]
    },
    {
     "data": {
      "text/plain": [
       "nan"
      ]
     },
     "execution_count": 28,
     "metadata": {},
     "output_type": "execute_result"
    }
   ],
   "source": [
    "# This expression attempts to divide zero by zero.\n",
    "# In NumPy, this results in a division by zero, which produces a NaN (Not a Number) and raises a runtime warning\n",
    "np.array(0) / np.array(0)\n",
    "\n"
   ]
  },
  {
   "cell_type": "code",
   "execution_count": 29,
   "id": "a91d02e9-613d-48fc-b886-08324edc8754",
   "metadata": {},
   "outputs": [
    {
     "name": "stderr",
     "output_type": "stream",
     "text": [
      "C:\\Users\\men_l\\AppData\\Local\\Temp\\ipykernel_22508\\1784414740.py:3: RuntimeWarning: divide by zero encountered in floor_divide\n",
      "  np.array(0) // np.array(0)\n"
     ]
    },
    {
     "data": {
      "text/plain": [
       "0"
      ]
     },
     "execution_count": 29,
     "metadata": {},
     "output_type": "execute_result"
    }
   ],
   "source": [
    "# This expression attempts to perform integer division of zero by zero. \n",
    "# In NumPy, this also results in a division by zero, which produces 0 and raises a runtime warning\n",
    "np.array(0) // np.array(0)\n",
    "\n"
   ]
  },
  {
   "cell_type": "code",
   "execution_count": 30,
   "id": "c664df73-aea0-412e-b7e7-8f87f4579bb6",
   "metadata": {},
   "outputs": [
    {
     "name": "stderr",
     "output_type": "stream",
     "text": [
      "C:\\Users\\men_l\\AppData\\Local\\Temp\\ipykernel_22508\\3233124507.py:5: RuntimeWarning: invalid value encountered in cast\n",
      "  np.array([np.nan]).astype(int).astype(float)\n"
     ]
    },
    {
     "data": {
      "text/plain": [
       "array([-2.14748365e+09])"
      ]
     },
     "execution_count": 30,
     "metadata": {},
     "output_type": "execute_result"
    }
   ],
   "source": [
    "# This expression first creates a NumPy array containing NaN.\n",
    "# It then attempts to cast this array to an integer type. Converting NaN to an integer is not well-defined and typically results in an undefined value,\n",
    "# often -9223372036854775808 (the minimum value for a 64-bit integer).\n",
    "# Finally, it casts the integer array back to a float\n",
    "np.array([np.nan]).astype(int).astype(float)"
   ]
  },
  {
   "cell_type": "markdown",
   "id": "e962c361-6340-4e76-8727-98cc2095f39d",
   "metadata": {},
   "source": [
    "### 29. How to round away from zero a float array?"
   ]
  },
  {
   "cell_type": "code",
   "execution_count": 31,
   "id": "5535634c-aed2-4793-ba34-498968459c94",
   "metadata": {},
   "outputs": [
    {
     "name": "stdout",
     "output_type": "stream",
     "text": [
      "[-2. -1.  1.  2.  3. -3.]\n"
     ]
    }
   ],
   "source": [
    "def round_away_from_zero(arr):\n",
    "    # np.abs(arr): Takes the absolute value of each element in the array\n",
    "    # np.ceil(np.abs(arr)): Rounds each element up to the nearest integer\n",
    "    # np.copysign(np.ceil(np.abs(arr)), arr): Applies the sign of the original elements to the rounded values, effectively rounding away from zero\n",
    "    return np.copysign(np.ceil(np.abs(arr)),arr)\n",
    "\n",
    "# Expmaple usage:\n",
    "arr = np.array([-1.5, -0.2, 0.2, 1.5, 2.3, -2.3])\n",
    "rounded_arr = round_away_from_zero(arr)\n",
    "print(rounded_arr)"
   ]
  },
  {
   "cell_type": "markdown",
   "id": "d1e008cc-7c1b-4f4a-a2bf-83a1a3be680a",
   "metadata": {},
   "source": [
    "### 30. How to find common values between two arrays?"
   ]
  },
  {
   "cell_type": "code",
   "execution_count": 32,
   "id": "6bd0a5e2-0411-4d94-a22c-a2540cc3daaf",
   "metadata": {},
   "outputs": [
    {
     "name": "stdout",
     "output_type": "stream",
     "text": [
      "[3 4 5]\n"
     ]
    }
   ],
   "source": [
    "array1  = np.array([1, 2, 3, 4, 5])\n",
    "array2 = np.array([3, 4, 5, 6, 7])\n",
    "\n",
    "# Find common values\n",
    "common_values = np.intersect1d(array1, array2)\n",
    "print(common_values)"
   ]
  },
  {
   "cell_type": "markdown",
   "id": "bffa5005-ea55-48f8-9135-1e781db832c1",
   "metadata": {},
   "source": [
    "### 31. How to ignore all numpy warnings(not recommended)?"
   ]
  },
  {
   "cell_type": "code",
   "execution_count": 33,
   "id": "103761d0-78f7-45d4-9d2a-f811316c71bd",
   "metadata": {},
   "outputs": [
    {
     "name": "stdout",
     "output_type": "stream",
     "text": [
      "[inf inf inf]\n"
     ]
    }
   ],
   "source": [
    "# Ignore all warnings\n",
    "np.seterr(all='ignore')\n",
    "\n",
    "# Example usage\n",
    "arr = np.array([1,2,3])\n",
    "print(arr/0) # This will not raise a warning"
   ]
  },
  {
   "cell_type": "markdown",
   "id": "dcdd6f0f-23a6-4234-a59e-0d642808d74e",
   "metadata": {},
   "source": [
    "### 32. Is the following expressions true?\n",
    "np.sqrt(-1) = np.emath.sqrt(-1)"
   ]
  },
  {
   "cell_type": "code",
   "execution_count": 34,
   "id": "d002f8f5-425a-4ef3-b6d6-0f09d6f3aae2",
   "metadata": {},
   "outputs": [
    {
     "data": {
      "text/plain": [
       "False"
      ]
     },
     "execution_count": 34,
     "metadata": {},
     "output_type": "execute_result"
    }
   ],
   "source": [
    "np.sqrt(-1) == np.emath.sqrt(-1)\n"
   ]
  },
  {
   "cell_type": "markdown",
   "id": "d2c31e74-18b4-4777-93b1-3653b88eead5",
   "metadata": {},
   "source": [
    "### 33. How to get the dates of yesterday, today and tomorrow?"
   ]
  },
  {
   "cell_type": "code",
   "execution_count": 35,
   "id": "35298195-eed5-405f-961c-4f1e758713d7",
   "metadata": {},
   "outputs": [
    {
     "name": "stdout",
     "output_type": "stream",
     "text": [
      "Today: 2024-09-30\n",
      "Yesterday:  2024-09-29\n",
      "Tomorrow:  2024-10-01\n"
     ]
    }
   ],
   "source": [
    "# Today's date\n",
    "today= np.datetime64('today', 'D')\n",
    "print(\"Today:\", today)\n",
    "# Yesterday's date\n",
    "yesterday = today - np.timedelta64(1, 'D')\n",
    "print(\"Yesterday: \", yesterday)\n",
    "# Tomorrow's date\n",
    "tomorrow = today + np.timedelta64(1, 'D')\n",
    "print(\"Tomorrow: \", tomorrow)"
   ]
  },
  {
   "cell_type": "markdown",
   "id": "b2ca2037-33bf-4ebd-adb6-c2b0cdb8b58d",
   "metadata": {},
   "source": [
    "### 34. How to get all the dates corresponding to the month of July 2016?"
   ]
  },
  {
   "cell_type": "code",
   "execution_count": 36,
   "id": "ac2b353f-93a6-4acc-81f7-a515e644f540",
   "metadata": {},
   "outputs": [
    {
     "name": "stdout",
     "output_type": "stream",
     "text": [
      "['2016-07-01' '2016-07-02' '2016-07-03' '2016-07-04' '2016-07-05'\n",
      " '2016-07-06' '2016-07-07' '2016-07-08' '2016-07-09' '2016-07-10'\n",
      " '2016-07-11' '2016-07-12' '2016-07-13' '2016-07-14' '2016-07-15'\n",
      " '2016-07-16' '2016-07-17' '2016-07-18' '2016-07-19' '2016-07-20'\n",
      " '2016-07-21' '2016-07-22' '2016-07-23' '2016-07-24' '2016-07-25'\n",
      " '2016-07-26' '2016-07-27' '2016-07-28' '2016-07-29' '2016-07-30'\n",
      " '2016-07-31']\n"
     ]
    }
   ],
   "source": [
    "# Define the state and end dates for July 2016\n",
    "start_date = np.datetime64('2016-07-01')\n",
    "end_date = np.datetime64('2016-08-01')\n",
    "\n",
    "# Generate an array of all dates in July 2016\n",
    "july_dates = np.arange(start_date, end_date, dtype='datetime64[D]')\n",
    "print(july_dates)"
   ]
  },
  {
   "cell_type": "markdown",
   "id": "6e86dc21-a970-41d9-803e-2e7cbd42d7e7",
   "metadata": {},
   "source": [
    "### 35. How to compute ((A+B)*(-A/2)) in place (without copy)?"
   ]
  },
  {
   "cell_type": "code",
   "execution_count": 37,
   "id": "eb91b48a-d5e0-4847-b27d-e84cdd6f50dd",
   "metadata": {},
   "outputs": [
    {
     "name": "stdout",
     "output_type": "stream",
     "text": [
      "[-3. -4. -5. -6.]\n"
     ]
    }
   ],
   "source": [
    "# Example arrays\n",
    "A = np.array([1,2,3,4], dtype = float)\n",
    "B = np.array([5,6,7,8], dtype = float)\n",
    "\n",
    "# Step 1: Add A and B, store the result A (in-place)\n",
    "A += B\n",
    "# step 2: Multiply A by -0.5 (equivalent to -A/2), store the result in A (in-place)\n",
    "A *= -0.5\n",
    "print(A)"
   ]
  },
  {
   "cell_type": "markdown",
   "id": "d3be521e-31b4-4b1c-844f-5ef7b78fba5f",
   "metadata": {},
   "source": [
    "### 36. Extract the integer part of a random array using 5 different methods"
   ]
  },
  {
   "cell_type": "code",
   "execution_count": 38,
   "id": "32e64f7f-7296-48f1-bc66-840182f4e0db",
   "metadata": {},
   "outputs": [
    {
     "name": "stdout",
     "output_type": "stream",
     "text": [
      "Original array:  [3.79454448 6.98759577 1.14077769 5.08904016 7.41586072]\n",
      "Integer part (floor): [3. 6. 1. 5. 7.]\n",
      "Integer part (trunc): [3. 6. 1. 5. 7.]\n",
      "Integer part (astype): [3 6 1 5 7]\n",
      "Integer part (fix): [3. 6. 1. 5. 7.]\n",
      "Integer part (vectorize): [3 6 1 5 7]\n"
     ]
    }
   ],
   "source": [
    "# Generate a random array\n",
    "random_array = np.random.random(5) * 10\n",
    "print(\"Original array: \", random_array)\n",
    "\n",
    "# Extract integer part using np.floor\n",
    "integer_part_floor = np.floor(random_array) # Rounds down to the nearest integer\n",
    "print(\"Integer part (floor):\", integer_part_floor)\n",
    "\n",
    "# Extract integer part using np.trunc\n",
    "integer_part_trunc = np.trunc(random_array) #Truncates the decimal part, effectively rounding towards zero\n",
    "print(\"Integer part (trunc):\", integer_part_trunc)\n",
    "\n",
    "# Extract integer part by converting to int\n",
    "integer_part_int = random_array.astype(int) #Converts the array elements to integers, truncating the decimal part.\n",
    "print(\"Integer part (astype):\", integer_part_int)\n",
    "\n",
    "# Extract integer part using np.fix\n",
    "integer_part_fix = np.fix(random_array) #Rounds toward zero, similar to np.trunc.\n",
    "print(\"Integer part (fix):\", integer_part_fix)\n",
    "\n",
    "# Extract integer part using np.vectorize with int\n",
    "integer_part_vectorize = np.vectorize(int)(random_array) #Applies to int function element-wise to the array.\n",
    "print(\"Integer part (vectorize):\", integer_part_vectorize)"
   ]
  },
  {
   "cell_type": "markdown",
   "id": "0d635c1d-399d-47d3-862b-7da9da0003f4",
   "metadata": {},
   "source": [
    "### 37. Create a 5x5 matrix with row values ranging from 0 to 4\n"
   ]
  },
  {
   "cell_type": "code",
   "execution_count": 39,
   "id": "fda5cc39-472f-4c55-88ea-374a05c5d09e",
   "metadata": {},
   "outputs": [
    {
     "name": "stdout",
     "output_type": "stream",
     "text": [
      "[[0. 0. 0. 0. 0.]\n",
      " [0. 0. 0. 0. 0.]\n",
      " [0. 0. 0. 0. 0.]\n",
      " [0. 0. 0. 0. 0.]\n",
      " [0. 0. 0. 0. 0.]]\n",
      " \n",
      "[[0. 1. 2. 3. 4.]\n",
      " [0. 1. 2. 3. 4.]\n",
      " [0. 1. 2. 3. 4.]\n",
      " [0. 1. 2. 3. 4.]\n",
      " [0. 1. 2. 3. 4.]]\n"
     ]
    }
   ],
   "source": [
    "# Create a 5x5 matrix with row values ranging from 0 to 4\n",
    "matrix = np.zeros((5,5))\n",
    "print(matrix)\n",
    "# This generates an array with values [0, 1, 2, 3, 4]. Then, it adds the array [0, 1, 2, 3, 4] to each row of the matrix\n",
    "matrix += np.arange(5)\n",
    "print(\" \")\n",
    "print(matrix)\n"
   ]
  },
  {
   "cell_type": "markdown",
   "id": "c0e1fa45-0e8f-47d0-9fdb-32f3ae8f6a4b",
   "metadata": {},
   "source": [
    "### 38. Consider a generator function that generates 10 integers and use it to build an array"
   ]
  },
  {
   "cell_type": "code",
   "execution_count": 40,
   "id": "b7684255-f2b3-42bf-859b-d870e962542e",
   "metadata": {},
   "outputs": [
    {
     "name": "stdout",
     "output_type": "stream",
     "text": [
      "[0 1 2 3 4 5 6 7 8 9]\n"
     ]
    }
   ],
   "source": [
    "def generate_integers():\n",
    "    for i in range(10):\n",
    "        # First Call: When the generator is first called, it starts executing the function until it hits the yield statement. \n",
    "        #     It returns the value of i and pauses.\n",
    "        # Subsequent Calls: Each subsequent call to the generator resumes execution right after the yield statement, \n",
    "        #     continues until it hits the next yield, and pauses again.\n",
    "        yield i\n",
    "# Create the generator\n",
    "generator = generate_integers()\n",
    "\n",
    "# Build the Numpy array from the generator\n",
    "# np.fromiter: This function constructs a 1-D array from an iterable (in this case, the generator).\n",
    "# The dtype parameter specifies the desired data type of the array elements\n",
    "array_from_generator = np.fromiter(generator, dtype=int) #\n",
    "print(array_from_generator)"
   ]
  },
  {
   "cell_type": "markdown",
   "id": "836e5235-7d1c-411f-a2ce-04b4ed60050f",
   "metadata": {},
   "source": [
    "### 39. Create a vector of size 10 with values ranging from 0 to 1, both excluded"
   ]
  },
  {
   "cell_type": "code",
   "execution_count": 41,
   "id": "f5db058b-b691-4950-8682-7d141971daa5",
   "metadata": {},
   "outputs": [
    {
     "name": "stdout",
     "output_type": "stream",
     "text": [
      "[0.09090909 0.18181818 0.27272727 0.36363636 0.45454545 0.54545455\n",
      " 0.63636364 0.72727273 0.81818182 0.90909091]\n"
     ]
    }
   ],
   "source": [
    "# Create a vector of size 10 with values ranging from 0 to 1, both excluded\n",
    "vector = np.linspace(0, 1, 12, endpoint= True)[1:-1]\n",
    "# np.linspace(0, 1, 12, endpoint=True): This generates 12 evenly spaced values between 0 and 1, inclusive.\n",
    "# [1:-1]: This slices the array to exclude the first and last elements, resulting in 10 values between 0 and 1.\n",
    "print(vector)"
   ]
  },
  {
   "cell_type": "markdown",
   "id": "b368a590-45d2-4365-9792-959793a63023",
   "metadata": {},
   "source": [
    "### 40. Create a random vector of size 10 and sort it"
   ]
  },
  {
   "cell_type": "code",
   "execution_count": 42,
   "id": "3be1de12-16af-4af2-806a-3958fd9ca4b0",
   "metadata": {},
   "outputs": [
    {
     "name": "stdout",
     "output_type": "stream",
     "text": [
      "Original: [0.85248578 0.14020916 0.59534432 0.63443343 0.7567617  0.23273052\n",
      " 0.92438345 0.17214323 0.5319059  0.37440281]\n",
      " \n",
      "Sorted array: [0.14020916 0.17214323 0.23273052 0.37440281 0.5319059  0.59534432\n",
      " 0.63443343 0.7567617  0.85248578 0.92438345]\n"
     ]
    }
   ],
   "source": [
    "# Create a random vector of size 10\n",
    "random_vector = np.random.random(10)\n",
    "print(\"Original:\", random_vector)\n",
    "print(\" \")\n",
    "# Sort the array\n",
    "random_vector.sort()\n",
    "print(\"Sorted array:\", random_vector)"
   ]
  },
  {
   "cell_type": "markdown",
   "id": "cadfdfcf-c795-42d4-8c29-338abdbafe5c",
   "metadata": {},
   "source": [
    "### 41. How to sum a small array faser than np.sum?"
   ]
  },
  {
   "cell_type": "code",
   "execution_count": 47,
   "id": "8df46372-5e87-4706-be72-0082a8c5904c",
   "metadata": {},
   "outputs": [
    {
     "name": "stdout",
     "output_type": "stream",
     "text": [
      "15\n",
      "15\n",
      "15\n"
     ]
    }
   ],
   "source": [
    "# Using Python's buil-in sum function\n",
    "array = np.array([1, 2, 3, 4, 5])\n",
    "result = sum(array)\n",
    "print(result)\n",
    "\n",
    "# Using np.eisum\n",
    "# This function is highly optimized for various operations, including summation, and can be faster for certain array types\n",
    "result = np.einsum('i->', array)\n",
    "print(result)\n",
    "\n",
    "# Using np.add.reduce\n",
    "# This is another NumPy function that can be faster than np.sum for small arrays due to reduced overhead.\n",
    "result = np.add.reduce(array)\n",
    "print(result)"
   ]
  },
  {
   "cell_type": "markdown",
   "id": "efab34b8-74c2-458b-8c32-e569d27a820d",
   "metadata": {},
   "source": [
    "### 42. Consider two random array A and B, check if they are equal"
   ]
  },
  {
   "cell_type": "code",
   "execution_count": 48,
   "id": "5abcd007-91a2-4c00-9d93-8aa4906230cf",
   "metadata": {},
   "outputs": [
    {
     "name": "stdout",
     "output_type": "stream",
     "text": [
      "Array A: [0.17694504 0.80465987 0.8061872  0.11818561 0.28852408]\n",
      "Array B: [0.81166954 0.39284172 0.39616327 0.41017786 0.39820323]\n",
      "Are the arrays equal? False\n"
     ]
    }
   ],
   "source": [
    "# To check if two random arrays A and B are equal, you can use NumPy's array_equal function.\n",
    "# The function compares two arrays element-wise and return True if they are exactly the same, and False otherwise.\n",
    "A = np.random.rand(5) \n",
    "B = np.random.rand(5) \n",
    "\n",
    "# Check if they are equal\n",
    "are_equal = np.array_equal(A, B)\n",
    "print(\"Array A:\", A)\n",
    "print(\"Array B:\", B)\n",
    "print(\"Are the arrays equal?\", are_equal)\n"
   ]
  },
  {
   "cell_type": "markdown",
   "id": "4df7dce6-6363-466d-8dcd-ee47c81384fe",
   "metadata": {},
   "source": [
    "### 43. Make an array immutable (read-only)"
   ]
  },
  {
   "cell_type": "code",
   "execution_count": 50,
   "id": "2ee34337-e33e-4b77-86c6-c8b7fc1fb894",
   "metadata": {},
   "outputs": [
    {
     "name": "stdout",
     "output_type": "stream",
     "text": [
      "Error: assignment destination is read-only\n"
     ]
    }
   ],
   "source": [
    "# To make a Numpy array immutable (read-only), you can set it writable flag to False\n",
    "# Create a sample array\n",
    "array = np.array([1, 2, 3, 4, 5])\n",
    "# Make the array imutable\n",
    "array.flags.writeable = False \n",
    "# Trying to modify the array will now raise an error\n",
    "try:\n",
    "    array[0] = 10 \n",
    "except ValueError as e:\n",
    "    print(\"Error:\", e)"
   ]
  },
  {
   "cell_type": "markdown",
   "id": "93188862-5ff0-43e5-8b6c-b946c013d7a8",
   "metadata": {},
   "source": [
    "### 44. Consider a random 10x2 matrix representing cartesian coordinates, convert them to polar coordinates"
   ]
  },
  {
   "cell_type": "code",
   "execution_count": 57,
   "id": "f44e1a0b-aaca-4525-ac1c-295ede667a4f",
   "metadata": {},
   "outputs": [
    {
     "name": "stdout",
     "output_type": "stream",
     "text": [
      "[[0.45158826 0.79040281]\n",
      " [0.93870959 0.95654868]\n",
      " [0.38536126 0.09566629]\n",
      " [0.1364778  0.1380374 ]\n",
      " [0.21174928 0.46129985]\n",
      " [0.10314732 0.45027763]\n",
      " [0.44733389 0.26194015]\n",
      " [0.76529385 0.51835114]\n",
      " [0.66253627 0.4953547 ]\n",
      " [0.87544034 0.66828051]]\n",
      " \n",
      "[0.91031234 1.34020934 0.39705836 0.19411469 0.50757789 0.46194081\n",
      " 0.51838234 0.92431736 0.82724276 1.10136036]\n",
      " \n",
      "[1.05171744 0.79481037 0.24333181 0.79107937 1.1404606  1.34560669\n",
      " 0.52973305 0.59534384 0.64200458 0.65199998]\n",
      " \n",
      "Cartesian coordinates:\n",
      " [[0.45158826 0.79040281]\n",
      " [0.93870959 0.95654868]\n",
      " [0.38536126 0.09566629]\n",
      " [0.1364778  0.1380374 ]\n",
      " [0.21174928 0.46129985]\n",
      " [0.10314732 0.45027763]\n",
      " [0.44733389 0.26194015]\n",
      " [0.76529385 0.51835114]\n",
      " [0.66253627 0.4953547 ]\n",
      " [0.87544034 0.66828051]]\n",
      " \n",
      "Polar coordinates:\n",
      " [[0.91031234 1.05171744]\n",
      " [1.34020934 0.79481037]\n",
      " [0.39705836 0.24333181]\n",
      " [0.19411469 0.79107937]\n",
      " [0.50757789 1.1404606 ]\n",
      " [0.46194081 1.34560669]\n",
      " [0.51838234 0.52973305]\n",
      " [0.92431736 0.59534384]\n",
      " [0.82724276 0.64200458]\n",
      " [1.10136036 0.65199998]]\n"
     ]
    }
   ],
   "source": [
    "# Generate a random 10x2 matrix representing Cartesian cooridates\n",
    "cartesian_coords = np.random.rand(10,2) \n",
    "print(cartesian_coords)\n",
    "# Separate the x and y coordinates \n",
    "X = cartesian_coords[:,0]\n",
    "y = cartesian_coords[:,1]\n",
    "\n",
    "# Convert to polar coordinates\n",
    "r = np.sqrt(X**2 + y**2)\n",
    "theta = np. arctan2(y,X)\n",
    "print(\" \")\n",
    "print(r)\n",
    "print(\" \")\n",
    "print(theta)\n",
    "\n",
    "# Combine r and theta into a single array\n",
    "polar_coords = np.column_stack((r, theta))\n",
    "print(\" \")\n",
    "print(\"Cartesian coordinates:\\n\", cartesian_coords)\n",
    "print(\" \")\n",
    "print(\"Polar coordinates:\\n\", polar_coords)"
   ]
  },
  {
   "cell_type": "markdown",
   "id": "9e492661-afd2-4a76-8020-ad63ac65369b",
   "metadata": {},
   "source": [
    "### 45. Create a random vector of size 10 and replace the maximum value by 0"
   ]
  },
  {
   "cell_type": "code",
   "execution_count": 62,
   "id": "e3186efd-410b-486c-8346-72dda8f5bb4b",
   "metadata": {},
   "outputs": [
    {
     "name": "stdout",
     "output_type": "stream",
     "text": [
      "vector:\n",
      " [0.52525122 0.48721872 0.72050088 0.88924628 0.396901   0.24668292\n",
      " 0.32690453 0.83090506 0.26444018 0.8406256 ]\n",
      " \n",
      "max_index:\n",
      " 3\n",
      " \n",
      "Modified vector:\n",
      " [0.52525122 0.48721872 0.72050088 0.         0.396901   0.24668292\n",
      " 0.32690453 0.83090506 0.26444018 0.8406256 ]\n"
     ]
    }
   ],
   "source": [
    "# Create a random vector of size 10\n",
    "vector = np.random.rand(10)\n",
    "print(\"vector:\\n\", vector)\n",
    "\n",
    "# Find the index of the maximum value \n",
    "max_index = vector.argmax()\n",
    "print(\" \")\n",
    "print(\"max_index:\\n\", max_index)\n",
    "\n",
    "# Replace the maximum value with 0\n",
    "vector[max_index] = 0 \n",
    "print(\" \")\n",
    "print(\"Modified vector:\\n\", vector)"
   ]
  },
  {
   "cell_type": "markdown",
   "id": "b2514d54-bfdd-471e-a369-22e95fcc4b22",
   "metadata": {},
   "source": [
    "### 46. Create a structured array with `x` and `y` coordinates covering the [0,1]x[0,1] area"
   ]
  },
  {
   "cell_type": "code",
   "execution_count": 70,
   "id": "9fb2a2d4-ea46-47b1-ba45-1b89c309016a",
   "metadata": {},
   "outputs": [
    {
     "name": "stdout",
     "output_type": "stream",
     "text": [
      "structured_array:\n",
      " [[(0., 0.) (0., 0.) (0., 0.) (0., 0.) (0., 0.) (0., 0.) (0., 0.) (0., 0.)\n",
      "  (0., 0.) (0., 0.)]\n",
      " [(0., 0.) (0., 0.) (0., 0.) (0., 0.) (0., 0.) (0., 0.) (0., 0.) (0., 0.)\n",
      "  (0., 0.) (0., 0.)]\n",
      " [(0., 0.) (0., 0.) (0., 0.) (0., 0.) (0., 0.) (0., 0.) (0., 0.) (0., 0.)\n",
      "  (0., 0.) (0., 0.)]\n",
      " [(0., 0.) (0., 0.) (0., 0.) (0., 0.) (0., 0.) (0., 0.) (0., 0.) (0., 0.)\n",
      "  (0., 0.) (0., 0.)]\n",
      " [(0., 0.) (0., 0.) (0., 0.) (0., 0.) (0., 0.) (0., 0.) (0., 0.) (0., 0.)\n",
      "  (0., 0.) (0., 0.)]\n",
      " [(0., 0.) (0., 0.) (0., 0.) (0., 0.) (0., 0.) (0., 0.) (0., 0.) (0., 0.)\n",
      "  (0., 0.) (0., 0.)]\n",
      " [(0., 0.) (0., 0.) (0., 0.) (0., 0.) (0., 0.) (0., 0.) (0., 0.) (0., 0.)\n",
      "  (0., 0.) (0., 0.)]\n",
      " [(0., 0.) (0., 0.) (0., 0.) (0., 0.) (0., 0.) (0., 0.) (0., 0.) (0., 0.)\n",
      "  (0., 0.) (0., 0.)]\n",
      " [(0., 0.) (0., 0.) (0., 0.) (0., 0.) (0., 0.) (0., 0.) (0., 0.) (0., 0.)\n",
      "  (0., 0.) (0., 0.)]\n",
      " [(0., 0.) (0., 0.) (0., 0.) (0., 0.) (0., 0.) (0., 0.) (0., 0.) (0., 0.)\n",
      "  (0., 0.) (0., 0.)]]\n",
      " \n",
      "Structured array with x and y coordinates:\n",
      "  [[(0.        , 0.        ) (0.11111111, 0.        )\n",
      "  (0.22222222, 0.        ) (0.33333333, 0.        )\n",
      "  (0.44444444, 0.        ) (0.55555556, 0.        )\n",
      "  (0.66666667, 0.        ) (0.77777778, 0.        )\n",
      "  (0.88888889, 0.        ) (1.        , 0.        )]\n",
      " [(0.        , 0.11111111) (0.11111111, 0.11111111)\n",
      "  (0.22222222, 0.11111111) (0.33333333, 0.11111111)\n",
      "  (0.44444444, 0.11111111) (0.55555556, 0.11111111)\n",
      "  (0.66666667, 0.11111111) (0.77777778, 0.11111111)\n",
      "  (0.88888889, 0.11111111) (1.        , 0.11111111)]\n",
      " [(0.        , 0.22222222) (0.11111111, 0.22222222)\n",
      "  (0.22222222, 0.22222222) (0.33333333, 0.22222222)\n",
      "  (0.44444444, 0.22222222) (0.55555556, 0.22222222)\n",
      "  (0.66666667, 0.22222222) (0.77777778, 0.22222222)\n",
      "  (0.88888889, 0.22222222) (1.        , 0.22222222)]\n",
      " [(0.        , 0.33333333) (0.11111111, 0.33333333)\n",
      "  (0.22222222, 0.33333333) (0.33333333, 0.33333333)\n",
      "  (0.44444444, 0.33333333) (0.55555556, 0.33333333)\n",
      "  (0.66666667, 0.33333333) (0.77777778, 0.33333333)\n",
      "  (0.88888889, 0.33333333) (1.        , 0.33333333)]\n",
      " [(0.        , 0.44444444) (0.11111111, 0.44444444)\n",
      "  (0.22222222, 0.44444444) (0.33333333, 0.44444444)\n",
      "  (0.44444444, 0.44444444) (0.55555556, 0.44444444)\n",
      "  (0.66666667, 0.44444444) (0.77777778, 0.44444444)\n",
      "  (0.88888889, 0.44444444) (1.        , 0.44444444)]\n",
      " [(0.        , 0.55555556) (0.11111111, 0.55555556)\n",
      "  (0.22222222, 0.55555556) (0.33333333, 0.55555556)\n",
      "  (0.44444444, 0.55555556) (0.55555556, 0.55555556)\n",
      "  (0.66666667, 0.55555556) (0.77777778, 0.55555556)\n",
      "  (0.88888889, 0.55555556) (1.        , 0.55555556)]\n",
      " [(0.        , 0.66666667) (0.11111111, 0.66666667)\n",
      "  (0.22222222, 0.66666667) (0.33333333, 0.66666667)\n",
      "  (0.44444444, 0.66666667) (0.55555556, 0.66666667)\n",
      "  (0.66666667, 0.66666667) (0.77777778, 0.66666667)\n",
      "  (0.88888889, 0.66666667) (1.        , 0.66666667)]\n",
      " [(0.        , 0.77777778) (0.11111111, 0.77777778)\n",
      "  (0.22222222, 0.77777778) (0.33333333, 0.77777778)\n",
      "  (0.44444444, 0.77777778) (0.55555556, 0.77777778)\n",
      "  (0.66666667, 0.77777778) (0.77777778, 0.77777778)\n",
      "  (0.88888889, 0.77777778) (1.        , 0.77777778)]\n",
      " [(0.        , 0.88888889) (0.11111111, 0.88888889)\n",
      "  (0.22222222, 0.88888889) (0.33333333, 0.88888889)\n",
      "  (0.44444444, 0.88888889) (0.55555556, 0.88888889)\n",
      "  (0.66666667, 0.88888889) (0.77777778, 0.88888889)\n",
      "  (0.88888889, 0.88888889) (1.        , 0.88888889)]\n",
      " [(0.        , 1.        ) (0.11111111, 1.        )\n",
      "  (0.22222222, 1.        ) (0.33333333, 1.        )\n",
      "  (0.44444444, 1.        ) (0.55555556, 1.        )\n",
      "  (0.66666667, 1.        ) (0.77777778, 1.        )\n",
      "  (0.88888889, 1.        ) (1.        , 1.        )]]\n"
     ]
    }
   ],
   "source": [
    "# To create a structured array with (x) and (y) coordinates covering the ([0,1] x [0,1]) \n",
    "# area, we can use Numpy's meshgrid function along with a structured array\n",
    "# Define the grid size\n",
    "grid_size = 10 \n",
    "\n",
    "# Create a structured array with 'x' and 'y'\n",
    "structured_array = np.zeros((grid_size, grid_size), dtype=[('x', float), ('y', float) ])\n",
    "print(\"structured_array:\\n\", structured_array)\n",
    "\n",
    "# Generate the x and y coordinates\n",
    "x,y = np.meshgrid(np.linspace(0,1, grid_size), np.linspace(0,1, grid_size))\n",
    "\n",
    "# Assign the coordinates to the structured array\n",
    "structured_array['x'], structured_array['y'] = x, y \n",
    "print(\" \")\n",
    "print(\"Structured array with x and y coordinates:\\n \", structured_array)\n",
    "\n"
   ]
  },
  {
   "cell_type": "code",
   "execution_count": null,
   "id": "fc7fd0de-b95a-4d12-934e-c9a676772bf2",
   "metadata": {},
   "outputs": [],
   "source": []
  }
 ],
 "metadata": {
  "kernelspec": {
   "display_name": "Python 3 (ipykernel)",
   "language": "python",
   "name": "python3"
  },
  "language_info": {
   "codemirror_mode": {
    "name": "ipython",
    "version": 3
   },
   "file_extension": ".py",
   "mimetype": "text/x-python",
   "name": "python",
   "nbconvert_exporter": "python",
   "pygments_lexer": "ipython3",
   "version": "3.12.4"
  }
 },
 "nbformat": 4,
 "nbformat_minor": 5
}
