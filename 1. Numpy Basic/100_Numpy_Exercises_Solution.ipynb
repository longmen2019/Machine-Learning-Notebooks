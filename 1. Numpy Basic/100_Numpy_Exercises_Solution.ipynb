{
 "cells": [
  {
   "cell_type": "markdown",
   "id": "16466428-8fe8-47ff-95b4-2fcff99b0839",
   "metadata": {},
   "source": [
    "# 100 NumPy Exercises\r\n",
    "Here is the reference to the original problem:https://github.com/maykulkarni/Machine-Learning-Notebooks/blob/master/00.%20NumPy%20Basics/100_Numpy_exercises_no_solution.ipynbs."
   ]
  },
  {
   "cell_type": "markdown",
   "id": "422b29b3-8657-4666-8aac-66ce97e2e1f8",
   "metadata": {},
   "source": [
    "### 1. Import the numpy package under the name np"
   ]
  },
  {
   "cell_type": "code",
   "execution_count": 2,
   "id": "de0f3a05-336c-4420-b8f1-0fef90e13935",
   "metadata": {},
   "outputs": [],
   "source": [
    "import numpy as np"
   ]
  },
  {
   "cell_type": "markdown",
   "id": "8178c06e-d719-4fe2-95b6-881fab3d6e84",
   "metadata": {},
   "source": [
    "### 2. Print the numpy version and the configuration"
   ]
  },
  {
   "cell_type": "code",
   "execution_count": 3,
   "id": "d6e0be57-c66d-4af7-9a10-3e3e2d68a566",
   "metadata": {},
   "outputs": [
    {
     "name": "stdout",
     "output_type": "stream",
     "text": [
      "Numpy version: 1.26.4\n",
      "Build Dependencies:\n",
      "  blas:\n",
      "    detection method: pkgconfig\n",
      "    found: true\n",
      "    include directory: C:/Users/men_l/anaconda3/Library/include\n",
      "    lib directory: C:/Users/men_l/anaconda3/Library/lib\n",
      "    name: mkl-sdl\n",
      "    openblas configuration: unknown\n",
      "    pc file directory: C:\\b\\abs_c1ywpu18ar\\croot\\numpy_and_numpy_base_1708638681471\\_h_env\\Library\\lib\\pkgconfig\n",
      "    version: '2023.1'\n",
      "  lapack:\n",
      "    detection method: internal\n",
      "    found: true\n",
      "    include directory: unknown\n",
      "    lib directory: unknown\n",
      "    name: dep1583119523984\n",
      "    openblas configuration: unknown\n",
      "    pc file directory: unknown\n",
      "    version: 1.26.4\n",
      "Compilers:\n",
      "  c:\n",
      "    commands: cl.exe\n",
      "    linker: link\n",
      "    name: msvc\n",
      "    version: 19.29.30154\n",
      "  c++:\n",
      "    commands: cl.exe\n",
      "    linker: link\n",
      "    name: msvc\n",
      "    version: 19.29.30154\n",
      "  cython:\n",
      "    commands: cython\n",
      "    linker: cython\n",
      "    name: cython\n",
      "    version: 3.0.8\n",
      "Machine Information:\n",
      "  build:\n",
      "    cpu: x86_64\n",
      "    endian: little\n",
      "    family: x86_64\n",
      "    system: windows\n",
      "  host:\n",
      "    cpu: x86_64\n",
      "    endian: little\n",
      "    family: x86_64\n",
      "    system: windows\n",
      "Python Information:\n",
      "  path: C:\\b\\abs_c1ywpu18ar\\croot\\numpy_and_numpy_base_1708638681471\\_h_env\\python.exe\n",
      "  version: '3.12'\n",
      "SIMD Extensions:\n",
      "  baseline:\n",
      "  - SSE\n",
      "  - SSE2\n",
      "  - SSE3\n",
      "  found:\n",
      "  - SSSE3\n",
      "  - SSE41\n",
      "  - POPCNT\n",
      "  - SSE42\n",
      "  - AVX\n",
      "  - F16C\n",
      "  - FMA3\n",
      "  - AVX2\n",
      "  not found:\n",
      "  - AVX512F\n",
      "  - AVX512CD\n",
      "  - AVX512_SKX\n",
      "  - AVX512_CLX\n",
      "  - AVX512_CNL\n",
      "  - AVX512_ICL\n",
      "\n"
     ]
    }
   ],
   "source": [
    "print(\"Numpy version: {}\".format(np.__version__))\n",
    "np.show_config()"
   ]
  },
  {
   "cell_type": "markdown",
   "id": "acb0c12f-7a6e-45a0-8b0f-46ca52446cdd",
   "metadata": {},
   "source": [
    "### 3. Create a null vector of size 10"
   ]
  },
  {
   "cell_type": "code",
   "execution_count": 4,
   "id": "e190f422-cf10-4f9f-b01f-93cb48fe9c6b",
   "metadata": {},
   "outputs": [
    {
     "data": {
      "text/plain": [
       "array([0., 0., 0., 0., 0., 0., 0., 0., 0., 0.])"
      ]
     },
     "execution_count": 4,
     "metadata": {},
     "output_type": "execute_result"
    }
   ],
   "source": [
    "np.zeros(10)"
   ]
  },
  {
   "cell_type": "markdown",
   "id": "7f241b5b-ad7a-4e49-99e1-ef309fa15822",
   "metadata": {},
   "source": [
    "### 4. How to find the memory size of any array"
   ]
  },
  {
   "cell_type": "code",
   "execution_count": 5,
   "id": "6d89f26e-dd01-45a7-b96c-10e881a0e176",
   "metadata": {},
   "outputs": [
    {
     "name": "stdout",
     "output_type": "stream",
     "text": [
      "Size of one element: 8\n",
      "Size of the entire array: 80\n"
     ]
    }
   ],
   "source": [
    "a = np.zeros(10)\n",
    "print(\"Size of one element: {}\".format(a.itemsize))\n",
    "print(\"Size of the entire array: {}\". format(a.nbytes))"
   ]
  },
  {
   "cell_type": "markdown",
   "id": "730769df-7698-4e99-a54f-82c46b2f7f5e",
   "metadata": {},
   "source": [
    "### 5. How to get the documentation of the numpy add function from the command line?"
   ]
  },
  {
   "cell_type": "code",
   "execution_count": 6,
   "id": "107e816e-1083-4276-8f09-534b3634ca67",
   "metadata": {},
   "outputs": [
    {
     "name": "stdout",
     "output_type": "stream",
     "text": [
      "zeros(shape, dtype=float, order='C', *, like=None)\n",
      "\n",
      "Return a new array of given shape and type, filled with zeros.\n",
      "\n",
      "Parameters\n",
      "----------\n",
      "shape : int or tuple of ints\n",
      "    Shape of the new array, e.g., ``(2, 3)`` or ``2``.\n",
      "dtype : data-type, optional\n",
      "    The desired data-type for the array, e.g., `numpy.int8`.  Default is\n",
      "    `numpy.float64`.\n",
      "order : {'C', 'F'}, optional, default: 'C'\n",
      "    Whether to store multi-dimensional data in row-major\n",
      "    (C-style) or column-major (Fortran-style) order in\n",
      "    memory.\n",
      "like : array_like, optional\n",
      "    Reference object to allow the creation of arrays which are not\n",
      "    NumPy arrays. If an array-like passed in as ``like`` supports\n",
      "    the ``__array_function__`` protocol, the result will be defined\n",
      "    by it. In this case, it ensures the creation of an array object\n",
      "    compatible with that passed in via this argument.\n",
      "\n",
      "    .. versionadded:: 1.20.0\n",
      "\n",
      "Returns\n",
      "-------\n",
      "out : ndarray\n",
      "    Array of zeros with the given shape, dtype, and order.\n",
      "\n",
      "See Also\n",
      "--------\n",
      "zeros_like : Return an array of zeros with shape and type of input.\n",
      "empty : Return a new uninitialized array.\n",
      "ones : Return a new array setting values to one.\n",
      "full : Return a new array of given shape filled with value.\n",
      "\n",
      "Examples\n",
      "--------\n",
      ">>> np.zeros(5)\n",
      "array([ 0.,  0.,  0.,  0.,  0.])\n",
      "\n",
      ">>> np.zeros((5,), dtype=int)\n",
      "array([0, 0, 0, 0, 0])\n",
      "\n",
      ">>> np.zeros((2, 1))\n",
      "array([[ 0.],\n",
      "       [ 0.]])\n",
      "\n",
      ">>> s = (2,2)\n",
      ">>> np.zeros(s)\n",
      "array([[ 0.,  0.],\n",
      "       [ 0.,  0.]])\n",
      "\n",
      ">>> np.zeros((2,), dtype=[('x', 'i4'), ('y', 'i4')]) # custom dtype\n",
      "array([(0, 0), (0, 0)],\n",
      "      dtype=[('x', '<i4'), ('y', '<i4')])\n"
     ]
    }
   ],
   "source": [
    "np.info(np.zeros)"
   ]
  },
  {
   "cell_type": "markdown",
   "id": "6cc08d9d-27a8-457e-bd4e-dfa007f57628",
   "metadata": {},
   "source": [
    "### 6. Create a null vector of size 10 but the fifth value which is 1"
   ]
  },
  {
   "cell_type": "code",
   "execution_count": 7,
   "id": "8bbedb33-4c41-4d53-ae5e-694d23661e5e",
   "metadata": {},
   "outputs": [
    {
     "name": "stdout",
     "output_type": "stream",
     "text": [
      "[0. 0. 0. 0. 1. 0. 0. 0. 0. 0.]\n"
     ]
    }
   ],
   "source": [
    "a = np.zeros(10)\n",
    "a[4] = 1\n",
    "print(a)"
   ]
  },
  {
   "cell_type": "markdown",
   "id": "cd5a51a2-c0d4-423f-8c70-8edcf89864a1",
   "metadata": {},
   "source": [
    "### 7. Create a vector with values ranging from 10 to 49"
   ]
  },
  {
   "cell_type": "code",
   "execution_count": 8,
   "id": "5c6b85fe-f866-41ef-bef2-4d0177579d5a",
   "metadata": {},
   "outputs": [
    {
     "data": {
      "text/plain": [
       "array([10, 11, 12, 13, 14, 15, 16, 17, 18, 19, 20, 21, 22, 23, 24, 25, 26,\n",
       "       27, 28, 29, 30, 31, 32, 33, 34, 35, 36, 37, 38, 39, 40, 41, 42, 43,\n",
       "       44, 45, 46, 47, 48, 49])"
      ]
     },
     "execution_count": 8,
     "metadata": {},
     "output_type": "execute_result"
    }
   ],
   "source": [
    "np.arange(10,50)"
   ]
  },
  {
   "cell_type": "markdown",
   "id": "06a25a45-c802-40d7-a05d-f298104b03d1",
   "metadata": {},
   "source": [
    "### 8. Reverse a vector (first element becomes last)"
   ]
  },
  {
   "cell_type": "code",
   "execution_count": 9,
   "id": "36b961c0-82a3-4433-b8f1-4a4b3f2dee23",
   "metadata": {},
   "outputs": [
    {
     "data": {
      "text/plain": [
       "array([9, 8, 7, 6, 5, 4, 3, 2, 1, 0])"
      ]
     },
     "execution_count": 9,
     "metadata": {},
     "output_type": "execute_result"
    }
   ],
   "source": [
    "a = np.arange(10)\n",
    "a[::-1]"
   ]
  },
  {
   "cell_type": "markdown",
   "id": "e3e11e52-40c3-4e05-962c-688239c2971c",
   "metadata": {},
   "source": [
    "### 9. Create a 3x3 matrix with values ranging from 0 to 8"
   ]
  },
  {
   "cell_type": "code",
   "execution_count": 10,
   "id": "fd2e8cc6-5775-4ad2-a990-607944f13048",
   "metadata": {},
   "outputs": [
    {
     "data": {
      "text/plain": [
       "array([[0, 1, 2],\n",
       "       [3, 4, 5],\n",
       "       [6, 7, 8]])"
      ]
     },
     "execution_count": 10,
     "metadata": {},
     "output_type": "execute_result"
    }
   ],
   "source": [
    "np.arange(9).reshape(3,3)"
   ]
  },
  {
   "cell_type": "markdown",
   "id": "fbfb35dd-557c-4d19-82f4-e8a2fb9a8d37",
   "metadata": {},
   "source": [
    "### 10. Find indices of non-zero elements from [1,2,0,0,4,0]"
   ]
  },
  {
   "cell_type": "code",
   "execution_count": 11,
   "id": "6ef18ee5-f644-4c91-99fb-e129a282174f",
   "metadata": {},
   "outputs": [
    {
     "data": {
      "text/plain": [
       "(array([0, 1, 4], dtype=int64),)"
      ]
     },
     "execution_count": 11,
     "metadata": {},
     "output_type": "execute_result"
    }
   ],
   "source": [
    "arr = np.array([1,2,0,0,4,0])\n",
    "np.nonzero(arr)"
   ]
  },
  {
   "cell_type": "markdown",
   "id": "029391ae-1510-4e55-9272-b72437ef2325",
   "metadata": {},
   "source": [
    "### 11. Create a 3x3 identity matrix"
   ]
  },
  {
   "cell_type": "code",
   "execution_count": 12,
   "id": "aa1f8605-5983-41cb-9124-8e3c8ff0f9cd",
   "metadata": {},
   "outputs": [
    {
     "data": {
      "text/plain": [
       "array([[1., 0., 0.],\n",
       "       [0., 1., 0.],\n",
       "       [0., 0., 1.]])"
      ]
     },
     "execution_count": 12,
     "metadata": {},
     "output_type": "execute_result"
    }
   ],
   "source": [
    "np.eye(3,3)"
   ]
  },
  {
   "cell_type": "markdown",
   "id": "45b11ff1-e0ef-4346-b555-45326e84e789",
   "metadata": {},
   "source": [
    "### 12. Create a 3x3x3 array with random values"
   ]
  },
  {
   "cell_type": "code",
   "execution_count": 13,
   "id": "c4000656-1b2c-48bb-8f55-64195b602b24",
   "metadata": {},
   "outputs": [
    {
     "data": {
      "text/plain": [
       "array([[[40, 47, 54],\n",
       "        [58, 15, 68],\n",
       "        [85, 21, 61]],\n",
       "\n",
       "       [[93, 41, 14],\n",
       "        [75, 18, 52],\n",
       "        [78,  1, 12]],\n",
       "\n",
       "       [[91, 39, 39],\n",
       "        [84, 54,  1],\n",
       "        [15, 83, 97]]])"
      ]
     },
     "execution_count": 13,
     "metadata": {},
     "output_type": "execute_result"
    }
   ],
   "source": [
    "np.random.randint(0,100,(3,3,3))"
   ]
  },
  {
   "cell_type": "markdown",
   "id": "0c03b207-4d7f-4487-becf-9984fd7961a1",
   "metadata": {},
   "source": [
    "### 13. Create a 10x10 array with random values and find the minimum and maximum values \n"
   ]
  },
  {
   "cell_type": "code",
   "execution_count": 14,
   "id": "d9ab3c43-5ec2-4013-b2de-6a2aed941bb4",
   "metadata": {},
   "outputs": [
    {
     "name": "stdout",
     "output_type": "stream",
     "text": [
      "Arr: [[89 73  7 61 36 84 53 91 37 87]\n",
      " [34 36 24 82  3 54 50 77 14 54]\n",
      " [40 41  5 36 99 88 68 50  6  7]\n",
      " [31 56 40 57 61 48 79 56 83  2]\n",
      " [27 79 94 89 21 89 46 30 81 74]\n",
      " [56 60 80  0 36 60 73 74 67 91]\n",
      " [52 90 27  7 21 73 80 61 42 51]\n",
      " [65 55 91 64 55 72 98 54 88  4]\n",
      " [30 50 66 10 35 79 77 68 40  7]\n",
      " [30 35 35 36 10 65 31 49  2 40]]\n",
      "Min: 0\n",
      "Max: 99\n"
     ]
    }
   ],
   "source": [
    "rand_array = np.random.randint(0,100,(10,10))\n",
    "print(\"Arr: {}\".format(rand_array))\n",
    "print(\"Min: {}\".format(np.min(rand_array)))\n",
    "print(\"Max: {}\".format(np.max(rand_array)))"
   ]
  },
  {
   "cell_type": "markdown",
   "id": "19f485ef-0318-4756-8a19-3535b27dba4d",
   "metadata": {},
   "source": [
    "### 14. Create a random vector of size 30 and find the mean value"
   ]
  },
  {
   "cell_type": "code",
   "execution_count": 15,
   "id": "b2e2e829-7d58-4169-888f-497d90ca10b8",
   "metadata": {},
   "outputs": [
    {
     "name": "stdout",
     "output_type": "stream",
     "text": [
      "Arr: [13  2  4 24  3 17  8 22 11 29  8 28 26 11 21 22  3  3 12 19 24  3 28  1\n",
      " 24 12 13 12  3 21]\n",
      "Mean: 14.233333333333333\n"
     ]
    }
   ],
   "source": [
    "rand_array = np.random.randint(1,30, (30))\n",
    "print(\"Arr: {}\".format(rand_array))\n",
    "print(\"Mean: {}\".format(rand_array.mean()))"
   ]
  },
  {
   "cell_type": "markdown",
   "id": "1119741a-2715-43be-bdaf-7fa9597bc96a",
   "metadata": {},
   "source": [
    "### 15. Create a 2d array with 1 on the border and 0 inside "
   ]
  },
  {
   "cell_type": "code",
   "execution_count": 16,
   "id": "33e6d54f-732a-4cf4-a0dd-cbf175f3e7e6",
   "metadata": {},
   "outputs": [
    {
     "name": "stdout",
     "output_type": "stream",
     "text": [
      "Before: \n",
      "[[1. 1. 1. 1. 1. 1. 1. 1. 1. 1.]\n",
      " [1. 1. 1. 1. 1. 1. 1. 1. 1. 1.]\n",
      " [1. 1. 1. 1. 1. 1. 1. 1. 1. 1.]\n",
      " [1. 1. 1. 1. 1. 1. 1. 1. 1. 1.]\n",
      " [1. 1. 1. 1. 1. 1. 1. 1. 1. 1.]\n",
      " [1. 1. 1. 1. 1. 1. 1. 1. 1. 1.]\n",
      " [1. 1. 1. 1. 1. 1. 1. 1. 1. 1.]\n",
      " [1. 1. 1. 1. 1. 1. 1. 1. 1. 1.]\n",
      " [1. 1. 1. 1. 1. 1. 1. 1. 1. 1.]\n",
      " [1. 1. 1. 1. 1. 1. 1. 1. 1. 1.]]\n",
      "\n",
      "After: \n",
      "[[1. 1. 1. 1. 1. 1. 1. 1. 1. 1.]\n",
      " [1. 0. 0. 0. 0. 0. 0. 0. 0. 1.]\n",
      " [1. 0. 0. 0. 0. 0. 0. 0. 0. 1.]\n",
      " [1. 0. 0. 0. 0. 0. 0. 0. 0. 1.]\n",
      " [1. 0. 0. 0. 0. 0. 0. 0. 0. 1.]\n",
      " [1. 0. 0. 0. 0. 0. 0. 0. 0. 1.]\n",
      " [1. 0. 0. 0. 0. 0. 0. 0. 0. 1.]\n",
      " [1. 0. 0. 0. 0. 0. 0. 0. 0. 1.]\n",
      " [1. 0. 0. 0. 0. 0. 0. 0. 0. 1.]\n",
      " [1. 1. 1. 1. 1. 1. 1. 1. 1. 1.]]\n"
     ]
    }
   ],
   "source": [
    "# creates a 10x10 NumPy array filled with ones\n",
    "arr = np.ones((10,10))\n",
    "print(\"Before: \")\n",
    "print(arr)\n",
    "# arr[1:-1]: This selects rows from the second row (index 1) up to but not including the last row (index -1).\n",
    "# arr[1:-1, 1:-1]: This further selects columns from the second column (index 1) up to but not including the last column (index -1).\n",
    "# = 0: This assigns the value 0 to all elements within the selected range, effectively setting the inner portion of the array to zero\n",
    "arr[1:-1, 1:-1] = 0 \n",
    "print(\"\\nAfter: \")\n",
    "print(arr)"
   ]
  },
  {
   "cell_type": "markdown",
   "id": "1234609e-f1c9-436e-8b89-cfdf6f8348c2",
   "metadata": {},
   "source": [
    "### 16. How to add a border (filled with 0's) around an existing array?"
   ]
  },
  {
   "cell_type": "code",
   "execution_count": 17,
   "id": "6e9f0e78-6c4b-4273-8898-dd8e8879b2cb",
   "metadata": {},
   "outputs": [
    {
     "name": "stdout",
     "output_type": "stream",
     "text": [
      "Original array: \n",
      "[[1. 1. 1.]\n",
      " [1. 1. 1.]\n",
      " [1. 1. 1.]]\n",
      "\n",
      "Array with border: \n",
      "[[0. 0. 0. 0. 0.]\n",
      " [0. 1. 1. 1. 0.]\n",
      " [0. 1. 1. 1. 0.]\n",
      " [0. 1. 1. 1. 0.]\n",
      " [0. 0. 0. 0. 0.]]\n"
     ]
    }
   ],
   "source": [
    "array = np.ones((3,3))\n",
    "bordered_array  = np.pad(array, pad_width=1, mode='constant', constant_values=0)\n",
    "print(\"Original array: \")\n",
    "print(array)\n",
    "print(\"\\nArray with border: \")\n",
    "print(bordered_array)"
   ]
  },
  {
   "cell_type": "markdown",
   "id": "5de8290c-43a9-4f93-8ba3-b0404628e499",
   "metadata": {},
   "source": [
    "### 17. What is the result of the following expression? (★☆☆)\n",
    "> 0 * np.nan\n",
    "\n",
    "> np.nan == np.nan\n",
    "\n",
    "> np.inf > np.nan\n",
    "\n",
    "> np.nan - np.nan\n",
    "\n",
    "> 0.3 == 3 * 0.1"
   ]
  },
  {
   "cell_type": "code",
   "execution_count": 18,
   "id": "12c1c0b6-97bd-4d34-bae4-9bc5f76c200a",
   "metadata": {},
   "outputs": [
    {
     "name": "stdout",
     "output_type": "stream",
     "text": [
      "nan\n",
      " \n",
      "False\n",
      " \n",
      "False\n",
      " \n",
      "nan\n",
      " \n",
      "False\n"
     ]
    }
   ],
   "source": [
    "print(0*np.nan)\n",
    "print(\" \")\n",
    "print(np.nan==np.nan)\n",
    "print(\" \")\n",
    "print(np.inf>np.nan)\n",
    "print(\" \")\n",
    "print(np.nan - np.nan)\n",
    "print(\" \")\n",
    "print(0.3 == 3*0.1)\n"
   ]
  },
  {
   "cell_type": "markdown",
   "id": "b7f85616-ff31-44b3-a351-0845bf3ac687",
   "metadata": {},
   "source": [
    "### 18. Create a 5x5 matrix with values 1,2,3,4 just below the diagonal"
   ]
  },
  {
   "cell_type": "code",
   "execution_count": 19,
   "id": "117656ba-6415-4265-81ca-5526e0009081",
   "metadata": {},
   "outputs": [
    {
     "name": "stdout",
     "output_type": "stream",
     "text": [
      "[[0 0 0 0 0]\n",
      " [0 0 0 0 0]\n",
      " [0 0 0 0 0]\n",
      " [0 0 0 0 0]\n",
      " [0 0 0 0 0]]\n",
      " \n",
      "[[0 0 0 0 0]\n",
      " [1 0 0 0 0]\n",
      " [0 2 0 0 0]\n",
      " [0 0 3 0 0]\n",
      " [0 0 0 4 0]]\n"
     ]
    }
   ],
   "source": [
    "# Create a 5x5 matrix of zeros\n",
    "matrix = np.zeros((5,5), dtype=int)\n",
    "print(matrix)\n",
    "print(\" \")\n",
    "\n",
    "# Assign values 1,2,3,4 just below the diagonal\n",
    "for i in range(1,5):\n",
    "    # matrix[i, i-1]: This part accesses the element in the matrix at the row index i and column index i-1. \n",
    "    # In a 5x5 matrix, i ranges from 0 to 4. However, in the loop, i starts from 1 to 4, so i-1 ranges from 0 to 3.\n",
    "    # = i: This assigns the value of i to the element at the specified position in the matrix.\n",
    "    matrix[i , i-1] = i\n",
    "print(matrix)"
   ]
  },
  {
   "cell_type": "markdown",
   "id": "699e29b5-795f-44ce-add8-54007984e9b5",
   "metadata": {},
   "source": [
    "### 19. Create a 8x8 matrix  and fill it with a checkboard pattern"
   ]
  },
  {
   "cell_type": "code",
   "execution_count": 20,
   "id": "697a6c12-6617-4e3c-ae50-74102a66bbfc",
   "metadata": {},
   "outputs": [
    {
     "name": "stdout",
     "output_type": "stream",
     "text": [
      "[[0 0 0 0 0 0 0 0]\n",
      " [0 0 0 0 0 0 0 0]\n",
      " [0 0 0 0 0 0 0 0]\n",
      " [0 0 0 0 0 0 0 0]\n",
      " [0 0 0 0 0 0 0 0]\n",
      " [0 0 0 0 0 0 0 0]\n",
      " [0 0 0 0 0 0 0 0]\n",
      " [0 0 0 0 0 0 0 0]]\n",
      " \n",
      "[[0 0 0 0 0 0 0 0]\n",
      " [1 0 1 0 1 0 1 0]\n",
      " [0 0 0 0 0 0 0 0]\n",
      " [1 0 1 0 1 0 1 0]\n",
      " [0 0 0 0 0 0 0 0]\n",
      " [1 0 1 0 1 0 1 0]\n",
      " [0 0 0 0 0 0 0 0]\n",
      " [1 0 1 0 1 0 1 0]]\n",
      " \n",
      "This results in a checkerboard pattern where 1s and 0s alternate: \n",
      "[[0 1 0 1 0 1 0 1]\n",
      " [1 0 1 0 1 0 1 0]\n",
      " [0 1 0 1 0 1 0 1]\n",
      " [1 0 1 0 1 0 1 0]\n",
      " [0 1 0 1 0 1 0 1]\n",
      " [1 0 1 0 1 0 1 0]\n",
      " [0 1 0 1 0 1 0 1]\n",
      " [1 0 1 0 1 0 1 0]]\n"
     ]
    }
   ],
   "source": [
    "# Create a 8x8 matrix of zero \n",
    "matrix = np.zeros((8,8), dtype = int)\n",
    "print(matrix)\n",
    "print(\" \")\n",
    "# Fill the matrix with a checkboard pattern\n",
    "# This sets every other element in every other row, starting from the second row (index 1), to 1\n",
    "matrix[1::2, ::2]= 1\n",
    "print(matrix)\n",
    "print(\" \")\n",
    "\n",
    "# This sets every other element in every other column, starting from the second column (index 1), to 1\n",
    "matrix[::2, 1::2] = 1\n",
    "print(\"This results in a checkerboard pattern where 1s and 0s alternate: \")\n",
    "print(matrix)"
   ]
  },
  {
   "cell_type": "markdown",
   "id": "a63b82f1-b926-4e0f-b9a1-e2a747e6408b",
   "metadata": {},
   "source": [
    "### 20. Consider a (6,7,8) shape array, what is the index (x,y,z) of the 100th element?"
   ]
  },
  {
   "cell_type": "code",
   "execution_count": 21,
   "id": "4419b575-ef84-4b4f-96f1-724e576a9b72",
   "metadata": {},
   "outputs": [
    {
     "name": "stdout",
     "output_type": "stream",
     "text": [
      "(6, 7, 8)\n",
      " \n",
      "So, the index ((x, y, z)) of the 100th element in a ((6, 7, 8)) shaped array is ((1, 5, 3))\n",
      "(1, 5, 3)\n"
     ]
    }
   ],
   "source": [
    "# Define the shape of the array\n",
    "shape = (6,7,8)\n",
    "print(shape)\n",
    "print(\" \")\n",
    "\n",
    "# Find the index of the 100th element (remember to subtract 1 because indexing starts at 0)\n",
    "# This function takes the flat index (99, since indexing starts at 0) and the shape of the array, and returns the corresponding multi-dimensional index\n",
    "index = np.unravel_index(99, shape)\n",
    "print(\"So, the index ((x, y, z)) of the 100th element in a ((6, 7, 8)) shaped array is ((1, 5, 3))\")\n",
    "print(index)"
   ]
  },
  {
   "cell_type": "markdown",
   "id": "eb554148-a5b6-4fc3-adfd-72d454c9fa0b",
   "metadata": {},
   "source": [
    "### 21. Create a checkboard 8x8 matrix using the tile function"
   ]
  },
  {
   "cell_type": "code",
   "execution_count": 22,
   "id": "6dbe88b6-c368-40c3-869e-54c0c73bd34c",
   "metadata": {},
   "outputs": [
    {
     "name": "stdout",
     "output_type": "stream",
     "text": [
      "[[0 1]\n",
      " [1 0]]\n",
      " \n",
      "[[0 1 0 1 0 1 0 1]\n",
      " [1 0 1 0 1 0 1 0]\n",
      " [0 1 0 1 0 1 0 1]\n",
      " [1 0 1 0 1 0 1 0]\n",
      " [0 1 0 1 0 1 0 1]\n",
      " [1 0 1 0 1 0 1 0]\n",
      " [0 1 0 1 0 1 0 1]\n",
      " [1 0 1 0 1 0 1 0]]\n"
     ]
    }
   ],
   "source": [
    "# This creates a 2x2 matrix with a checkerboard pattern\n",
    "pattern = np.array([[0,1], [1,0]])\n",
    "print(pattern)\n",
    "print(\" \")\n",
    "# Tile the pattern to create an 8x8 matrix\n",
    "checkerboard = np.tile(pattern, (4,4)) #This tiles the 2x2 pattern to create an 8x8 matrix by repeating the pattern 4 times along both dimensions\n",
    "print(checkerboard)"
   ]
  },
  {
   "cell_type": "markdown",
   "id": "99575e4d-a3a0-4373-ae1c-525851fbf7df",
   "metadata": {},
   "source": [
    "### 22. Normalize a 5x5 random matrix "
   ]
  },
  {
   "cell_type": "code",
   "execution_count": 23,
   "id": "ec00560c-bd8c-426e-a3a2-b0245c4ff087",
   "metadata": {},
   "outputs": [
    {
     "name": "stdout",
     "output_type": "stream",
     "text": [
      "Original Matrix:\n",
      "  [[0.95967458 0.64720773 0.7146748  0.15816564 0.36403968]\n",
      " [0.07615615 0.92739712 0.21885378 0.57317251 0.40649075]\n",
      " [0.18690204 0.66640563 0.07529092 0.78548853 0.08700951]\n",
      " [0.42898089 0.36018603 0.14870248 0.43833044 0.91438815]\n",
      " [0.28356417 0.89567384 0.42183366 0.08167162 0.35687169]]\n",
      " \n",
      "Normalized Matirx:\n",
      "  [[1.00000000e+00 6.46684056e-01 7.22971155e-01 9.37090223e-02\n",
      "  3.26497165e-01]\n",
      " [9.78341881e-04 9.63502873e-01 1.62330981e-01 5.62970136e-01\n",
      "  3.74497915e-01]\n",
      " [1.26202149e-01 6.68391715e-01 0.00000000e+00 8.03042435e-01\n",
      "  1.32505813e-02]\n",
      " [3.99928210e-01 3.22139729e-01 8.30087334e-02 4.10500038e-01\n",
      "  9.48793231e-01]\n",
      " [2.35501019e-01 9.27632376e-01 3.91846609e-01 7.21486077e-03\n",
      "  3.18392096e-01]]\n"
     ]
    }
   ],
   "source": [
    "# Create a 5x5 matrix with random values \n",
    "matrix = np.random.rand(5,5)\n",
    "# Normalize the matrix\n",
    "# Subtracting the minimum value from each element and then dividing by the range (max - min) normalizes the values\n",
    "# This formula scales the values in the matrix to be between 0 and 1\n",
    "normalized_matrix = (matrix - np.min(matrix)) / (np.max(matrix)-np.min(matrix))\n",
    "print(\"Original Matrix:\\n \", matrix)\n",
    "print(\" \")\n",
    "print(\"Normalized Matirx:\\n \", normalized_matrix)"
   ]
  },
  {
   "cell_type": "markdown",
   "id": "00752bbc-8ae6-46db-b4c9-30ab61365d84",
   "metadata": {},
   "source": [
    "### 23. Create a custom dtype that describes a color as four unsigned bytes (RGBA)"
   ]
  },
  {
   "cell_type": "code",
   "execution_count": 24,
   "id": "409be041-b0c4-4193-a3f6-880e6b9bbf71",
   "metadata": {},
   "outputs": [
    {
     "name": "stdout",
     "output_type": "stream",
     "text": [
      " This code output an array of colors with the specified RGBA: \n",
      " [(255,   0,   0, 255) (  0, 255,   0, 255) (  0,   0, 255, 255)]\n"
     ]
    }
   ],
   "source": [
    "# Define the custom dtype\n",
    "color_dtype = np.dtype([\n",
    "    #This defines a custom data type with four fields: ‘r’, ‘g’, ‘b’, and ‘a’, each of which is an unsigned byte (np.ubyte)\n",
    "    ('r', np.ubyte), # Red channel \n",
    "    ('g', np.ubyte), # Green channel\n",
    "    ('b', np.ubyte), # Blue channel\n",
    "    ('a', np.ubyte)  # alpha channel\n",
    "    \n",
    "])\n",
    "# Example of creating an array with this dtype\n",
    "# This creates an array of colors using the custom dtype. Each color is represented as a tuple of four unsigned bytes\n",
    "colors = np.array([(255,0,0,255), (0,255,0,255), (0,0,255,255)], dtype=color_dtype)\n",
    "print(\" This code output an array of colors with the specified RGBA: \\n\", colors)"
   ]
  },
  {
   "cell_type": "markdown",
   "id": "a5fb24ca-dc13-4107-8b43-5353f3d7e2fd",
   "metadata": {},
   "source": [
    "### 24. Multiply a 5x3 matrix by a 3x2 matrix (real matrix product)"
   ]
  },
  {
   "cell_type": "code",
   "execution_count": 25,
   "id": "298efa53-2915-4174-8536-46f46e2d93d6",
   "metadata": {},
   "outputs": [
    {
     "name": "stdout",
     "output_type": "stream",
     "text": [
      "First Matrix (5x3):\n",
      " [[0.91004513 0.15985786 0.67729477]\n",
      " [0.19490737 0.75606899 0.51205055]\n",
      " [0.36902632 0.82071975 0.14775664]\n",
      " [0.7647425  0.88969808 0.5839469 ]\n",
      " [0.80866644 0.17323746 0.14903429]]\n",
      " \n",
      "Second Matrix (3x2):\n",
      " [[0.75425382 0.4515082 ]\n",
      " [0.06795529 0.01095171]\n",
      " [0.81203991 0.4491056 ]]\n",
      " \n",
      "It will output the original matrices and their product. The resulting matrix will have the shape (5, 2):\n",
      " [[1.24725859 0.71682043]\n",
      " [0.614194   0.32624729]\n",
      " [0.45409606 0.24196503]\n",
      " [1.11145784 0.61728505]\n",
      " [0.74273395 0.43394891]]\n"
     ]
    }
   ],
   "source": [
    "# Generates a 5x3 matrix with random values between 0 and 1\n",
    "matrix1 = np.random.rand(5,3)\n",
    "# Generates a 3x2 matrix with random values between 0 and 1\n",
    "matrix2 = np.random.rand(3,2)\n",
    "# Computes the dot product of the two matrices, resulting in a 5x2 matrix\n",
    "result = np.dot(matrix1, matrix2)\n",
    "print(\"First Matrix (5x3):\\n\", matrix1)\n",
    "print(\" \")\n",
    "print(\"Second Matrix (3x2):\\n\", matrix2)\n",
    "print(\" \")\n",
    "print(\"It will output the original matrices and their product. The resulting matrix will have the shape (5, 2):\\n\", result)"
   ]
  },
  {
   "cell_type": "markdown",
   "id": "d39b3b38-8ba1-4bdd-89b7-2e77170078d9",
   "metadata": {},
   "source": [
    "### 25. Given a 1D array, negate all elements which are between 3 and 8, in place."
   ]
  },
  {
   "cell_type": "code",
   "execution_count": 26,
   "id": "0e69b897-1bfa-4d20-81a3-fe888d234b3c",
   "metadata": {},
   "outputs": [
    {
     "name": "stdout",
     "output_type": "stream",
     "text": [
      "[ 1 -4 -6  9 -3 -8  2]\n"
     ]
    }
   ],
   "source": [
    "def negate_elements_in_range(arr):\n",
    "    # Converts the input list arr into a NumPy array. NumPy arrays are more efficient for numerical operations compared to Python lists\n",
    "    arr = np.array(arr)\n",
    "    \n",
    "    # Create a boolean mask. \n",
    "    # The expression (arr >= 3) creates a boolean array where elements are True if they are greater than or equal to 3\n",
    "    # (arr <= 8) creates a boolean array where elements are True if they are less than or equal to 8\n",
    "    # The & operator performs an element-wise logical AND operation, combining these two conditions\n",
    "    mask = (arr>=3) & (arr<= 8)\n",
    "   \n",
    "    # This line uses the boolean mask to select elements of arr that meet the condition (i.e., elements between 3 and 8)\n",
    "    # It then negates these selected elements in place. The -arr[mask] part negates the values, \n",
    "    # and arr[mask] = ... assigns the negated values back to their original positions in the array\n",
    "    arr[mask] = -arr[mask]\n",
    "    return arr \n",
    "# Example Usage\n",
    "arr = [1, 4, 6, 9, 3, 8, 2]\n",
    "negated_arr = negate_elements_in_range(arr)\n",
    "print(negated_arr)"
   ]
  },
  {
   "cell_type": "markdown",
   "id": "35d6fd2f-f82c-4697-8a8b-273bb921eb62",
   "metadata": {},
   "source": [
    "### 26. What is the output of the following script? \n",
    "> print(sum(range(5),-1))\n",
    "\n",
    "> from numpy import *\n",
    "\n",
    "> print(sum(range(5),-1))"
   ]
  },
  {
   "cell_type": "code",
   "execution_count": 27,
   "id": "8726b5e8-a416-407a-bf16-062071e4ae67",
   "metadata": {},
   "outputs": [
    {
     "name": "stdout",
     "output_type": "stream",
     "text": [
      "9\n",
      "10\n"
     ]
    }
   ],
   "source": [
    "# range(5): This generates a sequence of numbers from 0 to 4 (inclusive). So, range(5) produces [0, 1, 2, 3, 4]\n",
    "# The sum function calculates the sum of the elements in the sequence generated by range(5), \n",
    "# but it also takes an optional second argument, which is the starting value for the sum. In this case, the starting value is -1\n",
    "# So, the calculation proceeds as follows:\n",
    "# Start with -1.\n",
    "# Add the elements of the sequence [0, 1, 2, 3, 4] to -1\n",
    "print(sum(range(5), -1))\n",
    "\n",
    "from numpy import * #imports all functions and classes from the NumPy library into the current namespace\n",
    "# Because of the from numpy import * statement, the sum function from NumPy is used instead of the built-in Python sum function\n",
    "# range(5): This generates a sequence of numbers from 0 to 4 (inclusive). So, range(5) produces [0, 1, 2, 3, 4]\n",
    "# The NumPy sum function does not use the second argument as a starting value for the sum. \n",
    "# Instead, it interprets the second argument as the axis parameter, which specifies the axis along which to sum the elements\n",
    "# Since -1 is not a valid axis for a 1D array, NumPy ignores it and simply sums the elements of the array [0, 1, 2, 3, 4]\n",
    "# Therefore, print(sum(range(5), -1)) outputs 10 because the second argument is ignored by NumPy’s sum function in this context\n",
    "print(sum(range(5),-1))"
   ]
  },
  {
   "cell_type": "markdown",
   "id": "978f3926-9fe2-4f72-952d-d2fba6bf6067",
   "metadata": {},
   "source": [
    "### 27. Consider an integer vector Z, which of these expressions are legal?\n",
    "> Z**Z\n",
    "\n",
    "> 2 << Z >> 2\n",
    "\n",
    "> Z <- Z\n",
    "\n",
    ">1 j * Z\n",
    "\n",
    ">Z/1/1\n",
    "\n",
    "> Z < Z > Z  "
   ]
  },
  {
   "cell_type": "markdown",
   "id": "8244c9f9-73db-406d-b4cc-60cb8145af83",
   "metadata": {},
   "source": [
    "1. `Z**Z`:\n",
    "   \n",
    "   &bull; This expression attempts to raise each element of `Z` to the power of the corresponding element in `Z`. This is legal in Numpy.\n",
    "\n",
    "   &bull; `Legal` \n",
    "2. `2 << Z >> 2`:\n",
    "\n",
    "    &bull; This expression involves bitwise left and right shifts. `2 << Z` shifts the number 2 to the left by each element in `Z`, and then `>> 2` shifts the result to the right by 2. This is legal in Numpy.\n",
    "\n",
    "   &bull; `Legal`\n",
    "\n",
    "3. `Z <- Z`:\n",
    "\n",
    "   &bull; This expression is not valid in Python. The `<-` operator is not defined in Python.\n",
    "\n",
    "   &bull; `Illegal`\n",
    "\n",
    "4. `1j*Z`:\n",
    "\n",
    "   &bull; This expression multiplies each element of `Z` by the imaginary until `1j`. This is legal in Numpy and results in a complex array.\n",
    "\n",
    "   &bull; `Legal`\n",
    "\n",
    "5. `Z/1/1`:\n",
    "\n",
    "   &bull; This expression divides each element of `Z` by 1 twice. This is legal in Numpy.\n",
    "\n",
    "   &bull; `Legal`\n",
    "\n",
    "6. `Z<Z>Z`:\n",
    "\n",
    "   &bull; This expression is not valid in Python. Chained comparisons like this are not supported.\n",
    "\n",
    "   &bull; `Illegal`.\n",
    "   \n",
    "   \n",
    "   \n"
   ]
  },
  {
   "cell_type": "markdown",
   "id": "403dc480-b924-4565-aa6f-e7b52d16a216",
   "metadata": {},
   "source": [
    "### 28. What are the result of the following expressions?\n",
    "> np.array(0) / np.array(0)\n",
    "\n",
    "> np.array(0) // np.array(0)\n",
    "\n",
    "> np.array([np.nan]).astype(int).astype(float) "
   ]
  },
  {
   "cell_type": "code",
   "execution_count": 28,
   "id": "074551db-7fbc-44e4-8d66-08cf1ba74395",
   "metadata": {},
   "outputs": [
    {
     "name": "stderr",
     "output_type": "stream",
     "text": [
      "C:\\Users\\men_l\\AppData\\Local\\Temp\\ipykernel_6836\\164202812.py:3: RuntimeWarning: invalid value encountered in divide\n",
      "  np.array(0) / np.array(0)\n"
     ]
    },
    {
     "data": {
      "text/plain": [
       "nan"
      ]
     },
     "execution_count": 28,
     "metadata": {},
     "output_type": "execute_result"
    }
   ],
   "source": [
    "# This expression attempts to divide zero by zero.\n",
    "# In NumPy, this results in a division by zero, which produces a NaN (Not a Number) and raises a runtime warning\n",
    "np.array(0) / np.array(0)\n",
    "\n"
   ]
  },
  {
   "cell_type": "code",
   "execution_count": 29,
   "id": "a91d02e9-613d-48fc-b886-08324edc8754",
   "metadata": {},
   "outputs": [
    {
     "name": "stderr",
     "output_type": "stream",
     "text": [
      "C:\\Users\\men_l\\AppData\\Local\\Temp\\ipykernel_6836\\1784414740.py:3: RuntimeWarning: divide by zero encountered in floor_divide\n",
      "  np.array(0) // np.array(0)\n"
     ]
    },
    {
     "data": {
      "text/plain": [
       "0"
      ]
     },
     "execution_count": 29,
     "metadata": {},
     "output_type": "execute_result"
    }
   ],
   "source": [
    "# This expression attempts to perform integer division of zero by zero. \n",
    "# In NumPy, this also results in a division by zero, which produces 0 and raises a runtime warning\n",
    "np.array(0) // np.array(0)\n",
    "\n"
   ]
  },
  {
   "cell_type": "code",
   "execution_count": 30,
   "id": "c664df73-aea0-412e-b7e7-8f87f4579bb6",
   "metadata": {},
   "outputs": [
    {
     "name": "stderr",
     "output_type": "stream",
     "text": [
      "C:\\Users\\men_l\\AppData\\Local\\Temp\\ipykernel_6836\\3233124507.py:5: RuntimeWarning: invalid value encountered in cast\n",
      "  np.array([np.nan]).astype(int).astype(float)\n"
     ]
    },
    {
     "data": {
      "text/plain": [
       "array([-2.14748365e+09])"
      ]
     },
     "execution_count": 30,
     "metadata": {},
     "output_type": "execute_result"
    }
   ],
   "source": [
    "# This expression first creates a NumPy array containing NaN.\n",
    "# It then attempts to cast this array to an integer type. Converting NaN to an integer is not well-defined and typically results in an undefined value,\n",
    "# often -9223372036854775808 (the minimum value for a 64-bit integer).\n",
    "# Finally, it casts the integer array back to a float\n",
    "np.array([np.nan]).astype(int).astype(float)"
   ]
  },
  {
   "cell_type": "markdown",
   "id": "e962c361-6340-4e76-8727-98cc2095f39d",
   "metadata": {},
   "source": [
    "### 29. How to round away from zero a float array?"
   ]
  },
  {
   "cell_type": "code",
   "execution_count": 31,
   "id": "5535634c-aed2-4793-ba34-498968459c94",
   "metadata": {},
   "outputs": [
    {
     "name": "stdout",
     "output_type": "stream",
     "text": [
      "[-2. -1.  1.  2.  3. -3.]\n"
     ]
    }
   ],
   "source": [
    "def round_away_from_zero(arr):\n",
    "    # np.abs(arr): Takes the absolute value of each element in the array\n",
    "    # np.ceil(np.abs(arr)): Rounds each element up to the nearest integer\n",
    "    # np.copysign(np.ceil(np.abs(arr)), arr): Applies the sign of the original elements to the rounded values, effectively rounding away from zero\n",
    "    return np.copysign(np.ceil(np.abs(arr)),arr)\n",
    "\n",
    "# Expmaple usage:\n",
    "arr = np.array([-1.5, -0.2, 0.2, 1.5, 2.3, -2.3])\n",
    "rounded_arr = round_away_from_zero(arr)\n",
    "print(rounded_arr)"
   ]
  },
  {
   "cell_type": "markdown",
   "id": "d1e008cc-7c1b-4f4a-a2bf-83a1a3be680a",
   "metadata": {},
   "source": [
    "### 30. How to find common values between two arrays?"
   ]
  },
  {
   "cell_type": "code",
   "execution_count": 32,
   "id": "6bd0a5e2-0411-4d94-a22c-a2540cc3daaf",
   "metadata": {},
   "outputs": [
    {
     "name": "stdout",
     "output_type": "stream",
     "text": [
      "[3 4 5]\n"
     ]
    }
   ],
   "source": [
    "array1  = np.array([1, 2, 3, 4, 5])\n",
    "array2 = np.array([3, 4, 5, 6, 7])\n",
    "\n",
    "# Find common values\n",
    "common_values = np.intersect1d(array1, array2)\n",
    "print(common_values)"
   ]
  },
  {
   "cell_type": "markdown",
   "id": "bffa5005-ea55-48f8-9135-1e781db832c1",
   "metadata": {},
   "source": [
    "### 31. How to ignore all numpy warnings(not recommended)?"
   ]
  },
  {
   "cell_type": "code",
   "execution_count": 33,
   "id": "103761d0-78f7-45d4-9d2a-f811316c71bd",
   "metadata": {},
   "outputs": [
    {
     "name": "stdout",
     "output_type": "stream",
     "text": [
      "[inf inf inf]\n"
     ]
    }
   ],
   "source": [
    "# Ignore all warnings\n",
    "np.seterr(all='ignore')\n",
    "\n",
    "# Example usage\n",
    "arr = np.array([1,2,3])\n",
    "print(arr/0) # This will not raise a warning"
   ]
  },
  {
   "cell_type": "markdown",
   "id": "dcdd6f0f-23a6-4234-a59e-0d642808d74e",
   "metadata": {},
   "source": [
    "### 32. Is the following expressions true?\n",
    "np.sqrt(-1) = np.emath.sqrt(-1)"
   ]
  },
  {
   "cell_type": "code",
   "execution_count": 34,
   "id": "d002f8f5-425a-4ef3-b6d6-0f09d6f3aae2",
   "metadata": {},
   "outputs": [
    {
     "data": {
      "text/plain": [
       "False"
      ]
     },
     "execution_count": 34,
     "metadata": {},
     "output_type": "execute_result"
    }
   ],
   "source": [
    "np.sqrt(-1) == np.emath.sqrt(-1)\n"
   ]
  },
  {
   "cell_type": "markdown",
   "id": "d2c31e74-18b4-4777-93b1-3653b88eead5",
   "metadata": {},
   "source": [
    "### 33. How to get the dates of yesterday, today and tomorrow?"
   ]
  },
  {
   "cell_type": "code",
   "execution_count": 35,
   "id": "35298195-eed5-405f-961c-4f1e758713d7",
   "metadata": {},
   "outputs": [
    {
     "name": "stdout",
     "output_type": "stream",
     "text": [
      "Today: 2024-10-04\n",
      "Yesterday:  2024-10-03\n",
      "Tomorrow:  2024-10-05\n"
     ]
    }
   ],
   "source": [
    "# Today's date\n",
    "today= np.datetime64('today', 'D')\n",
    "print(\"Today:\", today)\n",
    "# Yesterday's date\n",
    "yesterday = today - np.timedelta64(1, 'D')\n",
    "print(\"Yesterday: \", yesterday)\n",
    "# Tomorrow's date\n",
    "tomorrow = today + np.timedelta64(1, 'D')\n",
    "print(\"Tomorrow: \", tomorrow)"
   ]
  },
  {
   "cell_type": "markdown",
   "id": "b2ca2037-33bf-4ebd-adb6-c2b0cdb8b58d",
   "metadata": {},
   "source": [
    "### 34. How to get all the dates corresponding to the month of July 2016?"
   ]
  },
  {
   "cell_type": "code",
   "execution_count": 36,
   "id": "ac2b353f-93a6-4acc-81f7-a515e644f540",
   "metadata": {},
   "outputs": [
    {
     "name": "stdout",
     "output_type": "stream",
     "text": [
      "['2016-07-01' '2016-07-02' '2016-07-03' '2016-07-04' '2016-07-05'\n",
      " '2016-07-06' '2016-07-07' '2016-07-08' '2016-07-09' '2016-07-10'\n",
      " '2016-07-11' '2016-07-12' '2016-07-13' '2016-07-14' '2016-07-15'\n",
      " '2016-07-16' '2016-07-17' '2016-07-18' '2016-07-19' '2016-07-20'\n",
      " '2016-07-21' '2016-07-22' '2016-07-23' '2016-07-24' '2016-07-25'\n",
      " '2016-07-26' '2016-07-27' '2016-07-28' '2016-07-29' '2016-07-30'\n",
      " '2016-07-31']\n"
     ]
    }
   ],
   "source": [
    "# Define the state and end dates for July 2016\n",
    "start_date = np.datetime64('2016-07-01')\n",
    "end_date = np.datetime64('2016-08-01')\n",
    "\n",
    "# Generate an array of all dates in July 2016\n",
    "july_dates = np.arange(start_date, end_date, dtype='datetime64[D]')\n",
    "print(july_dates)"
   ]
  },
  {
   "cell_type": "markdown",
   "id": "6e86dc21-a970-41d9-803e-2e7cbd42d7e7",
   "metadata": {},
   "source": [
    "### 35. How to compute ((A+B)*(-A/2)) in place (without copy)?"
   ]
  },
  {
   "cell_type": "code",
   "execution_count": 37,
   "id": "eb91b48a-d5e0-4847-b27d-e84cdd6f50dd",
   "metadata": {},
   "outputs": [
    {
     "name": "stdout",
     "output_type": "stream",
     "text": [
      "[-3. -4. -5. -6.]\n"
     ]
    }
   ],
   "source": [
    "# Example arrays\n",
    "A = np.array([1,2,3,4], dtype = float)\n",
    "B = np.array([5,6,7,8], dtype = float)\n",
    "\n",
    "# Step 1: Add A and B, store the result A (in-place)\n",
    "A += B\n",
    "# step 2: Multiply A by -0.5 (equivalent to -A/2), store the result in A (in-place)\n",
    "A *= -0.5\n",
    "print(A)"
   ]
  },
  {
   "cell_type": "markdown",
   "id": "d3be521e-31b4-4b1c-844f-5ef7b78fba5f",
   "metadata": {},
   "source": [
    "### 36. Extract the integer part of a random array using 5 different methods"
   ]
  },
  {
   "cell_type": "code",
   "execution_count": 38,
   "id": "32e64f7f-7296-48f1-bc66-840182f4e0db",
   "metadata": {},
   "outputs": [
    {
     "name": "stdout",
     "output_type": "stream",
     "text": [
      "Original array:  [9.15531251 3.43843114 8.80758823 5.09735346 5.63770625]\n",
      "Integer part (floor): [9. 3. 8. 5. 5.]\n",
      "Integer part (trunc): [9. 3. 8. 5. 5.]\n",
      "Integer part (astype): [9 3 8 5 5]\n",
      "Integer part (fix): [9. 3. 8. 5. 5.]\n",
      "Integer part (vectorize): [9 3 8 5 5]\n"
     ]
    }
   ],
   "source": [
    "# Generate a random array\n",
    "random_array = np.random.random(5) * 10\n",
    "print(\"Original array: \", random_array)\n",
    "\n",
    "# Extract integer part using np.floor\n",
    "integer_part_floor = np.floor(random_array) # Rounds down to the nearest integer\n",
    "print(\"Integer part (floor):\", integer_part_floor)\n",
    "\n",
    "# Extract integer part using np.trunc\n",
    "integer_part_trunc = np.trunc(random_array) #Truncates the decimal part, effectively rounding towards zero\n",
    "print(\"Integer part (trunc):\", integer_part_trunc)\n",
    "\n",
    "# Extract integer part by converting to int\n",
    "integer_part_int = random_array.astype(int) #Converts the array elements to integers, truncating the decimal part.\n",
    "print(\"Integer part (astype):\", integer_part_int)\n",
    "\n",
    "# Extract integer part using np.fix\n",
    "integer_part_fix = np.fix(random_array) #Rounds toward zero, similar to np.trunc.\n",
    "print(\"Integer part (fix):\", integer_part_fix)\n",
    "\n",
    "# Extract integer part using np.vectorize with int\n",
    "integer_part_vectorize = np.vectorize(int)(random_array) #Applies to int function element-wise to the array.\n",
    "print(\"Integer part (vectorize):\", integer_part_vectorize)"
   ]
  },
  {
   "cell_type": "markdown",
   "id": "0d635c1d-399d-47d3-862b-7da9da0003f4",
   "metadata": {},
   "source": [
    "### 37. Create a 5x5 matrix with row values ranging from 0 to 4\n"
   ]
  },
  {
   "cell_type": "code",
   "execution_count": 39,
   "id": "fda5cc39-472f-4c55-88ea-374a05c5d09e",
   "metadata": {},
   "outputs": [
    {
     "name": "stdout",
     "output_type": "stream",
     "text": [
      "[[0. 0. 0. 0. 0.]\n",
      " [0. 0. 0. 0. 0.]\n",
      " [0. 0. 0. 0. 0.]\n",
      " [0. 0. 0. 0. 0.]\n",
      " [0. 0. 0. 0. 0.]]\n",
      " \n",
      "[[0. 1. 2. 3. 4.]\n",
      " [0. 1. 2. 3. 4.]\n",
      " [0. 1. 2. 3. 4.]\n",
      " [0. 1. 2. 3. 4.]\n",
      " [0. 1. 2. 3. 4.]]\n"
     ]
    }
   ],
   "source": [
    "# Create a 5x5 matrix with row values ranging from 0 to 4\n",
    "matrix = np.zeros((5,5))\n",
    "print(matrix)\n",
    "# This generates an array with values [0, 1, 2, 3, 4]. Then, it adds the array [0, 1, 2, 3, 4] to each row of the matrix\n",
    "matrix += np.arange(5)\n",
    "print(\" \")\n",
    "print(matrix)\n"
   ]
  },
  {
   "cell_type": "markdown",
   "id": "c0e1fa45-0e8f-47d0-9fdb-32f3ae8f6a4b",
   "metadata": {},
   "source": [
    "### 38. Consider a generator function that generates 10 integers and use it to build an array"
   ]
  },
  {
   "cell_type": "code",
   "execution_count": 40,
   "id": "b7684255-f2b3-42bf-859b-d870e962542e",
   "metadata": {},
   "outputs": [
    {
     "name": "stdout",
     "output_type": "stream",
     "text": [
      "[0 1 2 3 4 5 6 7 8 9]\n"
     ]
    }
   ],
   "source": [
    "def generate_integers():\n",
    "    for i in range(10):\n",
    "        # First Call: When the generator is first called, it starts executing the function until it hits the yield statement. \n",
    "        #     It returns the value of i and pauses.\n",
    "        # Subsequent Calls: Each subsequent call to the generator resumes execution right after the yield statement, \n",
    "        #     continues until it hits the next yield, and pauses again.\n",
    "        yield i\n",
    "# Create the generator\n",
    "generator = generate_integers()\n",
    "\n",
    "# Build the Numpy array from the generator\n",
    "# np.fromiter: This function constructs a 1-D array from an iterable (in this case, the generator).\n",
    "# The dtype parameter specifies the desired data type of the array elements\n",
    "array_from_generator = np.fromiter(generator, dtype=int) #\n",
    "print(array_from_generator)"
   ]
  },
  {
   "cell_type": "markdown",
   "id": "836e5235-7d1c-411f-a2ce-04b4ed60050f",
   "metadata": {},
   "source": [
    "### 39. Create a vector of size 10 with values ranging from 0 to 1, both excluded"
   ]
  },
  {
   "cell_type": "code",
   "execution_count": 41,
   "id": "f5db058b-b691-4950-8682-7d141971daa5",
   "metadata": {},
   "outputs": [
    {
     "name": "stdout",
     "output_type": "stream",
     "text": [
      "[0.09090909 0.18181818 0.27272727 0.36363636 0.45454545 0.54545455\n",
      " 0.63636364 0.72727273 0.81818182 0.90909091]\n"
     ]
    }
   ],
   "source": [
    "# Create a vector of size 10 with values ranging from 0 to 1, both excluded\n",
    "vector = np.linspace(0, 1, 12, endpoint= True)[1:-1]\n",
    "# np.linspace(0, 1, 12, endpoint=True): This generates 12 evenly spaced values between 0 and 1, inclusive.\n",
    "# [1:-1]: This slices the array to exclude the first and last elements, resulting in 10 values between 0 and 1.\n",
    "print(vector)"
   ]
  },
  {
   "cell_type": "markdown",
   "id": "b368a590-45d2-4365-9792-959793a63023",
   "metadata": {},
   "source": [
    "### 40. Create a random vector of size 10 and sort it"
   ]
  },
  {
   "cell_type": "code",
   "execution_count": 42,
   "id": "3be1de12-16af-4af2-806a-3958fd9ca4b0",
   "metadata": {},
   "outputs": [
    {
     "name": "stdout",
     "output_type": "stream",
     "text": [
      "Original: [0.67760324 0.78010183 0.67521993 0.97375978 0.60661733 0.18453649\n",
      " 0.1871985  0.53562572 0.95263615 0.9118977 ]\n",
      " \n",
      "Sorted array: [0.18453649 0.1871985  0.53562572 0.60661733 0.67521993 0.67760324\n",
      " 0.78010183 0.9118977  0.95263615 0.97375978]\n"
     ]
    }
   ],
   "source": [
    "# Create a random vector of size 10\n",
    "random_vector = np.random.random(10)\n",
    "print(\"Original:\", random_vector)\n",
    "print(\" \")\n",
    "# Sort the array\n",
    "random_vector.sort()\n",
    "print(\"Sorted array:\", random_vector)"
   ]
  },
  {
   "cell_type": "markdown",
   "id": "cadfdfcf-c795-42d4-8c29-338abdbafe5c",
   "metadata": {},
   "source": [
    "### 41. How to sum a small array faser than np.sum?"
   ]
  },
  {
   "cell_type": "code",
   "execution_count": 43,
   "id": "8df46372-5e87-4706-be72-0082a8c5904c",
   "metadata": {},
   "outputs": [
    {
     "name": "stdout",
     "output_type": "stream",
     "text": [
      "15\n",
      "15\n",
      "15\n"
     ]
    }
   ],
   "source": [
    "# Using Python's buil-in sum function\n",
    "array = np.array([1, 2, 3, 4, 5])\n",
    "result = sum(array)\n",
    "print(result)\n",
    "\n",
    "# Using np.eisum\n",
    "# This function is highly optimized for various operations, including summation, and can be faster for certain array types\n",
    "result = np.einsum('i->', array)\n",
    "print(result)\n",
    "\n",
    "# Using np.add.reduce\n",
    "# This is another NumPy function that can be faster than np.sum for small arrays due to reduced overhead.\n",
    "result = np.add.reduce(array)\n",
    "print(result)"
   ]
  },
  {
   "cell_type": "markdown",
   "id": "efab34b8-74c2-458b-8c32-e569d27a820d",
   "metadata": {},
   "source": [
    "### 42. Consider two random array A and B, check if they are equal"
   ]
  },
  {
   "cell_type": "code",
   "execution_count": 44,
   "id": "5abcd007-91a2-4c00-9d93-8aa4906230cf",
   "metadata": {},
   "outputs": [
    {
     "name": "stdout",
     "output_type": "stream",
     "text": [
      "Array A: [0.45534894 0.73990822 0.10352032 0.17510449 0.93308029]\n",
      "Array B: [0.32232667 0.47680279 0.14968026 0.94164106 0.2881471 ]\n",
      "Are the arrays equal? False\n"
     ]
    }
   ],
   "source": [
    "# To check if two random arrays A and B are equal, you can use NumPy's array_equal function.\n",
    "# The function compares two arrays element-wise and return True if they are exactly the same, and False otherwise.\n",
    "A = np.random.rand(5) \n",
    "B = np.random.rand(5) \n",
    "\n",
    "# Check if they are equal\n",
    "are_equal = np.array_equal(A, B)\n",
    "print(\"Array A:\", A)\n",
    "print(\"Array B:\", B)\n",
    "print(\"Are the arrays equal?\", are_equal)\n"
   ]
  },
  {
   "cell_type": "markdown",
   "id": "4df7dce6-6363-466d-8dcd-ee47c81384fe",
   "metadata": {},
   "source": [
    "### 43. Make an array immutable (read-only)"
   ]
  },
  {
   "cell_type": "code",
   "execution_count": 45,
   "id": "2ee34337-e33e-4b77-86c6-c8b7fc1fb894",
   "metadata": {},
   "outputs": [
    {
     "name": "stdout",
     "output_type": "stream",
     "text": [
      "Error: assignment destination is read-only\n"
     ]
    }
   ],
   "source": [
    "# To make a Numpy array immutable (read-only), you can set it writable flag to False\n",
    "# Create a sample array\n",
    "array = np.array([1, 2, 3, 4, 5])\n",
    "# Make the array imutable\n",
    "array.flags.writeable = False \n",
    "# Trying to modify the array will now raise an error\n",
    "try:\n",
    "    array[0] = 10 \n",
    "except ValueError as e:\n",
    "    print(\"Error:\", e)"
   ]
  },
  {
   "cell_type": "markdown",
   "id": "93188862-5ff0-43e5-8b6c-b946c013d7a8",
   "metadata": {},
   "source": [
    "### 44. Consider a random 10x2 matrix representing cartesian coordinates, convert them to polar coordinates"
   ]
  },
  {
   "cell_type": "code",
   "execution_count": 46,
   "id": "f44e1a0b-aaca-4525-ac1c-295ede667a4f",
   "metadata": {},
   "outputs": [
    {
     "name": "stdout",
     "output_type": "stream",
     "text": [
      "[[0.47651853 0.80692476]\n",
      " [0.47691331 0.71317694]\n",
      " [0.90259288 0.4568064 ]\n",
      " [0.72182643 0.39353059]\n",
      " [0.28706864 0.1479503 ]\n",
      " [0.55204444 0.77117874]\n",
      " [0.55210774 0.42911759]\n",
      " [0.25717169 0.82772254]\n",
      " [0.35284539 0.12707011]\n",
      " [0.73414289 0.78959116]]\n",
      " \n",
      "[0.93712191 0.85794385 1.01160565 0.82213121 0.32295154 0.94840377\n",
      " 0.69926022 0.86675365 0.37502891 1.07815583]\n",
      " \n",
      "[1.03736434 0.98137583 0.46851935 0.49914072 0.47587814 0.94951511\n",
      " 0.66070504 1.26955404 0.34567041 0.82177184]\n",
      " \n",
      "Cartesian coordinates:\n",
      " [[0.47651853 0.80692476]\n",
      " [0.47691331 0.71317694]\n",
      " [0.90259288 0.4568064 ]\n",
      " [0.72182643 0.39353059]\n",
      " [0.28706864 0.1479503 ]\n",
      " [0.55204444 0.77117874]\n",
      " [0.55210774 0.42911759]\n",
      " [0.25717169 0.82772254]\n",
      " [0.35284539 0.12707011]\n",
      " [0.73414289 0.78959116]]\n",
      " \n",
      "Polar coordinates:\n",
      " [[0.93712191 1.03736434]\n",
      " [0.85794385 0.98137583]\n",
      " [1.01160565 0.46851935]\n",
      " [0.82213121 0.49914072]\n",
      " [0.32295154 0.47587814]\n",
      " [0.94840377 0.94951511]\n",
      " [0.69926022 0.66070504]\n",
      " [0.86675365 1.26955404]\n",
      " [0.37502891 0.34567041]\n",
      " [1.07815583 0.82177184]]\n"
     ]
    }
   ],
   "source": [
    "# Generate a random 10x2 matrix representing Cartesian cooridates\n",
    "cartesian_coords = np.random.rand(10,2) \n",
    "print(cartesian_coords)\n",
    "# Separate the x and y coordinates \n",
    "X = cartesian_coords[:,0]\n",
    "y = cartesian_coords[:,1]\n",
    "\n",
    "# Convert to polar coordinates\n",
    "r = np.sqrt(X**2 + y**2)\n",
    "theta = np. arctan2(y,X)\n",
    "print(\" \")\n",
    "print(r)\n",
    "print(\" \")\n",
    "print(theta)\n",
    "\n",
    "# Combine r and theta into a single array\n",
    "polar_coords = np.column_stack((r, theta))\n",
    "print(\" \")\n",
    "print(\"Cartesian coordinates:\\n\", cartesian_coords)\n",
    "print(\" \")\n",
    "print(\"Polar coordinates:\\n\", polar_coords)"
   ]
  },
  {
   "cell_type": "markdown",
   "id": "9e492661-afd2-4a76-8020-ad63ac65369b",
   "metadata": {},
   "source": [
    "### 45. Create a random vector of size 10 and replace the maximum value by 0"
   ]
  },
  {
   "cell_type": "code",
   "execution_count": 47,
   "id": "e3186efd-410b-486c-8346-72dda8f5bb4b",
   "metadata": {},
   "outputs": [
    {
     "name": "stdout",
     "output_type": "stream",
     "text": [
      "vector:\n",
      " [0.01263215 0.44946744 0.07888954 0.9558941  0.56024977 0.46093939\n",
      " 0.59658266 0.02129573 0.92181576 0.966862  ]\n",
      " \n",
      "max_index:\n",
      " 9\n",
      " \n",
      "Modified vector:\n",
      " [0.01263215 0.44946744 0.07888954 0.9558941  0.56024977 0.46093939\n",
      " 0.59658266 0.02129573 0.92181576 0.        ]\n"
     ]
    }
   ],
   "source": [
    "# Create a random vector of size 10\n",
    "vector = np.random.rand(10)\n",
    "print(\"vector:\\n\", vector)\n",
    "\n",
    "# Find the index of the maximum value \n",
    "max_index = vector.argmax()\n",
    "print(\" \")\n",
    "print(\"max_index:\\n\", max_index)\n",
    "\n",
    "# Replace the maximum value with 0\n",
    "vector[max_index] = 0 \n",
    "print(\" \")\n",
    "print(\"Modified vector:\\n\", vector)"
   ]
  },
  {
   "cell_type": "markdown",
   "id": "b2514d54-bfdd-471e-a369-22e95fcc4b22",
   "metadata": {},
   "source": [
    "### 46. Create a structured array with `x` and `y` coordinates covering the [0,1]x[0,1] area"
   ]
  },
  {
   "cell_type": "code",
   "execution_count": 48,
   "id": "9fb2a2d4-ea46-47b1-ba45-1b89c309016a",
   "metadata": {},
   "outputs": [
    {
     "name": "stdout",
     "output_type": "stream",
     "text": [
      "structured_array:\n",
      " [[(0., 0.) (0., 0.) (0., 0.) (0., 0.) (0., 0.) (0., 0.) (0., 0.) (0., 0.)\n",
      "  (0., 0.) (0., 0.)]\n",
      " [(0., 0.) (0., 0.) (0., 0.) (0., 0.) (0., 0.) (0., 0.) (0., 0.) (0., 0.)\n",
      "  (0., 0.) (0., 0.)]\n",
      " [(0., 0.) (0., 0.) (0., 0.) (0., 0.) (0., 0.) (0., 0.) (0., 0.) (0., 0.)\n",
      "  (0., 0.) (0., 0.)]\n",
      " [(0., 0.) (0., 0.) (0., 0.) (0., 0.) (0., 0.) (0., 0.) (0., 0.) (0., 0.)\n",
      "  (0., 0.) (0., 0.)]\n",
      " [(0., 0.) (0., 0.) (0., 0.) (0., 0.) (0., 0.) (0., 0.) (0., 0.) (0., 0.)\n",
      "  (0., 0.) (0., 0.)]\n",
      " [(0., 0.) (0., 0.) (0., 0.) (0., 0.) (0., 0.) (0., 0.) (0., 0.) (0., 0.)\n",
      "  (0., 0.) (0., 0.)]\n",
      " [(0., 0.) (0., 0.) (0., 0.) (0., 0.) (0., 0.) (0., 0.) (0., 0.) (0., 0.)\n",
      "  (0., 0.) (0., 0.)]\n",
      " [(0., 0.) (0., 0.) (0., 0.) (0., 0.) (0., 0.) (0., 0.) (0., 0.) (0., 0.)\n",
      "  (0., 0.) (0., 0.)]\n",
      " [(0., 0.) (0., 0.) (0., 0.) (0., 0.) (0., 0.) (0., 0.) (0., 0.) (0., 0.)\n",
      "  (0., 0.) (0., 0.)]\n",
      " [(0., 0.) (0., 0.) (0., 0.) (0., 0.) (0., 0.) (0., 0.) (0., 0.) (0., 0.)\n",
      "  (0., 0.) (0., 0.)]]\n",
      " \n",
      "Structured array with x and y coordinates:\n",
      "  [[(0.        , 0.        ) (0.11111111, 0.        )\n",
      "  (0.22222222, 0.        ) (0.33333333, 0.        )\n",
      "  (0.44444444, 0.        ) (0.55555556, 0.        )\n",
      "  (0.66666667, 0.        ) (0.77777778, 0.        )\n",
      "  (0.88888889, 0.        ) (1.        , 0.        )]\n",
      " [(0.        , 0.11111111) (0.11111111, 0.11111111)\n",
      "  (0.22222222, 0.11111111) (0.33333333, 0.11111111)\n",
      "  (0.44444444, 0.11111111) (0.55555556, 0.11111111)\n",
      "  (0.66666667, 0.11111111) (0.77777778, 0.11111111)\n",
      "  (0.88888889, 0.11111111) (1.        , 0.11111111)]\n",
      " [(0.        , 0.22222222) (0.11111111, 0.22222222)\n",
      "  (0.22222222, 0.22222222) (0.33333333, 0.22222222)\n",
      "  (0.44444444, 0.22222222) (0.55555556, 0.22222222)\n",
      "  (0.66666667, 0.22222222) (0.77777778, 0.22222222)\n",
      "  (0.88888889, 0.22222222) (1.        , 0.22222222)]\n",
      " [(0.        , 0.33333333) (0.11111111, 0.33333333)\n",
      "  (0.22222222, 0.33333333) (0.33333333, 0.33333333)\n",
      "  (0.44444444, 0.33333333) (0.55555556, 0.33333333)\n",
      "  (0.66666667, 0.33333333) (0.77777778, 0.33333333)\n",
      "  (0.88888889, 0.33333333) (1.        , 0.33333333)]\n",
      " [(0.        , 0.44444444) (0.11111111, 0.44444444)\n",
      "  (0.22222222, 0.44444444) (0.33333333, 0.44444444)\n",
      "  (0.44444444, 0.44444444) (0.55555556, 0.44444444)\n",
      "  (0.66666667, 0.44444444) (0.77777778, 0.44444444)\n",
      "  (0.88888889, 0.44444444) (1.        , 0.44444444)]\n",
      " [(0.        , 0.55555556) (0.11111111, 0.55555556)\n",
      "  (0.22222222, 0.55555556) (0.33333333, 0.55555556)\n",
      "  (0.44444444, 0.55555556) (0.55555556, 0.55555556)\n",
      "  (0.66666667, 0.55555556) (0.77777778, 0.55555556)\n",
      "  (0.88888889, 0.55555556) (1.        , 0.55555556)]\n",
      " [(0.        , 0.66666667) (0.11111111, 0.66666667)\n",
      "  (0.22222222, 0.66666667) (0.33333333, 0.66666667)\n",
      "  (0.44444444, 0.66666667) (0.55555556, 0.66666667)\n",
      "  (0.66666667, 0.66666667) (0.77777778, 0.66666667)\n",
      "  (0.88888889, 0.66666667) (1.        , 0.66666667)]\n",
      " [(0.        , 0.77777778) (0.11111111, 0.77777778)\n",
      "  (0.22222222, 0.77777778) (0.33333333, 0.77777778)\n",
      "  (0.44444444, 0.77777778) (0.55555556, 0.77777778)\n",
      "  (0.66666667, 0.77777778) (0.77777778, 0.77777778)\n",
      "  (0.88888889, 0.77777778) (1.        , 0.77777778)]\n",
      " [(0.        , 0.88888889) (0.11111111, 0.88888889)\n",
      "  (0.22222222, 0.88888889) (0.33333333, 0.88888889)\n",
      "  (0.44444444, 0.88888889) (0.55555556, 0.88888889)\n",
      "  (0.66666667, 0.88888889) (0.77777778, 0.88888889)\n",
      "  (0.88888889, 0.88888889) (1.        , 0.88888889)]\n",
      " [(0.        , 1.        ) (0.11111111, 1.        )\n",
      "  (0.22222222, 1.        ) (0.33333333, 1.        )\n",
      "  (0.44444444, 1.        ) (0.55555556, 1.        )\n",
      "  (0.66666667, 1.        ) (0.77777778, 1.        )\n",
      "  (0.88888889, 1.        ) (1.        , 1.        )]]\n"
     ]
    }
   ],
   "source": [
    "# To create a structured array with (x) and (y) coordinates covering the ([0,1] x [0,1]) \n",
    "# area, we can use Numpy's meshgrid function along with a structured array\n",
    "# Define the grid size\n",
    "grid_size = 10 \n",
    "\n",
    "# Create a structured array with 'x' and 'y'\n",
    "structured_array = np.zeros((grid_size, grid_size), dtype=[('x', float), ('y', float) ])\n",
    "print(\"structured_array:\\n\", structured_array)\n",
    "\n",
    "# Generate the x and y coordinates\n",
    "x,y = np.meshgrid(np.linspace(0,1, grid_size), np.linspace(0,1, grid_size))\n",
    "\n",
    "# Assign the coordinates to the structured array\n",
    "structured_array['x'], structured_array['y'] = x, y \n",
    "print(\" \")\n",
    "print(\"Structured array with x and y coordinates:\\n \", structured_array)\n",
    "\n"
   ]
  },
  {
   "cell_type": "markdown",
   "id": "8c1c506a-cdb3-4816-9493-3b2898281918",
   "metadata": {},
   "source": [
    "### 47. Given two arrays, X and Y, construct the Cauchy matrix C (Cij = 1(/Xi-Yj))"
   ]
  },
  {
   "cell_type": "code",
   "execution_count": 49,
   "id": "63418b8f-3680-4ba6-b8c6-56c3f7289b35",
   "metadata": {},
   "outputs": [
    {
     "name": "stdout",
     "output_type": "stream",
     "text": [
      "[[-0.33333333 -0.25       -0.2       ]\n",
      " [-0.5        -0.33333333 -0.25      ]\n",
      " [-1.         -0.5        -0.33333333]]\n"
     ]
    }
   ],
   "source": [
    "# Example arrays\n",
    "x = np.array([1,2,3])\n",
    "y = np.array([4,5,6])\n",
    "\n",
    "# Constructing the Cauchy matrix\n",
    "C = 1.0/(x[:, np.newaxis]- y)\n",
    "# X[:, np.newaxis] reshapes X to a column vector\n",
    "# The subtraction X[:, np.newaxis] - Y creates a matrix where each element is the difference between elements of X and Y\n",
    "print(C)"
   ]
  },
  {
   "cell_type": "markdown",
   "id": "f3dd5e18-fbff-4a99-82dc-80ce77ae3303",
   "metadata": {},
   "source": [
    "### 48. Print the minimum and maximum representable value for each numpy scalar type"
   ]
  },
  {
   "cell_type": "code",
   "execution_count": 50,
   "id": "7bd85a92-8464-4d61-9602-dd5679f90292",
   "metadata": {},
   "outputs": [
    {
     "name": "stdout",
     "output_type": "stream",
     "text": [
      "dtype: int\n",
      "Minimum value: -2147483648\n",
      "Maximum value: 2147483647\n",
      "\n",
      "dtype: uint\n",
      "Minimum value: 0\n",
      "Maximum value: 4294967295\n",
      "\n"
     ]
    }
   ],
   "source": [
    "import numpy as np\n",
    "\n",
    "# np.sctypes: This attribute of the NumPy module returns a sequence containing all scalar data types supported by NumPy. \n",
    "# These data types include integers, floating-point numbers, complex numbers, booleans, and more.\n",
    "for dtype in np.sctypes:\n",
    "\n",
    "    #  Directly check if the dtype name starts with characters representing integer types. \n",
    "    # This works because standard integer type names in NumPy usually begin with 'i', 'u', or 'b' (signed integer, unsigned integer, and boolean)\n",
    "  if str(dtype)[0] in ('i', 'u', 'b'):  \n",
    "    print(f\"dtype: {dtype}\")\n",
    "    print(f\"Minimum value: {np.iinfo(dtype).min}\")\n",
    "    print(f\"Maximum value: {np.iinfo(dtype).max}\")\n",
    "    print()"
   ]
  },
  {
   "cell_type": "markdown",
   "id": "987da202-db60-41bb-bf7f-cb5519d4e51c",
   "metadata": {},
   "source": [
    "### 49. How to print all the values of an array"
   ]
  },
  {
   "cell_type": "code",
   "execution_count": 51,
   "id": "85471db5-6e0a-4f76-a2fe-807fa3d8136b",
   "metadata": {},
   "outputs": [
    {
     "name": "stdout",
     "output_type": "stream",
     "text": [
      "[1 2 3 4 5]\n",
      "\n",
      "[1 2 3 4 5]\n",
      "\n",
      "1\n",
      "2\n",
      "3\n",
      "4\n",
      "5\n"
     ]
    }
   ],
   "source": [
    "arr = np.array([1,2,3,4,5])\n",
    "# 1. Using print() directly\n",
    "print(arr)\n",
    "print()\n",
    "# 2. Using np.array2string()\n",
    "print(np.array2string(arr))\n",
    "print()\n",
    "# 3. Using a loop\n",
    "for value in arr:\n",
    "    print(value)"
   ]
  },
  {
   "cell_type": "markdown",
   "id": "2bcdc3db-1b23-4506-9fff-112632ab4735",
   "metadata": {},
   "source": [
    "### 50. How to find the closest value (to a given scalar) in a vector"
   ]
  },
  {
   "cell_type": "code",
   "execution_count": 52,
   "id": "7e4f6cd2-f6ab-4b66-95dd-e5c0e1942b21",
   "metadata": {},
   "outputs": [
    {
     "name": "stdout",
     "output_type": "stream",
     "text": [
      "differences:\n",
      " [8 6 1 1 6]\n",
      "\n",
      "index_of_min:\n",
      " 2\n",
      "\n",
      "The closet value to 9 is 8\n"
     ]
    }
   ],
   "source": [
    "# Example array and scalar\n",
    "arr = np.array([1,3,8,10,15])\n",
    "scalar = 9 \n",
    "\n",
    "# Calculate the absolute differences\n",
    "differences = np.abs(arr - scalar)\n",
    "print(\"differences:\\n\", differences)\n",
    "\n",
    "# Find the index of the minimum difference\n",
    "index_of_min = np.argmin(differences)\n",
    "print()\n",
    "print(\"index_of_min:\\n\", index_of_min)\n",
    "\n",
    "# Get the closest value\n",
    "closest_value = arr[index_of_min]\n",
    "print()\n",
    "print(f\"The closet value to {scalar} is {closest_value}\")"
   ]
  },
  {
   "cell_type": "markdown",
   "id": "f8f036d4-c90e-4d1b-93a9-4e7ad84ec28f",
   "metadata": {},
   "source": [
    "### 51. Create a structured array representing a position (x,y) and a color (r,g,b) "
   ]
  },
  {
   "cell_type": "code",
   "execution_count": 53,
   "id": "37a2bf8c-3948-4527-b3ff-1ccd2e3b1475",
   "metadata": {},
   "outputs": [
    {
     "name": "stdout",
     "output_type": "stream",
     "text": [
      "[((1., 2.), (255,   0,   0)) ((3., 4.), (  0, 255,   0))\n",
      " ((5., 6.), (  0,   0, 255))]\n",
      "First position: (1., 2.)\n",
      "First color: (255, 0, 0)\n"
     ]
    }
   ],
   "source": [
    "\"\"\"To create a structured array in Numpy that represents a position (x,y) and a color (r,g,b), \n",
    "we can define a custom data type and then create the array using  that data type.\"\"\"\n",
    "# Define the data type with fields for position and color\n",
    "# Define a structured data type with two fields: position (containing x and y coordinates) and color (containing r, g, and b values)\n",
    "dtype = np.dtype([\n",
    "    ('position', [('x', np.float32), ('y', np.float32)]),\n",
    "    ('color', [('r', np.uint8), ('g', np.uint8), ('b', np.uint8)])\n",
    "])\n",
    "# Create a structured array with the defined data type\n",
    "data = np.array([\n",
    "    ((1.0,2.0), (255,0,0)),\n",
    "    ((3.0,4.0), (0,255,0)),\n",
    "    ((5.0, 6.0), (0,0,255))\n",
    "], dtype=dtype)\n",
    "\n",
    "# Accessing the data\n",
    "print(data)\n",
    "print(\"First position:\", data['position'][0])\n",
    "print(\"First color:\", data['color'][0])"
   ]
  },
  {
   "cell_type": "markdown",
   "id": "f59c690a-f99e-47ff-a100-b78e0bbd0926",
   "metadata": {},
   "source": [
    "### 52. Consider a random vector with shape (100,2) representing coordinates, find point by point distances"
   ]
  },
  {
   "cell_type": "code",
   "execution_count": 54,
   "id": "64dbaf1e-d145-4b19-b8a9-57955f751520",
   "metadata": {},
   "outputs": [
    {
     "name": "stdout",
     "output_type": "stream",
     "text": [
      "[[0.         0.87140422 0.75215119 ... 0.72892697 0.53805494 0.4973739 ]\n",
      " [0.87140422 0.         0.64551405 ... 0.17506407 0.53714272 0.98370826]\n",
      " [0.75215119 0.64551405 0.         ... 0.49264036 0.2427054  0.50088012]\n",
      " ...\n",
      " [0.72892697 0.17506407 0.49264036 ... 0.         0.3626687  0.80873702]\n",
      " [0.53805494 0.53714272 0.2427054  ... 0.3626687  0.         0.45209101]\n",
      " [0.4973739  0.98370826 0.50088012 ... 0.80873702 0.45209101 0.        ]]\n"
     ]
    }
   ],
   "source": [
    "# Generate a random vector with shape (100,2)\n",
    "coordinates = np.random.rand(100,2)\n",
    "\n",
    "# Calculate the pairwise distances\n",
    "    # coordinates[:, np.newaxis] adds a new axis to coordinates, changing its shape from (100, 2) to (100, 1, 2). \n",
    "        # This effectively turns each 2D coordinate into a 1x2 array, allowing for broadcasting in the next step\n",
    "    # coordinates[:, np.newaxis] - coordinates:\n",
    "        # Here, we subtract the original coordinates array (shape (100, 2)) from the expanded coordinates array (shape (100, 1, 2)).\n",
    "        # Due to broadcasting, this operation results in an array of shape (100, 100, 2), \n",
    "        # where each element (i, j) is the difference between the i-th and j-th coordinates\n",
    "    # np.linalg.norm(..., axis=2):\n",
    "        # np.linalg.norm computes the Euclidean norm (or distance) along the specified axis.\n",
    "        # By setting axis=2, we calculate the norm along the last axis of the (100, 100, 2) array, which corresponds to the 2D differences between points.\n",
    "        # This results in a (100, 100) array where each element (i, j) represents the Euclidean distance between the i-th and j-th points\n",
    "distances = np.linalg.norm(coordinates[:, np.newaxis] - coordinates, axis=2)\n",
    "\n",
    "print(distances)"
   ]
  },
  {
   "cell_type": "markdown",
   "id": "2063fff8-63f2-4f26-a8ab-652c8562936a",
   "metadata": {},
   "source": [
    "### 53. How to convert a float (32 bits) array into an integer (32 bits) in place?"
   ]
  },
  {
   "cell_type": "markdown",
   "id": "03514f0a-91f3-4382-b3ef-fe72d1e8c633",
   "metadata": {},
   "source": [
    "To convert a float (32) array into an array (32 bits) array in place using Numpy, we can use the `astype` method. However, \n",
    "note that `astype` does not modify the array in place; it creates a new array. To achieve an in-place conversion, we can use the `view`\n",
    "method to reinterpret the data type and then assign the values back."
   ]
  },
  {
   "cell_type": "code",
   "execution_count": 55,
   "id": "bddd4e02-e9a8-4a49-b515-94d949456d8c",
   "metadata": {},
   "outputs": [
    {
     "name": "stdout",
     "output_type": "stream",
     "text": [
      "[1.02746099e+09 1.06243654e+09 1.03371136e+09 1.05743706e+09\n",
      " 1.06364115e+09 1.05915814e+09 1.06291840e+09 1.06260083e+09\n",
      " 1.05801229e+09 1.06412474e+09]\n"
     ]
    }
   ],
   "source": [
    "# Create a float32 array\n",
    "float_array = np.random.rand(10).astype(np.float32)\n",
    "# Convert the float array to int32 in place\n",
    "float_array[:] = float_array.view(np.int32)\n",
    "print(float_array)"
   ]
  },
  {
   "cell_type": "markdown",
   "id": "c7aed180-7910-4d9e-b5b7-ea26abe52151",
   "metadata": {},
   "source": [
    "### 54. How to read the following file? \n",
    ">1, 2, 3, 4, 5\n",
    "\n",
    ">6,  ,  , 7, 8\n",
    "\n",
    ">,  , 9,10,11 "
   ]
  },
  {
   "cell_type": "markdown",
   "id": "8427f9bd-0bea-41ce-aff7-699238ae7baf",
   "metadata": {},
   "source": [
    "To read a file with missing values, we can use the pandas.read_csv function, which handles missing values gracefully. "
   ]
  },
  {
   "cell_type": "code",
   "execution_count": 56,
   "id": "c3aa89d6-3c47-4b5e-a3b2-4505f2270f9a",
   "metadata": {},
   "outputs": [
    {
     "ename": "NameError",
     "evalue": "name 'pd' is not defined",
     "output_type": "error",
     "traceback": [
      "\u001b[1;31m---------------------------------------------------------------------------\u001b[0m",
      "\u001b[1;31mNameError\u001b[0m                                 Traceback (most recent call last)",
      "Cell \u001b[1;32mIn[56], line 7\u001b[0m\n\u001b[0;32m      5\u001b[0m         file\u001b[38;5;241m.\u001b[39mwrite(\u001b[38;5;124m\"\u001b[39m\u001b[38;5;124m ,  , 9,10,11\u001b[39m\u001b[38;5;130;01m\\n\u001b[39;00m\u001b[38;5;124m\"\u001b[39m)\n\u001b[0;32m      6\u001b[0m \u001b[38;5;66;03m# Read the the file into a DataFrame\u001b[39;00m\n\u001b[1;32m----> 7\u001b[0m df \u001b[38;5;241m=\u001b[39m pd\u001b[38;5;241m.\u001b[39mread_csv(\u001b[38;5;124m'\u001b[39m\u001b[38;5;124msample.csv\u001b[39m\u001b[38;5;124m'\u001b[39m, header\u001b[38;5;241m=\u001b[39m \u001b[38;5;28;01mNone\u001b[39;00m, skipinitialspace\u001b[38;5;241m=\u001b[39m \u001b[38;5;28;01mTrue\u001b[39;00m)\n\u001b[0;32m      8\u001b[0m \u001b[38;5;66;03m# header=None indicates that the file does not have a header row\u001b[39;00m\n\u001b[0;32m      9\u001b[0m \u001b[38;5;66;03m# skipinitialspace=True ensures that any spaces after the commas are ignored \u001b[39;00m\n\u001b[0;32m     11\u001b[0m \u001b[38;5;28mprint\u001b[39m(df)\n",
      "\u001b[1;31mNameError\u001b[0m: name 'pd' is not defined"
     ]
    }
   ],
   "source": [
    "# Create a sample file with the given data \n",
    "with open('sample.csv', 'w') as file:\n",
    "        file.write(\"1, 2, 3, 4, 5\\n\")\n",
    "        file.write(\"6,  ,  , 7, 8\\n\")\n",
    "        file.write(\" ,  , 9,10,11\\n\")\n",
    "# Read the the file into a DataFrame\n",
    "df = pd.read_csv('sample.csv', header= None, skipinitialspace= True)\n",
    "# header=None indicates that the file does not have a header row\n",
    "# skipinitialspace=True ensures that any spaces after the commas are ignored \n",
    "\n",
    "print(df)"
   ]
  },
  {
   "cell_type": "markdown",
   "id": "2335f990-a40b-4a9f-820d-596b603f393a",
   "metadata": {},
   "source": [
    "### 55. What is the equivalent of enumerate for numpy arrays?"
   ]
  },
  {
   "cell_type": "markdown",
   "id": "865b4652-bd0e-48c9-9809-c0b9301663ed",
   "metadata": {},
   "source": [
    "The equivalent of `enumerate` for Numpy arrays is `np.ndenumerate`. This\n",
    "function allows you to iterate over a Numpy array while getting both the index and the value of each element."
   ]
  },
  {
   "cell_type": "code",
   "execution_count": null,
   "id": "783ad72d-d774-4d79-8a21-e859d87a9812",
   "metadata": {},
   "outputs": [],
   "source": [
    "# Example with a 1D array\n",
    "arr = np.array([10,20,30,40])\n",
    "for index, value in np.ndenumerate(arr):\n",
    "    print(index, value)\n",
    "print()\n",
    "# Example with a 2D array\n",
    "arr = np.array([[1,2], [3,4]])\n",
    "for index, value in np.ndenumerate(arr):\n",
    "    print(index, value)\n",
    "    "
   ]
  },
  {
   "cell_type": "markdown",
   "id": "b4c55558-7bfe-4143-92c6-efcdc58dbfa2",
   "metadata": {},
   "source": [
    "### 56. Generate a generic 2D Gaussian-like array"
   ]
  },
  {
   "cell_type": "code",
   "execution_count": null,
   "id": "c61ca460-f2c9-4637-8c27-05ccca8b040c",
   "metadata": {},
   "outputs": [],
   "source": [
    "def generate_2d_gaussian(kernel_size, sigma=1.0):\n",
    "    # Create a grid of (x, y) coordinate\n",
    "    # np.linspace(-1, 1, kernel_size):\n",
    "        # This function generates kernel_size evenly spaced values between -1 and 1.\n",
    "        # For example, if kernel_size is 5, np.linspace(-1, 1, 5) would produce the array [-1, -0.5, 0, 0.5, 1].\n",
    "    # np.meshgrid:\n",
    "        #This function takes two 1D arrays and produces two 2D matrices (grids) from them.\n",
    "        #The first array represents the x-coordinates and the second array represents the y-coordinates.\n",
    "    x, y = np.meshgrid(np.linspace(-1,1, kernel_size), np.linspace(-1,1,kernel_size))\n",
    "    \n",
    "    # Calculate the distance from center\n",
    "    d = np.sqrt(x**2 + y**2)\n",
    "\n",
    "    # Calculate the Gaussian function\n",
    "    g = np.exp(-((d**2)/ (2.0 * sigma**2)))\n",
    "\n",
    "    # Normalize the Gaussian function\n",
    "    g /= g.sum()\n",
    "\n",
    "    return g\n",
    "# Example usage\n",
    "kernel_size = 5 \n",
    "sigma = 1.0\n",
    "gaussian_array = generate_2d_gaussian(kernel_size, sigma)\n",
    "print(gaussian_array)"
   ]
  },
  {
   "cell_type": "markdown",
   "id": "2ad3f3a9-c5e7-4ab7-bf2e-ca1ed0f11cee",
   "metadata": {},
   "source": [
    "### 57. How to randomly place p elements in a 2D array?"
   ]
  },
  {
   "cell_type": "code",
   "execution_count": null,
   "id": "4227bfd5-62fe-41e5-9e95-fbd2f1337e8d",
   "metadata": {},
   "outputs": [],
   "source": [
    "# Define the dimensions of the 2D array\n",
    "row, cols = 5,5 \n",
    "\n",
    "# Create an empty 2D array\n",
    "array = np.zeros((row, cols))\n",
    "\n",
    "# Define the number of elements to place\n",
    "p = 10 \n",
    "\n",
    "# Define the elements to place (can be any values you want)\n",
    "elements = np.arange(1, p+1)\n",
    "\n",
    "# Randomly choose positions in the array\n",
    "positions = np.random.choice(row*cols, p, replace = False)\n",
    "\n",
    "# Place the elements in the chosen positions\n",
    "# zip(positions, elements):\n",
    "# This function pairs each element in positions with the corresponding element in elements. \n",
    "    # For example, if positions = [3, 7, 12] and elements = [1, 2, 3], zip(positions, elements) will produce pairs like (3, 1), (7, 2), and (12, 3)\n",
    "for pos, element in zip(positions, elements):\n",
    "    array[pos// cols, pos % cols] = element \n",
    "print(array)\n"
   ]
  },
  {
   "cell_type": "markdown",
   "id": "4389355f-94c4-46e4-9154-3af695ce85a5",
   "metadata": {},
   "source": [
    "### 58. Subtract the mean of each row of a matrix"
   ]
  },
  {
   "cell_type": "code",
   "execution_count": null,
   "id": "61476968-4175-4df6-b407-6b88090b3394",
   "metadata": {},
   "outputs": [],
   "source": [
    "# Create a sample 2D array (matrix)\n",
    "matrix = np.array([[1, 2, 3], \n",
    "                   [4, 5, 6], \n",
    "                   [7, 8, 9]])\n",
    "# Calculate the mean of each row\n",
    "    # This calculates the mean of each row. The axis=1 parameter specifies that the mean should be computed along the rows. \n",
    "    # The keepdims=True parameter ensures that the result has the same number of dimensions as the original matrix, which is necessary for broadcasting.\n",
    "row_means = matrix.mean(axis=1, keepdims = True)\n",
    "\n",
    "# Subtract the mean of each row from the corresponding row elements\n",
    "result = matrix - row_means\n",
    "\n",
    "print(\"Original matrix:\\n\", matrix)\n",
    "print(\"Row means:\\n\", row_means)\n",
    "print(\"Matrix after subtracting row means: \\n\", result)"
   ]
  },
  {
   "cell_type": "markdown",
   "id": "ee5cffe5-ca44-44e5-8728-0e2a9c7b7d68",
   "metadata": {},
   "source": [
    "### 59. How to sort an array by the nth column"
   ]
  },
  {
   "cell_type": "code",
   "execution_count": null,
   "id": "c24f8590-8d90-4f73-96e9-f6d8a4529b4e",
   "metadata": {},
   "outputs": [],
   "source": [
    "# Create a sample 2D array (matrix)\n",
    "matrix = np.array([[9, 2, 3], \n",
    "                   [4, 5, 6], \n",
    "                   [7, 0, 5]])\n",
    "\n",
    "# Define the column index to sort by (e.g., 1 for the second column)\n",
    "n = 1 \n",
    "\n",
    "# Get the indices that would sort the nth column\n",
    "    # matrix[:, n]:\n",
    "        #This extracts the ( n )-th column from the 2D array matrix. The colon (:) indicates that we want all rows, and n specifies the column index.\n",
    "    # .argsort():\n",
    "        # This function returns the indices that would sort the array. \n",
    "sorted_indices = matrix[:, n].argsort()\n",
    "print(\"Sorted_indices: \\n\", sorted_indices)\n",
    "\n",
    "# Use the sorted indices to reorder the rows of the matrix\n",
    "sorted_matrix = matrix[sorted_indices]\n",
    "\n",
    "print(\"Original matrix:\\n\", matrix)\n",
    "print(\"Sorted matrix by column\", n, \":\\n\", sorted_matrix)"
   ]
  },
  {
   "cell_type": "markdown",
   "id": "494b2b10-aaf6-4ef8-9eba-e792dcc8a3f4",
   "metadata": {},
   "source": [
    "### 60. How to tell if a given 2D array has null columns?"
   ]
  },
  {
   "cell_type": "code",
   "execution_count": 57,
   "id": "9ef39924-31ff-4c6e-aa0e-369c54f765cf",
   "metadata": {},
   "outputs": [
    {
     "name": "stdout",
     "output_type": "stream",
     "text": [
      "Does the array have columns? True\n"
     ]
    }
   ],
   "source": [
    "# Example 2D array\n",
    "array = np.array([[1, 0, 3],\n",
    "    [4, 0, 6],\n",
    "    [7, 0, 9]])\n",
    "\n",
    "# Check for null columns\n",
    "# array.any(axis=0) returns a boolean array where each element is True if the corresponding column has any non-zero elements, and False otherwise\n",
    "# ~array.any(axis=0) inverts the boolean array, so True indicates a column with all zeros\n",
    "null_columns = (~array.any(axis=0)).any()\n",
    "print(\"Does the array have columns?\", null_columns)"
   ]
  },
  {
   "cell_type": "markdown",
   "id": "ea8b1dbe-e5e1-4cf0-8212-e35d251e941a",
   "metadata": {},
   "source": [
    "### 61. Find the nearest value from a given value in an array"
   ]
  },
  {
   "cell_type": "code",
   "execution_count": 58,
   "id": "3d07c747-1e2b-49b6-8167-40546cccc308",
   "metadata": {},
   "outputs": [
    {
     "name": "stdout",
     "output_type": "stream",
     "text": [
      "index:\n",
      " 2\n",
      "The nearest value to 15 is 14\n"
     ]
    }
   ],
   "source": [
    "# Example array\n",
    "array = np.array([10, 22, 14, 7, 33, 5, 18])\n",
    "\n",
    "# Target value\n",
    "target_value = 15\n",
    "\n",
    "# Find the index of the nearest value\n",
    "# .argmin() finds the index of the smallest difference.\n",
    "index = np.abs(array - target_value).argmin()\n",
    "print(\"index:\\n\",index)\n",
    "\n",
    "# Get the nearest value\n",
    "# array[index] retrieves the element at that index, which is the nearest value to the target\n",
    "nearest_value = array[index]\n",
    "\n",
    "print(\"The nearest value to\", target_value, \"is\", nearest_value)"
   ]
  },
  {
   "cell_type": "markdown",
   "id": "577d0f75-814c-4398-ac7c-44d62b182d29",
   "metadata": {},
   "source": [
    "### 62. Considering two arrays with shape(1,3) and (3,1), how to compute their sum using an iterator?"
   ]
  },
  {
   "cell_type": "markdown",
   "id": "7c694c9d-d7af-4ce3-a7e7-1f2bd99457ab",
   "metadata": {},
   "source": [
    "To compute the sum of two arrays with shape (1,3) and (3,1) using an iterator, we can use the nditer function. This function allows us to iterate over arrays in a flexible way."
   ]
  },
  {
   "cell_type": "code",
   "execution_count": 62,
   "id": "bdd2a551-9d89-4f92-aa43-01f9a33de1de",
   "metadata": {},
   "outputs": [
    {
     "name": "stdout",
     "output_type": "stream",
     "text": [
      "Array 1:\n",
      " [[1 2 3]]\n",
      "Array 2:\n",
      " [[4]\n",
      " [5]\n",
      " [6]]\n",
      "Sum:\n",
      " [[5. 6. 7.]\n",
      " [6. 7. 8.]\n",
      " [7. 8. 9.]]\n"
     ]
    }
   ],
   "source": [
    "# Create the arrays\n",
    "array1 = np.array([[1, 2, 3]])\n",
    "array2 = np.array([[4], [5], [6]])\n",
    "\n",
    "# Allocates space for the result array\n",
    "result = np.empty((3,3))\n",
    "# Initialize an iterator with broadcasting enabled\n",
    "# np.nditer is initialized with the two input arrays and the allocated result array\n",
    "it = np.nditer([array1, array2, result], flags=['external_loop'], op_flags=[['readonly'], ['readonly'], ['writeonly']], op_axes=[None, None, [0, 1]])\n",
    "\n",
    "# Compute the sum using the iterator\n",
    "# The loop iterates over the elements of the arrays, computes their sum, and stores it in the result array\n",
    "for x, y, z in it:\n",
    "    z[...] = x + y\n",
    "\n",
    "# Get the result array\n",
    "result = it.operands[2]\n",
    "\n",
    "print(\"Array 1:\\n\", array1)\n",
    "print(\"Array 2:\\n\", array2)\n",
    "print(\"Sum:\\n\", result)\n"
   ]
  },
  {
   "cell_type": "markdown",
   "id": "6a2ca2b4-5fef-4525-9c56-ff6e9a4d19ab",
   "metadata": {},
   "source": [
    "### 63. Create an array class that has a name attribute"
   ]
  },
  {
   "cell_type": "code",
   "execution_count": 68,
   "id": "94cc11ca-ad7f-4af1-b365-912e5dca2624",
   "metadata": {},
   "outputs": [
    {
     "name": "stdout",
     "output_type": "stream",
     "text": [
      "Array:\n",
      " [[1 2 3]\n",
      " [4 5 6]]\n",
      "Name:\n",
      " MyArray\n"
     ]
    }
   ],
   "source": [
    "class NamedArray(np.ndarray):\n",
    "    def __new__(cls, input_array, name=\"\"):\n",
    "        \n",
    "        \"\"\"__new__ Method: This method is responsible for creating and returning a new instance of the class. \n",
    "        It uses np.asarray to convert the input array to an ndarray and then views it as an instance of NamedArray.\n",
    "        The name attribute is added to the instance\"\"\"\n",
    "        \n",
    "        obj = np.asarray(input_array).view(cls)\n",
    "        obj.name = name \n",
    "        return obj \n",
    "\n",
    "    def __array_finalize__(self,obj):\n",
    "\n",
    "        \"\"\"\n",
    "        __array_finalize__ Method: This method ensures that the name attribute is preserved \n",
    "        when the array is sliced or viewed in different ways.\n",
    "        \"\"\"\n",
    "        \n",
    "        if obj is None:\n",
    "            return \n",
    "        self.name = getattr(obj, 'name', \"\")\n",
    "\n",
    "# Example usage\n",
    "array = NamedArray([[1, 2, 3], [4, 5, 6]], name = \"MyArray\")\n",
    "print(\"Array:\\n\", array)\n",
    "print(\"Name:\\n\", array.name)"
   ]
  },
  {
   "cell_type": "markdown",
   "id": "ddb46d0f-55c9-4dae-bf36-7f979164bc72",
   "metadata": {},
   "source": [
    "### 64. Consider a given vector, how to add 1 to each element indexed by a second vector (be careful with repeated indices)?"
   ]
  },
  {
   "cell_type": "code",
   "execution_count": 69,
   "id": "666c3354-19ae-48b2-87df-640adc825637",
   "metadata": {},
   "outputs": [
    {
     "name": "stdout",
     "output_type": "stream",
     "text": [
      "Updated vector: [ 0  2  2  5  4  6  6 10  8  9]\n"
     ]
    }
   ],
   "source": [
    "# Example vector\n",
    "vector = np.array([0, 1, 2, 3, 4, 5, 6, 7, 8, 9])\n",
    "\n",
    "# Index vector (with repeated indices)\n",
    "indices = np.array([1, 3, 3, 5, 7, 7, 7])\n",
    "\n",
    "# Use np.add.at to add 1 to each element indexed by the indices\n",
    "np.add.at(vector, indices, 1)\n",
    "\n",
    "print(\"Updated vector:\", vector)"
   ]
  },
  {
   "cell_type": "markdown",
   "id": "caa022d0-dd0c-4482-9585-f3803c2970d9",
   "metadata": {},
   "source": [
    "### 65. How to accumulate elements of a vector (X) to an array (F) based on an index list (I)?"
   ]
  },
  {
   "cell_type": "markdown",
   "id": "9ccd30cc-894e-479d-912c-845b62ee19b7",
   "metadata": {},
   "source": [
    "To accumulate elements of a vector (X) into an array (F) based on an index list (I), we can use the `np.add.at` function. This function allows us to perform unbuffered in-place operations on the array, which is useful for handling repeated indices correctly."
   ]
  },
  {
   "cell_type": "code",
   "execution_count": 70,
   "id": "133aa222-c883-414e-b5b5-4498bb9709b7",
   "metadata": {},
   "outputs": [
    {
     "name": "stdout",
     "output_type": "stream",
     "text": [
      "Vector X: [1 2 3 4 5]\n",
      "Index list I: [0 1 2 1 0]\n",
      "Accumulated array F: [6. 6. 3.]\n"
     ]
    }
   ],
   "source": [
    "# Example vector X\n",
    "X =  np.array([1, 2, 3, 4, 5])\n",
    "\n",
    "# Index list I\n",
    "I = np.array([0, 1, 2, 1, 0])\n",
    "\n",
    "# Array F initialized to zeros with the appropriate shape\n",
    "F = np.zeros(3)\n",
    "\n",
    "# Accumulate elements of X into F based on indices in I\n",
    "np.add.at(F, I, X)\n",
    "\n",
    "print(\"Vector X:\", X)\n",
    "print(\"Index list I:\", I)\n",
    "print(\"Accumulated array F:\", F)\n"
   ]
  },
  {
   "cell_type": "code",
   "execution_count": null,
   "id": "2b9d1cb6-edb7-4db7-af03-77b40d11759f",
   "metadata": {},
   "outputs": [],
   "source": []
  }
 ],
 "metadata": {
  "kernelspec": {
   "display_name": "Python 3 (ipykernel)",
   "language": "python",
   "name": "python3"
  },
  "language_info": {
   "codemirror_mode": {
    "name": "ipython",
    "version": 3
   },
   "file_extension": ".py",
   "mimetype": "text/x-python",
   "name": "python",
   "nbconvert_exporter": "python",
   "pygments_lexer": "ipython3",
   "version": "3.12.4"
  }
 },
 "nbformat": 4,
 "nbformat_minor": 5
}
