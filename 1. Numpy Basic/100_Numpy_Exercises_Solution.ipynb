{
 "cells": [
  {
   "cell_type": "markdown",
   "id": "16466428-8fe8-47ff-95b4-2fcff99b0839",
   "metadata": {},
   "source": [
    "# 100 NumPy Exercises\r\n",
    "Here is the reference to the original problem:https://github.com/maykulkarni/Machine-Learning-Notebooks/blob/master/00.%20NumPy%20Basics/100_Numpy_exercises_no_solution.ipynbs."
   ]
  },
  {
   "cell_type": "markdown",
   "id": "422b29b3-8657-4666-8aac-66ce97e2e1f8",
   "metadata": {},
   "source": [
    "### 1. Import the numpy package under the name np"
   ]
  },
  {
   "cell_type": "code",
   "execution_count": 2,
   "id": "de0f3a05-336c-4420-b8f1-0fef90e13935",
   "metadata": {},
   "outputs": [],
   "source": [
    "import numpy as np\n",
    "from numpy.lib import stride_tricks"
   ]
  },
  {
   "cell_type": "markdown",
   "id": "8178c06e-d719-4fe2-95b6-881fab3d6e84",
   "metadata": {},
   "source": [
    "### 2. Print the numpy version and the configuration"
   ]
  },
  {
   "cell_type": "code",
   "execution_count": 3,
   "id": "d6e0be57-c66d-4af7-9a10-3e3e2d68a566",
   "metadata": {},
   "outputs": [
    {
     "name": "stdout",
     "output_type": "stream",
     "text": [
      "Numpy version: 1.26.4\n",
      "Build Dependencies:\n",
      "  blas:\n",
      "    detection method: pkgconfig\n",
      "    found: true\n",
      "    include directory: C:/Users/men_l/anaconda3/Library/include\n",
      "    lib directory: C:/Users/men_l/anaconda3/Library/lib\n",
      "    name: mkl-sdl\n",
      "    openblas configuration: unknown\n",
      "    pc file directory: C:\\b\\abs_c1ywpu18ar\\croot\\numpy_and_numpy_base_1708638681471\\_h_env\\Library\\lib\\pkgconfig\n",
      "    version: '2023.1'\n",
      "  lapack:\n",
      "    detection method: internal\n",
      "    found: true\n",
      "    include directory: unknown\n",
      "    lib directory: unknown\n",
      "    name: dep1583119523984\n",
      "    openblas configuration: unknown\n",
      "    pc file directory: unknown\n",
      "    version: 1.26.4\n",
      "Compilers:\n",
      "  c:\n",
      "    commands: cl.exe\n",
      "    linker: link\n",
      "    name: msvc\n",
      "    version: 19.29.30154\n",
      "  c++:\n",
      "    commands: cl.exe\n",
      "    linker: link\n",
      "    name: msvc\n",
      "    version: 19.29.30154\n",
      "  cython:\n",
      "    commands: cython\n",
      "    linker: cython\n",
      "    name: cython\n",
      "    version: 3.0.8\n",
      "Machine Information:\n",
      "  build:\n",
      "    cpu: x86_64\n",
      "    endian: little\n",
      "    family: x86_64\n",
      "    system: windows\n",
      "  host:\n",
      "    cpu: x86_64\n",
      "    endian: little\n",
      "    family: x86_64\n",
      "    system: windows\n",
      "Python Information:\n",
      "  path: C:\\b\\abs_c1ywpu18ar\\croot\\numpy_and_numpy_base_1708638681471\\_h_env\\python.exe\n",
      "  version: '3.12'\n",
      "SIMD Extensions:\n",
      "  baseline:\n",
      "  - SSE\n",
      "  - SSE2\n",
      "  - SSE3\n",
      "  found:\n",
      "  - SSSE3\n",
      "  - SSE41\n",
      "  - POPCNT\n",
      "  - SSE42\n",
      "  - AVX\n",
      "  - F16C\n",
      "  - FMA3\n",
      "  - AVX2\n",
      "  not found:\n",
      "  - AVX512F\n",
      "  - AVX512CD\n",
      "  - AVX512_SKX\n",
      "  - AVX512_CLX\n",
      "  - AVX512_CNL\n",
      "  - AVX512_ICL\n",
      "\n"
     ]
    }
   ],
   "source": [
    "print(\"Numpy version: {}\".format(np.__version__))\n",
    "np.show_config()"
   ]
  },
  {
   "cell_type": "markdown",
   "id": "acb0c12f-7a6e-45a0-8b0f-46ca52446cdd",
   "metadata": {},
   "source": [
    "### 3. Create a null vector of size 10"
   ]
  },
  {
   "cell_type": "code",
   "execution_count": 4,
   "id": "e190f422-cf10-4f9f-b01f-93cb48fe9c6b",
   "metadata": {},
   "outputs": [
    {
     "data": {
      "text/plain": [
       "array([0., 0., 0., 0., 0., 0., 0., 0., 0., 0.])"
      ]
     },
     "execution_count": 4,
     "metadata": {},
     "output_type": "execute_result"
    }
   ],
   "source": [
    "np.zeros(10)"
   ]
  },
  {
   "cell_type": "markdown",
   "id": "7f241b5b-ad7a-4e49-99e1-ef309fa15822",
   "metadata": {},
   "source": [
    "### 4. How to find the memory size of any array"
   ]
  },
  {
   "cell_type": "code",
   "execution_count": 5,
   "id": "6d89f26e-dd01-45a7-b96c-10e881a0e176",
   "metadata": {},
   "outputs": [
    {
     "name": "stdout",
     "output_type": "stream",
     "text": [
      "Size of one element: 8\n",
      "Size of the entire array: 80\n"
     ]
    }
   ],
   "source": [
    "a = np.zeros(10)\n",
    "print(\"Size of one element: {}\".format(a.itemsize))\n",
    "print(\"Size of the entire array: {}\". format(a.nbytes))"
   ]
  },
  {
   "cell_type": "markdown",
   "id": "730769df-7698-4e99-a54f-82c46b2f7f5e",
   "metadata": {},
   "source": [
    "### 5. How to get the documentation of the numpy add function from the command line?"
   ]
  },
  {
   "cell_type": "code",
   "execution_count": 6,
   "id": "107e816e-1083-4276-8f09-534b3634ca67",
   "metadata": {},
   "outputs": [
    {
     "name": "stdout",
     "output_type": "stream",
     "text": [
      "zeros(shape, dtype=float, order='C', *, like=None)\n",
      "\n",
      "Return a new array of given shape and type, filled with zeros.\n",
      "\n",
      "Parameters\n",
      "----------\n",
      "shape : int or tuple of ints\n",
      "    Shape of the new array, e.g., ``(2, 3)`` or ``2``.\n",
      "dtype : data-type, optional\n",
      "    The desired data-type for the array, e.g., `numpy.int8`.  Default is\n",
      "    `numpy.float64`.\n",
      "order : {'C', 'F'}, optional, default: 'C'\n",
      "    Whether to store multi-dimensional data in row-major\n",
      "    (C-style) or column-major (Fortran-style) order in\n",
      "    memory.\n",
      "like : array_like, optional\n",
      "    Reference object to allow the creation of arrays which are not\n",
      "    NumPy arrays. If an array-like passed in as ``like`` supports\n",
      "    the ``__array_function__`` protocol, the result will be defined\n",
      "    by it. In this case, it ensures the creation of an array object\n",
      "    compatible with that passed in via this argument.\n",
      "\n",
      "    .. versionadded:: 1.20.0\n",
      "\n",
      "Returns\n",
      "-------\n",
      "out : ndarray\n",
      "    Array of zeros with the given shape, dtype, and order.\n",
      "\n",
      "See Also\n",
      "--------\n",
      "zeros_like : Return an array of zeros with shape and type of input.\n",
      "empty : Return a new uninitialized array.\n",
      "ones : Return a new array setting values to one.\n",
      "full : Return a new array of given shape filled with value.\n",
      "\n",
      "Examples\n",
      "--------\n",
      ">>> np.zeros(5)\n",
      "array([ 0.,  0.,  0.,  0.,  0.])\n",
      "\n",
      ">>> np.zeros((5,), dtype=int)\n",
      "array([0, 0, 0, 0, 0])\n",
      "\n",
      ">>> np.zeros((2, 1))\n",
      "array([[ 0.],\n",
      "       [ 0.]])\n",
      "\n",
      ">>> s = (2,2)\n",
      ">>> np.zeros(s)\n",
      "array([[ 0.,  0.],\n",
      "       [ 0.,  0.]])\n",
      "\n",
      ">>> np.zeros((2,), dtype=[('x', 'i4'), ('y', 'i4')]) # custom dtype\n",
      "array([(0, 0), (0, 0)],\n",
      "      dtype=[('x', '<i4'), ('y', '<i4')])\n"
     ]
    }
   ],
   "source": [
    "np.info(np.zeros)"
   ]
  },
  {
   "cell_type": "markdown",
   "id": "6cc08d9d-27a8-457e-bd4e-dfa007f57628",
   "metadata": {},
   "source": [
    "### 6. Create a null vector of size 10 but the fifth value which is 1"
   ]
  },
  {
   "cell_type": "code",
   "execution_count": 7,
   "id": "8bbedb33-4c41-4d53-ae5e-694d23661e5e",
   "metadata": {},
   "outputs": [
    {
     "name": "stdout",
     "output_type": "stream",
     "text": [
      "[0. 0. 0. 0. 1. 0. 0. 0. 0. 0.]\n"
     ]
    }
   ],
   "source": [
    "a = np.zeros(10)\n",
    "a[4] = 1\n",
    "print(a)"
   ]
  },
  {
   "cell_type": "markdown",
   "id": "cd5a51a2-c0d4-423f-8c70-8edcf89864a1",
   "metadata": {},
   "source": [
    "### 7. Create a vector with values ranging from 10 to 49"
   ]
  },
  {
   "cell_type": "code",
   "execution_count": 8,
   "id": "5c6b85fe-f866-41ef-bef2-4d0177579d5a",
   "metadata": {},
   "outputs": [
    {
     "data": {
      "text/plain": [
       "array([10, 11, 12, 13, 14, 15, 16, 17, 18, 19, 20, 21, 22, 23, 24, 25, 26,\n",
       "       27, 28, 29, 30, 31, 32, 33, 34, 35, 36, 37, 38, 39, 40, 41, 42, 43,\n",
       "       44, 45, 46, 47, 48, 49])"
      ]
     },
     "execution_count": 8,
     "metadata": {},
     "output_type": "execute_result"
    }
   ],
   "source": [
    "np.arange(10,50)"
   ]
  },
  {
   "cell_type": "markdown",
   "id": "06a25a45-c802-40d7-a05d-f298104b03d1",
   "metadata": {},
   "source": [
    "### 8. Reverse a vector (first element becomes last)"
   ]
  },
  {
   "cell_type": "code",
   "execution_count": 9,
   "id": "36b961c0-82a3-4433-b8f1-4a4b3f2dee23",
   "metadata": {},
   "outputs": [
    {
     "data": {
      "text/plain": [
       "array([9, 8, 7, 6, 5, 4, 3, 2, 1, 0])"
      ]
     },
     "execution_count": 9,
     "metadata": {},
     "output_type": "execute_result"
    }
   ],
   "source": [
    "a = np.arange(10)\n",
    "a[::-1]"
   ]
  },
  {
   "cell_type": "markdown",
   "id": "e3e11e52-40c3-4e05-962c-688239c2971c",
   "metadata": {},
   "source": [
    "### 9. Create a 3x3 matrix with values ranging from 0 to 8"
   ]
  },
  {
   "cell_type": "code",
   "execution_count": 10,
   "id": "fd2e8cc6-5775-4ad2-a990-607944f13048",
   "metadata": {},
   "outputs": [
    {
     "data": {
      "text/plain": [
       "array([[0, 1, 2],\n",
       "       [3, 4, 5],\n",
       "       [6, 7, 8]])"
      ]
     },
     "execution_count": 10,
     "metadata": {},
     "output_type": "execute_result"
    }
   ],
   "source": [
    "np.arange(9).reshape(3,3)"
   ]
  },
  {
   "cell_type": "markdown",
   "id": "fbfb35dd-557c-4d19-82f4-e8a2fb9a8d37",
   "metadata": {},
   "source": [
    "### 10. Find indices of non-zero elements from [1,2,0,0,4,0]"
   ]
  },
  {
   "cell_type": "code",
   "execution_count": 11,
   "id": "6ef18ee5-f644-4c91-99fb-e129a282174f",
   "metadata": {},
   "outputs": [
    {
     "data": {
      "text/plain": [
       "(array([0, 1, 4], dtype=int64),)"
      ]
     },
     "execution_count": 11,
     "metadata": {},
     "output_type": "execute_result"
    }
   ],
   "source": [
    "arr = np.array([1,2,0,0,4,0])\n",
    "np.nonzero(arr)"
   ]
  },
  {
   "cell_type": "markdown",
   "id": "029391ae-1510-4e55-9272-b72437ef2325",
   "metadata": {},
   "source": [
    "### 11. Create a 3x3 identity matrix"
   ]
  },
  {
   "cell_type": "code",
   "execution_count": 12,
   "id": "aa1f8605-5983-41cb-9124-8e3c8ff0f9cd",
   "metadata": {},
   "outputs": [
    {
     "data": {
      "text/plain": [
       "array([[1., 0., 0.],\n",
       "       [0., 1., 0.],\n",
       "       [0., 0., 1.]])"
      ]
     },
     "execution_count": 12,
     "metadata": {},
     "output_type": "execute_result"
    }
   ],
   "source": [
    "np.eye(3,3)"
   ]
  },
  {
   "cell_type": "markdown",
   "id": "45b11ff1-e0ef-4346-b555-45326e84e789",
   "metadata": {},
   "source": [
    "### 12. Create a 3x3x3 array with random values"
   ]
  },
  {
   "cell_type": "code",
   "execution_count": 13,
   "id": "c4000656-1b2c-48bb-8f55-64195b602b24",
   "metadata": {},
   "outputs": [
    {
     "data": {
      "text/plain": [
       "array([[[ 6, 54, 95],\n",
       "        [47, 88, 56],\n",
       "        [42, 95, 79]],\n",
       "\n",
       "       [[12, 37, 22],\n",
       "        [75, 23, 42],\n",
       "        [66, 32, 33]],\n",
       "\n",
       "       [[20, 85, 31],\n",
       "        [14, 88, 14],\n",
       "        [ 9, 50,  9]]])"
      ]
     },
     "execution_count": 13,
     "metadata": {},
     "output_type": "execute_result"
    }
   ],
   "source": [
    "np.random.randint(0,100,(3,3,3))"
   ]
  },
  {
   "cell_type": "markdown",
   "id": "0c03b207-4d7f-4487-becf-9984fd7961a1",
   "metadata": {},
   "source": [
    "### 13. Create a 10x10 array with random values and find the minimum and maximum values \n"
   ]
  },
  {
   "cell_type": "code",
   "execution_count": 14,
   "id": "d9ab3c43-5ec2-4013-b2de-6a2aed941bb4",
   "metadata": {},
   "outputs": [
    {
     "name": "stdout",
     "output_type": "stream",
     "text": [
      "Arr: [[34 81 12 13 70 17 57 61 60 17]\n",
      " [82 62 54 37 40 27 97 14  0 99]\n",
      " [35 20 21 16 42 96 75 25 18 81]\n",
      " [42 31 59 83 50 42 44 93 84 12]\n",
      " [51 95 25 84 35 68  2  4 19 98]\n",
      " [88 52 50 77 69 56 67 72 23  4]\n",
      " [ 6 67  0  2 69 32 76 49 83  2]\n",
      " [ 9 81  5 61 94 13 71 17 96 82]\n",
      " [ 6 98 27 79 54 83 71 38 70 27]\n",
      " [75 37 30 31 41  5 35 67 27 44]]\n",
      "Min: 0\n",
      "Max: 99\n"
     ]
    }
   ],
   "source": [
    "rand_array = np.random.randint(0,100,(10,10))\n",
    "print(\"Arr: {}\".format(rand_array))\n",
    "print(\"Min: {}\".format(np.min(rand_array)))\n",
    "print(\"Max: {}\".format(np.max(rand_array)))"
   ]
  },
  {
   "cell_type": "markdown",
   "id": "19f485ef-0318-4756-8a19-3535b27dba4d",
   "metadata": {},
   "source": [
    "### 14. Create a random vector of size 30 and find the mean value"
   ]
  },
  {
   "cell_type": "code",
   "execution_count": 15,
   "id": "b2e2e829-7d58-4169-888f-497d90ca10b8",
   "metadata": {},
   "outputs": [
    {
     "name": "stdout",
     "output_type": "stream",
     "text": [
      "Arr: [17 13 27 23 24  7 14 26 18  7 20  3 14 17  4 27 26  9 12 18 21 10  7  3\n",
      "  3 29 26 27  4 29]\n",
      "Mean: 16.166666666666668\n"
     ]
    }
   ],
   "source": [
    "rand_array = np.random.randint(1,30, (30))\n",
    "print(\"Arr: {}\".format(rand_array))\n",
    "print(\"Mean: {}\".format(rand_array.mean()))"
   ]
  },
  {
   "cell_type": "markdown",
   "id": "1119741a-2715-43be-bdaf-7fa9597bc96a",
   "metadata": {},
   "source": [
    "### 15. Create a 2d array with 1 on the border and 0 inside "
   ]
  },
  {
   "cell_type": "code",
   "execution_count": 16,
   "id": "33e6d54f-732a-4cf4-a0dd-cbf175f3e7e6",
   "metadata": {},
   "outputs": [
    {
     "name": "stdout",
     "output_type": "stream",
     "text": [
      "Before: \n",
      "[[1. 1. 1. 1. 1. 1. 1. 1. 1. 1.]\n",
      " [1. 1. 1. 1. 1. 1. 1. 1. 1. 1.]\n",
      " [1. 1. 1. 1. 1. 1. 1. 1. 1. 1.]\n",
      " [1. 1. 1. 1. 1. 1. 1. 1. 1. 1.]\n",
      " [1. 1. 1. 1. 1. 1. 1. 1. 1. 1.]\n",
      " [1. 1. 1. 1. 1. 1. 1. 1. 1. 1.]\n",
      " [1. 1. 1. 1. 1. 1. 1. 1. 1. 1.]\n",
      " [1. 1. 1. 1. 1. 1. 1. 1. 1. 1.]\n",
      " [1. 1. 1. 1. 1. 1. 1. 1. 1. 1.]\n",
      " [1. 1. 1. 1. 1. 1. 1. 1. 1. 1.]]\n",
      "\n",
      "After: \n",
      "[[1. 1. 1. 1. 1. 1. 1. 1. 1. 1.]\n",
      " [1. 0. 0. 0. 0. 0. 0. 0. 0. 1.]\n",
      " [1. 0. 0. 0. 0. 0. 0. 0. 0. 1.]\n",
      " [1. 0. 0. 0. 0. 0. 0. 0. 0. 1.]\n",
      " [1. 0. 0. 0. 0. 0. 0. 0. 0. 1.]\n",
      " [1. 0. 0. 0. 0. 0. 0. 0. 0. 1.]\n",
      " [1. 0. 0. 0. 0. 0. 0. 0. 0. 1.]\n",
      " [1. 0. 0. 0. 0. 0. 0. 0. 0. 1.]\n",
      " [1. 0. 0. 0. 0. 0. 0. 0. 0. 1.]\n",
      " [1. 1. 1. 1. 1. 1. 1. 1. 1. 1.]]\n"
     ]
    }
   ],
   "source": [
    "# creates a 10x10 NumPy array filled with ones\n",
    "arr = np.ones((10,10))\n",
    "print(\"Before: \")\n",
    "print(arr)\n",
    "# arr[1:-1]: This selects rows from the second row (index 1) up to but not including the last row (index -1).\n",
    "# arr[1:-1, 1:-1]: This further selects columns from the second column (index 1) up to but not including the last column (index -1).\n",
    "# = 0: This assigns the value 0 to all elements within the selected range, effectively setting the inner portion of the array to zero\n",
    "arr[1:-1, 1:-1] = 0 \n",
    "print(\"\\nAfter: \")\n",
    "print(arr)"
   ]
  },
  {
   "cell_type": "markdown",
   "id": "1234609e-f1c9-436e-8b89-cfdf6f8348c2",
   "metadata": {},
   "source": [
    "### 16. How to add a border (filled with 0's) around an existing array?"
   ]
  },
  {
   "cell_type": "code",
   "execution_count": 17,
   "id": "6e9f0e78-6c4b-4273-8898-dd8e8879b2cb",
   "metadata": {},
   "outputs": [
    {
     "name": "stdout",
     "output_type": "stream",
     "text": [
      "Original array: \n",
      "[[1. 1. 1.]\n",
      " [1. 1. 1.]\n",
      " [1. 1. 1.]]\n",
      "\n",
      "Array with border: \n",
      "[[0. 0. 0. 0. 0.]\n",
      " [0. 1. 1. 1. 0.]\n",
      " [0. 1. 1. 1. 0.]\n",
      " [0. 1. 1. 1. 0.]\n",
      " [0. 0. 0. 0. 0.]]\n"
     ]
    }
   ],
   "source": [
    "array = np.ones((3,3))\n",
    "bordered_array  = np.pad(array, pad_width=1, mode='constant', constant_values=0)\n",
    "print(\"Original array: \")\n",
    "print(array)\n",
    "print(\"\\nArray with border: \")\n",
    "print(bordered_array)"
   ]
  },
  {
   "cell_type": "markdown",
   "id": "5de8290c-43a9-4f93-8ba3-b0404628e499",
   "metadata": {},
   "source": [
    "### 17. What is the result of the following expression? (★☆☆)\n",
    "> 0 * np.nan\n",
    "\n",
    "> np.nan == np.nan\n",
    "\n",
    "> np.inf > np.nan\n",
    "\n",
    "> np.nan - np.nan\n",
    "\n",
    "> 0.3 == 3 * 0.1"
   ]
  },
  {
   "cell_type": "code",
   "execution_count": 18,
   "id": "12c1c0b6-97bd-4d34-bae4-9bc5f76c200a",
   "metadata": {},
   "outputs": [
    {
     "name": "stdout",
     "output_type": "stream",
     "text": [
      "nan\n",
      " \n",
      "False\n",
      " \n",
      "False\n",
      " \n",
      "nan\n",
      " \n",
      "False\n"
     ]
    }
   ],
   "source": [
    "print(0*np.nan)\n",
    "print(\" \")\n",
    "print(np.nan==np.nan)\n",
    "print(\" \")\n",
    "print(np.inf>np.nan)\n",
    "print(\" \")\n",
    "print(np.nan - np.nan)\n",
    "print(\" \")\n",
    "print(0.3 == 3*0.1)\n"
   ]
  },
  {
   "cell_type": "markdown",
   "id": "b7f85616-ff31-44b3-a351-0845bf3ac687",
   "metadata": {},
   "source": [
    "### 18. Create a 5x5 matrix with values 1,2,3,4 just below the diagonal"
   ]
  },
  {
   "cell_type": "code",
   "execution_count": 19,
   "id": "117656ba-6415-4265-81ca-5526e0009081",
   "metadata": {},
   "outputs": [
    {
     "name": "stdout",
     "output_type": "stream",
     "text": [
      "[[0 0 0 0 0]\n",
      " [0 0 0 0 0]\n",
      " [0 0 0 0 0]\n",
      " [0 0 0 0 0]\n",
      " [0 0 0 0 0]]\n",
      " \n",
      "[[0 0 0 0 0]\n",
      " [1 0 0 0 0]\n",
      " [0 2 0 0 0]\n",
      " [0 0 3 0 0]\n",
      " [0 0 0 4 0]]\n"
     ]
    }
   ],
   "source": [
    "# Create a 5x5 matrix of zeros\n",
    "matrix = np.zeros((5,5), dtype=int)\n",
    "print(matrix)\n",
    "print(\" \")\n",
    "\n",
    "# Assign values 1,2,3,4 just below the diagonal\n",
    "for i in range(1,5):\n",
    "    # matrix[i, i-1]: This part accesses the element in the matrix at the row index i and column index i-1. \n",
    "    # In a 5x5 matrix, i ranges from 0 to 4. However, in the loop, i starts from 1 to 4, so i-1 ranges from 0 to 3.\n",
    "    # = i: This assigns the value of i to the element at the specified position in the matrix.\n",
    "    matrix[i , i-1] = i\n",
    "print(matrix)"
   ]
  },
  {
   "cell_type": "markdown",
   "id": "699e29b5-795f-44ce-add8-54007984e9b5",
   "metadata": {},
   "source": [
    "### 19. Create a 8x8 matrix  and fill it with a checkboard pattern"
   ]
  },
  {
   "cell_type": "code",
   "execution_count": 20,
   "id": "697a6c12-6617-4e3c-ae50-74102a66bbfc",
   "metadata": {},
   "outputs": [
    {
     "name": "stdout",
     "output_type": "stream",
     "text": [
      "[[0 0 0 0 0 0 0 0]\n",
      " [0 0 0 0 0 0 0 0]\n",
      " [0 0 0 0 0 0 0 0]\n",
      " [0 0 0 0 0 0 0 0]\n",
      " [0 0 0 0 0 0 0 0]\n",
      " [0 0 0 0 0 0 0 0]\n",
      " [0 0 0 0 0 0 0 0]\n",
      " [0 0 0 0 0 0 0 0]]\n",
      " \n",
      "[[0 0 0 0 0 0 0 0]\n",
      " [1 0 1 0 1 0 1 0]\n",
      " [0 0 0 0 0 0 0 0]\n",
      " [1 0 1 0 1 0 1 0]\n",
      " [0 0 0 0 0 0 0 0]\n",
      " [1 0 1 0 1 0 1 0]\n",
      " [0 0 0 0 0 0 0 0]\n",
      " [1 0 1 0 1 0 1 0]]\n",
      " \n",
      "This results in a checkerboard pattern where 1s and 0s alternate: \n",
      "[[0 1 0 1 0 1 0 1]\n",
      " [1 0 1 0 1 0 1 0]\n",
      " [0 1 0 1 0 1 0 1]\n",
      " [1 0 1 0 1 0 1 0]\n",
      " [0 1 0 1 0 1 0 1]\n",
      " [1 0 1 0 1 0 1 0]\n",
      " [0 1 0 1 0 1 0 1]\n",
      " [1 0 1 0 1 0 1 0]]\n"
     ]
    }
   ],
   "source": [
    "# Create a 8x8 matrix of zero \n",
    "matrix = np.zeros((8,8), dtype = int)\n",
    "print(matrix)\n",
    "print(\" \")\n",
    "# Fill the matrix with a checkboard pattern\n",
    "# This sets every other element in every other row, starting from the second row (index 1), to 1\n",
    "matrix[1::2, ::2]= 1\n",
    "print(matrix)\n",
    "print(\" \")\n",
    "\n",
    "# This sets every other element in every other column, starting from the second column (index 1), to 1\n",
    "matrix[::2, 1::2] = 1\n",
    "print(\"This results in a checkerboard pattern where 1s and 0s alternate: \")\n",
    "print(matrix)"
   ]
  },
  {
   "cell_type": "markdown",
   "id": "a63b82f1-b926-4e0f-b9a1-e2a747e6408b",
   "metadata": {},
   "source": [
    "### 20. Consider a (6,7,8) shape array, what is the index (x,y,z) of the 100th element?"
   ]
  },
  {
   "cell_type": "code",
   "execution_count": 21,
   "id": "4419b575-ef84-4b4f-96f1-724e576a9b72",
   "metadata": {},
   "outputs": [
    {
     "name": "stdout",
     "output_type": "stream",
     "text": [
      "(6, 7, 8)\n",
      " \n",
      "So, the index ((x, y, z)) of the 100th element in a ((6, 7, 8)) shaped array is ((1, 5, 3))\n",
      "(1, 5, 3)\n"
     ]
    }
   ],
   "source": [
    "# Define the shape of the array\n",
    "shape = (6,7,8)\n",
    "print(shape)\n",
    "print(\" \")\n",
    "\n",
    "# Find the index of the 100th element (remember to subtract 1 because indexing starts at 0)\n",
    "# This function takes the flat index (99, since indexing starts at 0) and the shape of the array, and returns the corresponding multi-dimensional index\n",
    "index = np.unravel_index(99, shape)\n",
    "print(\"So, the index ((x, y, z)) of the 100th element in a ((6, 7, 8)) shaped array is ((1, 5, 3))\")\n",
    "print(index)"
   ]
  },
  {
   "cell_type": "markdown",
   "id": "eb554148-a5b6-4fc3-adfd-72d454c9fa0b",
   "metadata": {},
   "source": [
    "### 21. Create a checkboard 8x8 matrix using the tile function"
   ]
  },
  {
   "cell_type": "code",
   "execution_count": 22,
   "id": "6dbe88b6-c368-40c3-869e-54c0c73bd34c",
   "metadata": {},
   "outputs": [
    {
     "name": "stdout",
     "output_type": "stream",
     "text": [
      "[[0 1]\n",
      " [1 0]]\n",
      " \n",
      "[[0 1 0 1 0 1 0 1]\n",
      " [1 0 1 0 1 0 1 0]\n",
      " [0 1 0 1 0 1 0 1]\n",
      " [1 0 1 0 1 0 1 0]\n",
      " [0 1 0 1 0 1 0 1]\n",
      " [1 0 1 0 1 0 1 0]\n",
      " [0 1 0 1 0 1 0 1]\n",
      " [1 0 1 0 1 0 1 0]]\n"
     ]
    }
   ],
   "source": [
    "# This creates a 2x2 matrix with a checkerboard pattern\n",
    "pattern = np.array([[0,1], [1,0]])\n",
    "print(pattern)\n",
    "print(\" \")\n",
    "# Tile the pattern to create an 8x8 matrix\n",
    "checkerboard = np.tile(pattern, (4,4)) #This tiles the 2x2 pattern to create an 8x8 matrix by repeating the pattern 4 times along both dimensions\n",
    "print(checkerboard)"
   ]
  },
  {
   "cell_type": "markdown",
   "id": "99575e4d-a3a0-4373-ae1c-525851fbf7df",
   "metadata": {},
   "source": [
    "### 22. Normalize a 5x5 random matrix "
   ]
  },
  {
   "cell_type": "code",
   "execution_count": 23,
   "id": "ec00560c-bd8c-426e-a3a2-b0245c4ff087",
   "metadata": {},
   "outputs": [
    {
     "name": "stdout",
     "output_type": "stream",
     "text": [
      "Original Matrix:\n",
      "  [[0.29936152 0.31973947 0.46051782 0.20265355 0.04975888]\n",
      " [0.39556586 0.01182728 0.30261753 0.8325634  0.03797532]\n",
      " [0.55528656 0.51917132 0.21331996 0.76873722 0.15810813]\n",
      " [0.73714075 0.4834396  0.90163312 0.93056918 0.1698018 ]\n",
      " [0.44708139 0.65736671 0.03023096 0.77046835 0.69786902]]\n",
      " \n",
      "Normalized Matirx:\n",
      "  [[0.3129652  0.33514548 0.48837497 0.20770389 0.04128646]\n",
      " [0.41767833 0.         0.31650919 0.8933261  0.0284607 ]\n",
      " [0.59152552 0.55221607 0.2193137  0.82385481 0.15921866]\n",
      " [0.7894638  0.51332405 0.96850469 1.         0.17194658]\n",
      " [0.47375015 0.70263415 0.02003139 0.82573906 0.74671868]]\n"
     ]
    }
   ],
   "source": [
    "# Create a 5x5 matrix with random values \n",
    "matrix = np.random.rand(5,5)\n",
    "# Normalize the matrix\n",
    "# Subtracting the minimum value from each element and then dividing by the range (max - min) normalizes the values\n",
    "# This formula scales the values in the matrix to be between 0 and 1\n",
    "normalized_matrix = (matrix - np.min(matrix)) / (np.max(matrix)-np.min(matrix))\n",
    "print(\"Original Matrix:\\n \", matrix)\n",
    "print(\" \")\n",
    "print(\"Normalized Matirx:\\n \", normalized_matrix)"
   ]
  },
  {
   "cell_type": "markdown",
   "id": "00752bbc-8ae6-46db-b4c9-30ab61365d84",
   "metadata": {},
   "source": [
    "### 23. Create a custom dtype that describes a color as four unsigned bytes (RGBA)"
   ]
  },
  {
   "cell_type": "code",
   "execution_count": 24,
   "id": "409be041-b0c4-4193-a3f6-880e6b9bbf71",
   "metadata": {},
   "outputs": [
    {
     "name": "stdout",
     "output_type": "stream",
     "text": [
      " This code output an array of colors with the specified RGBA: \n",
      " [(255,   0,   0, 255) (  0, 255,   0, 255) (  0,   0, 255, 255)]\n"
     ]
    }
   ],
   "source": [
    "# Define the custom dtype\n",
    "color_dtype = np.dtype([\n",
    "    #This defines a custom data type with four fields: ‘r’, ‘g’, ‘b’, and ‘a’, each of which is an unsigned byte (np.ubyte)\n",
    "    ('r', np.ubyte), # Red channel \n",
    "    ('g', np.ubyte), # Green channel\n",
    "    ('b', np.ubyte), # Blue channel\n",
    "    ('a', np.ubyte)  # alpha channel\n",
    "    \n",
    "])\n",
    "# Example of creating an array with this dtype\n",
    "# This creates an array of colors using the custom dtype. Each color is represented as a tuple of four unsigned bytes\n",
    "colors = np.array([(255,0,0,255), (0,255,0,255), (0,0,255,255)], dtype=color_dtype)\n",
    "print(\" This code output an array of colors with the specified RGBA: \\n\", colors)"
   ]
  },
  {
   "cell_type": "markdown",
   "id": "a5fb24ca-dc13-4107-8b43-5353f3d7e2fd",
   "metadata": {},
   "source": [
    "### 24. Multiply a 5x3 matrix by a 3x2 matrix (real matrix product)"
   ]
  },
  {
   "cell_type": "code",
   "execution_count": 25,
   "id": "298efa53-2915-4174-8536-46f46e2d93d6",
   "metadata": {},
   "outputs": [
    {
     "name": "stdout",
     "output_type": "stream",
     "text": [
      "First Matrix (5x3):\n",
      " [[0.28334504 0.25176112 0.28885411]\n",
      " [0.84311384 0.357382   0.15052415]\n",
      " [0.67360531 0.18404592 0.67643737]\n",
      " [0.48198194 0.78821958 0.6641461 ]\n",
      " [0.50634506 0.24454144 0.9681155 ]]\n",
      " \n",
      "Second Matrix (3x2):\n",
      " [[0.76334648 0.8437873 ]\n",
      " [0.2159187  0.68189234]\n",
      " [0.0536245  0.57765236]]\n",
      " \n",
      "It will output the original matrices and their product. The resulting matrix will have the shape (5, 2):\n",
      " [[0.28614003 0.57761418]\n",
      " [0.72882522 1.04205543]\n",
      " [0.59020681 1.08462475]\n",
      " [0.57372506 1.3278167 ]\n",
      " [0.4912325  1.15323267]]\n"
     ]
    }
   ],
   "source": [
    "# Generates a 5x3 matrix with random values between 0 and 1\n",
    "matrix1 = np.random.rand(5,3)\n",
    "# Generates a 3x2 matrix with random values between 0 and 1\n",
    "matrix2 = np.random.rand(3,2)\n",
    "# Computes the dot product of the two matrices, resulting in a 5x2 matrix\n",
    "result = np.dot(matrix1, matrix2)\n",
    "print(\"First Matrix (5x3):\\n\", matrix1)\n",
    "print(\" \")\n",
    "print(\"Second Matrix (3x2):\\n\", matrix2)\n",
    "print(\" \")\n",
    "print(\"It will output the original matrices and their product. The resulting matrix will have the shape (5, 2):\\n\", result)"
   ]
  },
  {
   "cell_type": "markdown",
   "id": "d39b3b38-8ba1-4bdd-89b7-2e77170078d9",
   "metadata": {},
   "source": [
    "### 25. Given a 1D array, negate all elements which are between 3 and 8, in place."
   ]
  },
  {
   "cell_type": "code",
   "execution_count": 26,
   "id": "0e69b897-1bfa-4d20-81a3-fe888d234b3c",
   "metadata": {},
   "outputs": [
    {
     "name": "stdout",
     "output_type": "stream",
     "text": [
      "[ 1 -4 -6  9 -3 -8  2]\n"
     ]
    }
   ],
   "source": [
    "def negate_elements_in_range(arr):\n",
    "    # Converts the input list arr into a NumPy array. NumPy arrays are more efficient for numerical operations compared to Python lists\n",
    "    arr = np.array(arr)\n",
    "    \n",
    "    # Create a boolean mask. \n",
    "    # The expression (arr >= 3) creates a boolean array where elements are True if they are greater than or equal to 3\n",
    "    # (arr <= 8) creates a boolean array where elements are True if they are less than or equal to 8\n",
    "    # The & operator performs an element-wise logical AND operation, combining these two conditions\n",
    "    mask = (arr>=3) & (arr<= 8)\n",
    "   \n",
    "    # This line uses the boolean mask to select elements of arr that meet the condition (i.e., elements between 3 and 8)\n",
    "    # It then negates these selected elements in place. The -arr[mask] part negates the values, \n",
    "    # and arr[mask] = ... assigns the negated values back to their original positions in the array\n",
    "    arr[mask] = -arr[mask]\n",
    "    return arr \n",
    "# Example Usage\n",
    "arr = [1, 4, 6, 9, 3, 8, 2]\n",
    "negated_arr = negate_elements_in_range(arr)\n",
    "print(negated_arr)"
   ]
  },
  {
   "cell_type": "markdown",
   "id": "35d6fd2f-f82c-4697-8a8b-273bb921eb62",
   "metadata": {},
   "source": [
    "### 26. What is the output of the following script? \n",
    "> print(sum(range(5),-1))\n",
    "\n",
    "> from numpy import *\n",
    "\n",
    "> print(sum(range(5),-1))"
   ]
  },
  {
   "cell_type": "code",
   "execution_count": 27,
   "id": "8726b5e8-a416-407a-bf16-062071e4ae67",
   "metadata": {},
   "outputs": [
    {
     "name": "stdout",
     "output_type": "stream",
     "text": [
      "9\n",
      "10\n"
     ]
    }
   ],
   "source": [
    "# range(5): This generates a sequence of numbers from 0 to 4 (inclusive). So, range(5) produces [0, 1, 2, 3, 4]\n",
    "# The sum function calculates the sum of the elements in the sequence generated by range(5), \n",
    "# but it also takes an optional second argument, which is the starting value for the sum. In this case, the starting value is -1\n",
    "# So, the calculation proceeds as follows:\n",
    "# Start with -1.\n",
    "# Add the elements of the sequence [0, 1, 2, 3, 4] to -1\n",
    "print(sum(range(5), -1))\n",
    "\n",
    "from numpy import * #imports all functions and classes from the NumPy library into the current namespace\n",
    "# Because of the from numpy import * statement, the sum function from NumPy is used instead of the built-in Python sum function\n",
    "# range(5): This generates a sequence of numbers from 0 to 4 (inclusive). So, range(5) produces [0, 1, 2, 3, 4]\n",
    "# The NumPy sum function does not use the second argument as a starting value for the sum. \n",
    "# Instead, it interprets the second argument as the axis parameter, which specifies the axis along which to sum the elements\n",
    "# Since -1 is not a valid axis for a 1D array, NumPy ignores it and simply sums the elements of the array [0, 1, 2, 3, 4]\n",
    "# Therefore, print(sum(range(5), -1)) outputs 10 because the second argument is ignored by NumPy’s sum function in this context\n",
    "print(sum(range(5),-1))"
   ]
  },
  {
   "cell_type": "markdown",
   "id": "978f3926-9fe2-4f72-952d-d2fba6bf6067",
   "metadata": {},
   "source": [
    "### 27. Consider an integer vector Z, which of these expressions are legal?\n",
    "> Z**Z\n",
    "\n",
    "> 2 << Z >> 2\n",
    "\n",
    "> Z <- Z\n",
    "\n",
    ">1 j * Z\n",
    "\n",
    ">Z/1/1\n",
    "\n",
    "> Z < Z > Z  "
   ]
  },
  {
   "cell_type": "markdown",
   "id": "8244c9f9-73db-406d-b4cc-60cb8145af83",
   "metadata": {},
   "source": [
    "1. `Z**Z`:\n",
    "   \n",
    "   &bull; This expression attempts to raise each element of `Z` to the power of the corresponding element in `Z`. This is legal in Numpy.\n",
    "\n",
    "   &bull; `Legal` \n",
    "2. `2 << Z >> 2`:\n",
    "\n",
    "    &bull; This expression involves bitwise left and right shifts. `2 << Z` shifts the number 2 to the left by each element in `Z`, and then `>> 2` shifts the result to the right by 2. This is legal in Numpy.\n",
    "\n",
    "   &bull; `Legal`\n",
    "\n",
    "3. `Z <- Z`:\n",
    "\n",
    "   &bull; This expression is not valid in Python. The `<-` operator is not defined in Python.\n",
    "\n",
    "   &bull; `Illegal`\n",
    "\n",
    "4. `1j*Z`:\n",
    "\n",
    "   &bull; This expression multiplies each element of `Z` by the imaginary until `1j`. This is legal in Numpy and results in a complex array.\n",
    "\n",
    "   &bull; `Legal`\n",
    "\n",
    "5. `Z/1/1`:\n",
    "\n",
    "   &bull; This expression divides each element of `Z` by 1 twice. This is legal in Numpy.\n",
    "\n",
    "   &bull; `Legal`\n",
    "\n",
    "6. `Z<Z>Z`:\n",
    "\n",
    "   &bull; This expression is not valid in Python. Chained comparisons like this are not supported.\n",
    "\n",
    "   &bull; `Illegal`.\n",
    "   \n",
    "   \n",
    "   \n"
   ]
  },
  {
   "cell_type": "markdown",
   "id": "403dc480-b924-4565-aa6f-e7b52d16a216",
   "metadata": {},
   "source": [
    "### 28. What are the result of the following expressions?\n",
    "> np.array(0) / np.array(0)\n",
    "\n",
    "> np.array(0) // np.array(0)\n",
    "\n",
    "> np.array([np.nan]).astype(int).astype(float) "
   ]
  },
  {
   "cell_type": "code",
   "execution_count": 28,
   "id": "074551db-7fbc-44e4-8d66-08cf1ba74395",
   "metadata": {},
   "outputs": [
    {
     "name": "stderr",
     "output_type": "stream",
     "text": [
      "C:\\Users\\men_l\\AppData\\Local\\Temp\\ipykernel_26996\\164202812.py:3: RuntimeWarning: invalid value encountered in divide\n",
      "  np.array(0) / np.array(0)\n"
     ]
    },
    {
     "data": {
      "text/plain": [
       "nan"
      ]
     },
     "execution_count": 28,
     "metadata": {},
     "output_type": "execute_result"
    }
   ],
   "source": [
    "# This expression attempts to divide zero by zero.\n",
    "# In NumPy, this results in a division by zero, which produces a NaN (Not a Number) and raises a runtime warning\n",
    "np.array(0) / np.array(0)\n",
    "\n"
   ]
  },
  {
   "cell_type": "code",
   "execution_count": 29,
   "id": "a91d02e9-613d-48fc-b886-08324edc8754",
   "metadata": {},
   "outputs": [
    {
     "name": "stderr",
     "output_type": "stream",
     "text": [
      "C:\\Users\\men_l\\AppData\\Local\\Temp\\ipykernel_26996\\1784414740.py:3: RuntimeWarning: divide by zero encountered in floor_divide\n",
      "  np.array(0) // np.array(0)\n"
     ]
    },
    {
     "data": {
      "text/plain": [
       "0"
      ]
     },
     "execution_count": 29,
     "metadata": {},
     "output_type": "execute_result"
    }
   ],
   "source": [
    "# This expression attempts to perform integer division of zero by zero. \n",
    "# In NumPy, this also results in a division by zero, which produces 0 and raises a runtime warning\n",
    "np.array(0) // np.array(0)\n",
    "\n"
   ]
  },
  {
   "cell_type": "code",
   "execution_count": 30,
   "id": "c664df73-aea0-412e-b7e7-8f87f4579bb6",
   "metadata": {},
   "outputs": [
    {
     "name": "stderr",
     "output_type": "stream",
     "text": [
      "C:\\Users\\men_l\\AppData\\Local\\Temp\\ipykernel_26996\\3233124507.py:5: RuntimeWarning: invalid value encountered in cast\n",
      "  np.array([np.nan]).astype(int).astype(float)\n"
     ]
    },
    {
     "data": {
      "text/plain": [
       "array([-2.14748365e+09])"
      ]
     },
     "execution_count": 30,
     "metadata": {},
     "output_type": "execute_result"
    }
   ],
   "source": [
    "# This expression first creates a NumPy array containing NaN.\n",
    "# It then attempts to cast this array to an integer type. Converting NaN to an integer is not well-defined and typically results in an undefined value,\n",
    "# often -9223372036854775808 (the minimum value for a 64-bit integer).\n",
    "# Finally, it casts the integer array back to a float\n",
    "np.array([np.nan]).astype(int).astype(float)"
   ]
  },
  {
   "cell_type": "markdown",
   "id": "e962c361-6340-4e76-8727-98cc2095f39d",
   "metadata": {},
   "source": [
    "### 29. How to round away from zero a float array?"
   ]
  },
  {
   "cell_type": "code",
   "execution_count": 31,
   "id": "5535634c-aed2-4793-ba34-498968459c94",
   "metadata": {},
   "outputs": [
    {
     "name": "stdout",
     "output_type": "stream",
     "text": [
      "[-2. -1.  1.  2.  3. -3.]\n"
     ]
    }
   ],
   "source": [
    "def round_away_from_zero(arr):\n",
    "    # np.abs(arr): Takes the absolute value of each element in the array\n",
    "    # np.ceil(np.abs(arr)): Rounds each element up to the nearest integer\n",
    "    # np.copysign(np.ceil(np.abs(arr)), arr): Applies the sign of the original elements to the rounded values, effectively rounding away from zero\n",
    "    return np.copysign(np.ceil(np.abs(arr)),arr)\n",
    "\n",
    "# Expmaple usage:\n",
    "arr = np.array([-1.5, -0.2, 0.2, 1.5, 2.3, -2.3])\n",
    "rounded_arr = round_away_from_zero(arr)\n",
    "print(rounded_arr)"
   ]
  },
  {
   "cell_type": "markdown",
   "id": "d1e008cc-7c1b-4f4a-a2bf-83a1a3be680a",
   "metadata": {},
   "source": [
    "### 30. How to find common values between two arrays?"
   ]
  },
  {
   "cell_type": "code",
   "execution_count": 32,
   "id": "6bd0a5e2-0411-4d94-a22c-a2540cc3daaf",
   "metadata": {},
   "outputs": [
    {
     "name": "stdout",
     "output_type": "stream",
     "text": [
      "[3 4 5]\n"
     ]
    }
   ],
   "source": [
    "array1  = np.array([1, 2, 3, 4, 5])\n",
    "array2 = np.array([3, 4, 5, 6, 7])\n",
    "\n",
    "# Find common values\n",
    "common_values = np.intersect1d(array1, array2)\n",
    "print(common_values)"
   ]
  },
  {
   "cell_type": "markdown",
   "id": "bffa5005-ea55-48f8-9135-1e781db832c1",
   "metadata": {},
   "source": [
    "### 31. How to ignore all numpy warnings(not recommended)?"
   ]
  },
  {
   "cell_type": "code",
   "execution_count": 33,
   "id": "103761d0-78f7-45d4-9d2a-f811316c71bd",
   "metadata": {},
   "outputs": [
    {
     "name": "stdout",
     "output_type": "stream",
     "text": [
      "[inf inf inf]\n"
     ]
    }
   ],
   "source": [
    "# Ignore all warnings\n",
    "np.seterr(all='ignore')\n",
    "\n",
    "# Example usage\n",
    "arr = np.array([1,2,3])\n",
    "print(arr/0) # This will not raise a warning"
   ]
  },
  {
   "cell_type": "markdown",
   "id": "dcdd6f0f-23a6-4234-a59e-0d642808d74e",
   "metadata": {},
   "source": [
    "### 32. Is the following expressions true?\n",
    "np.sqrt(-1) = np.emath.sqrt(-1)"
   ]
  },
  {
   "cell_type": "code",
   "execution_count": 34,
   "id": "d002f8f5-425a-4ef3-b6d6-0f09d6f3aae2",
   "metadata": {},
   "outputs": [
    {
     "data": {
      "text/plain": [
       "False"
      ]
     },
     "execution_count": 34,
     "metadata": {},
     "output_type": "execute_result"
    }
   ],
   "source": [
    "np.sqrt(-1) == np.emath.sqrt(-1)\n"
   ]
  },
  {
   "cell_type": "markdown",
   "id": "d2c31e74-18b4-4777-93b1-3653b88eead5",
   "metadata": {},
   "source": [
    "### 33. How to get the dates of yesterday, today and tomorrow?"
   ]
  },
  {
   "cell_type": "code",
   "execution_count": 35,
   "id": "35298195-eed5-405f-961c-4f1e758713d7",
   "metadata": {},
   "outputs": [
    {
     "name": "stdout",
     "output_type": "stream",
     "text": [
      "Today: 2024-10-09\n",
      "Yesterday:  2024-10-08\n",
      "Tomorrow:  2024-10-10\n"
     ]
    }
   ],
   "source": [
    "# Today's date\n",
    "today= np.datetime64('today', 'D')\n",
    "print(\"Today:\", today)\n",
    "# Yesterday's date\n",
    "yesterday = today - np.timedelta64(1, 'D')\n",
    "print(\"Yesterday: \", yesterday)\n",
    "# Tomorrow's date\n",
    "tomorrow = today + np.timedelta64(1, 'D')\n",
    "print(\"Tomorrow: \", tomorrow)"
   ]
  },
  {
   "cell_type": "markdown",
   "id": "b2ca2037-33bf-4ebd-adb6-c2b0cdb8b58d",
   "metadata": {},
   "source": [
    "### 34. How to get all the dates corresponding to the month of July 2016?"
   ]
  },
  {
   "cell_type": "code",
   "execution_count": 36,
   "id": "ac2b353f-93a6-4acc-81f7-a515e644f540",
   "metadata": {},
   "outputs": [
    {
     "name": "stdout",
     "output_type": "stream",
     "text": [
      "['2016-07-01' '2016-07-02' '2016-07-03' '2016-07-04' '2016-07-05'\n",
      " '2016-07-06' '2016-07-07' '2016-07-08' '2016-07-09' '2016-07-10'\n",
      " '2016-07-11' '2016-07-12' '2016-07-13' '2016-07-14' '2016-07-15'\n",
      " '2016-07-16' '2016-07-17' '2016-07-18' '2016-07-19' '2016-07-20'\n",
      " '2016-07-21' '2016-07-22' '2016-07-23' '2016-07-24' '2016-07-25'\n",
      " '2016-07-26' '2016-07-27' '2016-07-28' '2016-07-29' '2016-07-30'\n",
      " '2016-07-31']\n"
     ]
    }
   ],
   "source": [
    "# Define the state and end dates for July 2016\n",
    "start_date = np.datetime64('2016-07-01')\n",
    "end_date = np.datetime64('2016-08-01')\n",
    "\n",
    "# Generate an array of all dates in July 2016\n",
    "july_dates = np.arange(start_date, end_date, dtype='datetime64[D]')\n",
    "print(july_dates)"
   ]
  },
  {
   "cell_type": "markdown",
   "id": "6e86dc21-a970-41d9-803e-2e7cbd42d7e7",
   "metadata": {},
   "source": [
    "### 35. How to compute ((A+B)*(-A/2)) in place (without copy)?"
   ]
  },
  {
   "cell_type": "code",
   "execution_count": 37,
   "id": "eb91b48a-d5e0-4847-b27d-e84cdd6f50dd",
   "metadata": {},
   "outputs": [
    {
     "name": "stdout",
     "output_type": "stream",
     "text": [
      "[-3. -4. -5. -6.]\n"
     ]
    }
   ],
   "source": [
    "# Example arrays\n",
    "A = np.array([1,2,3,4], dtype = float)\n",
    "B = np.array([5,6,7,8], dtype = float)\n",
    "\n",
    "# Step 1: Add A and B, store the result A (in-place)\n",
    "A += B\n",
    "# step 2: Multiply A by -0.5 (equivalent to -A/2), store the result in A (in-place)\n",
    "A *= -0.5\n",
    "print(A)"
   ]
  },
  {
   "cell_type": "markdown",
   "id": "d3be521e-31b4-4b1c-844f-5ef7b78fba5f",
   "metadata": {},
   "source": [
    "### 36. Extract the integer part of a random array using 5 different methods"
   ]
  },
  {
   "cell_type": "code",
   "execution_count": 38,
   "id": "32e64f7f-7296-48f1-bc66-840182f4e0db",
   "metadata": {},
   "outputs": [
    {
     "name": "stdout",
     "output_type": "stream",
     "text": [
      "Original array:  [7.63379146 2.03114469 0.89673307 0.57844005 8.79338363]\n",
      "Integer part (floor): [7. 2. 0. 0. 8.]\n",
      "Integer part (trunc): [7. 2. 0. 0. 8.]\n",
      "Integer part (astype): [7 2 0 0 8]\n",
      "Integer part (fix): [7. 2. 0. 0. 8.]\n",
      "Integer part (vectorize): [7 2 0 0 8]\n"
     ]
    }
   ],
   "source": [
    "# Generate a random array\n",
    "random_array = np.random.random(5) * 10\n",
    "print(\"Original array: \", random_array)\n",
    "\n",
    "# Extract integer part using np.floor\n",
    "integer_part_floor = np.floor(random_array) # Rounds down to the nearest integer\n",
    "print(\"Integer part (floor):\", integer_part_floor)\n",
    "\n",
    "# Extract integer part using np.trunc\n",
    "integer_part_trunc = np.trunc(random_array) #Truncates the decimal part, effectively rounding towards zero\n",
    "print(\"Integer part (trunc):\", integer_part_trunc)\n",
    "\n",
    "# Extract integer part by converting to int\n",
    "integer_part_int = random_array.astype(int) #Converts the array elements to integers, truncating the decimal part.\n",
    "print(\"Integer part (astype):\", integer_part_int)\n",
    "\n",
    "# Extract integer part using np.fix\n",
    "integer_part_fix = np.fix(random_array) #Rounds toward zero, similar to np.trunc.\n",
    "print(\"Integer part (fix):\", integer_part_fix)\n",
    "\n",
    "# Extract integer part using np.vectorize with int\n",
    "integer_part_vectorize = np.vectorize(int)(random_array) #Applies to int function element-wise to the array.\n",
    "print(\"Integer part (vectorize):\", integer_part_vectorize)"
   ]
  },
  {
   "cell_type": "markdown",
   "id": "0d635c1d-399d-47d3-862b-7da9da0003f4",
   "metadata": {},
   "source": [
    "### 37. Create a 5x5 matrix with row values ranging from 0 to 4\n"
   ]
  },
  {
   "cell_type": "code",
   "execution_count": 39,
   "id": "fda5cc39-472f-4c55-88ea-374a05c5d09e",
   "metadata": {},
   "outputs": [
    {
     "name": "stdout",
     "output_type": "stream",
     "text": [
      "[[0. 0. 0. 0. 0.]\n",
      " [0. 0. 0. 0. 0.]\n",
      " [0. 0. 0. 0. 0.]\n",
      " [0. 0. 0. 0. 0.]\n",
      " [0. 0. 0. 0. 0.]]\n",
      " \n",
      "[[0. 1. 2. 3. 4.]\n",
      " [0. 1. 2. 3. 4.]\n",
      " [0. 1. 2. 3. 4.]\n",
      " [0. 1. 2. 3. 4.]\n",
      " [0. 1. 2. 3. 4.]]\n"
     ]
    }
   ],
   "source": [
    "# Create a 5x5 matrix with row values ranging from 0 to 4\n",
    "matrix = np.zeros((5,5))\n",
    "print(matrix)\n",
    "# This generates an array with values [0, 1, 2, 3, 4]. Then, it adds the array [0, 1, 2, 3, 4] to each row of the matrix\n",
    "matrix += np.arange(5)\n",
    "print(\" \")\n",
    "print(matrix)\n"
   ]
  },
  {
   "cell_type": "markdown",
   "id": "c0e1fa45-0e8f-47d0-9fdb-32f3ae8f6a4b",
   "metadata": {},
   "source": [
    "### 38. Consider a generator function that generates 10 integers and use it to build an array"
   ]
  },
  {
   "cell_type": "code",
   "execution_count": 40,
   "id": "b7684255-f2b3-42bf-859b-d870e962542e",
   "metadata": {},
   "outputs": [
    {
     "name": "stdout",
     "output_type": "stream",
     "text": [
      "[0 1 2 3 4 5 6 7 8 9]\n"
     ]
    }
   ],
   "source": [
    "def generate_integers():\n",
    "    for i in range(10):\n",
    "        # First Call: When the generator is first called, it starts executing the function until it hits the yield statement. \n",
    "        #     It returns the value of i and pauses.\n",
    "        # Subsequent Calls: Each subsequent call to the generator resumes execution right after the yield statement, \n",
    "        #     continues until it hits the next yield, and pauses again.\n",
    "        yield i\n",
    "# Create the generator\n",
    "generator = generate_integers()\n",
    "\n",
    "# Build the Numpy array from the generator\n",
    "# np.fromiter: This function constructs a 1-D array from an iterable (in this case, the generator).\n",
    "# The dtype parameter specifies the desired data type of the array elements\n",
    "array_from_generator = np.fromiter(generator, dtype=int) #\n",
    "print(array_from_generator)"
   ]
  },
  {
   "cell_type": "markdown",
   "id": "836e5235-7d1c-411f-a2ce-04b4ed60050f",
   "metadata": {},
   "source": [
    "### 39. Create a vector of size 10 with values ranging from 0 to 1, both excluded"
   ]
  },
  {
   "cell_type": "code",
   "execution_count": 41,
   "id": "f5db058b-b691-4950-8682-7d141971daa5",
   "metadata": {},
   "outputs": [
    {
     "name": "stdout",
     "output_type": "stream",
     "text": [
      "[0.09090909 0.18181818 0.27272727 0.36363636 0.45454545 0.54545455\n",
      " 0.63636364 0.72727273 0.81818182 0.90909091]\n"
     ]
    }
   ],
   "source": [
    "# Create a vector of size 10 with values ranging from 0 to 1, both excluded\n",
    "vector = np.linspace(0, 1, 12, endpoint= True)[1:-1]\n",
    "# np.linspace(0, 1, 12, endpoint=True): This generates 12 evenly spaced values between 0 and 1, inclusive.\n",
    "# [1:-1]: This slices the array to exclude the first and last elements, resulting in 10 values between 0 and 1.\n",
    "print(vector)"
   ]
  },
  {
   "cell_type": "markdown",
   "id": "b368a590-45d2-4365-9792-959793a63023",
   "metadata": {},
   "source": [
    "### 40. Create a random vector of size 10 and sort it"
   ]
  },
  {
   "cell_type": "code",
   "execution_count": 42,
   "id": "3be1de12-16af-4af2-806a-3958fd9ca4b0",
   "metadata": {},
   "outputs": [
    {
     "name": "stdout",
     "output_type": "stream",
     "text": [
      "Original: [0.3197995  0.72425204 0.02702153 0.67214097 0.67155838 0.72354862\n",
      " 0.7604888  0.01255445 0.40441954 0.47362854]\n",
      " \n",
      "Sorted array: [0.01255445 0.02702153 0.3197995  0.40441954 0.47362854 0.67155838\n",
      " 0.67214097 0.72354862 0.72425204 0.7604888 ]\n"
     ]
    }
   ],
   "source": [
    "# Create a random vector of size 10\n",
    "random_vector = np.random.random(10)\n",
    "print(\"Original:\", random_vector)\n",
    "print(\" \")\n",
    "# Sort the array\n",
    "random_vector.sort()\n",
    "print(\"Sorted array:\", random_vector)"
   ]
  },
  {
   "cell_type": "markdown",
   "id": "cadfdfcf-c795-42d4-8c29-338abdbafe5c",
   "metadata": {},
   "source": [
    "### 41. How to sum a small array faser than np.sum?"
   ]
  },
  {
   "cell_type": "code",
   "execution_count": 43,
   "id": "8df46372-5e87-4706-be72-0082a8c5904c",
   "metadata": {},
   "outputs": [
    {
     "name": "stdout",
     "output_type": "stream",
     "text": [
      "15\n",
      "15\n",
      "15\n"
     ]
    }
   ],
   "source": [
    "# Using Python's buil-in sum function\n",
    "array = np.array([1, 2, 3, 4, 5])\n",
    "result = sum(array)\n",
    "print(result)\n",
    "\n",
    "# Using np.eisum\n",
    "# This function is highly optimized for various operations, including summation, and can be faster for certain array types\n",
    "result = np.einsum('i->', array)\n",
    "print(result)\n",
    "\n",
    "# Using np.add.reduce\n",
    "# This is another NumPy function that can be faster than np.sum for small arrays due to reduced overhead.\n",
    "result = np.add.reduce(array)\n",
    "print(result)"
   ]
  },
  {
   "cell_type": "markdown",
   "id": "efab34b8-74c2-458b-8c32-e569d27a820d",
   "metadata": {},
   "source": [
    "### 42. Consider two random array A and B, check if they are equal"
   ]
  },
  {
   "cell_type": "code",
   "execution_count": 44,
   "id": "5abcd007-91a2-4c00-9d93-8aa4906230cf",
   "metadata": {},
   "outputs": [
    {
     "name": "stdout",
     "output_type": "stream",
     "text": [
      "Array A: [0.61576091 0.59125657 0.98537219 0.20001445 0.72978409]\n",
      "Array B: [0.42273673 0.50757678 0.32803427 0.08530388 0.01145546]\n",
      "Are the arrays equal? False\n"
     ]
    }
   ],
   "source": [
    "# To check if two random arrays A and B are equal, you can use NumPy's array_equal function.\n",
    "# The function compares two arrays element-wise and return True if they are exactly the same, and False otherwise.\n",
    "A = np.random.rand(5) \n",
    "B = np.random.rand(5) \n",
    "\n",
    "# Check if they are equal\n",
    "are_equal = np.array_equal(A, B)\n",
    "print(\"Array A:\", A)\n",
    "print(\"Array B:\", B)\n",
    "print(\"Are the arrays equal?\", are_equal)\n"
   ]
  },
  {
   "cell_type": "markdown",
   "id": "4df7dce6-6363-466d-8dcd-ee47c81384fe",
   "metadata": {},
   "source": [
    "### 43. Make an array immutable (read-only)"
   ]
  },
  {
   "cell_type": "code",
   "execution_count": 45,
   "id": "2ee34337-e33e-4b77-86c6-c8b7fc1fb894",
   "metadata": {},
   "outputs": [
    {
     "name": "stdout",
     "output_type": "stream",
     "text": [
      "Error: assignment destination is read-only\n"
     ]
    }
   ],
   "source": [
    "# To make a Numpy array immutable (read-only), you can set it writable flag to False\n",
    "# Create a sample array\n",
    "array = np.array([1, 2, 3, 4, 5])\n",
    "# Make the array imutable\n",
    "array.flags.writeable = False \n",
    "# Trying to modify the array will now raise an error\n",
    "try:\n",
    "    array[0] = 10 \n",
    "except ValueError as e:\n",
    "    print(\"Error:\", e)"
   ]
  },
  {
   "cell_type": "markdown",
   "id": "93188862-5ff0-43e5-8b6c-b946c013d7a8",
   "metadata": {},
   "source": [
    "### 44. Consider a random 10x2 matrix representing cartesian coordinates, convert them to polar coordinates"
   ]
  },
  {
   "cell_type": "code",
   "execution_count": 46,
   "id": "f44e1a0b-aaca-4525-ac1c-295ede667a4f",
   "metadata": {},
   "outputs": [
    {
     "name": "stdout",
     "output_type": "stream",
     "text": [
      "[[0.77638344 0.77171676]\n",
      " [0.51576521 0.11940991]\n",
      " [0.35618436 0.00778561]\n",
      " [0.37877202 0.58619681]\n",
      " [0.96178454 0.49026816]\n",
      " [0.23118116 0.07092837]\n",
      " [0.04324425 0.3509197 ]\n",
      " [0.65490932 0.94616501]\n",
      " [0.76920189 0.59944284]\n",
      " [0.82606614 0.50016178]]\n",
      " \n",
      "[1.09467712 0.52940766 0.35626944 0.69792188 1.0795334  0.24181721\n",
      " 0.35357418 1.15071041 0.97519396 0.96568477]\n",
      " \n",
      "[0.78238371 0.22751144 0.02185489 0.99713123 0.4714159  0.29769147\n",
      " 1.4481833  0.96534312 0.66199401 0.54443497]\n",
      " \n",
      "Cartesian coordinates:\n",
      " [[0.77638344 0.77171676]\n",
      " [0.51576521 0.11940991]\n",
      " [0.35618436 0.00778561]\n",
      " [0.37877202 0.58619681]\n",
      " [0.96178454 0.49026816]\n",
      " [0.23118116 0.07092837]\n",
      " [0.04324425 0.3509197 ]\n",
      " [0.65490932 0.94616501]\n",
      " [0.76920189 0.59944284]\n",
      " [0.82606614 0.50016178]]\n",
      " \n",
      "Polar coordinates:\n",
      " [[1.09467712 0.78238371]\n",
      " [0.52940766 0.22751144]\n",
      " [0.35626944 0.02185489]\n",
      " [0.69792188 0.99713123]\n",
      " [1.0795334  0.4714159 ]\n",
      " [0.24181721 0.29769147]\n",
      " [0.35357418 1.4481833 ]\n",
      " [1.15071041 0.96534312]\n",
      " [0.97519396 0.66199401]\n",
      " [0.96568477 0.54443497]]\n"
     ]
    }
   ],
   "source": [
    "# Generate a random 10x2 matrix representing Cartesian cooridates\n",
    "cartesian_coords = np.random.rand(10,2) \n",
    "print(cartesian_coords)\n",
    "# Separate the x and y coordinates \n",
    "X = cartesian_coords[:,0]\n",
    "y = cartesian_coords[:,1]\n",
    "\n",
    "# Convert to polar coordinates\n",
    "r = np.sqrt(X**2 + y**2)\n",
    "theta = np. arctan2(y,X)\n",
    "print(\" \")\n",
    "print(r)\n",
    "print(\" \")\n",
    "print(theta)\n",
    "\n",
    "# Combine r and theta into a single array\n",
    "polar_coords = np.column_stack((r, theta))\n",
    "print(\" \")\n",
    "print(\"Cartesian coordinates:\\n\", cartesian_coords)\n",
    "print(\" \")\n",
    "print(\"Polar coordinates:\\n\", polar_coords)"
   ]
  },
  {
   "cell_type": "markdown",
   "id": "9e492661-afd2-4a76-8020-ad63ac65369b",
   "metadata": {},
   "source": [
    "### 45. Create a random vector of size 10 and replace the maximum value by 0"
   ]
  },
  {
   "cell_type": "code",
   "execution_count": 47,
   "id": "e3186efd-410b-486c-8346-72dda8f5bb4b",
   "metadata": {},
   "outputs": [
    {
     "name": "stdout",
     "output_type": "stream",
     "text": [
      "vector:\n",
      " [0.85888027 0.61235637 0.93270001 0.04346409 0.98309699 0.64149261\n",
      " 0.79346779 0.60807556 0.21880934 0.66288841]\n",
      " \n",
      "max_index:\n",
      " 4\n",
      " \n",
      "Modified vector:\n",
      " [0.85888027 0.61235637 0.93270001 0.04346409 0.         0.64149261\n",
      " 0.79346779 0.60807556 0.21880934 0.66288841]\n"
     ]
    }
   ],
   "source": [
    "# Create a random vector of size 10\n",
    "vector = np.random.rand(10)\n",
    "print(\"vector:\\n\", vector)\n",
    "\n",
    "# Find the index of the maximum value \n",
    "max_index = vector.argmax()\n",
    "print(\" \")\n",
    "print(\"max_index:\\n\", max_index)\n",
    "\n",
    "# Replace the maximum value with 0\n",
    "vector[max_index] = 0 \n",
    "print(\" \")\n",
    "print(\"Modified vector:\\n\", vector)"
   ]
  },
  {
   "cell_type": "markdown",
   "id": "b2514d54-bfdd-471e-a369-22e95fcc4b22",
   "metadata": {},
   "source": [
    "### 46. Create a structured array with `x` and `y` coordinates covering the [0,1]x[0,1] area"
   ]
  },
  {
   "cell_type": "code",
   "execution_count": 48,
   "id": "9fb2a2d4-ea46-47b1-ba45-1b89c309016a",
   "metadata": {},
   "outputs": [
    {
     "name": "stdout",
     "output_type": "stream",
     "text": [
      "structured_array:\n",
      " [[(0., 0.) (0., 0.) (0., 0.) (0., 0.) (0., 0.) (0., 0.) (0., 0.) (0., 0.)\n",
      "  (0., 0.) (0., 0.)]\n",
      " [(0., 0.) (0., 0.) (0., 0.) (0., 0.) (0., 0.) (0., 0.) (0., 0.) (0., 0.)\n",
      "  (0., 0.) (0., 0.)]\n",
      " [(0., 0.) (0., 0.) (0., 0.) (0., 0.) (0., 0.) (0., 0.) (0., 0.) (0., 0.)\n",
      "  (0., 0.) (0., 0.)]\n",
      " [(0., 0.) (0., 0.) (0., 0.) (0., 0.) (0., 0.) (0., 0.) (0., 0.) (0., 0.)\n",
      "  (0., 0.) (0., 0.)]\n",
      " [(0., 0.) (0., 0.) (0., 0.) (0., 0.) (0., 0.) (0., 0.) (0., 0.) (0., 0.)\n",
      "  (0., 0.) (0., 0.)]\n",
      " [(0., 0.) (0., 0.) (0., 0.) (0., 0.) (0., 0.) (0., 0.) (0., 0.) (0., 0.)\n",
      "  (0., 0.) (0., 0.)]\n",
      " [(0., 0.) (0., 0.) (0., 0.) (0., 0.) (0., 0.) (0., 0.) (0., 0.) (0., 0.)\n",
      "  (0., 0.) (0., 0.)]\n",
      " [(0., 0.) (0., 0.) (0., 0.) (0., 0.) (0., 0.) (0., 0.) (0., 0.) (0., 0.)\n",
      "  (0., 0.) (0., 0.)]\n",
      " [(0., 0.) (0., 0.) (0., 0.) (0., 0.) (0., 0.) (0., 0.) (0., 0.) (0., 0.)\n",
      "  (0., 0.) (0., 0.)]\n",
      " [(0., 0.) (0., 0.) (0., 0.) (0., 0.) (0., 0.) (0., 0.) (0., 0.) (0., 0.)\n",
      "  (0., 0.) (0., 0.)]]\n",
      " \n",
      "Structured array with x and y coordinates:\n",
      "  [[(0.        , 0.        ) (0.11111111, 0.        )\n",
      "  (0.22222222, 0.        ) (0.33333333, 0.        )\n",
      "  (0.44444444, 0.        ) (0.55555556, 0.        )\n",
      "  (0.66666667, 0.        ) (0.77777778, 0.        )\n",
      "  (0.88888889, 0.        ) (1.        , 0.        )]\n",
      " [(0.        , 0.11111111) (0.11111111, 0.11111111)\n",
      "  (0.22222222, 0.11111111) (0.33333333, 0.11111111)\n",
      "  (0.44444444, 0.11111111) (0.55555556, 0.11111111)\n",
      "  (0.66666667, 0.11111111) (0.77777778, 0.11111111)\n",
      "  (0.88888889, 0.11111111) (1.        , 0.11111111)]\n",
      " [(0.        , 0.22222222) (0.11111111, 0.22222222)\n",
      "  (0.22222222, 0.22222222) (0.33333333, 0.22222222)\n",
      "  (0.44444444, 0.22222222) (0.55555556, 0.22222222)\n",
      "  (0.66666667, 0.22222222) (0.77777778, 0.22222222)\n",
      "  (0.88888889, 0.22222222) (1.        , 0.22222222)]\n",
      " [(0.        , 0.33333333) (0.11111111, 0.33333333)\n",
      "  (0.22222222, 0.33333333) (0.33333333, 0.33333333)\n",
      "  (0.44444444, 0.33333333) (0.55555556, 0.33333333)\n",
      "  (0.66666667, 0.33333333) (0.77777778, 0.33333333)\n",
      "  (0.88888889, 0.33333333) (1.        , 0.33333333)]\n",
      " [(0.        , 0.44444444) (0.11111111, 0.44444444)\n",
      "  (0.22222222, 0.44444444) (0.33333333, 0.44444444)\n",
      "  (0.44444444, 0.44444444) (0.55555556, 0.44444444)\n",
      "  (0.66666667, 0.44444444) (0.77777778, 0.44444444)\n",
      "  (0.88888889, 0.44444444) (1.        , 0.44444444)]\n",
      " [(0.        , 0.55555556) (0.11111111, 0.55555556)\n",
      "  (0.22222222, 0.55555556) (0.33333333, 0.55555556)\n",
      "  (0.44444444, 0.55555556) (0.55555556, 0.55555556)\n",
      "  (0.66666667, 0.55555556) (0.77777778, 0.55555556)\n",
      "  (0.88888889, 0.55555556) (1.        , 0.55555556)]\n",
      " [(0.        , 0.66666667) (0.11111111, 0.66666667)\n",
      "  (0.22222222, 0.66666667) (0.33333333, 0.66666667)\n",
      "  (0.44444444, 0.66666667) (0.55555556, 0.66666667)\n",
      "  (0.66666667, 0.66666667) (0.77777778, 0.66666667)\n",
      "  (0.88888889, 0.66666667) (1.        , 0.66666667)]\n",
      " [(0.        , 0.77777778) (0.11111111, 0.77777778)\n",
      "  (0.22222222, 0.77777778) (0.33333333, 0.77777778)\n",
      "  (0.44444444, 0.77777778) (0.55555556, 0.77777778)\n",
      "  (0.66666667, 0.77777778) (0.77777778, 0.77777778)\n",
      "  (0.88888889, 0.77777778) (1.        , 0.77777778)]\n",
      " [(0.        , 0.88888889) (0.11111111, 0.88888889)\n",
      "  (0.22222222, 0.88888889) (0.33333333, 0.88888889)\n",
      "  (0.44444444, 0.88888889) (0.55555556, 0.88888889)\n",
      "  (0.66666667, 0.88888889) (0.77777778, 0.88888889)\n",
      "  (0.88888889, 0.88888889) (1.        , 0.88888889)]\n",
      " [(0.        , 1.        ) (0.11111111, 1.        )\n",
      "  (0.22222222, 1.        ) (0.33333333, 1.        )\n",
      "  (0.44444444, 1.        ) (0.55555556, 1.        )\n",
      "  (0.66666667, 1.        ) (0.77777778, 1.        )\n",
      "  (0.88888889, 1.        ) (1.        , 1.        )]]\n"
     ]
    }
   ],
   "source": [
    "# To create a structured array with (x) and (y) coordinates covering the ([0,1] x [0,1]) \n",
    "# area, we can use Numpy's meshgrid function along with a structured array\n",
    "# Define the grid size\n",
    "grid_size = 10 \n",
    "\n",
    "# Create a structured array with 'x' and 'y'\n",
    "structured_array = np.zeros((grid_size, grid_size), dtype=[('x', float), ('y', float) ])\n",
    "print(\"structured_array:\\n\", structured_array)\n",
    "\n",
    "# Generate the x and y coordinates\n",
    "x,y = np.meshgrid(np.linspace(0,1, grid_size), np.linspace(0,1, grid_size))\n",
    "\n",
    "# Assign the coordinates to the structured array\n",
    "structured_array['x'], structured_array['y'] = x, y \n",
    "print(\" \")\n",
    "print(\"Structured array with x and y coordinates:\\n \", structured_array)\n",
    "\n"
   ]
  },
  {
   "cell_type": "markdown",
   "id": "8c1c506a-cdb3-4816-9493-3b2898281918",
   "metadata": {},
   "source": [
    "### 47. Given two arrays, X and Y, construct the Cauchy matrix C (Cij = 1(/Xi-Yj))"
   ]
  },
  {
   "cell_type": "code",
   "execution_count": 49,
   "id": "63418b8f-3680-4ba6-b8c6-56c3f7289b35",
   "metadata": {},
   "outputs": [
    {
     "name": "stdout",
     "output_type": "stream",
     "text": [
      "[[-0.33333333 -0.25       -0.2       ]\n",
      " [-0.5        -0.33333333 -0.25      ]\n",
      " [-1.         -0.5        -0.33333333]]\n"
     ]
    }
   ],
   "source": [
    "# Example arrays\n",
    "x = np.array([1,2,3])\n",
    "y = np.array([4,5,6])\n",
    "\n",
    "# Constructing the Cauchy matrix\n",
    "C = 1.0/(x[:, np.newaxis]- y)\n",
    "# X[:, np.newaxis] reshapes X to a column vector\n",
    "# The subtraction X[:, np.newaxis] - Y creates a matrix where each element is the difference between elements of X and Y\n",
    "print(C)"
   ]
  },
  {
   "cell_type": "markdown",
   "id": "f3dd5e18-fbff-4a99-82dc-80ce77ae3303",
   "metadata": {},
   "source": [
    "### 48. Print the minimum and maximum representable value for each numpy scalar type"
   ]
  },
  {
   "cell_type": "code",
   "execution_count": 50,
   "id": "7bd85a92-8464-4d61-9602-dd5679f90292",
   "metadata": {},
   "outputs": [
    {
     "name": "stdout",
     "output_type": "stream",
     "text": [
      "dtype: int\n",
      "Minimum value: -2147483648\n",
      "Maximum value: 2147483647\n",
      "\n",
      "dtype: uint\n",
      "Minimum value: 0\n",
      "Maximum value: 4294967295\n",
      "\n"
     ]
    }
   ],
   "source": [
    "import numpy as np\n",
    "\n",
    "# np.sctypes: This attribute of the NumPy module returns a sequence containing all scalar data types supported by NumPy. \n",
    "# These data types include integers, floating-point numbers, complex numbers, booleans, and more.\n",
    "for dtype in np.sctypes:\n",
    "\n",
    "    #  Directly check if the dtype name starts with characters representing integer types. \n",
    "    # This works because standard integer type names in NumPy usually begin with 'i', 'u', or 'b' (signed integer, unsigned integer, and boolean)\n",
    "  if str(dtype)[0] in ('i', 'u', 'b'):  \n",
    "    print(f\"dtype: {dtype}\")\n",
    "    print(f\"Minimum value: {np.iinfo(dtype).min}\")\n",
    "    print(f\"Maximum value: {np.iinfo(dtype).max}\")\n",
    "    print()"
   ]
  },
  {
   "cell_type": "markdown",
   "id": "987da202-db60-41bb-bf7f-cb5519d4e51c",
   "metadata": {},
   "source": [
    "### 49. How to print all the values of an array"
   ]
  },
  {
   "cell_type": "code",
   "execution_count": 51,
   "id": "85471db5-6e0a-4f76-a2fe-807fa3d8136b",
   "metadata": {},
   "outputs": [
    {
     "name": "stdout",
     "output_type": "stream",
     "text": [
      "[1 2 3 4 5]\n",
      "\n",
      "[1 2 3 4 5]\n",
      "\n",
      "1\n",
      "2\n",
      "3\n",
      "4\n",
      "5\n"
     ]
    }
   ],
   "source": [
    "arr = np.array([1,2,3,4,5])\n",
    "# 1. Using print() directly\n",
    "print(arr)\n",
    "print()\n",
    "# 2. Using np.array2string()\n",
    "print(np.array2string(arr))\n",
    "print()\n",
    "# 3. Using a loop\n",
    "for value in arr:\n",
    "    print(value)"
   ]
  },
  {
   "cell_type": "markdown",
   "id": "2bcdc3db-1b23-4506-9fff-112632ab4735",
   "metadata": {},
   "source": [
    "### 50. How to find the closest value (to a given scalar) in a vector"
   ]
  },
  {
   "cell_type": "code",
   "execution_count": 52,
   "id": "7e4f6cd2-f6ab-4b66-95dd-e5c0e1942b21",
   "metadata": {},
   "outputs": [
    {
     "name": "stdout",
     "output_type": "stream",
     "text": [
      "differences:\n",
      " [8 6 1 1 6]\n",
      "\n",
      "index_of_min:\n",
      " 2\n",
      "\n",
      "The closet value to 9 is 8\n"
     ]
    }
   ],
   "source": [
    "# Example array and scalar\n",
    "arr = np.array([1,3,8,10,15])\n",
    "scalar = 9 \n",
    "\n",
    "# Calculate the absolute differences\n",
    "differences = np.abs(arr - scalar)\n",
    "print(\"differences:\\n\", differences)\n",
    "\n",
    "# Find the index of the minimum difference\n",
    "index_of_min = np.argmin(differences)\n",
    "print()\n",
    "print(\"index_of_min:\\n\", index_of_min)\n",
    "\n",
    "# Get the closest value\n",
    "closest_value = arr[index_of_min]\n",
    "print()\n",
    "print(f\"The closet value to {scalar} is {closest_value}\")"
   ]
  },
  {
   "cell_type": "markdown",
   "id": "f8f036d4-c90e-4d1b-93a9-4e7ad84ec28f",
   "metadata": {},
   "source": [
    "### 51. Create a structured array representing a position (x,y) and a color (r,g,b) "
   ]
  },
  {
   "cell_type": "code",
   "execution_count": 53,
   "id": "37a2bf8c-3948-4527-b3ff-1ccd2e3b1475",
   "metadata": {},
   "outputs": [
    {
     "name": "stdout",
     "output_type": "stream",
     "text": [
      "[((1., 2.), (255,   0,   0)) ((3., 4.), (  0, 255,   0))\n",
      " ((5., 6.), (  0,   0, 255))]\n",
      "First position: (1., 2.)\n",
      "First color: (255, 0, 0)\n"
     ]
    }
   ],
   "source": [
    "\"\"\"To create a structured array in Numpy that represents a position (x,y) and a color (r,g,b), \n",
    "we can define a custom data type and then create the array using  that data type.\"\"\"\n",
    "# Define the data type with fields for position and color\n",
    "# Define a structured data type with two fields: position (containing x and y coordinates) and color (containing r, g, and b values)\n",
    "dtype = np.dtype([\n",
    "    ('position', [('x', np.float32), ('y', np.float32)]),\n",
    "    ('color', [('r', np.uint8), ('g', np.uint8), ('b', np.uint8)])\n",
    "])\n",
    "# Create a structured array with the defined data type\n",
    "data = np.array([\n",
    "    ((1.0,2.0), (255,0,0)),\n",
    "    ((3.0,4.0), (0,255,0)),\n",
    "    ((5.0, 6.0), (0,0,255))\n",
    "], dtype=dtype)\n",
    "\n",
    "# Accessing the data\n",
    "print(data)\n",
    "print(\"First position:\", data['position'][0])\n",
    "print(\"First color:\", data['color'][0])"
   ]
  },
  {
   "cell_type": "markdown",
   "id": "f59c690a-f99e-47ff-a100-b78e0bbd0926",
   "metadata": {},
   "source": [
    "### 52. Consider a random vector with shape (100,2) representing coordinates, find point by point distances"
   ]
  },
  {
   "cell_type": "code",
   "execution_count": 54,
   "id": "64dbaf1e-d145-4b19-b8a9-57955f751520",
   "metadata": {},
   "outputs": [
    {
     "name": "stdout",
     "output_type": "stream",
     "text": [
      "[[0.         0.39664446 1.06304452 ... 0.61088882 0.49944029 0.71150537]\n",
      " [0.39664446 0.         0.82845775 ... 0.52729352 0.58184722 0.31538146]\n",
      " [1.06304452 0.82845775 0.         ... 0.49330729 0.71797656 0.72290407]\n",
      " ...\n",
      " [0.61088882 0.52729352 0.49330729 ... 0.         0.23412396 0.63364261]\n",
      " [0.49944029 0.58184722 0.71797656 ... 0.23412396 0.         0.78071059]\n",
      " [0.71150537 0.31538146 0.72290407 ... 0.63364261 0.78071059 0.        ]]\n"
     ]
    }
   ],
   "source": [
    "# Generate a random vector with shape (100,2)\n",
    "coordinates = np.random.rand(100,2)\n",
    "\n",
    "# Calculate the pairwise distances\n",
    "    # coordinates[:, np.newaxis] adds a new axis to coordinates, changing its shape from (100, 2) to (100, 1, 2). \n",
    "        # This effectively turns each 2D coordinate into a 1x2 array, allowing for broadcasting in the next step\n",
    "    # coordinates[:, np.newaxis] - coordinates:\n",
    "        # Here, we subtract the original coordinates array (shape (100, 2)) from the expanded coordinates array (shape (100, 1, 2)).\n",
    "        # Due to broadcasting, this operation results in an array of shape (100, 100, 2), \n",
    "        # where each element (i, j) is the difference between the i-th and j-th coordinates\n",
    "    # np.linalg.norm(..., axis=2):\n",
    "        # np.linalg.norm computes the Euclidean norm (or distance) along the specified axis.\n",
    "        # By setting axis=2, we calculate the norm along the last axis of the (100, 100, 2) array, which corresponds to the 2D differences between points.\n",
    "        # This results in a (100, 100) array where each element (i, j) represents the Euclidean distance between the i-th and j-th points\n",
    "distances = np.linalg.norm(coordinates[:, np.newaxis] - coordinates, axis=2)\n",
    "\n",
    "print(distances)"
   ]
  },
  {
   "cell_type": "markdown",
   "id": "2063fff8-63f2-4f26-a8ab-652c8562936a",
   "metadata": {},
   "source": [
    "### 53. How to convert a float (32 bits) array into an integer (32 bits) in place?"
   ]
  },
  {
   "cell_type": "markdown",
   "id": "03514f0a-91f3-4382-b3ef-fe72d1e8c633",
   "metadata": {},
   "source": [
    "To convert a float (32) array into an array (32 bits) array in place using Numpy, we can use the `astype` method. However, \n",
    "note that `astype` does not modify the array in place; it creates a new array. To achieve an in-place conversion, we can use the `view`\n",
    "method to reinterpret the data type and then assign the values back."
   ]
  },
  {
   "cell_type": "code",
   "execution_count": 55,
   "id": "bddd4e02-e9a8-4a49-b515-94d949456d8c",
   "metadata": {},
   "outputs": [
    {
     "name": "stdout",
     "output_type": "stream",
     "text": [
      "[1.04044435e+09 1.04627430e+09 1.06312102e+09 1.05202880e+09\n",
      " 1.05834778e+09 1.06327674e+09 1.06478515e+09 1.06128992e+09\n",
      " 1.04328890e+09 1.03918458e+09]\n"
     ]
    }
   ],
   "source": [
    "# Create a float32 array\n",
    "float_array = np.random.rand(10).astype(np.float32)\n",
    "# Convert the float array to int32 in place\n",
    "float_array[:] = float_array.view(np.int32)\n",
    "print(float_array)"
   ]
  },
  {
   "cell_type": "markdown",
   "id": "c7aed180-7910-4d9e-b5b7-ea26abe52151",
   "metadata": {},
   "source": [
    "### 54. How to read the following file? \n",
    ">1, 2, 3, 4, 5\n",
    "\n",
    ">6,  ,  , 7, 8\n",
    "\n",
    ">,  , 9,10,11 "
   ]
  },
  {
   "cell_type": "markdown",
   "id": "8427f9bd-0bea-41ce-aff7-699238ae7baf",
   "metadata": {},
   "source": [
    "To read a file with missing values, we can use the pandas.read_csv function, which handles missing values gracefully. "
   ]
  },
  {
   "cell_type": "code",
   "execution_count": 56,
   "id": "c3aa89d6-3c47-4b5e-a3b2-4505f2270f9a",
   "metadata": {},
   "outputs": [
    {
     "ename": "NameError",
     "evalue": "name 'pd' is not defined",
     "output_type": "error",
     "traceback": [
      "\u001b[1;31m---------------------------------------------------------------------------\u001b[0m",
      "\u001b[1;31mNameError\u001b[0m                                 Traceback (most recent call last)",
      "Cell \u001b[1;32mIn[56], line 7\u001b[0m\n\u001b[0;32m      5\u001b[0m         file\u001b[38;5;241m.\u001b[39mwrite(\u001b[38;5;124m\"\u001b[39m\u001b[38;5;124m ,  , 9,10,11\u001b[39m\u001b[38;5;130;01m\\n\u001b[39;00m\u001b[38;5;124m\"\u001b[39m)\n\u001b[0;32m      6\u001b[0m \u001b[38;5;66;03m# Read the the file into a DataFrame\u001b[39;00m\n\u001b[1;32m----> 7\u001b[0m df \u001b[38;5;241m=\u001b[39m pd\u001b[38;5;241m.\u001b[39mread_csv(\u001b[38;5;124m'\u001b[39m\u001b[38;5;124msample.csv\u001b[39m\u001b[38;5;124m'\u001b[39m, header\u001b[38;5;241m=\u001b[39m \u001b[38;5;28;01mNone\u001b[39;00m, skipinitialspace\u001b[38;5;241m=\u001b[39m \u001b[38;5;28;01mTrue\u001b[39;00m)\n\u001b[0;32m      8\u001b[0m \u001b[38;5;66;03m# header=None indicates that the file does not have a header row\u001b[39;00m\n\u001b[0;32m      9\u001b[0m \u001b[38;5;66;03m# skipinitialspace=True ensures that any spaces after the commas are ignored \u001b[39;00m\n\u001b[0;32m     11\u001b[0m \u001b[38;5;28mprint\u001b[39m(df)\n",
      "\u001b[1;31mNameError\u001b[0m: name 'pd' is not defined"
     ]
    }
   ],
   "source": [
    "# Create a sample file with the given data \n",
    "with open('sample.csv', 'w') as file:\n",
    "        file.write(\"1, 2, 3, 4, 5\\n\")\n",
    "        file.write(\"6,  ,  , 7, 8\\n\")\n",
    "        file.write(\" ,  , 9,10,11\\n\")\n",
    "# Read the the file into a DataFrame\n",
    "df = pd.read_csv('sample.csv', header= None, skipinitialspace= True)\n",
    "# header=None indicates that the file does not have a header row\n",
    "# skipinitialspace=True ensures that any spaces after the commas are ignored \n",
    "\n",
    "print(df)"
   ]
  },
  {
   "cell_type": "markdown",
   "id": "2335f990-a40b-4a9f-820d-596b603f393a",
   "metadata": {},
   "source": [
    "### 55. What is the equivalent of enumerate for numpy arrays?"
   ]
  },
  {
   "cell_type": "markdown",
   "id": "865b4652-bd0e-48c9-9809-c0b9301663ed",
   "metadata": {},
   "source": [
    "The equivalent of `enumerate` for Numpy arrays is `np.ndenumerate`. This\n",
    "function allows you to iterate over a Numpy array while getting both the index and the value of each element."
   ]
  },
  {
   "cell_type": "code",
   "execution_count": null,
   "id": "783ad72d-d774-4d79-8a21-e859d87a9812",
   "metadata": {},
   "outputs": [],
   "source": [
    "# Example with a 1D array\n",
    "arr = np.array([10,20,30,40])\n",
    "for index, value in np.ndenumerate(arr):\n",
    "    print(index, value)\n",
    "print()\n",
    "# Example with a 2D array\n",
    "arr = np.array([[1,2], [3,4]])\n",
    "for index, value in np.ndenumerate(arr):\n",
    "    print(index, value)\n",
    "    "
   ]
  },
  {
   "cell_type": "markdown",
   "id": "b4c55558-7bfe-4143-92c6-efcdc58dbfa2",
   "metadata": {},
   "source": [
    "### 56. Generate a generic 2D Gaussian-like array"
   ]
  },
  {
   "cell_type": "code",
   "execution_count": null,
   "id": "c61ca460-f2c9-4637-8c27-05ccca8b040c",
   "metadata": {},
   "outputs": [],
   "source": [
    "def generate_2d_gaussian(kernel_size, sigma=1.0):\n",
    "    # Create a grid of (x, y) coordinate\n",
    "    # np.linspace(-1, 1, kernel_size):\n",
    "        # This function generates kernel_size evenly spaced values between -1 and 1.\n",
    "        # For example, if kernel_size is 5, np.linspace(-1, 1, 5) would produce the array [-1, -0.5, 0, 0.5, 1].\n",
    "    # np.meshgrid:\n",
    "        #This function takes two 1D arrays and produces two 2D matrices (grids) from them.\n",
    "        #The first array represents the x-coordinates and the second array represents the y-coordinates.\n",
    "    x, y = np.meshgrid(np.linspace(-1,1, kernel_size), np.linspace(-1,1,kernel_size))\n",
    "    \n",
    "    # Calculate the distance from center\n",
    "    d = np.sqrt(x**2 + y**2)\n",
    "\n",
    "    # Calculate the Gaussian function\n",
    "    g = np.exp(-((d**2)/ (2.0 * sigma**2)))\n",
    "\n",
    "    # Normalize the Gaussian function\n",
    "    g /= g.sum()\n",
    "\n",
    "    return g\n",
    "# Example usage\n",
    "kernel_size = 5 \n",
    "sigma = 1.0\n",
    "gaussian_array = generate_2d_gaussian(kernel_size, sigma)\n",
    "print(gaussian_array)"
   ]
  },
  {
   "cell_type": "markdown",
   "id": "2ad3f3a9-c5e7-4ab7-bf2e-ca1ed0f11cee",
   "metadata": {},
   "source": [
    "### 57. How to randomly place p elements in a 2D array?"
   ]
  },
  {
   "cell_type": "code",
   "execution_count": null,
   "id": "4227bfd5-62fe-41e5-9e95-fbd2f1337e8d",
   "metadata": {},
   "outputs": [],
   "source": [
    "# Define the dimensions of the 2D array\n",
    "row, cols = 5,5 \n",
    "\n",
    "# Create an empty 2D array\n",
    "array = np.zeros((row, cols))\n",
    "\n",
    "# Define the number of elements to place\n",
    "p = 10 \n",
    "\n",
    "# Define the elements to place (can be any values you want)\n",
    "elements = np.arange(1, p+1)\n",
    "\n",
    "# Randomly choose positions in the array\n",
    "positions = np.random.choice(row*cols, p, replace = False)\n",
    "\n",
    "# Place the elements in the chosen positions\n",
    "# zip(positions, elements):\n",
    "# This function pairs each element in positions with the corresponding element in elements. \n",
    "    # For example, if positions = [3, 7, 12] and elements = [1, 2, 3], zip(positions, elements) will produce pairs like (3, 1), (7, 2), and (12, 3)\n",
    "for pos, element in zip(positions, elements):\n",
    "    array[pos// cols, pos % cols] = element \n",
    "print(array)\n"
   ]
  },
  {
   "cell_type": "markdown",
   "id": "4389355f-94c4-46e4-9154-3af695ce85a5",
   "metadata": {},
   "source": [
    "### 58. Subtract the mean of each row of a matrix"
   ]
  },
  {
   "cell_type": "code",
   "execution_count": null,
   "id": "61476968-4175-4df6-b407-6b88090b3394",
   "metadata": {},
   "outputs": [],
   "source": [
    "# Create a sample 2D array (matrix)\n",
    "matrix = np.array([[1, 2, 3], \n",
    "                   [4, 5, 6], \n",
    "                   [7, 8, 9]])\n",
    "# Calculate the mean of each row\n",
    "    # This calculates the mean of each row. The axis=1 parameter specifies that the mean should be computed along the rows. \n",
    "    # The keepdims=True parameter ensures that the result has the same number of dimensions as the original matrix, which is necessary for broadcasting.\n",
    "row_means = matrix.mean(axis=1, keepdims = True)\n",
    "\n",
    "# Subtract the mean of each row from the corresponding row elements\n",
    "result = matrix - row_means\n",
    "\n",
    "print(\"Original matrix:\\n\", matrix)\n",
    "print(\"Row means:\\n\", row_means)\n",
    "print(\"Matrix after subtracting row means: \\n\", result)"
   ]
  },
  {
   "cell_type": "markdown",
   "id": "ee5cffe5-ca44-44e5-8728-0e2a9c7b7d68",
   "metadata": {},
   "source": [
    "### 59. How to sort an array by the nth column"
   ]
  },
  {
   "cell_type": "code",
   "execution_count": null,
   "id": "c24f8590-8d90-4f73-96e9-f6d8a4529b4e",
   "metadata": {},
   "outputs": [],
   "source": [
    "# Create a sample 2D array (matrix)\n",
    "matrix = np.array([[9, 2, 3], \n",
    "                   [4, 5, 6], \n",
    "                   [7, 0, 5]])\n",
    "\n",
    "# Define the column index to sort by (e.g., 1 for the second column)\n",
    "n = 1 \n",
    "\n",
    "# Get the indices that would sort the nth column\n",
    "    # matrix[:, n]:\n",
    "        #This extracts the ( n )-th column from the 2D array matrix. The colon (:) indicates that we want all rows, and n specifies the column index.\n",
    "    # .argsort():\n",
    "        # This function returns the indices that would sort the array. \n",
    "sorted_indices = matrix[:, n].argsort()\n",
    "print(\"Sorted_indices: \\n\", sorted_indices)\n",
    "\n",
    "# Use the sorted indices to reorder the rows of the matrix\n",
    "sorted_matrix = matrix[sorted_indices]\n",
    "\n",
    "print(\"Original matrix:\\n\", matrix)\n",
    "print(\"Sorted matrix by column\", n, \":\\n\", sorted_matrix)"
   ]
  },
  {
   "cell_type": "markdown",
   "id": "494b2b10-aaf6-4ef8-9eba-e792dcc8a3f4",
   "metadata": {},
   "source": [
    "### 60. How to tell if a given 2D array has null columns?"
   ]
  },
  {
   "cell_type": "code",
   "execution_count": null,
   "id": "9ef39924-31ff-4c6e-aa0e-369c54f765cf",
   "metadata": {},
   "outputs": [],
   "source": [
    "# Example 2D array\n",
    "array = np.array([[1, 0, 3],\n",
    "    [4, 0, 6],\n",
    "    [7, 0, 9]])\n",
    "\n",
    "# Check for null columns\n",
    "# array.any(axis=0) returns a boolean array where each element is True if the corresponding column has any non-zero elements, and False otherwise\n",
    "# ~array.any(axis=0) inverts the boolean array, so True indicates a column with all zeros\n",
    "null_columns = (~array.any(axis=0)).any()\n",
    "print(\"Does the array have columns?\", null_columns)"
   ]
  },
  {
   "cell_type": "markdown",
   "id": "ea8b1dbe-e5e1-4cf0-8212-e35d251e941a",
   "metadata": {},
   "source": [
    "### 61. Find the nearest value from a given value in an array"
   ]
  },
  {
   "cell_type": "code",
   "execution_count": null,
   "id": "3d07c747-1e2b-49b6-8167-40546cccc308",
   "metadata": {},
   "outputs": [],
   "source": [
    "# Example array\n",
    "array = np.array([10, 22, 14, 7, 33, 5, 18])\n",
    "\n",
    "# Target value\n",
    "target_value = 15\n",
    "\n",
    "# Find the index of the nearest value\n",
    "# .argmin() finds the index of the smallest difference.\n",
    "index = np.abs(array - target_value).argmin()\n",
    "print(\"index:\\n\",index)\n",
    "\n",
    "# Get the nearest value\n",
    "# array[index] retrieves the element at that index, which is the nearest value to the target\n",
    "nearest_value = array[index]\n",
    "\n",
    "print(\"The nearest value to\", target_value, \"is\", nearest_value)"
   ]
  },
  {
   "cell_type": "markdown",
   "id": "577d0f75-814c-4398-ac7c-44d62b182d29",
   "metadata": {},
   "source": [
    "### 62. Considering two arrays with shape(1,3) and (3,1), how to compute their sum using an iterator?"
   ]
  },
  {
   "cell_type": "markdown",
   "id": "7c694c9d-d7af-4ce3-a7e7-1f2bd99457ab",
   "metadata": {},
   "source": [
    "To compute the sum of two arrays with shape (1,3) and (3,1) using an iterator, we can use the nditer function. This function allows us to iterate over arrays in a flexible way."
   ]
  },
  {
   "cell_type": "code",
   "execution_count": null,
   "id": "bdd2a551-9d89-4f92-aa43-01f9a33de1de",
   "metadata": {},
   "outputs": [],
   "source": [
    "# Create the arrays\n",
    "array1 = np.array([[1, 2, 3]])\n",
    "array2 = np.array([[4], [5], [6]])\n",
    "\n",
    "# Allocates space for the result array\n",
    "result = np.empty((3,3))\n",
    "# Initialize an iterator with broadcasting enabled\n",
    "# np.nditer is initialized with the two input arrays and the allocated result array\n",
    "it = np.nditer([array1, array2, result], flags=['external_loop'], op_flags=[['readonly'], ['readonly'], ['writeonly']], op_axes=[None, None, [0, 1]])\n",
    "\n",
    "# Compute the sum using the iterator\n",
    "# The loop iterates over the elements of the arrays, computes their sum, and stores it in the result array\n",
    "for x, y, z in it:\n",
    "    z[...] = x + y\n",
    "\n",
    "# Get the result array\n",
    "result = it.operands[2]\n",
    "\n",
    "print(\"Array 1:\\n\", array1)\n",
    "print(\"Array 2:\\n\", array2)\n",
    "print(\"Sum:\\n\", result)\n"
   ]
  },
  {
   "cell_type": "markdown",
   "id": "6a2ca2b4-5fef-4525-9c56-ff6e9a4d19ab",
   "metadata": {},
   "source": [
    "### 63. Create an array class that has a name attribute"
   ]
  },
  {
   "cell_type": "code",
   "execution_count": null,
   "id": "94cc11ca-ad7f-4af1-b365-912e5dca2624",
   "metadata": {},
   "outputs": [],
   "source": [
    "class NamedArray(np.ndarray):\n",
    "    def __new__(cls, input_array, name=\"\"):\n",
    "        \n",
    "        \"\"\"__new__ Method: This method is responsible for creating and returning a new instance of the class. \n",
    "        It uses np.asarray to convert the input array to an ndarray and then views it as an instance of NamedArray.\n",
    "        The name attribute is added to the instance\"\"\"\n",
    "        \n",
    "        obj = np.asarray(input_array).view(cls)\n",
    "        obj.name = name \n",
    "        return obj \n",
    "\n",
    "    def __array_finalize__(self,obj):\n",
    "\n",
    "        \"\"\"\n",
    "        __array_finalize__ Method: This method ensures that the name attribute is preserved \n",
    "        when the array is sliced or viewed in different ways.\n",
    "        \"\"\"\n",
    "        \n",
    "        if obj is None:\n",
    "            return \n",
    "        self.name = getattr(obj, 'name', \"\")\n",
    "\n",
    "# Example usage\n",
    "array = NamedArray([[1, 2, 3], [4, 5, 6]], name = \"MyArray\")\n",
    "print(\"Array:\\n\", array)\n",
    "print(\"Name:\\n\", array.name)"
   ]
  },
  {
   "cell_type": "markdown",
   "id": "ddb46d0f-55c9-4dae-bf36-7f979164bc72",
   "metadata": {},
   "source": [
    "### 64. Consider a given vector, how to add 1 to each element indexed by a second vector (be careful with repeated indices)?"
   ]
  },
  {
   "cell_type": "code",
   "execution_count": null,
   "id": "666c3354-19ae-48b2-87df-640adc825637",
   "metadata": {},
   "outputs": [],
   "source": [
    "# Example vector\n",
    "vector = np.array([0, 1, 2, 3, 4, 5, 6, 7, 8, 9])\n",
    "\n",
    "# Index vector (with repeated indices)\n",
    "indices = np.array([1, 3, 3, 5, 7, 7, 7])\n",
    "\n",
    "# Use np.add.at to add 1 to each element indexed by the indices\n",
    "np.add.at(vector, indices, 1)\n",
    "\n",
    "print(\"Updated vector:\", vector)"
   ]
  },
  {
   "cell_type": "markdown",
   "id": "caa022d0-dd0c-4482-9585-f3803c2970d9",
   "metadata": {},
   "source": [
    "### 65. How to accumulate elements of a vector (X) to an array (F) based on an index list (I)?"
   ]
  },
  {
   "cell_type": "markdown",
   "id": "9ccd30cc-894e-479d-912c-845b62ee19b7",
   "metadata": {},
   "source": [
    "To accumulate elements of a vector (X) into an array (F) based on an index list (I), we can use the `np.add.at` function. This function allows us to perform unbuffered in-place operations on the array, which is useful for handling repeated indices correctly."
   ]
  },
  {
   "cell_type": "code",
   "execution_count": null,
   "id": "133aa222-c883-414e-b5b5-4498bb9709b7",
   "metadata": {},
   "outputs": [],
   "source": [
    "# Example vector X\n",
    "X =  np.array([1, 2, 3, 4, 5])\n",
    "\n",
    "# Index list I\n",
    "I = np.array([0, 1, 2, 1, 0])\n",
    "\n",
    "# Array F initialized to zeros with the appropriate shape\n",
    "F = np.zeros(3)\n",
    "\n",
    "# Accumulate elements of X into F based on indices in I\n",
    "np.add.at(F, I, X)\n",
    "\n",
    "print(\"Vector X:\", X)\n",
    "print(\"Index list I:\", I)\n",
    "print(\"Accumulated array F:\", F)\n"
   ]
  },
  {
   "cell_type": "markdown",
   "id": "049af941-852f-4233-8df5-ed0507a4c1bb",
   "metadata": {},
   "source": [
    "###  66. Considering a (w,h,3)  image of (dtype=ubyte), compute the number of unique colors\n"
   ]
  },
  {
   "cell_type": "code",
   "execution_count": null,
   "id": "ad05d6d0-62ce-4754-b42d-f78537cc9334",
   "metadata": {},
   "outputs": [],
   "source": [
    "# Assuming 'image' is your (w,h,3) image array of dtype 'ubyte'\n",
    "image = np.random.randint(0, 256, (100, 100, 3), dtype=np.ubyte)\n",
    "\n",
    "# Reshape the image to a 2D array where each row is a pixel and columns are RGB values\n",
    "reshaped_image = image.reshape(-1,3)\n",
    "\n",
    "# Find unique rows(unique colors)\n",
    "unique_colors = np.unique(reshaped_image, axis=0)\n",
    "\n",
    "# Count the number of unique colors\n",
    "num_unique_colors = unique_colors.shape[0]\n",
    "\n",
    "print(f\"Number of unique colors: , {num_unique_colors}\")\n",
    "\n"
   ]
  },
  {
   "cell_type": "markdown",
   "id": "450fded0-025f-47a0-83cb-84c0789dc2f2",
   "metadata": {},
   "source": [
    "### 67. Considering a four dimensions array, how to get sum over the last two axis at once?"
   ]
  },
  {
   "cell_type": "markdown",
   "id": "12cd2083-0538-41f8-92e6-8d51d35d3242",
   "metadata": {},
   "source": [
    "To computer the sum over the last two axes of a four-dimensional array using Numpy, you can use the `numpy.sum` functino and specify the axes you want to sum over."
   ]
  },
  {
   "cell_type": "code",
   "execution_count": null,
   "id": "1d9d3861-abec-4a74-b9df-3fad3b71255e",
   "metadata": {},
   "outputs": [],
   "source": [
    "# Example 4D array\n",
    "array_4d = np.random.rand(2,3,4,5)\n",
    "\n",
    "# Sum over the last two axes (axis 2 and axis 3)\n",
    "sum_over_last_two_axes = np.sum(array_4d, axis=(-2,-1))\n",
    "\n",
    "print(\"Sum over the last two axes:\\n\",sum_over_last_two_axes )\n"
   ]
  },
  {
   "cell_type": "markdown",
   "id": "a76f61a4-d728-42b8-8c42-c1049025d609",
   "metadata": {},
   "source": [
    "### 68. Considering a one-dimensional vector D, how to compute means of subsets of D using a vector S of same size describing subset indices?"
   ]
  },
  {
   "cell_type": "markdown",
   "id": "b177d46a-660b-49aa-9ea4-52e3fe10cf66",
   "metadata": {},
   "source": [
    "To compute the means of subsets of a one-dimensional vector (D) using a vector (S) of the same size that describes subset indices, we can use a `biscount` and `unique` functions."
   ]
  },
  {
   "cell_type": "code",
   "execution_count": null,
   "id": "ea3d5094-99aa-47cd-8551-94510196ea38",
   "metadata": {},
   "outputs": [],
   "source": [
    "# Example vectors \n",
    "D = np.array([10, 20, 30, 40, 50, 60])\n",
    "S = np.array([1, 1, 2, 2, 1, 2])\n",
    "\n",
    "# Find unique subset indices\n",
    "unique_indices = np.unique(S)\n",
    "print(f\"unique_indices:\\n {unique_indices}\")\n",
    "\n",
    "# Compute the sum and count for each subset\n",
    "    # computes the sum of elements in D for each subset index in S\n",
    "sum_per_subset = np.bincount(S, weights=D)\n",
    "print(f\"sum_per_subset:\\n {sum_per_subset}\")\n",
    "    # computes the count of elements for each subset index in S\n",
    "count_per_subset = np.bincount(S)\n",
    "print(f\"sum_per_subset\\n {sum_per_subset}\")\n",
    "\n",
    "# Compute the mean for each subset\n",
    "mean_per_subset = sum_per_subset / count_per_subset\n",
    "print(f\"mean_per_subset:\\n {mean_per_subset }\")\n",
    "\n",
    "# Create a dictionary to map subset indices to their means\n",
    "subset_means =dict(zip(unique_indices, mean_per_subset[unique_indices]))\n",
    "\n",
    "print(f\"Mean of subsets:\\n {subset_means}\")"
   ]
  },
  {
   "cell_type": "markdown",
   "id": "e8714804-b7b1-41dc-aaba-578ec3abd461",
   "metadata": {},
   "source": [
    "### 69. How to get the diagonal of a dot product"
   ]
  },
  {
   "cell_type": "markdown",
   "id": "c7f3a30d-d8df-4128-bf5b-87880145364d",
   "metadata": {},
   "source": [
    "To get the diagonal of a dot product of two matrices using Numpy, you can use the `np.dot` function to compute the dot product and then the `np.diag` function to extract the diagonal elements"
   ]
  },
  {
   "cell_type": "code",
   "execution_count": null,
   "id": "52d0ce7f-9466-4bb3-8d5e-371671ca7940",
   "metadata": {},
   "outputs": [],
   "source": [
    "# Example matrices\n",
    "a = np.random.rand(4,4)\n",
    "b = np.random.rand(4,4)\n",
    "\n",
    "# Compute the dot product\n",
    "dot_product = np.dot(a,b)\n",
    "\n",
    "# Extract the diagonal elements\n",
    "diagonal_elements = np.diag(dot_product)\n",
    "\n",
    "print(f\"Dot product of matrices a and b: \\n{dot_product}\")\n",
    "print(f\"diagonal elements of the dot product: \\n {diagonal_elements}\")"
   ]
  },
  {
   "cell_type": "markdown",
   "id": "6dff636c-15ed-4bbc-84ef-99731be534a6",
   "metadata": {},
   "source": [
    "### 70. Consider the vector [1,2,3,4,5], how to build a new vector with 3 consecutive zeros interleaved between each value?"
   ]
  },
  {
   "cell_type": "code",
   "execution_count": null,
   "id": "7fce2b12-7921-40a4-b739-22c667fabb64",
   "metadata": {},
   "outputs": [],
   "source": [
    "# Original vector\n",
    "original_vector = np.array([1, 2, 3, 4, 5])\n",
    "# Number of zeros to interleave\n",
    "num_zeros = 3 \n",
    "# Create a new array of the required size filled with zeros\n",
    "new_vector = np.zeros(len(original_vector) + (len(original_vector)-1) * num_zeros, dtype=original_vector.dtype)\n",
    "# Assign the values from the original vector to the correct positions in the new vector\n",
    "new_vector[::num_zeros +1] = original_vector \n",
    "\n",
    "print(f\"Original vector: \\n {original_vector}\")\n",
    "print(f\"New vector with interleaved zeros: \\n {new_vector}\")"
   ]
  },
  {
   "cell_type": "markdown",
   "id": "f6a73f14-8129-4ae0-b3db-abac661d1095",
   "metadata": {},
   "source": [
    "### 71. Consider an array of dimension (5,5,3) how to multiply it by an array with dimensions(5,5)?\n"
   ]
  },
  {
   "cell_type": "code",
   "execution_count": null,
   "id": "2c7e71b3-0231-4068-a4bf-08a1b78ae9fd",
   "metadata": {},
   "outputs": [],
   "source": [
    "# Create the arrays\n",
    "array1 = np.random.rand(5,5,3)\n",
    "array2 = np.random.rand(5,5)\n",
    "\n",
    "# Multiply the arrays using broadcasting\n",
    "# array2[:, :, np.newaxis] reshapes array2 from (5, 5) to (5, 5, 1), allowing it to broadcast across the third dimension of array1.\n",
    "result = array1 * array2[:, :, np.newaxis]\n",
    "\n",
    "print(result)"
   ]
  },
  {
   "cell_type": "markdown",
   "id": "5eec9733-bf52-4bd7-b973-6ecebf1e0174",
   "metadata": {},
   "source": [
    "### 72. How to swap two rows of an array?"
   ]
  },
  {
   "cell_type": "markdown",
   "id": "e524055b-6b33-4b3a-81e7-399c1ccca249",
   "metadata": {},
   "source": [
    "We can use advanced indexing to swap rows. For example, to swap the first and second rows:"
   ]
  },
  {
   "cell_type": "code",
   "execution_count": null,
   "id": "9110bce0-c7ec-451a-8c0c-7be1017edbaa",
   "metadata": {},
   "outputs": [],
   "source": [
    "# Create an example array\n",
    "array = np.array([[1, 2, 3], [4, 5, 6], [7, 8, 9]])\n",
    "\n",
    "# Swap the first and second rows\n",
    "array[[0,1]] = array[[1,0]]\n",
    "print(array)"
   ]
  },
  {
   "cell_type": "markdown",
   "id": "a55a8fc4-ccf9-4bf2-81d7-fb39211eaa05",
   "metadata": {},
   "source": [
    "### 73. Consider a set of 10 triplets describing 10 triangles (with shared verticles), find the set of unique line segments composing all the triangles"
   ]
  },
  {
   "cell_type": "code",
   "execution_count": null,
   "id": "0d54cdaa-a77a-4b04-b194-a103f8e07010",
   "metadata": {},
   "outputs": [],
   "source": [
    "# Example array of 10 triplets (each triplet represents a triangle)\n",
    "triangles = np.array([[0, 1, 2],\n",
    "    [2, 3, 4],\n",
    "    [4, 5, 6],\n",
    "    [6, 7, 8],\n",
    "    [8, 9, 0],\n",
    "    [0, 2, 4],\n",
    "    [4, 6, 8],\n",
    "    [8, 0, 2],\n",
    "    [2, 4, 6],\n",
    "    [6, 8, 0]])\n",
    "# Generate all line segments from the triangles\n",
    "# Repeat each triagle's vertices to form pairs\n",
    "segments = np.roll(triangles.repeat(2, axis=1), -1, axis=1).reshape(-1,2)\n",
    "# Sort each segment to ensure consistency (e.g., [0,1] and [1,0] are the same)\n",
    "segments = np.sort(segments, axis=1)\n",
    "\n",
    "# Use a structured array to find unique segments\n",
    "dtype = [('p0', segments.dtype), ('p1', segments.dtype)]\n",
    "structured_segments = segments.view(dtype)\n",
    "unique_segments = np.unique(structured_segments)\n",
    "\n",
    "# Convert back to a regular array\n",
    "unique_segments = unique_segments.view(segments.dtype).reshape(-1,2)\n",
    "print(unique_segments)"
   ]
  },
  {
   "cell_type": "markdown",
   "id": "2c83cc98-f3e4-49cd-8e12-77a40a0668a6",
   "metadata": {},
   "source": [
    "### 74. Given an array C that is bincount, how to produce an array A such that np.bincount (A) == C?"
   ]
  },
  {
   "cell_type": "markdown",
   "id": "0568a03e-8d59-4044-9f6d-1213e0aac89c",
   "metadata": {},
   "source": [
    "To produce an array (A) such that np.bincount(A) == C, you can use the np.repeat function"
   ]
  },
  {
   "cell_type": "code",
   "execution_count": null,
   "id": "99d5d6e6-9566-4df8-821c-8f39a3f7043c",
   "metadata": {},
   "outputs": [],
   "source": [
    "# Example bincount array\n",
    "C = np.array([2, 1, 1, 2, 1, 0, 1])\n",
    "# Generate the array (A)\n",
    "# np.arange(len(C)) creates an array of integers from 0 to the length of ( C ) minus one.\n",
    "# np.repeat(np.arange(len(C)), C) repeats each integer in this array according to the corresponding value in ( C )\n",
    "A = np.repeat(np.arange(len(C)), C)\n",
    "print(A)"
   ]
  },
  {
   "cell_type": "markdown",
   "id": "245baa6a-875d-4c38-93c7-4308703c2201",
   "metadata": {},
   "source": [
    "### 75. How to compute averages using a sliding window over an array?"
   ]
  },
  {
   "cell_type": "code",
   "execution_count": null,
   "id": "da728ecc-657e-4d09-a820-7db5d0f9273a",
   "metadata": {},
   "outputs": [],
   "source": [
    "# Define the array and window size\n",
    "array = np.array([1, 2, 3, 4, 5, 6, 7, 8, 9, 10])\n",
    "window_size = 3 \n",
    "# Define a function moving_average that computes the cumulative sum of the array and then calculates the moving average \n",
    "    # by subtracting the cumulative sums appropriately and dividing by the window size\n",
    "def moving_average(a,n):\n",
    "    # np.cumsum computes the cumulative sum of the array a, and the dtype=float ensures that the result is stored as floating-point numbers\n",
    "    ret = np.cumsum(a, dtype=float)\n",
    "    print(f\"ret: {ret}\")\n",
    "    ret[n:] = ret[n:] - ret[:-n]\n",
    "    return ret[n-1:]/n\n",
    "averages = moving_average(array, window_size)\n",
    "print(averages)"
   ]
  },
  {
   "cell_type": "markdown",
   "id": "dd5fd42f-8587-4acc-8a38-14bf79c3e0f6",
   "metadata": {},
   "source": [
    "### 76. Consider a one-dimensional array Z, build a two-dimensional array whose first row is (Z[0], Z[1], Z[2]) and each subsequent row is shifted by 1 (last row should be Z[-3], Z[-2], Z[-1])"
   ]
  },
  {
   "cell_type": "markdown",
   "id": "6320c054-c0a3-49e4-b075-56b22945cad2",
   "metadata": {},
   "source": [
    "To build a two-dimensional array from a one-dimensional array (Z), where each row is a shifted version of the previous row, you can use Numpy's `stride_tricks` module."
   ]
  },
  {
   "cell_type": "code",
   "execution_count": null,
   "id": "28cc870d-6066-4c2f-8157-e3a841117dba",
   "metadata": {},
   "outputs": [],
   "source": [
    "def rolling (a, window):\n",
    "    shape = (a.size - window + 1 , window)\n",
    "    \n",
    "    strides = (a.strides[0], a.strides[0])\n",
    "    # The rolling function uses stride_tricks.as_strided to create a view of the array with the desired shape and strides\n",
    "    return stride_tricks.as_strided(a, shape=shape, strides=strides)\n",
    "\n",
    "# Create the one-dimensional array Z\n",
    "Z = np.arange(10)\n",
    "\n",
    "# Define the window size\n",
    "window_size = 3 \n",
    "\n",
    "# Generate the two-dimensional array\n",
    "result = rolling(Z, window_size)\n",
    "\n",
    "print(result)"
   ]
  },
  {
   "cell_type": "markdown",
   "id": "fd2cf65f-442d-4a83-b9b4-4fa79cea2948",
   "metadata": {},
   "source": [
    "### 77. How to negate a boolean, or to change the sign of a float inplace?"
   ]
  },
  {
   "cell_type": "markdown",
   "id": "e69cfaa9-5dc2-4886-87e1-b1b250c8dcf8",
   "metadata": {},
   "source": [
    "To change the sign of a float array in place, we can use the `numpy.negative` function or simply multiply the array by -1"
   ]
  },
  {
   "cell_type": "code",
   "execution_count": null,
   "id": "451765cc-d004-4e58-919c-99d80f28d514",
   "metadata": {},
   "outputs": [],
   "source": [
    "# Example float array\n",
    "float_array = np.array([1.0, -2.0, 3.0, -4.0])\n",
    "# Using numpy.negative\n",
    "np.negative(float_array, out=float_array)\n",
    "print(float_array)\n",
    "# Using multiplication by -1\n",
    "float_array *=-1\n",
    "print(float_array)"
   ]
  },
  {
   "cell_type": "markdown",
   "id": "f9f9b83c-19f4-4a22-9eb1-521d7607d7b2",
   "metadata": {},
   "source": [
    "### 78. Consider 2 sets of points P0, P1 describing lines (2d) and a point p, how to compute distance from p to each line i (P0[i], P1[i])"
   ]
  },
  {
   "cell_type": "code",
   "execution_count": null,
   "id": "eefa52f3-1aa5-461b-a48f-549aceb5ac7f",
   "metadata": {},
   "outputs": [],
   "source": [
    "# Example points \n",
    "P0 = np.array([[0, 0], [1, 1], [2, 2]])\n",
    "P1 = np.array([[1, 0], [2, 1], [3, 2]])\n",
    "p = np.array([1,2])\n",
    "\n",
    "# Function to compute distance from point p to each line segment (P0[i], P1[i])\n",
    "def distance_point_to_lines(P0, P1, p):\n",
    "    # This computes the vector from each ( P0[i] ) to ( P1[i] )\n",
    "    line_vec = P1 - P0\n",
    "    # This computes the vector from each ( P0[i] ) to the point ( p )\n",
    "    point_vec = p - P0\n",
    "    # This computes the cross product of the vectors, which gives a measure of the area of the parallelogram formed by the vectors\n",
    "    cross_prod = np.cross(line_vec, point_vec)\n",
    "    # This computes the distance from the point to each line by dividing the magnitude of the cross product by the length of the line segment\n",
    "    distances = np.abs(cross_prod) / np.linalg.norm(line_vec, axis=1)\n",
    "    return distances \n",
    "\n",
    "# Compute distances\n",
    "distances = distance_point_to_lines(P1, P0, p)\n",
    "print(distances)\n",
    "    "
   ]
  },
  {
   "cell_type": "markdown",
   "id": "81c0da7b-bdc8-46c4-8744-f1e092543e74",
   "metadata": {},
   "source": [
    "### 79. Consider 2 sets of point P0, P1 describing lines (2d) and a set of points P, how to compute distance from each point j (P[j]) to each line i (P0[i], P1[i])?"
   ]
  },
  {
   "cell_type": "code",
   "execution_count": null,
   "id": "22049090-1365-450f-baab-9425b81c2162",
   "metadata": {},
   "outputs": [],
   "source": [
    "# Example points\n",
    "P0 = np.array([[0, 0], [1, 1], [2, 2]])\n",
    "P1 = np.array([[1, 0], [2, 1], [3, 2]])\n",
    "P = np.array([[1, 2], [2, 3], [3, 4]])\n",
    "\n",
    "# Function to compute distance from each point P[j] to each line segment (P0[i], P1[i])\n",
    "def distance_points_to_lines(P0, P1, P):\n",
    "    #  This computes the vector from each ( P0[i] ) to ( P1[i] )\n",
    "    line_vec = P1 -P0\n",
    "    # Number of lines and points \n",
    "    num_lines = P0.shape[0]\n",
    "    num_points = P.shape[0]\n",
    "    # Initialize distance matrix\n",
    "    distances = np.zeros((num_points, num_lines))\n",
    "    for j in range(num_points):\n",
    "        # This computes the vector from each ( P0[i] ) to each point ( P[j] )\n",
    "        point_vec = P[j] - P0 \n",
    "        # This computes the cross product of the vectors, which gives a measure of the area of the parallelogram formed by the vectors\n",
    "        cross_prod = np.cross(line_vec, point_vec)\n",
    "        # This computes the distance from each point to each line by dividing the magnitude of the cross product by the length of the line segment\n",
    "        distances[j] = np.abs(cross_prod) / np.linalg.norm(line_vec, axis=1)\n",
    "    return distances \n",
    "\n",
    "# Compute distances\n",
    "distances = distance_points_to_lines(P0, P1, P)\n",
    "print(distances)"
   ]
  },
  {
   "cell_type": "markdown",
   "id": "933dde48-c818-4e41-a718-11b184da91ed",
   "metadata": {},
   "source": [
    "### 80. Consider an arbitray array, write a function that extract a subpart with a fixed shape and centered on a given element (pad with a `fill` value when necessary)"
   ]
  },
  {
   "cell_type": "markdown",
   "id": "274dddfe-d18d-44c1-aefa-3c0e0698384b",
   "metadata": {},
   "source": [
    "To extract a subarray with a fixed shape centered on a given element and pad with a fill value when necessary, we can use Numpy's `pad` function."
   ]
  },
  {
   "cell_type": "markdown",
   "id": "c01f80d7-aadd-4c58-bb98-f35f2ad59bed",
   "metadata": {},
   "source": [
    "import numpy as np\n",
    "\n",
    "def extract_subarray_with_padding(arr, center, shape, fill_value=0):\n",
    "    \"\"\"\n",
    "    Extract a subarray of a given shape centered on a specified element, with padding if necessary.\n",
    "    \n",
    "    Parameters:\n",
    "    arr (ndarray): Input array.\n",
    "    center (tuple): Coordinates of the center element (row, col).\n",
    "    shape (tuple): Shape of the subarray (height, width).\n",
    "    fill_value (scalar): Value to use for padding.\n",
    "    \n",
    "    Returns:\n",
    "    subarray (ndarray): Extracted subarray with padding if necessary.\n",
    "    \"\"\"\n",
    "    center_row, center_col = center\n",
    "    height, width = shape\n",
    "    half_height, half_width = height // 2, width // 2\n",
    "    \n",
    "    # Calculate the start and end indices for slicing\n",
    "    start_row = center_row - half_height\n",
    "    end_row = center_row + half_height + (height % 2)\n",
    "    start_col = center_col - half_width\n",
    "    end_col = center_col + half_width + (width % 2)\n",
    "    \n",
    "    # Pad the array to handle out-of-bounds indices\n",
    "    padded_arr = np.pad(arr, \n",
    "                        ((max(0, -start_row), max(0, end_row - arr.shape[0])),\n",
    "                         (max(0, -start_col), max(0, end_col - arr.shape[1]))),\n",
    "                        mode='constant', constant_values=fill_value)\n",
    "    \n",
    "    # Adjust indices for the padded array\n",
    "    start_row_padded = max(0, start_row)\n",
    "    end_row_padded = start_row_padded + height\n",
    "    start_col_padded = max(0, start_col)\n",
    "    end_col_padded = start_col_padded + width\n",
    "    \n",
    "    # Extract the subarray\n",
    "    subarray = padded_arr[start_row_padded:end_row_padded, start_col_padded:end_col_padded]\n",
    "    \n",
    "    return subarray\n",
    "\n",
    "# Example usage\n",
    "arr = np.array([[1, 2, 3], [4, 5, 6], [7, 8, 9]])\n",
    "center = (1, 1)\n",
    "shape = (3, 3)\n",
    "fill_value = 0\n",
    "\n",
    "subarray = extract_subarray_with_padding(arr, center, shape, fill_value)\n",
    "print(subarray)\n"
   ]
  },
  {
   "cell_type": "markdown",
   "id": "499cfab1-5f43-4872-ac61-f37476bc9064",
   "metadata": {},
   "source": [
    "### 81. Consider an array Z = [1,2,3,4,5,6,7,8,9,10,11,12,13,14] , how to generate an array R = [[1,2,3,4], [2,3,4,5], [3,4,5,6], ..., [11,12,13,14]]?"
   ]
  },
  {
   "cell_type": "markdown",
   "id": "dc193783-64ed-4cfc-9bf2-901c981bf11e",
   "metadata": {},
   "source": [
    "This code creates the array R by slicing the array Z in a way that each sub-array contains 4 consecutive elements, starting from each element in Z up to the 11th element"
   ]
  },
  {
   "cell_type": "code",
   "execution_count": null,
   "id": "af5251c4-46b8-495a-83fc-07fc252d759c",
   "metadata": {},
   "outputs": [],
   "source": [
    "# Step 1: Create the array Z\n",
    "Z = np.array([1, 2, 3, 4, 5, 6, 7, 8, 9, 10, 11, 12, 13, 14])\n",
    "# Step 2: Generate the array R\n",
    "R = np.array([Z[i:i+4] for i in range(len(Z) - 3)])\n",
    "print(R)"
   ]
  },
  {
   "cell_type": "markdown",
   "id": "401f85ea-043c-444e-b998-dd5e3de6906b",
   "metadata": {},
   "source": [
    "### 82. Compute a matrix rank"
   ]
  },
  {
   "cell_type": "code",
   "execution_count": null,
   "id": "db8fb7c5-a703-445a-b8dd-b99fb95de9be",
   "metadata": {},
   "outputs": [],
   "source": [
    "\"\"\"To compute the rank of a matrix using NumPy, you can use the numpy.linalg.matrix_rank function\"\"\"\n",
    "# Step 1: Define the matrix\n",
    "A = np.array([[1, 2, 3],\n",
    "              [4, 5, 6],\n",
    "              [7, 8, 9]])\n",
    "# Step 2: Compute the rank\n",
    "rank = np.linalg.matrix_rank(A)\n",
    "print(\"The rank of the matrix is:\", rank)"
   ]
  },
  {
   "cell_type": "markdown",
   "id": "2be2b6ee-3733-4c85-844b-bee14bf27b83",
   "metadata": {},
   "source": [
    "### 83. How to find the most frequent value in an array?"
   ]
  },
  {
   "cell_type": "markdown",
   "id": "8b92d45b-765f-4ee4-a193-a2ee14b23276",
   "metadata": {},
   "source": [
    "To find the most frequent value in a NumPy array, we can use the numpy.bincount and numpy.argmax functions.  The bincount function counts the occurrences of each value, and argmax returns the index of the highest count, which corresponds to the most frequent value."
   ]
  },
  {
   "cell_type": "code",
   "execution_count": null,
   "id": "209f8b11-970c-46ab-9329-2566b910fc29",
   "metadata": {},
   "outputs": [],
   "source": [
    "# Step 1: Create the array\n",
    "array = np.array([1, 2, 3, 4, 1, 2, 1, 1, 3, 4, 4, 4, 4])\n",
    "# Step 2: Find the most frequent value\n",
    "counts = np.bincount(array)\n",
    "most_frequent = np.argmax(counts)\n",
    "print(\"The most frequent value is:\", most_frequent)"
   ]
  },
  {
   "cell_type": "markdown",
   "id": "e45bb426-0e31-4fc5-899d-cac32f494cfc",
   "metadata": {},
   "source": [
    "### 84. Extract all the contiguous 3x3 blocks from a random 10x10 matrix"
   ]
  },
  {
   "cell_type": "markdown",
   "id": "ec6ad885-fed0-41bb-b799-8ec54624f589",
   "metadata": {},
   "source": [
    "To extract all contiguous 3x3 blocks from a random 10 x 10 matrix using Numpy, you can use the `numpy.lib.stride_trick.as_strided` function. This function allows you to create a view of the array with overlapping blocks. This code will output the original 10x10 matrix and all the contiguous 3x3 blocks extracted from it. The as_strided function is used to create a view of the matrix with the desired block size. "
   ]
  },
  {
   "cell_type": "code",
   "execution_count": null,
   "id": "16be2b3c-7236-448a-8e96-bd829b5fb202",
   "metadata": {},
   "outputs": [],
   "source": [
    "# Step 1: Create a random 10x10 matrix\n",
    "matrix = np.random.randint(0,10, (10,10))\n",
    "\n",
    "# Step 2: Define the block size\n",
    "block_size = 3 \n",
    "\n",
    "# Step 3: Calculate the shape of the resulting array\n",
    "shape = (matrix.shape[0] - block_size + 1 , matrix.shape[1] - block_size + 1 , block_size, block_size)\n",
    "\n",
    "# Step 4: Calculate the strides for the resulting array\n",
    "strides = matrix.strides + matrix.strides\n",
    "\n",
    "# Step 5: Use as_strided to create the view with 3x3 blocks\n",
    "blocks = np.lib.stride_tricks.as_strided(matrix, shape=shape, strides=strides)\n",
    "\n",
    "print(\"Original 10x10 matrix:\\n\", matrix)\n",
    "print(\"\\nContinguous 3x3 blocks: \\n\", blocks)"
   ]
  },
  {
   "cell_type": "markdown",
   "id": "73e2fd61-81c0-4b44-a7ca-dbe52fa309b8",
   "metadata": {},
   "source": [
    "### 85. Create a 2D array subclass such that Z[i,j] == Z[i,j]"
   ]
  },
  {
   "cell_type": "code",
   "execution_count": null,
   "id": "67e8ce62-d2b3-4a1f-a77e-18be62f3ccf6",
   "metadata": {},
   "outputs": [],
   "source": [
    " # Define a subclass of numpy.ndarray\n",
    "class SymmetricArray(np.ndarray):\n",
    "    # Create a new instance of the subclass\n",
    "    def __new__(cls, shape, dtype = float, buffer = None, offset =0, strides= None, order= None):\n",
    "        obj = super(SymmetricArray, cls).__new__(cls, shape, dtype, buffer, offset, strides, order) \n",
    "        return obj \n",
    "\n",
    "    def __setitem__(self, index, value):\n",
    "         # Override the __setitem__ method to ensure symmetry\n",
    "        i, j = index # Unpack the index into row (i) and column (j)\n",
    "        super(SymmetricArray, self).__setitem__((i,j), value)  # Set the value at (i, j)\n",
    "        super(SymmetricArray, self).__setitem__((j,i), value) # Set the value at (j, i) to ensure symmetry\n",
    "\n",
    "\n",
    "# Create a symmetric 2D array with the specified shape\n",
    "shape = (5,5) # Define the shape of the array\n",
    "Z = SymmetricArray(shape) # Create an instance of SymmetricArray\n",
    "\n",
    "# Set some values in the array\n",
    "Z[0,1] = 10 # Set the value at (0, 1) and (1, 0) to 10\n",
    "Z[2,3] = 20 # Set the value at (2, 3) and (3, 2) to 20\n",
    "print(Z)"
   ]
  },
  {
   "cell_type": "markdown",
   "id": "c3ce1a8d-d17a-41f8-9653-ddcdc32b3339",
   "metadata": {},
   "source": [
    "### 86. Consider a set of p matrices which shape (n,n) and a set of p vectors with shape (n,1). How to compute the sum of the p matrix products at once? (result has shape(n,1))"
   ]
  },
  {
   "cell_type": "code",
   "execution_count": 57,
   "id": "33b42083-2bad-42b5-a473-a4eb04a1bade",
   "metadata": {},
   "outputs": [
    {
     "name": "stdout",
     "output_type": "stream",
     "text": [
      "[[0.92179126]\n",
      " [0.79358931]]\n"
     ]
    },
    {
     "name": "stderr",
     "output_type": "stream",
     "text": [
      "C:\\Users\\men_l\\AppData\\Local\\Temp\\ipykernel_26996\\1931499033.py:12: DeprecationWarning: Calling np.sum(generator) is deprecated, and in the future will give a different result. Use np.sum(np.fromiter(generator)) or the python sum builtin instead.\n",
      "  result = sum(np.dot(matrices[i], vectors[i]) for i in range(p))\n"
     ]
    }
   ],
   "source": [
    "# Example: p = 3 , n = 2\n",
    "p=3\n",
    "n=2 \n",
    "\n",
    "# Initialize p matrices of shape (n,n)\n",
    "matrices = [np.random.rand(n, n) for _ in range(p)]\n",
    "\n",
    "# Initialize p vectors of shape (n, 1)\n",
    "vectors = [np.random.rand(n,1) for _ in range(p)]\n",
    "\n",
    "# Compute the sum of the matrix products\n",
    "result = sum(np.dot(matrices[i], vectors[i]) for i in range(p))\n",
    "print(result)"
   ]
  },
  {
   "cell_type": "markdown",
   "id": "5d601893-8320-410a-9630-96d52cc4a435",
   "metadata": {},
   "source": [
    "### 87. Consider a 16x16 array, how to get the block-sum (block size is 4x4)?"
   ]
  },
  {
   "cell_type": "markdown",
   "id": "9a17adf0-1c01-460e-85a1-62102d8c7752",
   "metadata": {},
   "source": [
    "To compute the block-sum of a 16x16 array with a block size of 4x4 using Numpy, you can use the `np.add.reduceat` function. This function allows you to sum elements over specified intervals, which is perfect for summoning blocks for an array."
   ]
  },
  {
   "cell_type": "code",
   "execution_count": 61,
   "id": "c13faf12-a9b0-405a-8509-4c9238bf06c5",
   "metadata": {},
   "outputs": [
    {
     "name": "stdout",
     "output_type": "stream",
     "text": [
      "[[6.36753492 8.27730663 7.57709703 6.99771295]\n",
      " [7.72905781 8.10280039 7.76357035 8.87023928]\n",
      " [8.58392511 6.44363405 8.03525372 5.76073347]\n",
      " [6.33958939 6.08730012 6.32704191 6.50393575]]\n"
     ]
    }
   ],
   "source": [
    "# Create a 16x16 array\n",
    "array = np.random.rand(16,16)\n",
    "\n",
    "# Define the block size\n",
    "block_size = 4\n",
    "\n",
    "# Compute the block-sum\n",
    "block_sum = np.add.reduceat(\n",
    "    # We use np.add.reduceat twice: first to sum the rows in blocks, and then to sum the columns of the resulting array in blocks\n",
    "    np.add.reduceat(array, np.arange(0, array.shape[0], block_size), axis=0),\n",
    "    np.arange(0, array.shape[1], block_size), axis=1\n",
    ")\n",
    "print(block_sum)"
   ]
  },
  {
   "cell_type": "markdown",
   "id": "353da21f-affe-4aa7-b471-9496fac50e68",
   "metadata": {},
   "source": [
    "### 88. How to implement the Game of Life using numpy arrays?"
   ]
  },
  {
   "cell_type": "code",
   "execution_count": 68,
   "id": "9ad47bb0-3b1c-4056-8c8d-1093b7ba1ac1",
   "metadata": {},
   "outputs": [
    {
     "name": "stdout",
     "output_type": "stream",
     "text": [
      "[[0 0 0 ... 0 0 0]\n",
      " [0 0 0 ... 0 0 0]\n",
      " [0 0 0 ... 0 0 0]\n",
      " ...\n",
      " [0 0 0 ... 0 0 0]\n",
      " [0 0 0 ... 0 0 0]\n",
      " [0 0 1 ... 0 0 0]]\n"
     ]
    }
   ],
   "source": [
    "def game_of_life(grid, generations):\n",
    "    \"\"\"\n",
    "    Implements the Game of Life using NumPy arrays.\n",
    "\n",
    "    Args:\n",
    "        grid: A 2D NumPy array representing the initial state of the game.\n",
    "        generations: The number of generations to simulate.\n",
    "\n",
    "    Returns:\n",
    "        A 2D NumPy array representing the final state of the game after the specified number of generations.\n",
    "    \"\"\"\n",
    "\n",
    "    rows, cols = grid.shape\n",
    "\n",
    "    for _ in range(generations):\n",
    "        # Create a copy of the grid to avoid modifying the current generation while calculating the next\n",
    "        new_grid = np.copy(grid)\n",
    "\n",
    "        # Calculate the number of neighbors for each cell\n",
    "        neighbors = np.zeros_like(grid)\n",
    "        neighbors[:-1, :] += grid[1:, :]\n",
    "        neighbors[1:, :] += grid[:-1, :]\n",
    "        neighbors[:, :-1] += grid[:, 1:]\n",
    "        neighbors[:, 1:] += grid[:, :-1]\n",
    "        neighbors[0, :] += grid[-1, :]\n",
    "        neighbors[-1, :] += grid[0, :]\n",
    "        neighbors[0, :] += grid[-1, :]\n",
    "        neighbors[-1, :] += grid[0, :]\n",
    "\n",
    "        # Apply the Game of Life rules\n",
    "        new_grid[(neighbors == 3) | (neighbors == 2)] = 1\n",
    "        new_grid[neighbors != 3] = 0\n",
    "\n",
    "        # Update the grid for the next generation\n",
    "        grid = new_grid\n",
    "\n",
    "    print(grid)\n",
    "\n",
    "# Example usage\n",
    "initial_grid = np.random.randint(0, 2, (100, 100))  # Create a random initial grid\n",
    "final_grid = game_of_life(initial_grid, 100)  # Simulate 100 generations"
   ]
  },
  {
   "cell_type": "markdown",
   "id": "194450f7-f7f7-4d83-9c5a-957fad565527",
   "metadata": {},
   "source": [
    "### 89. How to get n largest values of an array"
   ]
  },
  {
   "cell_type": "code",
   "execution_count": 70,
   "id": "b7162a56-444a-48d3-8fff-b3ff11f0d18a",
   "metadata": {},
   "outputs": [
    {
     "name": "stdout",
     "output_type": "stream",
     "text": [
      "n_largest_values_sorted :\n",
      " [100  90  80]\n"
     ]
    }
   ],
   "source": [
    "# Example array\n",
    "array = np.array([10, 50, 20, 40, 30, 60, 70, 80, 90, 100])\n",
    "\n",
    "# Number of largest values to find\n",
    "n = 3 \n",
    "\n",
    "# np.argpartition(array, -n) partitions the array such that the ( n ) largest values are at the end\n",
    "indices = np.argpartition(array, -n)[-n:]\n",
    "\n",
    "# array[indices] retrieves the actual values from the array\n",
    "n_largest_values = array[indices]\n",
    "\n",
    "# np.sort(n_largest_values)[::-1] sorts the ( n ) largest values in descending order\n",
    "n_largest_values_sorted = np.sort(n_largest_values)[::-1]\n",
    "\n",
    "print(f\"n_largest_values_sorted :\\n {n_largest_values_sorted }\")"
   ]
  },
  {
   "cell_type": "code",
   "execution_count": null,
   "id": "5885a493-e5c6-4ce9-86ba-72cdf7fd5560",
   "metadata": {},
   "outputs": [],
   "source": []
  }
 ],
 "metadata": {
  "kernelspec": {
   "display_name": "Python 3 (ipykernel)",
   "language": "python",
   "name": "python3"
  },
  "language_info": {
   "codemirror_mode": {
    "name": "ipython",
    "version": 3
   },
   "file_extension": ".py",
   "mimetype": "text/x-python",
   "name": "python",
   "nbconvert_exporter": "python",
   "pygments_lexer": "ipython3",
   "version": "3.12.4"
  }
 },
 "nbformat": 4,
 "nbformat_minor": 5
}
