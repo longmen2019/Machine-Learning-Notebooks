{
 "cells": [
  {
   "cell_type": "markdown",
   "id": "16466428-8fe8-47ff-95b4-2fcff99b0839",
   "metadata": {},
   "source": [
    "# 100 NumPy Exercises\r\n",
    "Here is the reference to the original problem:https://github.com/maykulkarni/Machine-Learning-Notebooks/blob/master/00.%20NumPy%20Basics/100_Numpy_exercises_no_solution.ipynbs."
   ]
  },
  {
   "cell_type": "markdown",
   "id": "422b29b3-8657-4666-8aac-66ce97e2e1f8",
   "metadata": {},
   "source": [
    "### 1. Import the numpy package under the name np"
   ]
  },
  {
   "cell_type": "code",
   "execution_count": 1,
   "id": "de0f3a05-336c-4420-b8f1-0fef90e13935",
   "metadata": {},
   "outputs": [],
   "source": [
    "import numpy as np"
   ]
  },
  {
   "cell_type": "markdown",
   "id": "8178c06e-d719-4fe2-95b6-881fab3d6e84",
   "metadata": {},
   "source": [
    "### 2. Print the numpy version and the configuration"
   ]
  },
  {
   "cell_type": "code",
   "execution_count": 2,
   "id": "d6e0be57-c66d-4af7-9a10-3e3e2d68a566",
   "metadata": {},
   "outputs": [
    {
     "name": "stdout",
     "output_type": "stream",
     "text": [
      "Numpy version: 1.26.4\n",
      "Build Dependencies:\n",
      "  blas:\n",
      "    detection method: pkgconfig\n",
      "    found: true\n",
      "    include directory: C:/Users/men_l/anaconda3/Library/include\n",
      "    lib directory: C:/Users/men_l/anaconda3/Library/lib\n",
      "    name: mkl-sdl\n",
      "    openblas configuration: unknown\n",
      "    pc file directory: C:\\b\\abs_c1ywpu18ar\\croot\\numpy_and_numpy_base_1708638681471\\_h_env\\Library\\lib\\pkgconfig\n",
      "    version: '2023.1'\n",
      "  lapack:\n",
      "    detection method: internal\n",
      "    found: true\n",
      "    include directory: unknown\n",
      "    lib directory: unknown\n",
      "    name: dep1583119523984\n",
      "    openblas configuration: unknown\n",
      "    pc file directory: unknown\n",
      "    version: 1.26.4\n",
      "Compilers:\n",
      "  c:\n",
      "    commands: cl.exe\n",
      "    linker: link\n",
      "    name: msvc\n",
      "    version: 19.29.30154\n",
      "  c++:\n",
      "    commands: cl.exe\n",
      "    linker: link\n",
      "    name: msvc\n",
      "    version: 19.29.30154\n",
      "  cython:\n",
      "    commands: cython\n",
      "    linker: cython\n",
      "    name: cython\n",
      "    version: 3.0.8\n",
      "Machine Information:\n",
      "  build:\n",
      "    cpu: x86_64\n",
      "    endian: little\n",
      "    family: x86_64\n",
      "    system: windows\n",
      "  host:\n",
      "    cpu: x86_64\n",
      "    endian: little\n",
      "    family: x86_64\n",
      "    system: windows\n",
      "Python Information:\n",
      "  path: C:\\b\\abs_c1ywpu18ar\\croot\\numpy_and_numpy_base_1708638681471\\_h_env\\python.exe\n",
      "  version: '3.12'\n",
      "SIMD Extensions:\n",
      "  baseline:\n",
      "  - SSE\n",
      "  - SSE2\n",
      "  - SSE3\n",
      "  found:\n",
      "  - SSSE3\n",
      "  - SSE41\n",
      "  - POPCNT\n",
      "  - SSE42\n",
      "  - AVX\n",
      "  - F16C\n",
      "  - FMA3\n",
      "  - AVX2\n",
      "  not found:\n",
      "  - AVX512F\n",
      "  - AVX512CD\n",
      "  - AVX512_SKX\n",
      "  - AVX512_CLX\n",
      "  - AVX512_CNL\n",
      "  - AVX512_ICL\n",
      "\n"
     ]
    }
   ],
   "source": [
    "print(\"Numpy version: {}\".format(np.__version__))\n",
    "np.show_config()"
   ]
  },
  {
   "cell_type": "markdown",
   "id": "acb0c12f-7a6e-45a0-8b0f-46ca52446cdd",
   "metadata": {},
   "source": [
    "### 3. Create a null vector of size 10"
   ]
  },
  {
   "cell_type": "code",
   "execution_count": 3,
   "id": "e190f422-cf10-4f9f-b01f-93cb48fe9c6b",
   "metadata": {},
   "outputs": [
    {
     "data": {
      "text/plain": [
       "array([0., 0., 0., 0., 0., 0., 0., 0., 0., 0.])"
      ]
     },
     "execution_count": 3,
     "metadata": {},
     "output_type": "execute_result"
    }
   ],
   "source": [
    "np.zeros(10)"
   ]
  },
  {
   "cell_type": "markdown",
   "id": "7f241b5b-ad7a-4e49-99e1-ef309fa15822",
   "metadata": {},
   "source": [
    "### 4. How to find the memory size of any array"
   ]
  },
  {
   "cell_type": "code",
   "execution_count": 4,
   "id": "6d89f26e-dd01-45a7-b96c-10e881a0e176",
   "metadata": {},
   "outputs": [
    {
     "name": "stdout",
     "output_type": "stream",
     "text": [
      "Size of one element: 8\n",
      "Size of the entire array: 80\n"
     ]
    }
   ],
   "source": [
    "a = np.zeros(10)\n",
    "print(\"Size of one element: {}\".format(a.itemsize))\n",
    "print(\"Size of the entire array: {}\". format(a.nbytes))"
   ]
  },
  {
   "cell_type": "markdown",
   "id": "730769df-7698-4e99-a54f-82c46b2f7f5e",
   "metadata": {},
   "source": [
    "### 5. How to get the documentation of the numpy add function from the command line?"
   ]
  },
  {
   "cell_type": "code",
   "execution_count": 5,
   "id": "107e816e-1083-4276-8f09-534b3634ca67",
   "metadata": {},
   "outputs": [
    {
     "name": "stdout",
     "output_type": "stream",
     "text": [
      "zeros(shape, dtype=float, order='C', *, like=None)\n",
      "\n",
      "Return a new array of given shape and type, filled with zeros.\n",
      "\n",
      "Parameters\n",
      "----------\n",
      "shape : int or tuple of ints\n",
      "    Shape of the new array, e.g., ``(2, 3)`` or ``2``.\n",
      "dtype : data-type, optional\n",
      "    The desired data-type for the array, e.g., `numpy.int8`.  Default is\n",
      "    `numpy.float64`.\n",
      "order : {'C', 'F'}, optional, default: 'C'\n",
      "    Whether to store multi-dimensional data in row-major\n",
      "    (C-style) or column-major (Fortran-style) order in\n",
      "    memory.\n",
      "like : array_like, optional\n",
      "    Reference object to allow the creation of arrays which are not\n",
      "    NumPy arrays. If an array-like passed in as ``like`` supports\n",
      "    the ``__array_function__`` protocol, the result will be defined\n",
      "    by it. In this case, it ensures the creation of an array object\n",
      "    compatible with that passed in via this argument.\n",
      "\n",
      "    .. versionadded:: 1.20.0\n",
      "\n",
      "Returns\n",
      "-------\n",
      "out : ndarray\n",
      "    Array of zeros with the given shape, dtype, and order.\n",
      "\n",
      "See Also\n",
      "--------\n",
      "zeros_like : Return an array of zeros with shape and type of input.\n",
      "empty : Return a new uninitialized array.\n",
      "ones : Return a new array setting values to one.\n",
      "full : Return a new array of given shape filled with value.\n",
      "\n",
      "Examples\n",
      "--------\n",
      ">>> np.zeros(5)\n",
      "array([ 0.,  0.,  0.,  0.,  0.])\n",
      "\n",
      ">>> np.zeros((5,), dtype=int)\n",
      "array([0, 0, 0, 0, 0])\n",
      "\n",
      ">>> np.zeros((2, 1))\n",
      "array([[ 0.],\n",
      "       [ 0.]])\n",
      "\n",
      ">>> s = (2,2)\n",
      ">>> np.zeros(s)\n",
      "array([[ 0.,  0.],\n",
      "       [ 0.,  0.]])\n",
      "\n",
      ">>> np.zeros((2,), dtype=[('x', 'i4'), ('y', 'i4')]) # custom dtype\n",
      "array([(0, 0), (0, 0)],\n",
      "      dtype=[('x', '<i4'), ('y', '<i4')])\n"
     ]
    }
   ],
   "source": [
    "np.info(np.zeros)"
   ]
  },
  {
   "cell_type": "markdown",
   "id": "6cc08d9d-27a8-457e-bd4e-dfa007f57628",
   "metadata": {},
   "source": [
    "### 6. Create a null vector of size 10 but the fifth value which is 1"
   ]
  },
  {
   "cell_type": "code",
   "execution_count": 6,
   "id": "8bbedb33-4c41-4d53-ae5e-694d23661e5e",
   "metadata": {},
   "outputs": [
    {
     "name": "stdout",
     "output_type": "stream",
     "text": [
      "[0. 0. 0. 0. 1. 0. 0. 0. 0. 0.]\n"
     ]
    }
   ],
   "source": [
    "a = np.zeros(10)\n",
    "a[4] = 1\n",
    "print(a)"
   ]
  },
  {
   "cell_type": "markdown",
   "id": "cd5a51a2-c0d4-423f-8c70-8edcf89864a1",
   "metadata": {},
   "source": [
    "### 7. Create a vector with values ranging from 10 to 49"
   ]
  },
  {
   "cell_type": "code",
   "execution_count": 7,
   "id": "5c6b85fe-f866-41ef-bef2-4d0177579d5a",
   "metadata": {},
   "outputs": [
    {
     "data": {
      "text/plain": [
       "array([10, 11, 12, 13, 14, 15, 16, 17, 18, 19, 20, 21, 22, 23, 24, 25, 26,\n",
       "       27, 28, 29, 30, 31, 32, 33, 34, 35, 36, 37, 38, 39, 40, 41, 42, 43,\n",
       "       44, 45, 46, 47, 48, 49])"
      ]
     },
     "execution_count": 7,
     "metadata": {},
     "output_type": "execute_result"
    }
   ],
   "source": [
    "np.arange(10,50)"
   ]
  },
  {
   "cell_type": "markdown",
   "id": "06a25a45-c802-40d7-a05d-f298104b03d1",
   "metadata": {},
   "source": [
    "### 8. Reverse a vector (first element becomes last)"
   ]
  },
  {
   "cell_type": "code",
   "execution_count": 8,
   "id": "36b961c0-82a3-4433-b8f1-4a4b3f2dee23",
   "metadata": {},
   "outputs": [
    {
     "data": {
      "text/plain": [
       "array([9, 8, 7, 6, 5, 4, 3, 2, 1, 0])"
      ]
     },
     "execution_count": 8,
     "metadata": {},
     "output_type": "execute_result"
    }
   ],
   "source": [
    "a = np.arange(10)\n",
    "a[::-1]"
   ]
  },
  {
   "cell_type": "markdown",
   "id": "e3e11e52-40c3-4e05-962c-688239c2971c",
   "metadata": {},
   "source": [
    "### 9. Create a 3x3 matrix with values ranging from 0 to 8"
   ]
  },
  {
   "cell_type": "code",
   "execution_count": 9,
   "id": "fd2e8cc6-5775-4ad2-a990-607944f13048",
   "metadata": {},
   "outputs": [
    {
     "data": {
      "text/plain": [
       "array([[0, 1, 2],\n",
       "       [3, 4, 5],\n",
       "       [6, 7, 8]])"
      ]
     },
     "execution_count": 9,
     "metadata": {},
     "output_type": "execute_result"
    }
   ],
   "source": [
    "np.arange(9).reshape(3,3)"
   ]
  },
  {
   "cell_type": "markdown",
   "id": "fbfb35dd-557c-4d19-82f4-e8a2fb9a8d37",
   "metadata": {},
   "source": [
    "### 10. Find indices of non-zero elements from [1,2,0,0,4,0]"
   ]
  },
  {
   "cell_type": "code",
   "execution_count": 10,
   "id": "6ef18ee5-f644-4c91-99fb-e129a282174f",
   "metadata": {},
   "outputs": [
    {
     "data": {
      "text/plain": [
       "(array([0, 1, 4], dtype=int64),)"
      ]
     },
     "execution_count": 10,
     "metadata": {},
     "output_type": "execute_result"
    }
   ],
   "source": [
    "arr = np.array([1,2,0,0,4,0])\n",
    "np.nonzero(arr)"
   ]
  },
  {
   "cell_type": "markdown",
   "id": "029391ae-1510-4e55-9272-b72437ef2325",
   "metadata": {},
   "source": [
    "### 11. Create a 3x3 identity matrix"
   ]
  },
  {
   "cell_type": "code",
   "execution_count": 11,
   "id": "aa1f8605-5983-41cb-9124-8e3c8ff0f9cd",
   "metadata": {},
   "outputs": [
    {
     "data": {
      "text/plain": [
       "array([[1., 0., 0.],\n",
       "       [0., 1., 0.],\n",
       "       [0., 0., 1.]])"
      ]
     },
     "execution_count": 11,
     "metadata": {},
     "output_type": "execute_result"
    }
   ],
   "source": [
    "np.eye(3,3)"
   ]
  },
  {
   "cell_type": "markdown",
   "id": "45b11ff1-e0ef-4346-b555-45326e84e789",
   "metadata": {},
   "source": [
    "### 12. Create a 3x3x3 array with random values"
   ]
  },
  {
   "cell_type": "code",
   "execution_count": 12,
   "id": "c4000656-1b2c-48bb-8f55-64195b602b24",
   "metadata": {},
   "outputs": [
    {
     "data": {
      "text/plain": [
       "array([[[77, 95, 26],\n",
       "        [71, 84, 59],\n",
       "        [46, 21, 48]],\n",
       "\n",
       "       [[46, 98, 81],\n",
       "        [44, 35, 88],\n",
       "        [98, 28,  4]],\n",
       "\n",
       "       [[21,  6, 62],\n",
       "        [ 5, 90, 65],\n",
       "        [53, 79, 81]]])"
      ]
     },
     "execution_count": 12,
     "metadata": {},
     "output_type": "execute_result"
    }
   ],
   "source": [
    "np.random.randint(0,100,(3,3,3))"
   ]
  },
  {
   "cell_type": "markdown",
   "id": "0c03b207-4d7f-4487-becf-9984fd7961a1",
   "metadata": {},
   "source": [
    "### 13. Create a 10x10 array with random values and find the minimum and maximum values \n"
   ]
  },
  {
   "cell_type": "code",
   "execution_count": 13,
   "id": "d9ab3c43-5ec2-4013-b2de-6a2aed941bb4",
   "metadata": {},
   "outputs": [
    {
     "name": "stdout",
     "output_type": "stream",
     "text": [
      "Arr: [[77 74 20 33 41  8 93 41 72 31]\n",
      " [87 25 10  0 37 17 25 14 96 71]\n",
      " [24  3 85 54 91 49  6 98 89 66]\n",
      " [11 40 21 72 33 74 15  3 35 62]\n",
      " [76 22 63 60 55 89 45 13 20 20]\n",
      " [65  8 78 30 48 44 57  9 53 21]\n",
      " [14 92 18 47 84 55 19 44 43 44]\n",
      " [64 82 83 35 44 15 16 86 91  5]\n",
      " [13 21 80 29 21 71  1 98 34 59]\n",
      " [84 54 82 84 55 36 23  8 83 51]]\n",
      "Min: 0\n",
      "Max: 98\n"
     ]
    }
   ],
   "source": [
    "rand_array = np.random.randint(0,100,(10,10))\n",
    "print(\"Arr: {}\".format(rand_array))\n",
    "print(\"Min: {}\".format(np.min(rand_array)))\n",
    "print(\"Max: {}\".format(np.max(rand_array)))"
   ]
  },
  {
   "cell_type": "markdown",
   "id": "19f485ef-0318-4756-8a19-3535b27dba4d",
   "metadata": {},
   "source": [
    "### 14. Create a random vector of size 30 and find the mean value"
   ]
  },
  {
   "cell_type": "code",
   "execution_count": 14,
   "id": "b2e2e829-7d58-4169-888f-497d90ca10b8",
   "metadata": {},
   "outputs": [
    {
     "name": "stdout",
     "output_type": "stream",
     "text": [
      "Arr: [29 29  2 29 27  8 28 17  1  1  6  1 29  8  1 23  2 24 13 21 10 24 20  5\n",
      "  3 20  2 11 22 16]\n",
      "Mean: 14.4\n"
     ]
    }
   ],
   "source": [
    "rand_array = np.random.randint(1,30, (30))\n",
    "print(\"Arr: {}\".format(rand_array))\n",
    "print(\"Mean: {}\".format(rand_array.mean()))"
   ]
  },
  {
   "cell_type": "markdown",
   "id": "1119741a-2715-43be-bdaf-7fa9597bc96a",
   "metadata": {},
   "source": [
    "### 15. Create a 2d array with 1 on the border and 0 inside "
   ]
  },
  {
   "cell_type": "code",
   "execution_count": 15,
   "id": "33e6d54f-732a-4cf4-a0dd-cbf175f3e7e6",
   "metadata": {},
   "outputs": [
    {
     "name": "stdout",
     "output_type": "stream",
     "text": [
      "Before: \n",
      "[[1. 1. 1. 1. 1. 1. 1. 1. 1. 1.]\n",
      " [1. 1. 1. 1. 1. 1. 1. 1. 1. 1.]\n",
      " [1. 1. 1. 1. 1. 1. 1. 1. 1. 1.]\n",
      " [1. 1. 1. 1. 1. 1. 1. 1. 1. 1.]\n",
      " [1. 1. 1. 1. 1. 1. 1. 1. 1. 1.]\n",
      " [1. 1. 1. 1. 1. 1. 1. 1. 1. 1.]\n",
      " [1. 1. 1. 1. 1. 1. 1. 1. 1. 1.]\n",
      " [1. 1. 1. 1. 1. 1. 1. 1. 1. 1.]\n",
      " [1. 1. 1. 1. 1. 1. 1. 1. 1. 1.]\n",
      " [1. 1. 1. 1. 1. 1. 1. 1. 1. 1.]]\n",
      "\n",
      "After: \n",
      "[[1. 1. 1. 1. 1. 1. 1. 1. 1. 1.]\n",
      " [1. 0. 0. 0. 0. 0. 0. 0. 0. 1.]\n",
      " [1. 0. 0. 0. 0. 0. 0. 0. 0. 1.]\n",
      " [1. 0. 0. 0. 0. 0. 0. 0. 0. 1.]\n",
      " [1. 0. 0. 0. 0. 0. 0. 0. 0. 1.]\n",
      " [1. 0. 0. 0. 0. 0. 0. 0. 0. 1.]\n",
      " [1. 0. 0. 0. 0. 0. 0. 0. 0. 1.]\n",
      " [1. 0. 0. 0. 0. 0. 0. 0. 0. 1.]\n",
      " [1. 0. 0. 0. 0. 0. 0. 0. 0. 1.]\n",
      " [1. 1. 1. 1. 1. 1. 1. 1. 1. 1.]]\n"
     ]
    }
   ],
   "source": [
    "# creates a 10x10 NumPy array filled with ones\n",
    "arr = np.ones((10,10))\n",
    "print(\"Before: \")\n",
    "print(arr)\n",
    "# arr[1:-1]: This selects rows from the second row (index 1) up to but not including the last row (index -1).\n",
    "# arr[1:-1, 1:-1]: This further selects columns from the second column (index 1) up to but not including the last column (index -1).\n",
    "# = 0: This assigns the value 0 to all elements within the selected range, effectively setting the inner portion of the array to zero\n",
    "arr[1:-1, 1:-1] = 0 \n",
    "print(\"\\nAfter: \")\n",
    "print(arr)"
   ]
  },
  {
   "cell_type": "markdown",
   "id": "1234609e-f1c9-436e-8b89-cfdf6f8348c2",
   "metadata": {},
   "source": [
    "### 16 How to add a border (filled with 0's) around an existing array?"
   ]
  },
  {
   "cell_type": "code",
   "execution_count": 16,
   "id": "6e9f0e78-6c4b-4273-8898-dd8e8879b2cb",
   "metadata": {},
   "outputs": [
    {
     "name": "stdout",
     "output_type": "stream",
     "text": [
      "Original array: \n",
      "[[1. 1. 1.]\n",
      " [1. 1. 1.]\n",
      " [1. 1. 1.]]\n",
      "\n",
      "Array with border: \n",
      "[[0. 0. 0. 0. 0.]\n",
      " [0. 1. 1. 1. 0.]\n",
      " [0. 1. 1. 1. 0.]\n",
      " [0. 1. 1. 1. 0.]\n",
      " [0. 0. 0. 0. 0.]]\n"
     ]
    }
   ],
   "source": [
    "array = np.ones((3,3))\n",
    "bordered_array  = np.pad(array, pad_width=1, mode='constant', constant_values=0)\n",
    "print(\"Original array: \")\n",
    "print(array)\n",
    "print(\"\\nArray with border: \")\n",
    "print(bordered_array)"
   ]
  },
  {
   "cell_type": "markdown",
   "id": "5de8290c-43a9-4f93-8ba3-b0404628e499",
   "metadata": {},
   "source": [
    "### 17. What is the result of the following expression? (★☆☆)\n",
    "> 0 * np.nan\n",
    "\n",
    "> np.nan == np.nan\n",
    "\n",
    "> np.inf > np.nan\n",
    "\n",
    "> np.nan - np.nan\n",
    "\n",
    "> 0.3 == 3 * 0.1"
   ]
  },
  {
   "cell_type": "code",
   "execution_count": 17,
   "id": "12c1c0b6-97bd-4d34-bae4-9bc5f76c200a",
   "metadata": {},
   "outputs": [
    {
     "name": "stdout",
     "output_type": "stream",
     "text": [
      "nan\n",
      " \n",
      "False\n",
      " \n",
      "False\n",
      " \n",
      "nan\n",
      " \n",
      "False\n"
     ]
    }
   ],
   "source": [
    "print(0*np.nan)\n",
    "print(\" \")\n",
    "print(np.nan==np.nan)\n",
    "print(\" \")\n",
    "print(np.inf>np.nan)\n",
    "print(\" \")\n",
    "print(np.nan - np.nan)\n",
    "print(\" \")\n",
    "print(0.3 == 3*0.1)\n"
   ]
  },
  {
   "cell_type": "markdown",
   "id": "b7f85616-ff31-44b3-a351-0845bf3ac687",
   "metadata": {},
   "source": [
    "### 18. Create a 5x5 matrix with values 1,2,3,4 just below the diagonal"
   ]
  },
  {
   "cell_type": "code",
   "execution_count": 20,
   "id": "117656ba-6415-4265-81ca-5526e0009081",
   "metadata": {},
   "outputs": [
    {
     "name": "stdout",
     "output_type": "stream",
     "text": [
      "[[0 0 0 0 0]\n",
      " [0 0 0 0 0]\n",
      " [0 0 0 0 0]\n",
      " [0 0 0 0 0]\n",
      " [0 0 0 0 0]]\n",
      " \n",
      "[[0 0 0 0 0]\n",
      " [1 0 0 0 0]\n",
      " [0 2 0 0 0]\n",
      " [0 0 3 0 0]\n",
      " [0 0 0 4 0]]\n"
     ]
    }
   ],
   "source": [
    "# Create a 5x5 matrix of zeros\n",
    "matrix = np.zeros((5,5), dtype=int)\n",
    "print(matrix)\n",
    "print(\" \")\n",
    "\n",
    "# Assign values 1,2,3,4 just below the diagonal\n",
    "for i in range(1,5):\n",
    "    # matrix[i, i-1]: This part accesses the element in the matrix at the row index i and column index i-1. \n",
    "    # In a 5x5 matrix, i ranges from 0 to 4. However, in the loop, i starts from 1 to 4, so i-1 ranges from 0 to 3.\n",
    "    # = i: This assigns the value of i to the element at the specified position in the matrix.\n",
    "    matrix[i , i-1] = i\n",
    "print(matrix)"
   ]
  },
  {
   "cell_type": "markdown",
   "id": "699e29b5-795f-44ce-add8-54007984e9b5",
   "metadata": {},
   "source": [
    "### 19. Create a 8x8 matrix  and fill it with a checkboard pattern"
   ]
  },
  {
   "cell_type": "code",
   "execution_count": null,
   "id": "697a6c12-6617-4e3c-ae50-74102a66bbfc",
   "metadata": {},
   "outputs": [],
   "source": [
    "# Create a 8x8 matrix of zero \n",
    "matrix = np.zeros((8,8), dtype = int)\n",
    "print(matrix)\n",
    "print(\" \")\n",
    "# Fill the matrix with a checkboard pattern\n",
    "# This sets every other element in every other row, starting from the second row (index 1), to 1\n",
    "matrix[1::2, ::2]= 1\n",
    "print(matrix)\n",
    "print(\" \")\n",
    "\n",
    "# This sets every other element in every other column, starting from the second column (index 1), to 1\n",
    "matrix[::2, 1::2] = 1\n",
    "print(\"This results in a checkerboard pattern where 1s and 0s alternate: \")\n",
    "print(matrix)"
   ]
  },
  {
   "cell_type": "markdown",
   "id": "a63b82f1-b926-4e0f-b9a1-e2a747e6408b",
   "metadata": {},
   "source": [
    "### 20. Consider a (6,7,8) shape array, what is the index (x,y,z) of the 100th element?"
   ]
  },
  {
   "cell_type": "code",
   "execution_count": 30,
   "id": "4419b575-ef84-4b4f-96f1-724e576a9b72",
   "metadata": {},
   "outputs": [
    {
     "name": "stdout",
     "output_type": "stream",
     "text": [
      "(6, 7, 8)\n",
      " \n",
      "So, the index ((x, y, z)) of the 100th element in a ((6, 7, 8)) shaped array is ((1, 5, 3))\n",
      "(1, 5, 3)\n"
     ]
    }
   ],
   "source": [
    "# Define the shape of the array\n",
    "shape = (6,7,8)\n",
    "print(shape)\n",
    "print(\" \")\n",
    "\n",
    "# Find the index of the 100th element (remember to subtract 1 because indexing starts at 0)\n",
    "# This function takes the flat index (99, since indexing starts at 0) and the shape of the array, and returns the corresponding multi-dimensional index\n",
    "index = np.unravel_index(99, shape)\n",
    "print(\"So, the index ((x, y, z)) of the 100th element in a ((6, 7, 8)) shaped array is ((1, 5, 3))\")\n",
    "print(index)"
   ]
  },
  {
   "cell_type": "markdown",
   "id": "eb554148-a5b6-4fc3-adfd-72d454c9fa0b",
   "metadata": {},
   "source": [
    "### 21. Create a checkboard 8x8 matrix using the tile function"
   ]
  },
  {
   "cell_type": "code",
   "execution_count": 35,
   "id": "6dbe88b6-c368-40c3-869e-54c0c73bd34c",
   "metadata": {},
   "outputs": [
    {
     "name": "stdout",
     "output_type": "stream",
     "text": [
      "[[0 1]\n",
      " [1 0]]\n",
      " \n",
      "[[0 1 0 1 0 1 0 1]\n",
      " [1 0 1 0 1 0 1 0]\n",
      " [0 1 0 1 0 1 0 1]\n",
      " [1 0 1 0 1 0 1 0]\n",
      " [0 1 0 1 0 1 0 1]\n",
      " [1 0 1 0 1 0 1 0]\n",
      " [0 1 0 1 0 1 0 1]\n",
      " [1 0 1 0 1 0 1 0]]\n"
     ]
    }
   ],
   "source": [
    "# This creates a 2x2 matrix with a checkerboard pattern\n",
    "pattern = np.array([[0,1], [1,0]])\n",
    "print(pattern)\n",
    "print(\" \")\n",
    "# Tile the pattern to create an 8x8 matrix\n",
    "checkerboard = np.tile(pattern, (4,4)) #This tiles the 2x2 pattern to create an 8x8 matrix by repeating the pattern 4 times along both dimensions\n",
    "print(checkerboard)"
   ]
  },
  {
   "cell_type": "markdown",
   "id": "99575e4d-a3a0-4373-ae1c-525851fbf7df",
   "metadata": {},
   "source": [
    "### 22. Normalize a 5x5 random matrix "
   ]
  },
  {
   "cell_type": "code",
   "execution_count": 39,
   "id": "ec00560c-bd8c-426e-a3a2-b0245c4ff087",
   "metadata": {},
   "outputs": [
    {
     "name": "stdout",
     "output_type": "stream",
     "text": [
      "Original Matrix:\n",
      "  [[0.21705192 0.26993045 0.14063204 0.70510004 0.49032073]\n",
      " [0.84072586 0.14856701 0.6178424  0.68931842 0.9516736 ]\n",
      " [0.74553785 0.38172631 0.7272916  0.70270022 0.51529947]\n",
      " [0.10597118 0.51755209 0.9446675  0.80486171 0.80953316]\n",
      " [0.39813819 0.96149892 0.44984648 0.43440486 0.19900162]]\n",
      " \n",
      "Normalized Matirx:\n",
      "  [[0.12983885 0.19164693 0.04051401 0.70030325 0.44925433]\n",
      " [0.85883209 0.04978894 0.59831049 0.6818566  0.98851548]\n",
      " [0.74756976 0.32232167 0.72624228 0.69749817 0.47845121]\n",
      " [0.         0.48108423 0.98032626 0.81691159 0.8223719 ]\n",
      " [0.34150501 1.         0.40194523 0.383896   0.10874041]]\n"
     ]
    }
   ],
   "source": [
    "# Create a 5x5 matrix with random values \n",
    "matrix = np.random.rand(5,5)\n",
    "# Normalize the matrix\n",
    "# Subtracting the minimum value from each element and then dividing by the range (max - min) normalizes the values\n",
    "# This formula scales the values in the matrix to be between 0 and 1\n",
    "normalized_matrix = (matrix - np.min(matrix)) / (np.max(matrix)-np.min(matrix))\n",
    "print(\"Original Matrix:\\n \", matrix)\n",
    "print(\" \")\n",
    "print(\"Normalized Matirx:\\n \", normalized_matrix)"
   ]
  },
  {
   "cell_type": "markdown",
   "id": "00752bbc-8ae6-46db-b4c9-30ab61365d84",
   "metadata": {},
   "source": [
    "### 23. Create a custom dtype that describes a color as four unsigned bytes (RGBA)"
   ]
  },
  {
   "cell_type": "code",
   "execution_count": 47,
   "id": "409be041-b0c4-4193-a3f6-880e6b9bbf71",
   "metadata": {},
   "outputs": [
    {
     "name": "stdout",
     "output_type": "stream",
     "text": [
      " This code output an array of colors with the specified RGBA: \n",
      " [(255,   0,   0, 255) (  0, 255,   0, 255) (  0,   0, 255, 255)]\n"
     ]
    }
   ],
   "source": [
    "# Define the custom dtype\n",
    "color_dtype = np.dtype([\n",
    "    #This defines a custom data type with four fields: ‘r’, ‘g’, ‘b’, and ‘a’, each of which is an unsigned byte (np.ubyte)\n",
    "    ('r', np.ubyte), # Red channel \n",
    "    ('g', np.ubyte), # Green channel\n",
    "    ('b', np.ubyte), # Blue channel\n",
    "    ('a', np.ubyte)  # alpha channel\n",
    "    \n",
    "])\n",
    "# Example of creating an array with this dtype\n",
    "# This creates an array of colors using the custom dtype. Each color is represented as a tuple of four unsigned bytes\n",
    "colors = np.array([(255,0,0,255), (0,255,0,255), (0,0,255,255)], dtype=color_dtype)\n",
    "print(\" This code output an array of colors with the specified RGBA: \\n\", colors)"
   ]
  },
  {
   "cell_type": "markdown",
   "id": "a5fb24ca-dc13-4107-8b43-5353f3d7e2fd",
   "metadata": {},
   "source": [
    "### 24. Multiply a 5x3 matrix by a 3x2 matrix (real matrix product)"
   ]
  },
  {
   "cell_type": "code",
   "execution_count": 52,
   "id": "298efa53-2915-4174-8536-46f46e2d93d6",
   "metadata": {},
   "outputs": [
    {
     "name": "stdout",
     "output_type": "stream",
     "text": [
      "First Matrix (5x3):\n",
      " [[0.27531288 0.42017457 0.86409152]\n",
      " [0.27773576 0.82959562 0.72004025]\n",
      " [0.24078108 0.92095764 0.90305201]\n",
      " [0.7613535  0.19350941 0.60292403]\n",
      " [0.98574092 0.47342154 0.84619604]]\n",
      " \n",
      "Second Matrix (3x2):\n",
      " [[0.25442896 0.90467457]\n",
      " [0.94540712 0.66933335]\n",
      " [0.98758561 0.72977753]]\n",
      " \n",
      "It will output the original matrices and their product. The resulting matrix will have the shape (5, 2):\n",
      " [[1.32064796 1.16089998]\n",
      " [1.56607102 1.33200568]\n",
      " [1.82378276 1.49328324]\n",
      " [0.97209466 1.25829986]\n",
      " [1.53406817 1.82618642]]\n"
     ]
    }
   ],
   "source": [
    "# Generates a 5x3 matrix with random values between 0 and 1\n",
    "matrix1 = np.random.rand(5,3)\n",
    "# Generates a 3x2 matrix with random values between 0 and 1\n",
    "matrix2 = np.random.rand(3,2)\n",
    "# Computes the dot product of the two matrices, resulting in a 5x2 matrix\n",
    "result = np.dot(matrix1, matrix2)\n",
    "print(\"First Matrix (5x3):\\n\", matrix1)\n",
    "print(\" \")\n",
    "print(\"Second Matrix (3x2):\\n\", matrix2)\n",
    "print(\" \")\n",
    "print(\"It will output the original matrices and their product. The resulting matrix will have the shape (5, 2):\\n\", result)"
   ]
  },
  {
   "cell_type": "code",
   "execution_count": null,
   "id": "76e10bd7-6c61-4a0e-9151-0207c7c05618",
   "metadata": {},
   "outputs": [],
   "source": []
  }
 ],
 "metadata": {
  "kernelspec": {
   "display_name": "Python 3 (ipykernel)",
   "language": "python",
   "name": "python3"
  },
  "language_info": {
   "codemirror_mode": {
    "name": "ipython",
    "version": 3
   },
   "file_extension": ".py",
   "mimetype": "text/x-python",
   "name": "python",
   "nbconvert_exporter": "python",
   "pygments_lexer": "ipython3",
   "version": "3.12.4"
  }
 },
 "nbformat": 4,
 "nbformat_minor": 5
}
